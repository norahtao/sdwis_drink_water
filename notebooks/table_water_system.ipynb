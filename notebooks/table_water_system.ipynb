{
 "cells": [
  {
   "cell_type": "markdown",
   "id": "af870ea56794fded",
   "metadata": {
    "collapsed": false
   },
   "source": [
    "# Working with specific Datatable (use **`\"WaterSystem\"`** as example)"
   ]
  },
  {
   "cell_type": "code",
   "execution_count": 1,
   "id": "eca6b7aa49813a7c",
   "metadata": {
    "collapsed": false,
    "ExecuteTime": {
     "end_time": "2023-12-14T16:39:19.874334Z",
     "start_time": "2023-12-14T16:39:19.274184Z"
    }
   },
   "outputs": [],
   "source": [
    "from sdwis_drink_water import WaterSystem\n",
    "# Due to the width limitation, I wrote some functions for outputting some results using an interactive scrollbar\n",
    "from sdwis_drink_water.utils_for_jupyter_print import print_columns, print_column_description, print_result_data\n",
    "\n",
    "water_system_api = WaterSystem(print_url=False)"
   ]
  },
  {
   "cell_type": "markdown",
   "source": [
    "## fetch table column name"
   ],
   "metadata": {
    "collapsed": false
   },
   "id": "b70c72bd03d0c3ec"
  },
  {
   "cell_type": "code",
   "execution_count": 2,
   "outputs": [
    {
     "data": {
      "text/plain": "Output(layout=Layout(width='100%'))",
      "application/vnd.jupyter.widget-view+json": {
       "version_major": 2,
       "version_minor": 0,
       "model_id": "661ada710604462792cfd2d98923d9e5"
      }
     },
     "metadata": {},
     "output_type": "display_data"
    }
   ],
   "source": [
    "water_system_columns = water_system_api.get_table_column_name(print_to_console=False)\n",
    "print_columns(water_system_columns)"
   ],
   "metadata": {
    "collapsed": false,
    "ExecuteTime": {
     "end_time": "2023-12-14T16:39:19.889806Z",
     "start_time": "2023-12-14T16:39:19.875268Z"
    }
   },
   "id": "2ffb235376d9e29b"
  },
  {
   "cell_type": "markdown",
   "source": [
    "## fetch table column names with descriptions"
   ],
   "metadata": {
    "collapsed": false
   },
   "id": "ae7418ff88ca3df1"
  },
  {
   "cell_type": "code",
   "execution_count": 3,
   "outputs": [
    {
     "name": "stderr",
     "output_type": "stream",
     "text": [
      "Fetching column descriptions for WATER_SYSTEM from SDWIS Official Website by multi_threads_mode: 100%|██████████| 45/45 [00:05<00:00,  8.30it/s]\n"
     ]
    },
    {
     "data": {
      "text/plain": "Output(layout=Layout(width='100%'))",
      "application/vnd.jupyter.widget-view+json": {
       "version_major": 2,
       "version_minor": 0,
       "model_id": "65d902dbd4624f789d36d9049faaa062"
      }
     },
     "metadata": {},
     "output_type": "display_data"
    }
   ],
   "source": [
    "water_system_columns_description_dict = water_system_api.get_table_columns_description(print_to_console=False, multi_threads=True)\n",
    "print_column_description(water_system_columns_description_dict)"
   ],
   "metadata": {
    "collapsed": false,
    "ExecuteTime": {
     "end_time": "2023-12-14T16:39:25.339449Z",
     "start_time": "2023-12-14T16:39:19.890703Z"
    }
   },
   "id": "798dcb34ee4de81a"
  },
  {
   "cell_type": "markdown",
   "id": "25872f277d22b467",
   "metadata": {
    "collapsed": false
   },
   "source": [
    "## fetch first data from Water_System table"
   ]
  },
  {
   "cell_type": "code",
   "execution_count": 4,
   "outputs": [
    {
     "data": {
      "text/plain": "Output(layout=Layout(width='100%'))",
      "application/vnd.jupyter.widget-view+json": {
       "version_major": 2,
       "version_minor": 0,
       "model_id": "b5f61fa899c94a229f9daca8df341064"
      }
     },
     "metadata": {},
     "output_type": "display_data"
    }
   ],
   "source": [
    "# fetch first data from LcrSampleResult table\n",
    "first_water_system_data = water_system_api.get_table_first_data(print_to_console=False)\n",
    "\n",
    "print_result_data(first_water_system_data)"
   ],
   "metadata": {
    "collapsed": false,
    "ExecuteTime": {
     "end_time": "2023-12-14T16:39:25.355604Z",
     "start_time": "2023-12-14T16:39:25.340230Z"
    }
   },
   "id": "52c75bc3b6e4b089"
  },
  {
   "cell_type": "markdown",
   "source": [
    "## fetch first n data from Water_System table"
   ],
   "metadata": {
    "collapsed": false
   },
   "id": "deeebb1d7eeca9e0"
  },
  {
   "cell_type": "code",
   "execution_count": 9,
   "outputs": [
    {
     "data": {
      "text/plain": "Output(layout=Layout(width='100%'))",
      "application/vnd.jupyter.widget-view+json": {
       "version_major": 2,
       "version_minor": 0,
       "model_id": "581d5f5182a548dd967628875ab034f3"
      }
     },
     "metadata": {},
     "output_type": "display_data"
    }
   ],
   "source": [
    "first_20_water_system_data = water_system_api.get_table_first_n_data(n=20, print_to_console=False)\n",
    "\n",
    "print_result_data(first_20_water_system_data)"
   ],
   "metadata": {
    "collapsed": false,
    "ExecuteTime": {
     "end_time": "2023-12-14T16:44:39.469339Z",
     "start_time": "2023-12-14T16:44:39.440163Z"
    }
   },
   "id": "471a2332b02ee9c9"
  },
  {
   "cell_type": "markdown",
   "source": [
    "### We can use this method to quickly access the full datasheet, then export to a file"
   ],
   "metadata": {
    "collapsed": false
   },
   "id": "6cc449bb9684a4c2"
  },
  {
   "cell_type": "code",
   "execution_count": 6,
   "outputs": [
    {
     "name": "stdout",
     "output_type": "stream",
     "text": [
      "WATER_SYSTEM\n",
      "The data number in the database provided by the API is 428808. Your request number exceeds this limit, please note.\n"
     ]
    },
    {
     "name": "stderr",
     "output_type": "stream",
     "text": [
      "Fetching Data by multi_threads_mode:   0%|          | 0/43 [00:00<?, ?it/s]\n",
      "  0%|          | 0/43 [00:00<?, ?it/s]\u001B[A\n",
      " 28%|██▊       | 12/43 [00:02<00:05,  5.97it/s]\u001B[A\n",
      " 30%|███       | 13/43 [00:04<00:10,  2.75it/s]\u001B[A\n",
      " 33%|███▎      | 14/43 [00:06<00:16,  1.73it/s]\u001B[A\n",
      " 35%|███▍      | 15/43 [00:08<00:22,  1.24it/s]\u001B[A\n",
      " 37%|███▋      | 16/43 [00:10<00:27,  1.03s/it]\u001B[A\n",
      " 40%|███▉      | 17/43 [00:12<00:32,  1.23s/it]\u001B[A\n",
      " 42%|████▏     | 18/43 [00:14<00:35,  1.41s/it]\u001B[A\n",
      " 44%|████▍     | 19/43 [00:16<00:37,  1.56s/it]\u001B[A\n",
      " 47%|████▋     | 20/43 [00:18<00:38,  1.68s/it]\u001B[A\n",
      " 49%|████▉     | 21/43 [00:20<00:38,  1.77s/it]\u001B[A\n",
      " 51%|█████     | 22/43 [00:22<00:38,  1.83s/it]\u001B[A\n",
      " 53%|█████▎    | 23/43 [00:24<00:37,  1.88s/it]\u001B[A\n",
      " 56%|█████▌    | 24/43 [00:26<00:36,  1.93s/it]\u001B[A\n",
      " 58%|█████▊    | 25/43 [00:28<00:35,  1.95s/it]\u001B[A\n",
      " 60%|██████    | 26/43 [00:30<00:33,  1.97s/it]\u001B[A\n",
      " 63%|██████▎   | 27/43 [00:32<00:31,  1.98s/it]\u001B[A\n",
      " 65%|██████▌   | 28/43 [00:34<00:29,  1.99s/it]\u001B[A\n",
      " 67%|██████▋   | 29/43 [00:36<00:27,  1.99s/it]\u001B[A\n",
      " 70%|██████▉   | 30/43 [00:38<00:25,  2.00s/it]\u001B[A\n",
      " 72%|███████▏  | 31/43 [00:40<00:24,  2.00s/it]\u001B[A\n",
      " 74%|███████▍  | 32/43 [00:42<00:22,  2.01s/it]\u001B[A\n",
      " 77%|███████▋  | 33/43 [00:44<00:20,  2.01s/it]\u001B[A\n",
      " 79%|███████▉  | 34/43 [00:46<00:18,  2.01s/it]\u001B[A\n",
      " 81%|████████▏ | 35/43 [00:48<00:16,  2.01s/it]\u001B[A\n",
      " 84%|████████▎ | 36/43 [00:50<00:14,  2.01s/it]\u001B[A\n",
      " 86%|████████▌ | 37/43 [00:52<00:12,  2.01s/it]\u001B[A\n",
      " 88%|████████▊ | 38/43 [00:54<00:10,  2.01s/it]\u001B[A\n",
      " 91%|█████████ | 39/43 [00:56<00:08,  2.01s/it]\u001B[A\n",
      " 93%|█████████▎| 40/43 [00:58<00:06,  2.01s/it]\u001B[A\n",
      " 95%|█████████▌| 41/43 [01:00<00:04,  2.01s/it]\u001B[A\n",
      " 98%|█████████▊| 42/43 [01:02<00:02,  2.01s/it]\u001B[A\n",
      "100%|██████████| 43/43 [01:16<00:00,  1.78s/it]\u001B[A\n",
      "Fetching Data by multi_threads_mode:   0%|          | 0/43 [01:16<?, ?it/s]\n"
     ]
    },
    {
     "name": "stdout",
     "output_type": "stream",
     "text": [
      "Data is successfully exported to ./output_files/all_water_system.xlsx!\n"
     ]
    }
   ],
   "source": [
    "water_system_data_number = water_system_api.get_table_data_number()\n",
    "all_water_system = water_system_api.get_table_first_n_data(n=water_system_data_number, multi_threads=True, print_to_console=False)\n",
    "# You can also just set n to a big number\n",
    "# all_water_system = water_system_api.get_table_first_n_data(n=99999999, multi_threads=True, print_to_console=False)\n",
    "all_water_system.export_data(\"./output_files/all_water_system.xlsx\", format_type=\"xlsx\")"
   ],
   "metadata": {
    "collapsed": false,
    "ExecuteTime": {
     "end_time": "2023-12-14T16:43:28.057854Z",
     "start_time": "2023-12-14T16:39:25.386533Z"
    }
   },
   "id": "575a3c05feecc1f7"
  },
  {
   "cell_type": "markdown",
   "source": [
    "## fetch data from Water_System table by conditions"
   ],
   "metadata": {
    "collapsed": false
   },
   "id": "29dfa03cd46c52ca"
  },
  {
   "cell_type": "code",
   "execution_count": 11,
   "outputs": [
    {
     "data": {
      "text/plain": "487"
     },
     "execution_count": 11,
     "metadata": {},
     "output_type": "execute_result"
    }
   ],
   "source": [
    "columbia_water_systems = water_system_api.get_water_system_data_by_conditions(\"city_name=columbia\", print_to_console=False)\n",
    "columbia_water_systems.count()"
   ],
   "metadata": {
    "collapsed": false,
    "ExecuteTime": {
     "end_time": "2023-12-14T16:45:20.536003Z",
     "start_time": "2023-12-14T16:45:20.495627Z"
    }
   },
   "id": "48b23f5f1374bf84"
  },
  {
   "cell_type": "markdown",
   "source": [
    "## get summarize data number according to epa_region"
   ],
   "metadata": {
    "collapsed": false
   },
   "id": "cfae0ae59c4e1efb"
  },
  {
   "cell_type": "code",
   "execution_count": 12,
   "outputs": [
    {
     "name": "stderr",
     "output_type": "stream",
     "text": [
      "Fetching the total amount of data by EPA region from the WATER_SYSTEM data table: 100%|██████████| 10/10 [00:05<00:00,  1.91it/s]"
     ]
    },
    {
     "name": "stdout",
     "output_type": "stream",
     "text": [
      ">>>>>>>>>>>>>>>>>>>>>>>>>>>>>>>>>>>>>>>>>>>>>>>>>>>>>>>>>>>>>>>>>>>>>>>>>>>>>>>>>>>>>>>>>>>>>>>>>>>>\n",
      "┌─────────────────┬─────────────────────────────┐\n",
      "│   EPA_REGION_ID │   WATER_SYSTEM_TOTAL_NUMBER │\n",
      "├─────────────────┼─────────────────────────────┤\n",
      "│    EPA_REGION_1 │                       45508 │\n",
      "├─────────────────┼─────────────────────────────┤\n",
      "│    EPA_REGION_2 │                       67410 │\n",
      "├─────────────────┼─────────────────────────────┤\n",
      "│    EPA_REGION_3 │                       24074 │\n",
      "├─────────────────┼─────────────────────────────┤\n",
      "│    EPA_REGION_4 │                       33898 │\n",
      "├─────────────────┼─────────────────────────────┤\n",
      "│    EPA_REGION_5 │                       30931 │\n",
      "├─────────────────┼─────────────────────────────┤\n",
      "│    EPA_REGION_6 │                       15799 │\n",
      "├─────────────────┼─────────────────────────────┤\n",
      "│    EPA_REGION_7 │                       43325 │\n",
      "├─────────────────┼─────────────────────────────┤\n",
      "│    EPA_REGION_8 │                       25563 │\n",
      "├─────────────────┼─────────────────────────────┤\n",
      "│    EPA_REGION_9 │                       17077 │\n",
      "├─────────────────┼─────────────────────────────┤\n",
      "│   EPA_REGION_10 │                      125223 │\n",
      "└─────────────────┴─────────────────────────────┘\n",
      ">>>>>>>>>>>>>>>>>>>>>>>>>>>>>>>>>>>>>>>>>>>>>>>>>>>>>>>>>>>>>>>>>>>>>>>>>>>>>>>>>>>>>>>>>>>>>>>>>>>>\n"
     ]
    },
    {
     "name": "stderr",
     "output_type": "stream",
     "text": [
      "\n"
     ]
    }
   ],
   "source": [
    "water_system_api.summarize_water_system_data_by_epa_region(multi_threads=True, print_to_console=True)"
   ],
   "metadata": {
    "collapsed": false,
    "ExecuteTime": {
     "end_time": "2023-12-14T16:46:52.578735Z",
     "start_time": "2023-12-14T16:46:47.328570Z"
    }
   },
   "id": "32a68e5fec1a7bfa"
  },
  {
   "cell_type": "markdown",
   "source": [
    "## get data according to epa_region and export"
   ],
   "metadata": {
    "collapsed": false
   },
   "id": "abb73ef29fa891f3"
  },
  {
   "cell_type": "code",
   "execution_count": 18,
   "outputs": [
    {
     "name": "stderr",
     "output_type": "stream",
     "text": [
      "IOPub data rate exceeded.\n",
      "The Jupyter server will temporarily stop sending output\n",
      "to the client in order to avoid crashing it.\n",
      "To change this limit, set the config variable\n",
      "`--ServerApp.iopub_data_rate_limit`.\n",
      "\n",
      "Current values:\n",
      "ServerApp.iopub_data_rate_limit=1000000.0 (bytes/sec)\n",
      "ServerApp.rate_limit_window=3.0 (secs)\n",
      "\n"
     ]
    },
    {
     "name": "stdout",
     "output_type": "stream",
     "text": [
      "Data is successfully exported to ./output_files/Water System of EPA region 1.xlsx!\n"
     ]
    }
   ],
   "source": [
    "water_system_epa_1 = water_system_api.get_water_system_by_epa_region(epa_region=1, print_to_console=True)\n",
    "# export data to xlsx\n",
    "water_system_epa_1.export_data(\"./output_files/Water System of EPA region 1.xlsx\", format_type=\"xlsx\")"
   ],
   "metadata": {
    "collapsed": false,
    "ExecuteTime": {
     "end_time": "2023-12-14T16:51:07.345604Z",
     "start_time": "2023-12-14T16:50:46.261213Z"
    }
   },
   "id": "140034ab20a05029"
  },
  {
   "cell_type": "markdown",
   "source": [
    "## Data Handle"
   ],
   "metadata": {
    "collapsed": false
   },
   "id": "c7cc69b1d6015b1b"
  },
  {
   "cell_type": "code",
   "execution_count": 24,
   "outputs": [
    {
     "data": {
      "text/plain": "Output(layout=Layout(width='100%'))",
      "application/vnd.jupyter.widget-view+json": {
       "version_major": 2,
       "version_minor": 0,
       "model_id": "aab0d4a6524f4822807158387dcbdfd7"
      }
     },
     "metadata": {},
     "output_type": "display_data"
    },
    {
     "name": "stdout",
     "output_type": "stream",
     "text": [
      "10112\n",
      "41\n",
      "25\n",
      "Data is successfully exported to ./output_files/water_system_epa_1_filtered_result.xlsx!\n"
     ]
    }
   ],
   "source": [
    "# print all keys to determine how to use this data\n",
    "print_columns(list(water_system_epa_1.get_all_keys()))\n",
    "\n",
    "# find by condition \"is_grant_eligible_ind==Y\"\n",
    "is_grant_eligible_ind = water_system_epa_1.find_by_condition(\"is_grant_eligible_ind=Y\")\n",
    "print(is_grant_eligible_ind.count())\n",
    "\n",
    "# find by condition \"is_wholesaler_ind==Y\"\n",
    "is_wholesaler_ind = water_system_epa_1.find_by_condition(\"is_wholesaler_ind=Y\")\n",
    "print(is_wholesaler_ind.count())\n",
    "\n",
    "# find by condition \"is_grant_eligible_ind==Y\" and \"is_wholesaler_ind==Y\"\n",
    "is_grant_eligible_ind_and_is_wholesaler_ind = is_grant_eligible_ind.find_by_condition(\"is_wholesaler_ind=Y\")\n",
    "print(is_grant_eligible_ind_and_is_wholesaler_ind.count())\n",
    "\n",
    "# export data to csv\n",
    "is_grant_eligible_ind_and_is_wholesaler_ind.export_data(\"./output_files/water_system_epa_1_filtered_result.xlsx\",\n",
    "                                                        format_type=\"xlsx\")"
   ],
   "metadata": {
    "collapsed": false,
    "ExecuteTime": {
     "end_time": "2023-12-14T16:53:11.885271Z",
     "start_time": "2023-12-14T16:53:11.591350Z"
    }
   },
   "id": "1ab9f16d91c0ea1b"
  },
  {
   "cell_type": "markdown",
   "source": [],
   "metadata": {
    "collapsed": false
   },
   "id": "d9fa49a662b8dc83"
  }
 ],
 "metadata": {
  "kernelspec": {
   "display_name": "Python 3 (ipykernel)",
   "language": "python",
   "name": "python3"
  },
  "language_info": {
   "codemirror_mode": {
    "name": "ipython",
    "version": 3
   },
   "file_extension": ".py",
   "mimetype": "text/x-python",
   "name": "python",
   "nbconvert_exporter": "python",
   "pygments_lexer": "ipython3",
   "version": "3.9.18"
  }
 },
 "nbformat": 4,
 "nbformat_minor": 5
}
