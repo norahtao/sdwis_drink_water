{
 "cells": [
  {
   "cell_type": "markdown",
   "source": [
    "# Quickly check how many sample results are out of standard\n",
    "This sample example is why I developed this dependency package in the first place. \n",
    "\n",
    " [EPA is proposing to lower the lead action level from 15 µg/L to 10 µg/L. ](https://www.epa.gov/ground-water-and-drinking-water/proposed-lead-and-copper-rule-improvements)\n",
    " \n",
    "We want to look at the database and see those samples that match the original rule, but not the new one."
   ],
   "metadata": {
    "collapsed": false
   },
   "id": "4427064eb707044f"
  },
  {
   "cell_type": "markdown",
   "source": [
    "## Step1: we should know the structure of the Table **`Lcr_Sample_Result`**\n",
    "we can use **`get_table_first_data`** method to fetch first data from LcrSampleResult table, the output is a table containing a single row of data. \n",
    "This table is formatted with column names in the first row and the corresponding values in the second row. "
   ],
   "metadata": {
    "collapsed": false
   },
   "id": "38bbfe70faf727d"
  },
  {
   "cell_type": "code",
   "execution_count": 17,
   "outputs": [
    {
     "data": {
      "text/plain": "Output(layout=Layout(width='100%'))",
      "application/vnd.jupyter.widget-view+json": {
       "version_major": 2,
       "version_minor": 0,
       "model_id": "db7f52448c8a467c8d5151958c29a2b5"
      }
     },
     "metadata": {},
     "output_type": "display_data"
    }
   ],
   "source": [
    "from sdwis_drink_water import LcrSampleResult\n",
    "\n",
    "# Due to the width limitation, I wrote some functions for outputting some results using an interactive scrollbar\n",
    "from sdwis_drink_water.utils_for_jupyter_print import print_column_description, print_result_data\n",
    "\n",
    "lcr_sample_result_api = LcrSampleResult()\n",
    "\n",
    "# fetch first 10 data from LcrSampleResult table\n",
    "first_10_lcr_sample_result_data = lcr_sample_result_api.get_table_first_n_data(n=10, print_to_console=False)\n",
    "\n",
    "print_result_data(first_10_lcr_sample_result_data)"
   ],
   "metadata": {
    "collapsed": false,
    "ExecuteTime": {
     "end_time": "2023-12-14T17:02:50.096103Z",
     "start_time": "2023-12-14T17:02:47.170815Z"
    }
   },
   "id": "ad8eea5977c5fea7"
  },
  {
   "cell_type": "markdown",
   "source": [
    "## Step2: Understand Data Meaning\n",
    "To understand what each column means, we can use the **`get_table_columns_description`** method"
   ],
   "metadata": {
    "collapsed": false
   },
   "id": "7d200f15edf03a31"
  },
  {
   "cell_type": "code",
   "execution_count": 18,
   "outputs": [
    {
     "name": "stderr",
     "output_type": "stream",
     "text": [
      "Fetching column descriptions for LCR_SAMPLE_RESULT from SDWIS Official Website by multi_threads_mode: 100%|██████████| 9/9 [00:03<00:00,  2.66it/s]\n"
     ]
    },
    {
     "data": {
      "text/plain": "Output(layout=Layout(width='100%'))",
      "application/vnd.jupyter.widget-view+json": {
       "version_major": 2,
       "version_minor": 0,
       "model_id": "65dde2138eb74925a432632455e1eebf"
      }
     },
     "metadata": {},
     "output_type": "display_data"
    }
   ],
   "source": [
    "# Setting \"multi_threads=True\" will use multithreading to speed up the fetching of data\n",
    "table_column_description_dict = lcr_sample_result_api.get_table_columns_description(multi_threads=True,\n",
    "                                                                                    print_to_console=False)\n",
    "print_column_description(table_column_description_dict)"
   ],
   "metadata": {
    "collapsed": false,
    "ExecuteTime": {
     "end_time": "2023-12-14T17:02:53.499882Z",
     "start_time": "2023-12-14T17:02:50.097570Z"
    }
   },
   "id": "8d355152e82cffce"
  },
  {
   "cell_type": "markdown",
   "source": [],
   "metadata": {
    "collapsed": false
   },
   "id": "63e8b692e7b92cec"
  },
  {
   "cell_type": "markdown",
   "source": [
    "## Step 3: Start Filtering Data Based on Our Requirements\n",
    "\n",
    "When we combine the provided descriptions, we gain a clearer understanding of the dataset:\n",
    "\n",
    "- **`\"contaminant_code\"`**: Represents the contamination element in the sample test.\n",
    "- **`\"unit_of_measure\"`**: Denotes the unit of contaminant content.\n",
    "- **`\"result_sign_code\"`**: Indicates the operation symbol. For results less than 0.01, which are not subdivided, this value is \"<\".\n",
    "- **`\"sample_measure\"`**: Refers to the contaminant content in the sample test.\n",
    "\n",
    "### Unit Conversion\n",
    "As the unit of measure in our data is \"mg/L\", it's necessary to adjust the units stated in the regulations for consistency:\n",
    "\n",
    "**Before:**\n",
    "```text\n",
    "EPA is proposing to lower the lead action level from 15 µg/L to 10 µg/L.\n",
    "```\n",
    "\n",
    "**After:**\n",
    "```text\n",
    "EPA is proposing to lower the lead action level from 0.015 mg/L to 10 µg/L.\n",
    "```\n",
    "\n",
    "### Filtering Data\n",
    "\n",
    "To filter data from the `LCR_SAMPLE_RESULT_TABLE`, we will use the **`\"get_lcr_sample_result_data_by_conditions\"`** method, adhering to the specifications outlined below.\n",
    "\n",
    "#### Original Rule Conditions\n",
    "For the original rule, apply these three conditional formulas:\n",
    "- `contaminant_code` = `PB90`\n",
    "- `result_sign_code` = `=`\n",
    "- `sample_measure` > `0.015`\n",
    "\n",
    "#### New Rule Conditions\n",
    "For the new rule, the conditional formulas are slightly different:\n",
    "- `contaminant_code` = `PB90`\n",
    "- `result_sign_code` = `=`\n",
    "- `sample_measure` > `0.01`"
   ],
   "metadata": {
    "collapsed": false
   },
   "id": "91fde5f074866d94"
  },
  {
   "cell_type": "code",
   "execution_count": 19,
   "outputs": [],
   "source": [
    "# Samples exceeding the original rule\n",
    "pb90_exceed_original_rule = lcr_sample_result_api.get_lcr_sample_result_data_by_conditions(\"contaminant_code=PB90\",\n",
    "                                                                                           \"result_sign_code==\",\n",
    "                                                                                           \"sample_measure>0.015\")\n",
    "# Samples exceeding the new rule\n",
    "pb90_exceed_new_rule = lcr_sample_result_api.get_lcr_sample_result_data_by_conditions(\"contaminant_code=PB90\",\n",
    "                                                                                      \"result_sign_code==\",\n",
    "                                                                                      \"sample_measure>0.01\")"
   ],
   "metadata": {
    "collapsed": false,
    "ExecuteTime": {
     "end_time": "2023-12-14T17:02:58.043921Z",
     "start_time": "2023-12-14T17:02:53.499044Z"
    }
   },
   "id": "ce29066efb79a0e8"
  },
  {
   "cell_type": "markdown",
   "source": [
    "## Step 4: Handle fetched data with some methods\n",
    "\n",
    "we can handle fetched data by use some methods, including **`\"intersect_with\"`**, **`\"merge_with\"`**, **`\"difference_with\"`**.\n",
    "Also, we can use **`\"count()\"`** method to get the number of data"
   ],
   "metadata": {
    "collapsed": false
   },
   "id": "fb0e97928d97c31c"
  },
  {
   "cell_type": "code",
   "execution_count": 20,
   "outputs": [
    {
     "data": {
      "text/plain": "65"
     },
     "execution_count": 20,
     "metadata": {},
     "output_type": "execute_result"
    }
   ],
   "source": [
    "# here intersection is the number of pb90_exceed_original_rule\n",
    "pb90_exceed_original_rule.intersect_with(pb90_exceed_new_rule).count()\n",
    "# here union is the number of pb90_exceed_new_rule\n",
    "pb90_exceed_original_rule.merge_with(pb90_exceed_new_rule).count()\n",
    "# get difference. These samples comply with the original rule, but not the new rule. Additional attention is required\n",
    "pb90_exceed_new_rule.difference_with(pb90_exceed_original_rule).count()"
   ],
   "metadata": {
    "collapsed": false,
    "ExecuteTime": {
     "end_time": "2023-12-14T17:02:58.063295Z",
     "start_time": "2023-12-14T17:02:58.060347Z"
    }
   },
   "id": "fe160026db72cb9a"
  },
  {
   "cell_type": "markdown",
   "source": [
    "## Step 5: Export data we need to file\n",
    "\n",
    "we can use **`\"count()\"`** method to export data\n",
    "supported \"format_type\" includes:\n",
    "- `txt`\n",
    "- `csv`\n",
    "- `xlsx`\n",
    "- `parquet`"
   ],
   "metadata": {
    "collapsed": false
   },
   "id": "d72aa068d06b5594"
  },
  {
   "cell_type": "code",
   "execution_count": 21,
   "outputs": [
    {
     "name": "stdout",
     "output_type": "stream",
     "text": [
      "Data is successfully exported to ../output_files/Sample sets for additional attention in the new regulation of Lead.xlsx!\n"
     ]
    }
   ],
   "source": [
    "result_we_need = pb90_exceed_new_rule.difference_with(pb90_exceed_original_rule)\n",
    "result_we_need.export_data(\"../output_files/Sample sets for additional attention in the new regulation of Lead.xlsx\",\n",
    "                           format_type=\"xlsx\")"
   ],
   "metadata": {
    "collapsed": false,
    "ExecuteTime": {
     "end_time": "2023-12-14T17:02:58.084709Z",
     "start_time": "2023-12-14T17:02:58.065677Z"
    }
   },
   "id": "40b6433d293caf35"
  }
 ],
 "metadata": {
  "kernelspec": {
   "display_name": "Python 3",
   "language": "python",
   "name": "python3"
  },
  "language_info": {
   "codemirror_mode": {
    "name": "ipython",
    "version": 2
   },
   "file_extension": ".py",
   "mimetype": "text/x-python",
   "name": "python",
   "nbconvert_exporter": "python",
   "pygments_lexer": "ipython2",
   "version": "2.7.6"
  }
 },
 "nbformat": 4,
 "nbformat_minor": 5
}
