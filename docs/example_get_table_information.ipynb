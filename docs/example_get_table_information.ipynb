{
 "cells": [
  {
   "cell_type": "markdown",
   "id": "af870ea56794fded",
   "metadata": {
    "collapsed": false
   },
   "source": [
    "# Example1: Working with SdwisTable\n",
    "We first initiate api"
   ]
  },
  {
   "cell_type": "code",
   "execution_count": 1,
   "id": "eca6b7aa49813a7c",
   "metadata": {
    "collapsed": false,
    "ExecuteTime": {
     "end_time": "2023-12-15T18:16:18.593685Z",
     "start_time": "2023-12-15T18:16:18.066470Z"
    }
   },
   "outputs": [],
   "source": [
    "import sdwis_drink_water\n",
    "# Due to the width limitation, I wrote some functions for outputting some results using an interactive scrollbar\n",
    "# \"print_url=True\" here will cause subsequent queries to display the requested URL\n",
    "table_api = sdwis_drink_water.SdwisTable(print_url=False)"
   ]
  },
  {
   "cell_type": "markdown",
   "id": "25872f277d22b467",
   "metadata": {
    "collapsed": false
   },
   "source": [
    "## fetch all table names\n",
    "***\"print_to_console=True\"*** here causes all subsequent queries to be printed"
   ]
  },
  {
   "cell_type": "code",
   "execution_count": 2,
   "id": "52c75bc3b6e4b089",
   "metadata": {
    "collapsed": false,
    "ExecuteTime": {
     "end_time": "2023-12-15T18:16:18.598254Z",
     "start_time": "2023-12-15T18:16:18.594785Z"
    }
   },
   "outputs": [
    {
     "name": "stdout",
     "output_type": "stream",
     "text": [
      ">>>>>>>>>>>>>>>>>>>>>>>>>>>>>>>>>>>>>>>>>>>>>>>>>>>>>>>>>>>>>>>>>>>>>>>>>>>>>>>>>>>>>>>>>>>>>>>>>>>>\n",
      "table_name\n",
      "---------------------\n",
      "ENFORCEMENT_ACTION\n",
      "GEOGRAPHIC_AREA\n",
      "LCR_SAMPLE_RESULT\n",
      "LCR_SAMPLE\n",
      "SERVICE_AREA\n",
      "TREATMENT\n",
      "WATER_SYSTEM\n",
      "WATER_SYSTEM_FACILITY\n",
      "VIOLATION\n",
      "VIOLATION_ENF_ASSOC\n",
      ">>>>>>>>>>>>>>>>>>>>>>>>>>>>>>>>>>>>>>>>>>>>>>>>>>>>>>>>>>>>>>>>>>>>>>>>>>>>>>>>>>>>>>>>>>>>>>>>>>>>\n"
     ]
    }
   ],
   "source": [
    "table_names = table_api.get_all_table_names(print_to_console=True)"
   ]
  },
  {
   "cell_type": "markdown",
   "id": "807b6ccbd0e2ed1e",
   "metadata": {
    "collapsed": false
   },
   "source": [
    "## fetch all table names with description (Crawl the latest information from the website)"
   ]
  },
  {
   "cell_type": "code",
   "execution_count": 3,
   "id": "28d1ecde853ea7c7",
   "metadata": {
    "collapsed": false,
    "ExecuteTime": {
     "end_time": "2023-12-15T18:16:25.824322Z",
     "start_time": "2023-12-15T18:16:18.597457Z"
    }
   },
   "outputs": [
    {
     "name": "stderr",
     "output_type": "stream",
     "text": [
      "Fetching table descriptions from SDWIS Official Website: 100%|██████████| 10/10 [00:07<00:00,  1.39it/s]\n"
     ]
    },
    {
     "data": {
      "text/plain": "Output(layout=Layout(width='100%'))",
      "application/vnd.jupyter.widget-view+json": {
       "version_major": 2,
       "version_minor": 0,
       "model_id": "f1e24306bd9547439858a87cfe3b086b"
      }
     },
     "metadata": {},
     "output_type": "display_data"
    }
   ],
   "source": [
    "table_names_and_descriptions = table_api.get_all_table_names_and_descriptions(print_to_console=False);\n",
    "sdwis_drink_water.utils_for_jupyter_print.print_column_description(table_names_and_descriptions)"
   ]
  },
  {
   "cell_type": "markdown",
   "id": "d625adbe390bed59",
   "metadata": {
    "collapsed": false
   },
   "source": [
    "## fetch structure for specific table name"
   ]
  },
  {
   "cell_type": "code",
   "execution_count": 4,
   "id": "e26608077a2a0916",
   "metadata": {
    "collapsed": false,
    "ExecuteTime": {
     "end_time": "2023-12-15T18:16:26.324899Z",
     "start_time": "2023-12-15T18:16:25.826289Z"
    }
   },
   "outputs": [
    {
     "name": "stdout",
     "output_type": "stream",
     "text": [
      "======ENFORCEMENT_ACTION======\n"
     ]
    },
    {
     "data": {
      "text/plain": "Output(layout=Layout(width='100%'))",
      "application/vnd.jupyter.widget-view+json": {
       "version_major": 2,
       "version_minor": 0,
       "model_id": "95962e2572f7446db5ffdcfcaffbf869"
      }
     },
     "metadata": {},
     "output_type": "display_data"
    },
    {
     "name": "stdout",
     "output_type": "stream",
     "text": [
      "======GEOGRAPHIC_AREA======\n"
     ]
    },
    {
     "data": {
      "text/plain": "Output(layout=Layout(width='100%'))",
      "application/vnd.jupyter.widget-view+json": {
       "version_major": 2,
       "version_minor": 0,
       "model_id": "118acd92141e41539f1c4ea7e1862f16"
      }
     },
     "metadata": {},
     "output_type": "display_data"
    },
    {
     "name": "stdout",
     "output_type": "stream",
     "text": [
      "======LCR_SAMPLE_RESULT======\n"
     ]
    },
    {
     "data": {
      "text/plain": "Output(layout=Layout(width='100%'))",
      "application/vnd.jupyter.widget-view+json": {
       "version_major": 2,
       "version_minor": 0,
       "model_id": "9e2bc9e6af4e452680737188f44203b9"
      }
     },
     "metadata": {},
     "output_type": "display_data"
    },
    {
     "name": "stdout",
     "output_type": "stream",
     "text": [
      "======LCR_SAMPLE======\n"
     ]
    },
    {
     "data": {
      "text/plain": "Output(layout=Layout(width='100%'))",
      "application/vnd.jupyter.widget-view+json": {
       "version_major": 2,
       "version_minor": 0,
       "model_id": "d4a696c814b64e8a8025e2a84879d985"
      }
     },
     "metadata": {},
     "output_type": "display_data"
    },
    {
     "name": "stdout",
     "output_type": "stream",
     "text": [
      "======SERVICE_AREA======\n"
     ]
    },
    {
     "data": {
      "text/plain": "Output(layout=Layout(width='100%'))",
      "application/vnd.jupyter.widget-view+json": {
       "version_major": 2,
       "version_minor": 0,
       "model_id": "1b746d8ec18a452680d2938753eb7cee"
      }
     },
     "metadata": {},
     "output_type": "display_data"
    },
    {
     "name": "stdout",
     "output_type": "stream",
     "text": [
      "======TREATMENT======\n"
     ]
    },
    {
     "data": {
      "text/plain": "Output(layout=Layout(width='100%'))",
      "application/vnd.jupyter.widget-view+json": {
       "version_major": 2,
       "version_minor": 0,
       "model_id": "4d2d3eb42cbe4c07ba9e99dcb21945a8"
      }
     },
     "metadata": {},
     "output_type": "display_data"
    },
    {
     "name": "stdout",
     "output_type": "stream",
     "text": [
      "======WATER_SYSTEM======\n"
     ]
    },
    {
     "data": {
      "text/plain": "Output(layout=Layout(width='100%'))",
      "application/vnd.jupyter.widget-view+json": {
       "version_major": 2,
       "version_minor": 0,
       "model_id": "b25b33b51aa046e2b8a5e8ebe50ab37d"
      }
     },
     "metadata": {},
     "output_type": "display_data"
    },
    {
     "name": "stdout",
     "output_type": "stream",
     "text": [
      "======WATER_SYSTEM_FACILITY======\n"
     ]
    },
    {
     "data": {
      "text/plain": "Output(layout=Layout(width='100%'))",
      "application/vnd.jupyter.widget-view+json": {
       "version_major": 2,
       "version_minor": 0,
       "model_id": "60959a33ab1d42e585db93cd60d288f0"
      }
     },
     "metadata": {},
     "output_type": "display_data"
    },
    {
     "name": "stdout",
     "output_type": "stream",
     "text": [
      "======VIOLATION======\n"
     ]
    },
    {
     "data": {
      "text/plain": "Output(layout=Layout(width='100%'))",
      "application/vnd.jupyter.widget-view+json": {
       "version_major": 2,
       "version_minor": 0,
       "model_id": "cd0a5e40519747349c3a91ef490eb1eb"
      }
     },
     "metadata": {},
     "output_type": "display_data"
    },
    {
     "name": "stdout",
     "output_type": "stream",
     "text": [
      "======VIOLATION_ENF_ASSOC======\n"
     ]
    },
    {
     "data": {
      "text/plain": "Output(layout=Layout(width='100%'))",
      "application/vnd.jupyter.widget-view+json": {
       "version_major": 2,
       "version_minor": 0,
       "model_id": "a0ef76994168436990c0441c92e4172a"
      }
     },
     "metadata": {},
     "output_type": "display_data"
    }
   ],
   "source": [
    "for table_name in table_names:\n",
    "    print(f\"======{table_name}======\")\n",
    "    columns = table_api.get_table_column_name_by_table_name(table_name=table_name, print_to_console=False)\n",
    "    sdwis_drink_water.utils_for_jupyter_print.print_columns(columns)"
   ]
  },
  {
   "cell_type": "markdown",
   "id": "ee3eee69edd74928",
   "metadata": {
    "collapsed": false
   },
   "source": [
    "## fetch first data for specific table name"
   ]
  },
  {
   "cell_type": "code",
   "execution_count": 5,
   "id": "7c3c278de5b850c9",
   "metadata": {
    "collapsed": false,
    "ExecuteTime": {
     "end_time": "2023-12-15T18:16:26.325292Z",
     "start_time": "2023-12-15T18:16:26.293335Z"
    }
   },
   "outputs": [
    {
     "name": "stdout",
     "output_type": "stream",
     "text": [
      "======LCR_SAMPLE======\n",
      "┌───────────┬─────────────────┬─────────────────────┬───────────────────────┬─────────────────────┬───────────────────────┬──────────────┐\n",
      "│     pwsid │       sample_id │ sampling_end_date   │ sampling_start_date   │ reconciliation_id   │   primacy_agency_code │   epa_region │\n",
      "├───────────┼─────────────────┼─────────────────────┼───────────────────────┼─────────────────────┼───────────────────────┼──────────────┤\n",
      "│ 010106001 │ 010106001171002 │ 2019-12-31 00:00:00 │ 2017-01-01 00:00:00   │                     │                    01 │           01 │\n",
      "└───────────┴─────────────────┴─────────────────────┴───────────────────────┴─────────────────────┴───────────────────────┴──────────────┘\n"
     ]
    },
    {
     "data": {
      "text/plain": "<sdwis_drink_water.data_praser.ResultDataParser at 0x13b335eb0>"
     },
     "execution_count": 5,
     "metadata": {},
     "output_type": "execute_result"
    }
   ],
   "source": [
    "print(f\"======{table_names[3]}======\")\n",
    "table_api.get_table_first_data_by_table_name(table_name=table_names[3], print_to_console=True)"
   ]
  },
  {
   "cell_type": "markdown",
   "id": "281207c6361d1f9a",
   "metadata": {
    "collapsed": false
   },
   "source": [
    "## fetch first n for specific table name"
   ]
  },
  {
   "cell_type": "code",
   "execution_count": 6,
   "id": "f7279b7ca2016b8",
   "metadata": {
    "collapsed": false,
    "ExecuteTime": {
     "end_time": "2023-12-15T18:16:26.325594Z",
     "start_time": "2023-12-15T18:16:26.299964Z"
    }
   },
   "outputs": [
    {
     "name": "stdout",
     "output_type": "stream",
     "text": [
      "======LCR_SAMPLE======\n",
      "┌───────────┬─────────────────┬─────────────────────┬───────────────────────┬─────────────────────┬───────────────────────┬──────────────┐\n",
      "│     pwsid │       sample_id │ sampling_end_date   │ sampling_start_date   │ reconciliation_id   │   primacy_agency_code │   epa_region │\n",
      "├───────────┼─────────────────┼─────────────────────┼───────────────────────┼─────────────────────┼───────────────────────┼──────────────┤\n",
      "│ 010106001 │ 010106001171002 │ 2019-12-31 00:00:00 │ 2017-01-01 00:00:00   │                     │                    01 │           01 │\n",
      "├───────────┼─────────────────┼─────────────────────┼───────────────────────┼─────────────────────┼───────────────────────┼──────────────┤\n",
      "│ 010106001 │  01010600117136 │ 2013-12-31 00:00:00 │ 2011-01-01 00:00:00   │                     │                    01 │           01 │\n",
      "├───────────┼─────────────────┼─────────────────────┼───────────────────────┼─────────────────────┼───────────────────────┼──────────────┤\n",
      "│ 010106001 │  01010600117137 │ 2013-12-31 00:00:00 │ 2011-01-01 00:00:00   │                     │                    01 │           01 │\n",
      "├───────────┼─────────────────┼─────────────────────┼───────────────────────┼─────────────────────┼───────────────────────┼──────────────┤\n",
      "│ 010106001 │ 010106001171409 │ 2022-12-31 00:00:00 │ 2020-01-01 00:00:00   │                     │                    01 │           01 │\n",
      "├───────────┼─────────────────┼─────────────────────┼───────────────────────┼─────────────────────┼───────────────────────┼──────────────┤\n",
      "│ 010106001 │  01010600117711 │ 2016-12-31 00:00:00 │ 2014-01-01 00:00:00   │                     │                    01 │           01 │\n",
      "└───────────┴─────────────────┴─────────────────────┴───────────────────────┴─────────────────────┴───────────────────────┴──────────────┘\n"
     ]
    },
    {
     "data": {
      "text/plain": "<sdwis_drink_water.data_praser.ResultDataParser at 0x13b7812e0>"
     },
     "execution_count": 6,
     "metadata": {},
     "output_type": "execute_result"
    }
   ],
   "source": [
    "print(f\"======{table_names[3]}======\")\n",
    "table_api.get_table_first_n_data_by_table_name(table_name=table_names[3], n=5, print_to_console=True)"
   ]
  }
 ],
 "metadata": {
  "kernelspec": {
   "display_name": "Python 3 (ipykernel)",
   "language": "python",
   "name": "python3"
  },
  "language_info": {
   "codemirror_mode": {
    "name": "ipython",
    "version": 3
   },
   "file_extension": ".py",
   "mimetype": "text/x-python",
   "name": "python",
   "nbconvert_exporter": "python",
   "pygments_lexer": "ipython3",
   "version": "3.9.18"
  }
 },
 "nbformat": 4,
 "nbformat_minor": 5
}
