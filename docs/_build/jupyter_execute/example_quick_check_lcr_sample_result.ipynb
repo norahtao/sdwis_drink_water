{
 "cells": [
  {
   "cell_type": "markdown",
   "id": "4427064eb707044f",
   "metadata": {
    "collapsed": false
   },
   "source": [
    "# Example3:  Quickly check how many sample results are out of standard\n",
    "This sample example is why I developed this dependency package in the first place. \n",
    "\n",
    " [EPA is proposing to lower the lead action level from 15 µg/L to 10 µg/L. ](https://www.epa.gov/ground-water-and-drinking-water/proposed-lead-and-copper-rule-improvements)\n",
    " \n",
    "We want to look at the database and see those samples that match the original rule, but not the new one."
   ]
  },
  {
   "cell_type": "markdown",
   "id": "38bbfe70faf727d",
   "metadata": {
    "collapsed": false
   },
   "source": [
    "## Step1: we should know the structure of the Table **`Lcr_Sample_Result`**\n",
    "we can use **`get_table_first_data`** method to fetch first data from LcrSampleResult table, the output is a table containing a single row of data. \n",
    "This table is formatted with column names in the first row and the corresponding values in the second row. "
   ]
  },
  {
   "cell_type": "code",
   "execution_count": 1,
   "id": "ad8eea5977c5fea7",
   "metadata": {
    "ExecuteTime": {
     "end_time": "2023-12-15T18:17:28.565014Z",
     "start_time": "2023-12-15T18:17:25.337902Z"
    },
    "collapsed": false
   },
   "outputs": [
    {
     "data": {
      "application/vnd.jupyter.widget-view+json": {
       "model_id": "dc0d2e9e06324d79a48dcb9b2990bf1a",
       "version_major": 2,
       "version_minor": 0
      },
      "text/plain": [
       "Output(layout=Layout(width='100%'))"
      ]
     },
     "metadata": {},
     "output_type": "display_data"
    }
   ],
   "source": [
    "import sdwis_drink_water\n",
    "\n",
    "lcr_sample_result_api = sdwis_drink_water.models.LcrSampleResult()\n",
    "\n",
    "# fetch first 10 data from LcrSampleResult table\n",
    "first_10_lcr_sample_result_data = lcr_sample_result_api.get_table_first_n_data(n=10, print_to_console=False)\n",
    "\n",
    "sdwis_drink_water.utils_for_jupyter_print.print_result_data(first_10_lcr_sample_result_data)"
   ]
  },
  {
   "cell_type": "markdown",
   "id": "7d200f15edf03a31",
   "metadata": {
    "collapsed": false
   },
   "source": [
    "## Step2: Understand Data Meaning\n",
    "To understand what each column means, we can use the **`get_table_columns_description`** method"
   ]
  },
  {
   "cell_type": "code",
   "execution_count": 2,
   "id": "8d355152e82cffce",
   "metadata": {
    "ExecuteTime": {
     "end_time": "2023-12-15T18:17:31.362761Z",
     "start_time": "2023-12-15T18:17:28.567253Z"
    },
    "collapsed": false
   },
   "outputs": [
    {
     "name": "stderr",
     "output_type": "stream",
     "text": [
      "\r",
      "Fetching column descriptions for LCR_SAMPLE_RESULT from SDWIS Official Website by multi_threads_mode:   0%|                                 | 0/9 [00:00<?, ?it/s]"
     ]
    },
    {
     "name": "stderr",
     "output_type": "stream",
     "text": [
      "\r",
      "Fetching column descriptions for LCR_SAMPLE_RESULT from SDWIS Official Website by multi_threads_mode:  11%|██▊                      | 1/9 [00:02<00:17,  2.22s/it]"
     ]
    },
    {
     "name": "stderr",
     "output_type": "stream",
     "text": [
      "\r",
      "Fetching column descriptions for LCR_SAMPLE_RESULT from SDWIS Official Website by multi_threads_mode:  22%|█████▌                   | 2/9 [00:02<00:09,  1.40s/it]"
     ]
    },
    {
     "name": "stderr",
     "output_type": "stream",
     "text": [
      "\r",
      "Fetching column descriptions for LCR_SAMPLE_RESULT from SDWIS Official Website by multi_threads_mode:  56%|█████████████▉           | 5/9 [00:02<00:02,  1.74it/s]"
     ]
    },
    {
     "name": "stderr",
     "output_type": "stream",
     "text": [
      "\r",
      "Fetching column descriptions for LCR_SAMPLE_RESULT from SDWIS Official Website by multi_threads_mode:  67%|████████████████▋        | 6/9 [00:02<00:01,  2.11it/s]"
     ]
    },
    {
     "name": "stderr",
     "output_type": "stream",
     "text": [
      "\r",
      "Fetching column descriptions for LCR_SAMPLE_RESULT from SDWIS Official Website by multi_threads_mode:  78%|███████████████████▍     | 7/9 [00:02<00:00,  2.54it/s]"
     ]
    },
    {
     "name": "stderr",
     "output_type": "stream",
     "text": [
      "\r",
      "Fetching column descriptions for LCR_SAMPLE_RESULT from SDWIS Official Website by multi_threads_mode: 100%|█████████████████████████| 9/9 [00:02<00:00,  3.60it/s]"
     ]
    },
    {
     "name": "stderr",
     "output_type": "stream",
     "text": [
      "\r",
      "Fetching column descriptions for LCR_SAMPLE_RESULT from SDWIS Official Website by multi_threads_mode: 100%|█████████████████████████| 9/9 [00:02<00:00,  3.11it/s]"
     ]
    },
    {
     "name": "stderr",
     "output_type": "stream",
     "text": [
      "\n"
     ]
    },
    {
     "data": {
      "application/vnd.jupyter.widget-view+json": {
       "model_id": "b0b1542807084ea2b3b71adc6d53ee31",
       "version_major": 2,
       "version_minor": 0
      },
      "text/plain": [
       "Output(layout=Layout(width='100%'))"
      ]
     },
     "metadata": {},
     "output_type": "display_data"
    }
   ],
   "source": [
    "# Setting \"multi_threads=True\" will use multithreading to speed up the fetching of data\n",
    "table_column_description_dict = lcr_sample_result_api.get_table_columns_description(multi_threads=True,\n",
    "                                                                                    print_to_console=False)\n",
    "sdwis_drink_water.utils_for_jupyter_print.print_column_description(table_column_description_dict)"
   ]
  },
  {
   "cell_type": "markdown",
   "id": "63e8b692e7b92cec",
   "metadata": {
    "collapsed": false
   },
   "source": []
  },
  {
   "cell_type": "markdown",
   "id": "91fde5f074866d94",
   "metadata": {
    "collapsed": false
   },
   "source": [
    "## Step 3: Start Filtering Data Based on Our Requirements\n",
    "\n",
    "When we combine the provided descriptions, we gain a clearer understanding of the dataset:\n",
    "\n",
    "- **`\"contaminant_code\"`**: Represents the contamination element in the sample test.\n",
    "- **`\"unit_of_measure\"`**: Denotes the unit of contaminant content.\n",
    "- **`\"result_sign_code\"`**: Indicates the operation symbol. For results less than 0.01, which are not subdivided, this value is \"<\".\n",
    "- **`\"sample_measure\"`**: Refers to the contaminant content in the sample test.\n",
    "\n",
    "### Unit Conversion\n",
    "As the unit of measure in our data is \"mg/L\", it's necessary to adjust the units stated in the regulations for consistency:\n",
    "\n",
    "**Before:**\n",
    "```text\n",
    "EPA is proposing to lower the lead action level from 15 µg/L to 10 µg/L.\n",
    "```\n",
    "\n",
    "**After:**\n",
    "```text\n",
    "EPA is proposing to lower the lead action level from 0.015 mg/L to 10 µg/L.\n",
    "```\n",
    "\n",
    "### Filtering Data\n",
    "\n",
    "To filter data from the `LCR_SAMPLE_RESULT_TABLE`, we will use the **`\"get_lcr_sample_result_data_by_conditions\"`** method, adhering to the specifications outlined below.\n",
    "\n",
    "#### Original Rule Conditions\n",
    "For the original rule, apply these three conditional formulas:\n",
    "- `contaminant_code` = `PB90`\n",
    "- `result_sign_code` = `=`\n",
    "- `sample_measure` > `0.015`\n",
    "\n",
    "#### New Rule Conditions\n",
    "For the new rule, the conditional formulas are slightly different:\n",
    "- `contaminant_code` = `PB90`\n",
    "- `result_sign_code` = `=`\n",
    "- `sample_measure` > `0.01`"
   ]
  },
  {
   "cell_type": "code",
   "execution_count": 3,
   "id": "ce29066efb79a0e8",
   "metadata": {
    "ExecuteTime": {
     "end_time": "2023-12-15T18:17:37.756804Z",
     "start_time": "2023-12-15T18:17:31.361996Z"
    },
    "collapsed": false
   },
   "outputs": [],
   "source": [
    "# Samples exceeding the original rule\n",
    "pb90_exceed_original_rule = lcr_sample_result_api.get_lcr_sample_result_data_by_conditions(\"contaminant_code=PB90\",\n",
    "                                                                                           \"result_sign_code==\",\n",
    "                                                                                           \"sample_measure>0.015\")\n",
    "# Samples exceeding the new rule\n",
    "pb90_exceed_new_rule = lcr_sample_result_api.get_lcr_sample_result_data_by_conditions(\"contaminant_code=PB90\",\n",
    "                                                                                      \"result_sign_code==\",\n",
    "                                                                                      \"sample_measure>0.01\")"
   ]
  },
  {
   "cell_type": "markdown",
   "id": "fb0e97928d97c31c",
   "metadata": {
    "collapsed": false
   },
   "source": [
    "## Step 4: Handle fetched data with some methods\n",
    "\n",
    "we can handle fetched data by use some methods, including **`\"intersect_with\"`**, **`\"merge_with\"`**, **`\"difference_with\"`**.\n",
    "Also, we can use **`\"count()\"`** method to get the number of data"
   ]
  },
  {
   "cell_type": "code",
   "execution_count": 4,
   "id": "fe160026db72cb9a",
   "metadata": {
    "ExecuteTime": {
     "end_time": "2023-12-15T18:17:37.798274Z",
     "start_time": "2023-12-15T18:17:37.766922Z"
    },
    "collapsed": false
   },
   "outputs": [
    {
     "data": {
      "text/plain": [
       "65"
      ]
     },
     "execution_count": 4,
     "metadata": {},
     "output_type": "execute_result"
    }
   ],
   "source": [
    "# here intersection is the number of pb90_exceed_original_rule\n",
    "pb90_exceed_original_rule.intersect_with(pb90_exceed_new_rule).count()\n",
    "# here union is the number of pb90_exceed_new_rule\n",
    "pb90_exceed_original_rule.merge_with(pb90_exceed_new_rule).count()\n",
    "# get difference. These samples comply with the original rule, but not the new rule. Additional attention is required\n",
    "pb90_exceed_new_rule.difference_with(pb90_exceed_original_rule).count()"
   ]
  },
  {
   "cell_type": "markdown",
   "id": "d72aa068d06b5594",
   "metadata": {
    "collapsed": false
   },
   "source": [
    "## Step 5: Export data we need to file\n",
    "\n",
    "we can use **`\"count()\"`** method to export data\n",
    "supported \"format_type\" includes:\n",
    "- `txt`\n",
    "- `csv`\n",
    "- `xlsx`\n",
    "- `parquet`"
   ]
  },
  {
   "cell_type": "code",
   "execution_count": 5,
   "id": "40b6433d293caf35",
   "metadata": {
    "ExecuteTime": {
     "end_time": "2023-12-15T18:17:37.896251Z",
     "start_time": "2023-12-15T18:17:37.788230Z"
    },
    "collapsed": false
   },
   "outputs": [
    {
     "name": "stdout",
     "output_type": "stream",
     "text": [
      "Data is successfully exported to ./output_files/Sample sets for additional attention in the new regulation of Lead.xlsx!\n"
     ]
    }
   ],
   "source": [
    "result_we_need = pb90_exceed_new_rule.difference_with(pb90_exceed_original_rule)\n",
    "result_we_need.export_data(\"./output_files/Sample sets for additional attention in the new regulation of Lead.xlsx\",\n",
    "                           format_type=\"xlsx\")"
   ]
  }
 ],
 "metadata": {
  "kernelspec": {
   "display_name": "Python 3",
   "language": "python",
   "name": "python3"
  },
  "language_info": {
   "codemirror_mode": {
    "name": "ipython",
    "version": 3
   },
   "file_extension": ".py",
   "mimetype": "text/x-python",
   "name": "python",
   "nbconvert_exporter": "python",
   "pygments_lexer": "ipython3",
   "version": "3.9.18"
  },
  "widgets": {
   "application/vnd.jupyter.widget-state+json": {
    "state": {
     "0bc3fbd7fae641b087d04641a72b974b": {
      "model_module": "@jupyter-widgets/controls",
      "model_module_version": "2.0.0",
      "model_name": "HTMLStyleModel",
      "state": {
       "_model_module": "@jupyter-widgets/controls",
       "_model_module_version": "2.0.0",
       "_model_name": "HTMLStyleModel",
       "_view_count": null,
       "_view_module": "@jupyter-widgets/base",
       "_view_module_version": "2.0.0",
       "_view_name": "StyleView",
       "background": null,
       "description_width": "",
       "font_size": null,
       "text_color": null
      }
     },
     "13236711f92d426b931565967754a707": {
      "model_module": "@jupyter-widgets/controls",
      "model_module_version": "2.0.0",
      "model_name": "HTMLModel",
      "state": {
       "_dom_classes": [],
       "_model_module": "@jupyter-widgets/controls",
       "_model_module_version": "2.0.0",
       "_model_name": "HTMLModel",
       "_view_count": null,
       "_view_module": "@jupyter-widgets/controls",
       "_view_module_version": "2.0.0",
       "_view_name": "HTMLView",
       "description": "",
       "description_allow_html": false,
       "layout": "IPY_MODEL_de71716a18574cf18b9b4050bb53ad2e",
       "placeholder": "​",
       "style": "IPY_MODEL_0bc3fbd7fae641b087d04641a72b974b",
       "tabbable": null,
       "tooltip": null,
       "value": "<pre>┌───────────┬─────────────────┬───────────────────────┬──────────────┬──────────┬────────────────────┬────────────────────┬──────────────────┬───────────────────┐\n│     pwsid │       sample_id │   primacy_agency_code │   epa_region │   sar_id │ contaminant_code   │ result_sign_code   │   sample_measure │ unit_of_measure   │\n├───────────┼─────────────────┼───────────────────────┼──────────────┼──────────┼────────────────────┼────────────────────┼──────────────────┼───────────────────┤\n│ 010106001 │ 010106001171002 │                    01 │           01 │ 19494624 │ PB90               │ =                  │           0.0023 │ mg/L              │\n├───────────┼─────────────────┼───────────────────────┼──────────────┼──────────┼────────────────────┼────────────────────┼──────────────────┼───────────────────┤\n│ 010106001 │  01010600117136 │                    01 │           01 │ 18509106 │ PB90               │ <                  │           0.001  │ mg/L              │\n├───────────┼─────────────────┼───────────────────────┼──────────────┼──────────┼────────────────────┼────────────────────┼──────────────────┼───────────────────┤\n│ 010106001 │  01010600117137 │                    01 │           01 │ 18509107 │ PB90               │ =                  │           0.001  │ mg/L              │\n├───────────┼─────────────────┼───────────────────────┼──────────────┼──────────┼────────────────────┼────────────────────┼──────────────────┼───────────────────┤\n│ 010106001 │ 010106001171409 │                    01 │           01 │ 20845592 │ PB90               │ =                  │           0.0039 │ mg/L              │\n├───────────┼─────────────────┼───────────────────────┼──────────────┼──────────┼────────────────────┼────────────────────┼──────────────────┼───────────────────┤\n│ 010106001 │  01010600117711 │                    01 │           01 │ 18509167 │ PB90               │ =                  │           0.004  │ mg/L              │\n├───────────┼─────────────────┼───────────────────────┼──────────────┼──────────┼────────────────────┼────────────────────┼──────────────────┼───────────────────┤\n│ 010106001 │  01010600117721 │                    01 │           01 │ 18509173 │ PB90               │ =                  │           0.004  │ mg/L              │\n├───────────┼─────────────────┼───────────────────────┼──────────────┼──────────┼────────────────────┼────────────────────┼──────────────────┼───────────────────┤\n│ 010106001 │  01010600117722 │                    01 │           01 │ 18509174 │ PB90               │ =                  │           0.0014 │ mg/L              │\n├───────────┼─────────────────┼───────────────────────┼──────────────┼──────────┼────────────────────┼────────────────────┼──────────────────┼───────────────────┤\n│ 010106001 │  01010600117723 │                    01 │           01 │ 18509175 │ PB90               │ <                  │           0.001  │ mg/L              │\n├───────────┼─────────────────┼───────────────────────┼──────────────┼──────────┼────────────────────┼────────────────────┼──────────────────┼───────────────────┤\n│ 010106001 │  01010600117724 │                    01 │           01 │ 18509176 │ PB90               │ =                  │           0.002  │ mg/L              │\n├───────────┼─────────────────┼───────────────────────┼──────────────┼──────────┼────────────────────┼────────────────────┼──────────────────┼───────────────────┤\n│ 010106001 │  01010600117725 │                    01 │           01 │ 18509177 │ PB90               │ =                  │           0.0018 │ mg/L              │\n└───────────┴─────────────────┴───────────────────────┴──────────────┴──────────┴────────────────────┴────────────────────┴──────────────────┴───────────────────┘</pre>"
      }
     },
     "1c7eebe3ac9d48bc995cb49f6c00ec30": {
      "model_module": "@jupyter-widgets/controls",
      "model_module_version": "2.0.0",
      "model_name": "HTMLStyleModel",
      "state": {
       "_model_module": "@jupyter-widgets/controls",
       "_model_module_version": "2.0.0",
       "_model_name": "HTMLStyleModel",
       "_view_count": null,
       "_view_module": "@jupyter-widgets/base",
       "_view_module_version": "2.0.0",
       "_view_name": "StyleView",
       "background": null,
       "description_width": "",
       "font_size": null,
       "text_color": null
      }
     },
     "2165e169c40649799bb6a365a12ed01d": {
      "model_module": "@jupyter-widgets/base",
      "model_module_version": "2.0.0",
      "model_name": "LayoutModel",
      "state": {
       "_model_module": "@jupyter-widgets/base",
       "_model_module_version": "2.0.0",
       "_model_name": "LayoutModel",
       "_view_count": null,
       "_view_module": "@jupyter-widgets/base",
       "_view_module_version": "2.0.0",
       "_view_name": "LayoutView",
       "align_content": null,
       "align_items": null,
       "align_self": null,
       "border_bottom": null,
       "border_left": null,
       "border_right": null,
       "border_top": null,
       "bottom": null,
       "display": null,
       "flex": null,
       "flex_flow": null,
       "grid_area": null,
       "grid_auto_columns": null,
       "grid_auto_flow": null,
       "grid_auto_rows": null,
       "grid_column": null,
       "grid_gap": null,
       "grid_row": null,
       "grid_template_areas": null,
       "grid_template_columns": null,
       "grid_template_rows": null,
       "height": null,
       "justify_content": null,
       "justify_items": null,
       "left": null,
       "margin": null,
       "max_height": null,
       "max_width": null,
       "min_height": null,
       "min_width": null,
       "object_fit": null,
       "object_position": null,
       "order": null,
       "overflow": null,
       "padding": null,
       "right": null,
       "top": null,
       "visibility": null,
       "width": "100%"
      }
     },
     "2bdca713791e43859a36a2fb59d48858": {
      "model_module": "@jupyter-widgets/base",
      "model_module_version": "2.0.0",
      "model_name": "LayoutModel",
      "state": {
       "_model_module": "@jupyter-widgets/base",
       "_model_module_version": "2.0.0",
       "_model_name": "LayoutModel",
       "_view_count": null,
       "_view_module": "@jupyter-widgets/base",
       "_view_module_version": "2.0.0",
       "_view_name": "LayoutView",
       "align_content": null,
       "align_items": null,
       "align_self": null,
       "border_bottom": null,
       "border_left": null,
       "border_right": null,
       "border_top": null,
       "bottom": null,
       "display": null,
       "flex": null,
       "flex_flow": null,
       "grid_area": null,
       "grid_auto_columns": null,
       "grid_auto_flow": null,
       "grid_auto_rows": null,
       "grid_column": null,
       "grid_gap": null,
       "grid_row": null,
       "grid_template_areas": null,
       "grid_template_columns": null,
       "grid_template_rows": null,
       "height": null,
       "justify_content": null,
       "justify_items": null,
       "left": null,
       "margin": null,
       "max_height": null,
       "max_width": null,
       "min_height": null,
       "min_width": null,
       "object_fit": null,
       "object_position": null,
       "order": null,
       "overflow": null,
       "padding": null,
       "right": null,
       "top": null,
       "visibility": null,
       "width": null
      }
     },
     "37b070a68e224f0b99386fa714fd1a71": {
      "model_module": "@jupyter-widgets/controls",
      "model_module_version": "2.0.0",
      "model_name": "HTMLModel",
      "state": {
       "_dom_classes": [],
       "_model_module": "@jupyter-widgets/controls",
       "_model_module_version": "2.0.0",
       "_model_name": "HTMLModel",
       "_view_count": null,
       "_view_module": "@jupyter-widgets/controls",
       "_view_module_version": "2.0.0",
       "_view_name": "HTMLView",
       "description": "",
       "description_allow_html": false,
       "layout": "IPY_MODEL_2bdca713791e43859a36a2fb59d48858",
       "placeholder": "​",
       "style": "IPY_MODEL_1c7eebe3ac9d48bc995cb49f6c00ec30",
       "tabbable": null,
       "tooltip": null,
       "value": "<pre>┌─────────────────────┬────────────────────────────────────────────────────────────────────────────────────────────────────────────────────────────────────────────────────────────────────────────────────────────────────────────────────────────────────────────────────────────────────────────────────────────────────────────────────────────────────────────────────────────────────────────────┐\n│ column_names        │ description                                                                                                                                                                                                                                                                                                                                                                    │\n├─────────────────────┼────────────────────────────────────────────────────────────────────────────────────────────────────────────────────────────────────────────────────────────────────────────────────────────────────────────────────────────────────────────────────────────────────────────────────────────────────────────────────────────────────────────────────────────────────────────────┤\n│ pwsid               │ A system-generated number managed by the reporting jurisdiction that uniquely identifies each Sample Result record. As there a situations where there can be two sample results for a sample, the SAR_ID is used instead of the Contaminant code (as in ODS) in the primary key of this table.                                                                                 │\n├─────────────────────┼────────────────────────────────────────────────────────────────────────────────────────────────────────────────────────────────────────────────────────────────────────────────────────────────────────────────────────────────────────────────────────────────────────────────────────────────────────────────────────────────────────────────────────────────────────────────┤\n│ sample_id           │ Uniquely identifies the water system within a specific state. Format: SSXXXXXXXXXX where: SS = the Federal Information Processing Standard (FIPS) Pub 5-2 State abbreviation in which the water system is located, or the region number of the EPA region responsible for an Indian reser vation, and XXXXXXXXXX = the water system identification code assigned by the State. │\n├─────────────────────┼────────────────────────────────────────────────────────────────────────────────────────────────────────────────────────────────────────────────────────────────────────────────────────────────────────────────────────────────────────────────────────────────────────────────────────────────────────────────────────────────────────────────────────────────────────────────┤\n│ primacy_agency_code │ The result obtained from a sample analysis.                                                                                                                                                                                                                                                                                                                                    │\n├─────────────────────┼────────────────────────────────────────────────────────────────────────────────────────────────────────────────────────────────────────────────────────────────────────────────────────────────────────────────────────────────────────────────────────────────────────────────────────────────────────────────────────────────────────────────────────────────────────────────┤\n│ epa_region          │ Two character postal code for the state or territory having regulatory oversight for the water system. If the water system is regulated directly by EPA, this code will consist of the two-digit EPA Region number (0110). The Navajo Nation has primacy over its water systems, so NN is used in this case.                                                                   │\n├─────────────────────┼────────────────────────────────────────────────────────────────────────────────────────────────────────────────────────────────────────────────────────────────────────────────────────────────────────────────────────────────────────────────────────────────────────────────────────────────────────────────────────────────────────────────────────────────────────────────┤\n│ sar_id              │ A code value that represents a contaminant for which a public water system has incurred a violation of a primary drinking water regulation.                                                                                                                                                                                                                                    │\n├─────────────────────┼────────────────────────────────────────────────────────────────────────────────────────────────────────────────────────────────────────────────────────────────────────────────────────────────────────────────────────────────────────────────────────────────────────────────────────────────────────────────────────────────────────────────────────────────────────────────┤\n│ contaminant_code    │ Sample identifier.                                                                                                                                                                                                                                                                                                                                                             │\n├─────────────────────┼────────────────────────────────────────────────────────────────────────────────────────────────────────────────────────────────────────────────────────────────────────────────────────────────────────────────────────────────────────────────────────────────────────────────────────────────────────────────────────────────────────────────────────────────────────────────┤\n│ result_sign_code    │ The EPA Region in which the water system resides (01-10).                                                                                                                                                                                                                                                                                                                      │\n├─────────────────────┼────────────────────────────────────────────────────────────────────────────────────────────────────────────────────────────────────────────────────────────────────────────────────────────────────────────────────────────────────────────────────────────────────────────────────────────────────────────────────────────────────────────────────────────────────────────────┤\n│ sample_measure      │ The unit of measure (UM) that is associated with the value reported for SAMPLE ANALYSIS RESULT.                                                                                                                                                                                                                                                                                │\n├─────────────────────┼────────────────────────────────────────────────────────────────────────────────────────────────────────────────────────────────────────────────────────────────────────────────────────────────────────────────────────────────────────────────────────────────────────────────────────────────────────────────────────────────────────────────────────────────────────────────┤\n│ unit_of_measure     │ A sign used to indicate the detection limit reported for the data element Sample Measure.                                                                                                                                                                                                                                                                                      │\n└─────────────────────┴────────────────────────────────────────────────────────────────────────────────────────────────────────────────────────────────────────────────────────────────────────────────────────────────────────────────────────────────────────────────────────────────────────────────────────────────────────────────────────────────────────────────────────────────────────────────┘</pre>"
      }
     },
     "5c735731ef0b4314a123150b85c40809": {
      "model_module": "@jupyter-widgets/base",
      "model_module_version": "2.0.0",
      "model_name": "LayoutModel",
      "state": {
       "_model_module": "@jupyter-widgets/base",
       "_model_module_version": "2.0.0",
       "_model_name": "LayoutModel",
       "_view_count": null,
       "_view_module": "@jupyter-widgets/base",
       "_view_module_version": "2.0.0",
       "_view_name": "LayoutView",
       "align_content": null,
       "align_items": null,
       "align_self": null,
       "border_bottom": null,
       "border_left": null,
       "border_right": null,
       "border_top": null,
       "bottom": null,
       "display": null,
       "flex": null,
       "flex_flow": null,
       "grid_area": null,
       "grid_auto_columns": null,
       "grid_auto_flow": null,
       "grid_auto_rows": null,
       "grid_column": null,
       "grid_gap": null,
       "grid_row": null,
       "grid_template_areas": null,
       "grid_template_columns": null,
       "grid_template_rows": null,
       "height": null,
       "justify_content": null,
       "justify_items": null,
       "left": null,
       "margin": null,
       "max_height": null,
       "max_width": null,
       "min_height": null,
       "min_width": null,
       "object_fit": null,
       "object_position": null,
       "order": null,
       "overflow": null,
       "padding": null,
       "right": null,
       "top": null,
       "visibility": null,
       "width": "100%"
      }
     },
     "b0b1542807084ea2b3b71adc6d53ee31": {
      "model_module": "@jupyter-widgets/output",
      "model_module_version": "1.0.0",
      "model_name": "OutputModel",
      "state": {
       "_dom_classes": [],
       "_model_module": "@jupyter-widgets/output",
       "_model_module_version": "1.0.0",
       "_model_name": "OutputModel",
       "_view_count": null,
       "_view_module": "@jupyter-widgets/output",
       "_view_module_version": "1.0.0",
       "_view_name": "OutputView",
       "layout": "IPY_MODEL_5c735731ef0b4314a123150b85c40809",
       "msg_id": "",
       "outputs": [
        {
         "data": {
          "application/vnd.jupyter.widget-view+json": {
           "model_id": "37b070a68e224f0b99386fa714fd1a71",
           "version_major": 2,
           "version_minor": 0
          },
          "text/plain": "HTML(value='<pre>┌─────────────────────┬──────────────────────────────────────────────────────────────────────…"
         },
         "metadata": {},
         "output_type": "display_data"
        }
       ],
       "tabbable": null,
       "tooltip": null
      }
     },
     "dc0d2e9e06324d79a48dcb9b2990bf1a": {
      "model_module": "@jupyter-widgets/output",
      "model_module_version": "1.0.0",
      "model_name": "OutputModel",
      "state": {
       "_dom_classes": [],
       "_model_module": "@jupyter-widgets/output",
       "_model_module_version": "1.0.0",
       "_model_name": "OutputModel",
       "_view_count": null,
       "_view_module": "@jupyter-widgets/output",
       "_view_module_version": "1.0.0",
       "_view_name": "OutputView",
       "layout": "IPY_MODEL_2165e169c40649799bb6a365a12ed01d",
       "msg_id": "",
       "outputs": [
        {
         "data": {
          "application/vnd.jupyter.widget-view+json": {
           "model_id": "13236711f92d426b931565967754a707",
           "version_major": 2,
           "version_minor": 0
          },
          "text/plain": "HTML(value='<pre>┌───────────┬─────────────────┬───────────────────────┬──────────────┬──────────┬────────────…"
         },
         "metadata": {},
         "output_type": "display_data"
        }
       ],
       "tabbable": null,
       "tooltip": null
      }
     },
     "de71716a18574cf18b9b4050bb53ad2e": {
      "model_module": "@jupyter-widgets/base",
      "model_module_version": "2.0.0",
      "model_name": "LayoutModel",
      "state": {
       "_model_module": "@jupyter-widgets/base",
       "_model_module_version": "2.0.0",
       "_model_name": "LayoutModel",
       "_view_count": null,
       "_view_module": "@jupyter-widgets/base",
       "_view_module_version": "2.0.0",
       "_view_name": "LayoutView",
       "align_content": null,
       "align_items": null,
       "align_self": null,
       "border_bottom": null,
       "border_left": null,
       "border_right": null,
       "border_top": null,
       "bottom": null,
       "display": null,
       "flex": null,
       "flex_flow": null,
       "grid_area": null,
       "grid_auto_columns": null,
       "grid_auto_flow": null,
       "grid_auto_rows": null,
       "grid_column": null,
       "grid_gap": null,
       "grid_row": null,
       "grid_template_areas": null,
       "grid_template_columns": null,
       "grid_template_rows": null,
       "height": null,
       "justify_content": null,
       "justify_items": null,
       "left": null,
       "margin": null,
       "max_height": null,
       "max_width": null,
       "min_height": null,
       "min_width": null,
       "object_fit": null,
       "object_position": null,
       "order": null,
       "overflow": null,
       "padding": null,
       "right": null,
       "top": null,
       "visibility": null,
       "width": null
      }
     }
    },
    "version_major": 2,
    "version_minor": 0
   }
  }
 },
 "nbformat": 4,
 "nbformat_minor": 5
}