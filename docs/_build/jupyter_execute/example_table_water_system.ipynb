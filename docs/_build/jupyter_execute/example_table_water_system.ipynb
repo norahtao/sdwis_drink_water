{
 "cells": [
  {
   "cell_type": "markdown",
   "id": "af870ea56794fded",
   "metadata": {
    "collapsed": false
   },
   "source": [
    "# Example2: Working with specific Datatable (use **`\"WaterSystem\"`** as example)"
   ]
  },
  {
   "cell_type": "code",
   "execution_count": 1,
   "id": "eca6b7aa49813a7c",
   "metadata": {
    "ExecuteTime": {
     "end_time": "2023-12-14T16:39:19.874334Z",
     "start_time": "2023-12-14T16:39:19.274184Z"
    },
    "collapsed": false
   },
   "outputs": [],
   "source": [
    "import sdwis_drink_water\n",
    "\n",
    "# Due to the width limitation, I wrote some functions for outputting some results using an interactive scrollbar\n",
    "\n",
    "water_system_api = sdwis_drink_water.models.WaterSystem(print_url=False)"
   ]
  },
  {
   "cell_type": "markdown",
   "id": "b70c72bd03d0c3ec",
   "metadata": {
    "collapsed": false
   },
   "source": [
    "## fetch table column name"
   ]
  },
  {
   "cell_type": "code",
   "execution_count": 2,
   "id": "2ffb235376d9e29b",
   "metadata": {
    "ExecuteTime": {
     "end_time": "2023-12-14T16:39:19.889806Z",
     "start_time": "2023-12-14T16:39:19.875268Z"
    },
    "collapsed": false
   },
   "outputs": [
    {
     "data": {
      "application/vnd.jupyter.widget-view+json": {
       "model_id": "89117eedb6534f96b6580752cd1beeb4",
       "version_major": 2,
       "version_minor": 0
      },
      "text/plain": [
       "Output(layout=Layout(width='100%'))"
      ]
     },
     "metadata": {},
     "output_type": "display_data"
    }
   ],
   "source": [
    "water_system_columns = water_system_api.get_table_column_name(print_to_console=False)\n",
    "sdwis_drink_water.utils_for_jupyter_print.print_columns(water_system_columns)"
   ]
  },
  {
   "cell_type": "markdown",
   "id": "ae7418ff88ca3df1",
   "metadata": {
    "collapsed": false
   },
   "source": [
    "## fetch table column names with descriptions"
   ]
  },
  {
   "cell_type": "code",
   "execution_count": 3,
   "id": "798dcb34ee4de81a",
   "metadata": {
    "ExecuteTime": {
     "end_time": "2023-12-14T16:39:25.339449Z",
     "start_time": "2023-12-14T16:39:19.890703Z"
    },
    "collapsed": false
   },
   "outputs": [
    {
     "name": "stderr",
     "output_type": "stream",
     "text": [
      "\r",
      "Fetching column descriptions for WATER_SYSTEM from SDWIS Official Website by multi_threads_mode:   0%|                                     | 0/45 [00:00<?, ?it/s]"
     ]
    },
    {
     "name": "stderr",
     "output_type": "stream",
     "text": [
      "\r",
      "Fetching column descriptions for WATER_SYSTEM from SDWIS Official Website by multi_threads_mode:   2%|▋                            | 1/45 [00:02<01:36,  2.20s/it]"
     ]
    },
    {
     "name": "stderr",
     "output_type": "stream",
     "text": [
      "\r",
      "Fetching column descriptions for WATER_SYSTEM from SDWIS Official Website by multi_threads_mode:   7%|█▉                           | 3/45 [00:02<00:25,  1.63it/s]"
     ]
    },
    {
     "name": "stderr",
     "output_type": "stream",
     "text": [
      "\r",
      "Fetching column descriptions for WATER_SYSTEM from SDWIS Official Website by multi_threads_mode:  11%|███▏                         | 5/45 [00:02<00:13,  3.00it/s]"
     ]
    },
    {
     "name": "stderr",
     "output_type": "stream",
     "text": [
      "\r",
      "Fetching column descriptions for WATER_SYSTEM from SDWIS Official Website by multi_threads_mode:  16%|████▌                        | 7/45 [00:02<00:08,  4.41it/s]"
     ]
    },
    {
     "name": "stderr",
     "output_type": "stream",
     "text": [
      "\r",
      "Fetching column descriptions for WATER_SYSTEM from SDWIS Official Website by multi_threads_mode:  20%|█████▊                       | 9/45 [00:02<00:05,  6.09it/s]"
     ]
    },
    {
     "name": "stderr",
     "output_type": "stream",
     "text": [
      "\r",
      "Fetching column descriptions for WATER_SYSTEM from SDWIS Official Website by multi_threads_mode:  24%|██████▊                     | 11/45 [00:02<00:04,  7.26it/s]"
     ]
    },
    {
     "name": "stderr",
     "output_type": "stream",
     "text": [
      "\r",
      "Fetching column descriptions for WATER_SYSTEM from SDWIS Official Website by multi_threads_mode:  29%|████████                    | 13/45 [00:03<00:03,  9.02it/s]"
     ]
    },
    {
     "name": "stderr",
     "output_type": "stream",
     "text": [
      "\r",
      "Fetching column descriptions for WATER_SYSTEM from SDWIS Official Website by multi_threads_mode:  33%|█████████▎                  | 15/45 [00:03<00:03,  9.21it/s]"
     ]
    },
    {
     "name": "stderr",
     "output_type": "stream",
     "text": [
      "\r",
      "Fetching column descriptions for WATER_SYSTEM from SDWIS Official Website by multi_threads_mode:  40%|███████████▏                | 18/45 [00:03<00:02, 11.42it/s]"
     ]
    },
    {
     "name": "stderr",
     "output_type": "stream",
     "text": [
      "\r",
      "Fetching column descriptions for WATER_SYSTEM from SDWIS Official Website by multi_threads_mode:  44%|████████████▍               | 20/45 [00:03<00:01, 12.90it/s]"
     ]
    },
    {
     "name": "stderr",
     "output_type": "stream",
     "text": [
      "\r",
      "Fetching column descriptions for WATER_SYSTEM from SDWIS Official Website by multi_threads_mode:  49%|█████████████▋              | 22/45 [00:03<00:01, 11.91it/s]"
     ]
    },
    {
     "name": "stderr",
     "output_type": "stream",
     "text": [
      "\r",
      "Fetching column descriptions for WATER_SYSTEM from SDWIS Official Website by multi_threads_mode:  53%|██████████████▉             | 24/45 [00:03<00:01, 10.92it/s]"
     ]
    },
    {
     "name": "stderr",
     "output_type": "stream",
     "text": [
      "\r",
      "Fetching column descriptions for WATER_SYSTEM from SDWIS Official Website by multi_threads_mode:  60%|████████████████▊           | 27/45 [00:04<00:01, 12.81it/s]"
     ]
    },
    {
     "name": "stderr",
     "output_type": "stream",
     "text": [
      "\r",
      "Fetching column descriptions for WATER_SYSTEM from SDWIS Official Website by multi_threads_mode:  64%|██████████████████          | 29/45 [00:04<00:01, 13.61it/s]"
     ]
    },
    {
     "name": "stderr",
     "output_type": "stream",
     "text": [
      "\r",
      "Fetching column descriptions for WATER_SYSTEM from SDWIS Official Website by multi_threads_mode:  69%|███████████████████▎        | 31/45 [00:04<00:01, 12.27it/s]"
     ]
    },
    {
     "name": "stderr",
     "output_type": "stream",
     "text": [
      "\r",
      "Fetching column descriptions for WATER_SYSTEM from SDWIS Official Website by multi_threads_mode:  73%|████████████████████▌       | 33/45 [00:04<00:01, 11.21it/s]"
     ]
    },
    {
     "name": "stderr",
     "output_type": "stream",
     "text": [
      "\r",
      "Fetching column descriptions for WATER_SYSTEM from SDWIS Official Website by multi_threads_mode:  78%|█████████████████████▊      | 35/45 [00:04<00:00, 11.50it/s]"
     ]
    },
    {
     "name": "stderr",
     "output_type": "stream",
     "text": [
      "\r",
      "Fetching column descriptions for WATER_SYSTEM from SDWIS Official Website by multi_threads_mode:  82%|███████████████████████     | 37/45 [00:04<00:00, 12.53it/s]"
     ]
    },
    {
     "name": "stderr",
     "output_type": "stream",
     "text": [
      "\r",
      "Fetching column descriptions for WATER_SYSTEM from SDWIS Official Website by multi_threads_mode:  87%|████████████████████████▎   | 39/45 [00:05<00:00, 11.47it/s]"
     ]
    },
    {
     "name": "stderr",
     "output_type": "stream",
     "text": [
      "\r",
      "Fetching column descriptions for WATER_SYSTEM from SDWIS Official Website by multi_threads_mode:  91%|█████████████████████████▌  | 41/45 [00:05<00:00, 10.92it/s]"
     ]
    },
    {
     "name": "stderr",
     "output_type": "stream",
     "text": [
      "\r",
      "Fetching column descriptions for WATER_SYSTEM from SDWIS Official Website by multi_threads_mode:  96%|██████████████████████████▊ | 43/45 [00:05<00:00, 12.41it/s]"
     ]
    },
    {
     "name": "stderr",
     "output_type": "stream",
     "text": [
      "\r",
      "Fetching column descriptions for WATER_SYSTEM from SDWIS Official Website by multi_threads_mode: 100%|████████████████████████████| 45/45 [00:05<00:00, 11.92it/s]"
     ]
    },
    {
     "name": "stderr",
     "output_type": "stream",
     "text": [
      "\r",
      "Fetching column descriptions for WATER_SYSTEM from SDWIS Official Website by multi_threads_mode: 100%|████████████████████████████| 45/45 [00:05<00:00,  7.98it/s]"
     ]
    },
    {
     "name": "stderr",
     "output_type": "stream",
     "text": [
      "\n"
     ]
    },
    {
     "data": {
      "application/vnd.jupyter.widget-view+json": {
       "model_id": "811c8e1a315a4827b7a3dbbec10b8b9d",
       "version_major": 2,
       "version_minor": 0
      },
      "text/plain": [
       "Output(layout=Layout(width='100%'))"
      ]
     },
     "metadata": {},
     "output_type": "display_data"
    }
   ],
   "source": [
    "water_system_columns_description_dict = water_system_api.get_table_columns_description(print_to_console=False, multi_threads=True)\n",
    "sdwis_drink_water.utils_for_jupyter_print.print_column_description(water_system_columns_description_dict)"
   ]
  },
  {
   "cell_type": "markdown",
   "id": "25872f277d22b467",
   "metadata": {
    "collapsed": false
   },
   "source": [
    "## fetch first data from Water_System table"
   ]
  },
  {
   "cell_type": "code",
   "execution_count": 4,
   "id": "52c75bc3b6e4b089",
   "metadata": {
    "ExecuteTime": {
     "end_time": "2023-12-14T16:39:25.355604Z",
     "start_time": "2023-12-14T16:39:25.340230Z"
    },
    "collapsed": false
   },
   "outputs": [
    {
     "data": {
      "application/vnd.jupyter.widget-view+json": {
       "model_id": "454ca6ce37a34d1db908b554df357619",
       "version_major": 2,
       "version_minor": 0
      },
      "text/plain": [
       "Output(layout=Layout(width='100%'))"
      ]
     },
     "metadata": {},
     "output_type": "display_data"
    }
   ],
   "source": [
    "# fetch first data from LcrSampleResult table\n",
    "first_water_system_data = water_system_api.get_table_first_data(print_to_console=False)\n",
    "\n",
    "sdwis_drink_water.utils_for_jupyter_print.print_result_data(first_water_system_data)"
   ]
  },
  {
   "cell_type": "markdown",
   "id": "deeebb1d7eeca9e0",
   "metadata": {
    "collapsed": false
   },
   "source": [
    "## fetch first n data from Water_System table"
   ]
  },
  {
   "cell_type": "code",
   "execution_count": 5,
   "id": "471a2332b02ee9c9",
   "metadata": {
    "ExecuteTime": {
     "end_time": "2023-12-14T16:44:39.469339Z",
     "start_time": "2023-12-14T16:44:39.440163Z"
    },
    "collapsed": false
   },
   "outputs": [
    {
     "data": {
      "application/vnd.jupyter.widget-view+json": {
       "model_id": "3d9a8997a41a442884036ed442bcd50c",
       "version_major": 2,
       "version_minor": 0
      },
      "text/plain": [
       "Output(layout=Layout(width='100%'))"
      ]
     },
     "metadata": {},
     "output_type": "display_data"
    }
   ],
   "source": [
    "first_20_water_system_data = water_system_api.get_table_first_n_data(n=20, print_to_console=False)\n",
    "\n",
    "sdwis_drink_water.utils_for_jupyter_print.print_result_data(first_20_water_system_data)"
   ]
  },
  {
   "cell_type": "markdown",
   "id": "6cc449bb9684a4c2",
   "metadata": {
    "collapsed": false
   },
   "source": [
    "### We can use this method to quickly access the full datasheet, then export to a file"
   ]
  },
  {
   "cell_type": "code",
   "execution_count": 6,
   "id": "575a3c05feecc1f7",
   "metadata": {
    "ExecuteTime": {
     "end_time": "2023-12-14T16:43:28.057854Z",
     "start_time": "2023-12-14T16:39:25.386533Z"
    },
    "collapsed": false
   },
   "outputs": [
    {
     "name": "stdout",
     "output_type": "stream",
     "text": [
      "WATER_SYSTEM\n",
      "The data number in the database provided by the API is 428808. Your request number exceeds this limit, please note.\n"
     ]
    },
    {
     "name": "stderr",
     "output_type": "stream",
     "text": [
      "\r",
      "Fetching Data by multi_threads_mode:   0%|                                                                                                 | 0/43 [00:00<?, ?it/s]"
     ]
    },
    {
     "name": "stderr",
     "output_type": "stream",
     "text": [
      "\n"
     ]
    },
    {
     "name": "stderr",
     "output_type": "stream",
     "text": [
      "\r",
      "  0%|                                                                                                                                      | 0/43 [00:00<?, ?it/s]"
     ]
    },
    {
     "name": "stderr",
     "output_type": "stream",
     "text": [
      "\u001b[A"
     ]
    },
    {
     "name": "stderr",
     "output_type": "stream",
     "text": [
      "\n"
     ]
    },
    {
     "name": "stderr",
     "output_type": "stream",
     "text": [
      "\r",
      " 28%|██████████████████████████████████▉                                                                                          | 12/43 [00:02<00:05,  5.95it/s]"
     ]
    },
    {
     "name": "stderr",
     "output_type": "stream",
     "text": [
      "\u001b[A"
     ]
    },
    {
     "name": "stderr",
     "output_type": "stream",
     "text": [
      "\n"
     ]
    },
    {
     "name": "stderr",
     "output_type": "stream",
     "text": [
      "\r",
      " 30%|█████████████████████████████████████▊                                                                                       | 13/43 [00:04<00:10,  2.75it/s]"
     ]
    },
    {
     "name": "stderr",
     "output_type": "stream",
     "text": [
      "\u001b[A"
     ]
    },
    {
     "name": "stderr",
     "output_type": "stream",
     "text": [
      "\n"
     ]
    },
    {
     "name": "stderr",
     "output_type": "stream",
     "text": [
      "\r",
      " 33%|████████████████████████████████████████▋                                                                                    | 14/43 [00:06<00:16,  1.72it/s]"
     ]
    },
    {
     "name": "stderr",
     "output_type": "stream",
     "text": [
      "\u001b[A"
     ]
    },
    {
     "name": "stderr",
     "output_type": "stream",
     "text": [
      "\n"
     ]
    },
    {
     "name": "stderr",
     "output_type": "stream",
     "text": [
      "\r",
      " 35%|███████████████████████████████████████████▌                                                                                 | 15/43 [00:08<00:22,  1.24it/s]"
     ]
    },
    {
     "name": "stderr",
     "output_type": "stream",
     "text": [
      "\u001b[A"
     ]
    },
    {
     "name": "stderr",
     "output_type": "stream",
     "text": [
      "\n"
     ]
    },
    {
     "name": "stderr",
     "output_type": "stream",
     "text": [
      "\r",
      " 37%|██████████████████████████████████████████████▌                                                                              | 16/43 [00:10<00:27,  1.03s/it]"
     ]
    },
    {
     "name": "stderr",
     "output_type": "stream",
     "text": [
      "\u001b[A"
     ]
    },
    {
     "name": "stderr",
     "output_type": "stream",
     "text": [
      "\n"
     ]
    },
    {
     "name": "stderr",
     "output_type": "stream",
     "text": [
      "\r",
      " 40%|█████████████████████████████████████████████████▍                                                                           | 17/43 [00:12<00:32,  1.23s/it]"
     ]
    },
    {
     "name": "stderr",
     "output_type": "stream",
     "text": [
      "\u001b[A"
     ]
    },
    {
     "name": "stderr",
     "output_type": "stream",
     "text": [
      "\n"
     ]
    },
    {
     "name": "stderr",
     "output_type": "stream",
     "text": [
      "\r",
      " 42%|████████████████████████████████████████████████████▎                                                                        | 18/43 [00:14<00:35,  1.41s/it]"
     ]
    },
    {
     "name": "stderr",
     "output_type": "stream",
     "text": [
      "\u001b[A"
     ]
    },
    {
     "name": "stderr",
     "output_type": "stream",
     "text": [
      "\n"
     ]
    },
    {
     "name": "stderr",
     "output_type": "stream",
     "text": [
      "\r",
      " 44%|███████████████████████████████████████████████████████▏                                                                     | 19/43 [00:16<00:37,  1.56s/it]"
     ]
    },
    {
     "name": "stderr",
     "output_type": "stream",
     "text": [
      "\u001b[A"
     ]
    },
    {
     "name": "stderr",
     "output_type": "stream",
     "text": [
      "\n"
     ]
    },
    {
     "name": "stderr",
     "output_type": "stream",
     "text": [
      "\r",
      " 47%|██████████████████████████████████████████████████████████▏                                                                  | 20/43 [00:18<00:38,  1.68s/it]"
     ]
    },
    {
     "name": "stderr",
     "output_type": "stream",
     "text": [
      "\u001b[A"
     ]
    },
    {
     "name": "stderr",
     "output_type": "stream",
     "text": [
      "\n"
     ]
    },
    {
     "name": "stderr",
     "output_type": "stream",
     "text": [
      "\r",
      " 49%|█████████████████████████████████████████████████████████████                                                                | 21/43 [00:20<00:38,  1.77s/it]"
     ]
    },
    {
     "name": "stderr",
     "output_type": "stream",
     "text": [
      "\u001b[A"
     ]
    },
    {
     "name": "stderr",
     "output_type": "stream",
     "text": [
      "\n"
     ]
    },
    {
     "name": "stderr",
     "output_type": "stream",
     "text": [
      "\r",
      " 51%|███████████████████████████████████████████████████████████████▉                                                             | 22/43 [00:22<00:38,  1.84s/it]"
     ]
    },
    {
     "name": "stderr",
     "output_type": "stream",
     "text": [
      "\u001b[A"
     ]
    },
    {
     "name": "stderr",
     "output_type": "stream",
     "text": [
      "\n"
     ]
    },
    {
     "name": "stderr",
     "output_type": "stream",
     "text": [
      "\r",
      " 53%|██████████████████████████████████████████████████████████████████▊                                                          | 23/43 [00:24<00:37,  1.89s/it]"
     ]
    },
    {
     "name": "stderr",
     "output_type": "stream",
     "text": [
      "\u001b[A"
     ]
    },
    {
     "name": "stderr",
     "output_type": "stream",
     "text": [
      "\n"
     ]
    },
    {
     "name": "stderr",
     "output_type": "stream",
     "text": [
      "\r",
      " 56%|█████████████████████████████████████████████████████████████████████▊                                                       | 24/43 [00:26<00:36,  1.92s/it]"
     ]
    },
    {
     "name": "stderr",
     "output_type": "stream",
     "text": [
      "\u001b[A"
     ]
    },
    {
     "name": "stderr",
     "output_type": "stream",
     "text": [
      "\r",
      " 56%|█████████████████████████████████████████████████████████████████████▊                                                       | 24/43 [00:27<00:22,  1.16s/it]"
     ]
    },
    {
     "name": "stderr",
     "output_type": "stream",
     "text": [
      "\n"
     ]
    },
    {
     "ename": "KeyboardInterrupt",
     "evalue": "",
     "output_type": "error",
     "traceback": [
      "\u001b[0;31m---------------------------------------------------------------------------\u001b[0m",
      "\u001b[0;31mKeyboardInterrupt\u001b[0m                         Traceback (most recent call last)",
      "Cell \u001b[0;32mIn[6], line 2\u001b[0m\n\u001b[1;32m      1\u001b[0m water_system_data_number \u001b[38;5;241m=\u001b[39m water_system_api\u001b[38;5;241m.\u001b[39mget_table_data_number()\n\u001b[0;32m----> 2\u001b[0m all_water_system \u001b[38;5;241m=\u001b[39m \u001b[43mwater_system_api\u001b[49m\u001b[38;5;241;43m.\u001b[39;49m\u001b[43mget_table_first_n_data\u001b[49m\u001b[43m(\u001b[49m\u001b[43mn\u001b[49m\u001b[38;5;241;43m=\u001b[39;49m\u001b[43mwater_system_data_number\u001b[49m\u001b[43m,\u001b[49m\u001b[43m \u001b[49m\u001b[43mmulti_threads\u001b[49m\u001b[38;5;241;43m=\u001b[39;49m\u001b[38;5;28;43;01mTrue\u001b[39;49;00m\u001b[43m,\u001b[49m\u001b[43m \u001b[49m\u001b[43mprint_to_console\u001b[49m\u001b[38;5;241;43m=\u001b[39;49m\u001b[38;5;28;43;01mFalse\u001b[39;49;00m\u001b[43m)\u001b[49m\n\u001b[1;32m      3\u001b[0m \u001b[38;5;66;03m# You can also just set n to a big number\u001b[39;00m\n\u001b[1;32m      4\u001b[0m \u001b[38;5;66;03m# all_water_system = water_system_api.get_table_first_n_data(n=99999999, multi_threads=True, print_to_console=False)\u001b[39;00m\n\u001b[1;32m      5\u001b[0m all_water_system\u001b[38;5;241m.\u001b[39mexport_data(\u001b[38;5;124m\"\u001b[39m\u001b[38;5;124m./output_files/all_water_system.xlsx\u001b[39m\u001b[38;5;124m\"\u001b[39m, format_type\u001b[38;5;241m=\u001b[39m\u001b[38;5;124m\"\u001b[39m\u001b[38;5;124mxlsx\u001b[39m\u001b[38;5;124m\"\u001b[39m)\n",
      "File \u001b[0;32m~/Desktop/codes/xenon_generation_sft/venv/lib/python3.9/site-packages/sdwis_drink_water/models/water_system.py:25\u001b[0m, in \u001b[0;36mWaterSystem.get_table_first_n_data\u001b[0;34m(self, n, multi_threads, print_to_console)\u001b[0m\n\u001b[1;32m     24\u001b[0m \u001b[38;5;28;01mdef\u001b[39;00m \u001b[38;5;21mget_table_first_n_data\u001b[39m(\u001b[38;5;28mself\u001b[39m, n\u001b[38;5;241m=\u001b[39m\u001b[38;5;241m0\u001b[39m, multi_threads\u001b[38;5;241m=\u001b[39m\u001b[38;5;28;01mFalse\u001b[39;00m, print_to_console\u001b[38;5;241m=\u001b[39m\u001b[38;5;28;01mTrue\u001b[39;00m):\n\u001b[0;32m---> 25\u001b[0m     \u001b[38;5;28;01mreturn\u001b[39;00m \u001b[38;5;28;43mself\u001b[39;49m\u001b[38;5;241;43m.\u001b[39;49m\u001b[43msdwis_table\u001b[49m\u001b[38;5;241;43m.\u001b[39;49m\u001b[43mget_table_first_n_data_by_table_name\u001b[49m\u001b[43m(\u001b[49m\u001b[43mtable_name\u001b[49m\u001b[38;5;241;43m=\u001b[39;49m\u001b[38;5;28;43mself\u001b[39;49m\u001b[38;5;241;43m.\u001b[39;49m\u001b[43mTABLE_NAME\u001b[49m\u001b[43m,\u001b[49m\u001b[43m \u001b[49m\u001b[43mn\u001b[49m\u001b[38;5;241;43m=\u001b[39;49m\u001b[43mn\u001b[49m\u001b[43m,\u001b[49m\n\u001b[1;32m     26\u001b[0m \u001b[43m                                                                 \u001b[49m\u001b[43mmulti_threads\u001b[49m\u001b[38;5;241;43m=\u001b[39;49m\u001b[43mmulti_threads\u001b[49m\u001b[43m,\u001b[49m\u001b[43m \u001b[49m\u001b[43mprint_to_console\u001b[49m\u001b[38;5;241;43m=\u001b[39;49m\u001b[43mprint_to_console\u001b[49m\u001b[43m)\u001b[49m\n",
      "File \u001b[0;32m~/Desktop/codes/xenon_generation_sft/venv/lib/python3.9/site-packages/sdwis_drink_water/api_for_table.py:270\u001b[0m, in \u001b[0;36mSdwisTable.get_table_first_n_data_by_table_name\u001b[0;34m(self, table_name, n, print_to_console, multi_threads)\u001b[0m\n\u001b[1;32m    268\u001b[0m threads\u001b[38;5;241m.\u001b[39mappend(thread)\n\u001b[1;32m    269\u001b[0m \u001b[38;5;28;01mif\u001b[39;00m i \u001b[38;5;241m>\u001b[39m \u001b[38;5;241m10\u001b[39m:\n\u001b[0;32m--> 270\u001b[0m     \u001b[43mtime\u001b[49m\u001b[38;5;241;43m.\u001b[39;49m\u001b[43msleep\u001b[49m\u001b[43m(\u001b[49m\u001b[38;5;241;43m2\u001b[39;49m\u001b[43m)\u001b[49m\n\u001b[1;32m    271\u001b[0m thread\u001b[38;5;241m.\u001b[39mstart()\n\u001b[1;32m    272\u001b[0m \u001b[38;5;28;01mif\u001b[39;00m \u001b[38;5;28mlen\u001b[39m(threads) \u001b[38;5;241m>\u001b[39m\u001b[38;5;241m=\u001b[39m \u001b[38;5;28mlen\u001b[39m(batches):\n",
      "\u001b[0;31mKeyboardInterrupt\u001b[0m: "
     ]
    }
   ],
   "source": [
    "water_system_data_number = water_system_api.get_table_data_number()\n",
    "all_water_system = water_system_api.get_table_first_n_data(n=water_system_data_number, multi_threads=True, print_to_console=False)\n",
    "# You can also just set n to a big number\n",
    "# all_water_system = water_system_api.get_table_first_n_data(n=99999999, multi_threads=True, print_to_console=False)\n",
    "all_water_system.export_data(\"./output_files/all_water_system.xlsx\", format_type=\"xlsx\")"
   ]
  },
  {
   "cell_type": "markdown",
   "id": "29dfa03cd46c52ca",
   "metadata": {
    "collapsed": false
   },
   "source": [
    "## fetch data from Water_System table by conditions"
   ]
  },
  {
   "cell_type": "code",
   "execution_count": 11,
   "id": "48b23f5f1374bf84",
   "metadata": {
    "ExecuteTime": {
     "end_time": "2023-12-14T16:45:20.536003Z",
     "start_time": "2023-12-14T16:45:20.495627Z"
    },
    "collapsed": false
   },
   "outputs": [
    {
     "data": {
      "text/plain": [
       "487"
      ]
     },
     "execution_count": 11,
     "metadata": {},
     "output_type": "execute_result"
    }
   ],
   "source": [
    "columbia_water_systems = water_system_api.get_water_system_data_by_conditions(\"city_name=columbia\", print_to_console=False)\n",
    "columbia_water_systems.count()"
   ]
  },
  {
   "cell_type": "markdown",
   "id": "cfae0ae59c4e1efb",
   "metadata": {
    "collapsed": false
   },
   "source": [
    "## get summarize data number according to epa_region"
   ]
  },
  {
   "cell_type": "code",
   "execution_count": 12,
   "id": "32a68e5fec1a7bfa",
   "metadata": {
    "ExecuteTime": {
     "end_time": "2023-12-14T16:46:52.578735Z",
     "start_time": "2023-12-14T16:46:47.328570Z"
    },
    "collapsed": false
   },
   "outputs": [
    {
     "name": "stderr",
     "output_type": "stream",
     "text": [
      "Fetching the total amount of data by EPA region from the WATER_SYSTEM data table: 100%|██████████| 10/10 [00:05<00:00,  1.91it/s]"
     ]
    },
    {
     "name": "stdout",
     "output_type": "stream",
     "text": [
      ">>>>>>>>>>>>>>>>>>>>>>>>>>>>>>>>>>>>>>>>>>>>>>>>>>>>>>>>>>>>>>>>>>>>>>>>>>>>>>>>>>>>>>>>>>>>>>>>>>>>\n",
      "┌─────────────────┬─────────────────────────────┐\n",
      "│   EPA_REGION_ID │   WATER_SYSTEM_TOTAL_NUMBER │\n",
      "├─────────────────┼─────────────────────────────┤\n",
      "│    EPA_REGION_1 │                       45508 │\n",
      "├─────────────────┼─────────────────────────────┤\n",
      "│    EPA_REGION_2 │                       67410 │\n",
      "├─────────────────┼─────────────────────────────┤\n",
      "│    EPA_REGION_3 │                       24074 │\n",
      "├─────────────────┼─────────────────────────────┤\n",
      "│    EPA_REGION_4 │                       33898 │\n",
      "├─────────────────┼─────────────────────────────┤\n",
      "│    EPA_REGION_5 │                       30931 │\n",
      "├─────────────────┼─────────────────────────────┤\n",
      "│    EPA_REGION_6 │                       15799 │\n",
      "├─────────────────┼─────────────────────────────┤\n",
      "│    EPA_REGION_7 │                       43325 │\n",
      "├─────────────────┼─────────────────────────────┤\n",
      "│    EPA_REGION_8 │                       25563 │\n",
      "├─────────────────┼─────────────────────────────┤\n",
      "│    EPA_REGION_9 │                       17077 │\n",
      "├─────────────────┼─────────────────────────────┤\n",
      "│   EPA_REGION_10 │                      125223 │\n",
      "└─────────────────┴─────────────────────────────┘\n",
      ">>>>>>>>>>>>>>>>>>>>>>>>>>>>>>>>>>>>>>>>>>>>>>>>>>>>>>>>>>>>>>>>>>>>>>>>>>>>>>>>>>>>>>>>>>>>>>>>>>>>\n"
     ]
    },
    {
     "name": "stderr",
     "output_type": "stream",
     "text": [
      "\n"
     ]
    }
   ],
   "source": [
    "water_system_api.summarize_water_system_data_by_epa_region(multi_threads=True, print_to_console=True)"
   ]
  },
  {
   "cell_type": "markdown",
   "id": "abb73ef29fa891f3",
   "metadata": {
    "collapsed": false
   },
   "source": [
    "## get data according to epa_region and export"
   ]
  },
  {
   "cell_type": "code",
   "execution_count": 18,
   "id": "140034ab20a05029",
   "metadata": {
    "ExecuteTime": {
     "end_time": "2023-12-14T16:51:07.345604Z",
     "start_time": "2023-12-14T16:50:46.261213Z"
    },
    "collapsed": false
   },
   "outputs": [
    {
     "name": "stderr",
     "output_type": "stream",
     "text": [
      "IOPub data rate exceeded.\n",
      "The Jupyter server will temporarily stop sending output\n",
      "to the client in order to avoid crashing it.\n",
      "To change this limit, set the config variable\n",
      "`--ServerApp.iopub_data_rate_limit`.\n",
      "\n",
      "Current values:\n",
      "ServerApp.iopub_data_rate_limit=1000000.0 (bytes/sec)\n",
      "ServerApp.rate_limit_window=3.0 (secs)\n",
      "\n"
     ]
    },
    {
     "name": "stdout",
     "output_type": "stream",
     "text": [
      "Data is successfully exported to ./output_files/Water System of EPA region 1.xlsx!\n"
     ]
    }
   ],
   "source": [
    "water_system_epa_1 = water_system_api.get_water_system_by_epa_region(epa_region=1, print_to_console=True)\n",
    "# export data to xlsx\n",
    "water_system_epa_1.export_data(\"./output_files/Water System of EPA region 1.xlsx\", format_type=\"xlsx\")"
   ]
  },
  {
   "cell_type": "markdown",
   "id": "c7cc69b1d6015b1b",
   "metadata": {
    "collapsed": false
   },
   "source": [
    "## Data Handle"
   ]
  },
  {
   "cell_type": "code",
   "execution_count": 24,
   "id": "1ab9f16d91c0ea1b",
   "metadata": {
    "ExecuteTime": {
     "end_time": "2023-12-14T16:53:11.885271Z",
     "start_time": "2023-12-14T16:53:11.591350Z"
    },
    "collapsed": false
   },
   "outputs": [
    {
     "data": {
      "application/vnd.jupyter.widget-view+json": {
       "model_id": "aab0d4a6524f4822807158387dcbdfd7",
       "version_major": 2,
       "version_minor": 0
      },
      "text/plain": [
       "Output(layout=Layout(width='100%'))"
      ]
     },
     "metadata": {},
     "output_type": "display_data"
    },
    {
     "name": "stdout",
     "output_type": "stream",
     "text": [
      "10112\n",
      "41\n",
      "25\n",
      "Data is successfully exported to ./output_files/water_system_epa_1_filtered_result.xlsx!\n"
     ]
    }
   ],
   "source": [
    "# print all keys to determine how to use this data\n",
    "sdwis_drink_water.utils_for_jupyter_print.print_columns(list(water_system_epa_1.get_all_keys()))\n",
    "\n",
    "# find by condition \"is_grant_eligible_ind==Y\"\n",
    "is_grant_eligible_ind = water_system_epa_1.find_by_condition(\"is_grant_eligible_ind=Y\")\n",
    "print(is_grant_eligible_ind.count())\n",
    "\n",
    "# find by condition \"is_wholesaler_ind==Y\"\n",
    "is_wholesaler_ind = water_system_epa_1.find_by_condition(\"is_wholesaler_ind=Y\")\n",
    "print(is_wholesaler_ind.count())\n",
    "\n",
    "# find by condition \"is_grant_eligible_ind==Y\" and \"is_wholesaler_ind==Y\"\n",
    "is_grant_eligible_ind_and_is_wholesaler_ind = is_grant_eligible_ind.find_by_condition(\"is_wholesaler_ind=Y\")\n",
    "print(is_grant_eligible_ind_and_is_wholesaler_ind.count())\n",
    "\n",
    "# export data to csv\n",
    "is_grant_eligible_ind_and_is_wholesaler_ind.export_data(\"./output_files/water_system_epa_1_filtered_result.xlsx\",\n",
    "                                                        format_type=\"xlsx\")"
   ]
  },
  {
   "cell_type": "markdown",
   "id": "d9fa49a662b8dc83",
   "metadata": {
    "collapsed": false
   },
   "source": []
  }
 ],
 "metadata": {
  "kernelspec": {
   "display_name": "Python 3 (ipykernel)",
   "language": "python",
   "name": "python3"
  },
  "language_info": {
   "codemirror_mode": {
    "name": "ipython",
    "version": 3
   },
   "file_extension": ".py",
   "mimetype": "text/x-python",
   "name": "python",
   "nbconvert_exporter": "python",
   "pygments_lexer": "ipython3",
   "version": "3.9.18"
  }
 },
 "nbformat": 4,
 "nbformat_minor": 5
}