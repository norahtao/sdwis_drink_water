{
 "cells": [
  {
   "cell_type": "markdown",
   "id": "af870ea56794fded",
   "metadata": {
    "collapsed": false
   },
   "source": [
    "# Example1: Working with SdwisTable\n",
    "We first initiate api"
   ]
  },
  {
   "cell_type": "code",
   "execution_count": 1,
   "id": "eca6b7aa49813a7c",
   "metadata": {
    "ExecuteTime": {
     "end_time": "2023-12-14T16:56:09.454558Z",
     "start_time": "2023-12-14T16:56:08.884461Z"
    },
    "collapsed": false
   },
   "outputs": [],
   "source": [
    "from sdwis_drink_water.api_for_table import SdwisTable\n",
    "# Due to the width limitation, I wrote some functions for outputting some results using an interactive scrollbar\n",
    "from sdwis_drink_water.utils_for_jupyter_print import print_columns, print_column_description, print_result_data\n",
    "\n",
    "# \"print_url=True\" here will cause subsequent queries to display the requested URL\n",
    "table_api = SdwisTable(print_url=False)"
   ]
  },
  {
   "cell_type": "markdown",
   "id": "25872f277d22b467",
   "metadata": {
    "collapsed": false
   },
   "source": [
    "## fetch all table names\n",
    "***\"print_to_console=True\"*** here causes all subsequent queries to be printed"
   ]
  },
  {
   "cell_type": "code",
   "execution_count": 2,
   "id": "52c75bc3b6e4b089",
   "metadata": {
    "ExecuteTime": {
     "end_time": "2023-12-14T16:56:09.454902Z",
     "start_time": "2023-12-14T16:56:09.453595Z"
    },
    "collapsed": false
   },
   "outputs": [
    {
     "name": "stdout",
     "output_type": "stream",
     "text": [
      ">>>>>>>>>>>>>>>>>>>>>>>>>>>>>>>>>>>>>>>>>>>>>>>>>>>>>>>>>>>>>>>>>>>>>>>>>>>>>>>>>>>>>>>>>>>>>>>>>>>>\n",
      "table_name\n",
      "---------------------\n",
      "ENFORCEMENT_ACTION\n",
      "GEOGRAPHIC_AREA\n",
      "LCR_SAMPLE_RESULT\n",
      "LCR_SAMPLE\n",
      "SERVICE_AREA\n",
      "TREATMENT\n",
      "WATER_SYSTEM\n",
      "WATER_SYSTEM_FACILITY\n",
      "VIOLATION\n",
      "VIOLATION_ENF_ASSOC\n",
      ">>>>>>>>>>>>>>>>>>>>>>>>>>>>>>>>>>>>>>>>>>>>>>>>>>>>>>>>>>>>>>>>>>>>>>>>>>>>>>>>>>>>>>>>>>>>>>>>>>>>\n"
     ]
    }
   ],
   "source": [
    "table_names = table_api.get_all_table_names(print_to_console=True)"
   ]
  },
  {
   "cell_type": "markdown",
   "id": "807b6ccbd0e2ed1e",
   "metadata": {
    "collapsed": false
   },
   "source": [
    "## fetch all table names with description (Crawl the latest information from the website)"
   ]
  },
  {
   "cell_type": "code",
   "execution_count": 3,
   "id": "28d1ecde853ea7c7",
   "metadata": {
    "ExecuteTime": {
     "end_time": "2023-12-14T16:56:16.318612Z",
     "start_time": "2023-12-14T16:56:09.456047Z"
    },
    "collapsed": false
   },
   "outputs": [
    {
     "name": "stderr",
     "output_type": "stream",
     "text": [
      "\r",
      "Fetching table descriptions from SDWIS Official Website:   0%|                                                                             | 0/10 [00:00<?, ?it/s]"
     ]
    },
    {
     "name": "stderr",
     "output_type": "stream",
     "text": [
      "\r",
      "Fetching table descriptions from SDWIS Official Website:  10%|██████▉                                                              | 1/10 [00:02<00:25,  2.82s/it]"
     ]
    },
    {
     "name": "stderr",
     "output_type": "stream",
     "text": [
      "\r",
      "Fetching table descriptions from SDWIS Official Website:  20%|█████████████▊                                                       | 2/10 [00:03<00:13,  1.63s/it]"
     ]
    },
    {
     "name": "stderr",
     "output_type": "stream",
     "text": [
      "\r",
      "Fetching table descriptions from SDWIS Official Website:  30%|████████████████████▋                                                | 3/10 [00:04<00:07,  1.09s/it]"
     ]
    },
    {
     "name": "stderr",
     "output_type": "stream",
     "text": [
      "\r",
      "Fetching table descriptions from SDWIS Official Website:  40%|███████████████████████████▌                                         | 4/10 [00:04<00:04,  1.22it/s]"
     ]
    },
    {
     "name": "stderr",
     "output_type": "stream",
     "text": [
      "\r",
      "Fetching table descriptions from SDWIS Official Website:  50%|██████████████████████████████████▌                                  | 5/10 [00:04<00:03,  1.47it/s]"
     ]
    },
    {
     "name": "stderr",
     "output_type": "stream",
     "text": [
      "\r",
      "Fetching table descriptions from SDWIS Official Website:  60%|█████████████████████████████████████████▍                           | 6/10 [00:05<00:02,  1.70it/s]"
     ]
    },
    {
     "name": "stderr",
     "output_type": "stream",
     "text": [
      "\r",
      "Fetching table descriptions from SDWIS Official Website:  70%|████████████████████████████████████████████████▎                    | 7/10 [00:05<00:01,  1.87it/s]"
     ]
    },
    {
     "name": "stderr",
     "output_type": "stream",
     "text": [
      "\r",
      "Fetching table descriptions from SDWIS Official Website:  80%|███████████████████████████████████████████████████████▏             | 8/10 [00:06<00:00,  2.02it/s]"
     ]
    },
    {
     "name": "stderr",
     "output_type": "stream",
     "text": [
      "\r",
      "Fetching table descriptions from SDWIS Official Website:  90%|██████████████████████████████████████████████████████████████       | 9/10 [00:06<00:00,  2.07it/s]"
     ]
    },
    {
     "name": "stderr",
     "output_type": "stream",
     "text": [
      "\r",
      "Fetching table descriptions from SDWIS Official Website: 100%|████████████████████████████████████████████████████████████████████| 10/10 [00:07<00:00,  2.03it/s]"
     ]
    },
    {
     "name": "stderr",
     "output_type": "stream",
     "text": [
      "\r",
      "Fetching table descriptions from SDWIS Official Website: 100%|████████████████████████████████████████████████████████████████████| 10/10 [00:07<00:00,  1.40it/s]"
     ]
    },
    {
     "name": "stderr",
     "output_type": "stream",
     "text": [
      "\n"
     ]
    },
    {
     "data": {
      "application/vnd.jupyter.widget-view+json": {
       "model_id": "f47f4f47ff614e2386874a831bbca4d5",
       "version_major": 2,
       "version_minor": 0
      },
      "text/plain": [
       "Output(layout=Layout(width='100%'))"
      ]
     },
     "metadata": {},
     "output_type": "display_data"
    }
   ],
   "source": [
    "table_names_and_descriptions = table_api.get_all_table_names_and_descriptions(print_to_console=False);\n",
    "print_column_description(table_names_and_descriptions)"
   ]
  },
  {
   "cell_type": "markdown",
   "id": "d625adbe390bed59",
   "metadata": {
    "collapsed": false
   },
   "source": [
    "## fetch structure for specific table name"
   ]
  },
  {
   "cell_type": "code",
   "execution_count": 4,
   "id": "e26608077a2a0916",
   "metadata": {
    "ExecuteTime": {
     "end_time": "2023-12-14T16:56:35.701926Z",
     "start_time": "2023-12-14T16:56:16.320129Z"
    },
    "collapsed": false
   },
   "outputs": [
    {
     "name": "stdout",
     "output_type": "stream",
     "text": [
      "======ENFORCEMENT_ACTION======\n"
     ]
    },
    {
     "data": {
      "application/vnd.jupyter.widget-view+json": {
       "model_id": "2e2b6abf99c84157a760f6e2a8454d10",
       "version_major": 2,
       "version_minor": 0
      },
      "text/plain": [
       "Output(layout=Layout(width='100%'))"
      ]
     },
     "metadata": {},
     "output_type": "display_data"
    },
    {
     "name": "stdout",
     "output_type": "stream",
     "text": [
      "======GEOGRAPHIC_AREA======\n"
     ]
    },
    {
     "data": {
      "application/vnd.jupyter.widget-view+json": {
       "model_id": "db35af8b9499483597338780d9e61514",
       "version_major": 2,
       "version_minor": 0
      },
      "text/plain": [
       "Output(layout=Layout(width='100%'))"
      ]
     },
     "metadata": {},
     "output_type": "display_data"
    },
    {
     "name": "stdout",
     "output_type": "stream",
     "text": [
      "======LCR_SAMPLE_RESULT======\n"
     ]
    },
    {
     "data": {
      "application/vnd.jupyter.widget-view+json": {
       "model_id": "73cc793f2805451ca973462e065fa0b1",
       "version_major": 2,
       "version_minor": 0
      },
      "text/plain": [
       "Output(layout=Layout(width='100%'))"
      ]
     },
     "metadata": {},
     "output_type": "display_data"
    },
    {
     "name": "stdout",
     "output_type": "stream",
     "text": [
      "======LCR_SAMPLE======\n"
     ]
    },
    {
     "data": {
      "application/vnd.jupyter.widget-view+json": {
       "model_id": "81dcebeefa2e4495b48083400ad6239d",
       "version_major": 2,
       "version_minor": 0
      },
      "text/plain": [
       "Output(layout=Layout(width='100%'))"
      ]
     },
     "metadata": {},
     "output_type": "display_data"
    },
    {
     "name": "stdout",
     "output_type": "stream",
     "text": [
      "======SERVICE_AREA======\n"
     ]
    },
    {
     "data": {
      "application/vnd.jupyter.widget-view+json": {
       "model_id": "ef02b9e2af7e458888659da81f24d0f1",
       "version_major": 2,
       "version_minor": 0
      },
      "text/plain": [
       "Output(layout=Layout(width='100%'))"
      ]
     },
     "metadata": {},
     "output_type": "display_data"
    },
    {
     "name": "stdout",
     "output_type": "stream",
     "text": [
      "======TREATMENT======\n"
     ]
    },
    {
     "data": {
      "application/vnd.jupyter.widget-view+json": {
       "model_id": "d265a97fdbbd42f4bac9eea94fc4afb7",
       "version_major": 2,
       "version_minor": 0
      },
      "text/plain": [
       "Output(layout=Layout(width='100%'))"
      ]
     },
     "metadata": {},
     "output_type": "display_data"
    },
    {
     "name": "stdout",
     "output_type": "stream",
     "text": [
      "======WATER_SYSTEM======\n"
     ]
    },
    {
     "data": {
      "application/vnd.jupyter.widget-view+json": {
       "model_id": "e7598a44ab35490e9b3bcd0aa48456c2",
       "version_major": 2,
       "version_minor": 0
      },
      "text/plain": [
       "Output(layout=Layout(width='100%'))"
      ]
     },
     "metadata": {},
     "output_type": "display_data"
    },
    {
     "name": "stdout",
     "output_type": "stream",
     "text": [
      "======WATER_SYSTEM_FACILITY======\n"
     ]
    },
    {
     "data": {
      "application/vnd.jupyter.widget-view+json": {
       "model_id": "57541954867b479a9b512b2df5e01879",
       "version_major": 2,
       "version_minor": 0
      },
      "text/plain": [
       "Output(layout=Layout(width='100%'))"
      ]
     },
     "metadata": {},
     "output_type": "display_data"
    },
    {
     "name": "stdout",
     "output_type": "stream",
     "text": [
      "======VIOLATION======\n"
     ]
    },
    {
     "data": {
      "application/vnd.jupyter.widget-view+json": {
       "model_id": "bc47b695c5f14804baa06c2fbbb2faad",
       "version_major": 2,
       "version_minor": 0
      },
      "text/plain": [
       "Output(layout=Layout(width='100%'))"
      ]
     },
     "metadata": {},
     "output_type": "display_data"
    },
    {
     "name": "stdout",
     "output_type": "stream",
     "text": [
      "======VIOLATION_ENF_ASSOC======\n"
     ]
    },
    {
     "data": {
      "application/vnd.jupyter.widget-view+json": {
       "model_id": "57cfb8837dd64c8cbc68d6f460dc50d8",
       "version_major": 2,
       "version_minor": 0
      },
      "text/plain": [
       "Output(layout=Layout(width='100%'))"
      ]
     },
     "metadata": {},
     "output_type": "display_data"
    }
   ],
   "source": [
    "for table_name in table_names:\n",
    "    print(f\"======{table_name}======\")\n",
    "    columns = table_api.get_table_column_name_by_table_name(table_name=table_name, print_to_console=False)\n",
    "    print_columns(columns)"
   ]
  },
  {
   "cell_type": "markdown",
   "id": "ee3eee69edd74928",
   "metadata": {
    "collapsed": false
   },
   "source": [
    "## fetch first data for specific table name"
   ]
  },
  {
   "cell_type": "code",
   "execution_count": 5,
   "id": "7c3c278de5b850c9",
   "metadata": {
    "ExecuteTime": {
     "end_time": "2023-12-14T16:56:35.715456Z",
     "start_time": "2023-12-14T16:56:35.706568Z"
    },
    "collapsed": false
   },
   "outputs": [
    {
     "name": "stdout",
     "output_type": "stream",
     "text": [
      "======LCR_SAMPLE======\n",
      "┌───────────┬─────────────────┬─────────────────────┬───────────────────────┬─────────────────────┬───────────────────────┬──────────────┐\n",
      "│     pwsid │       sample_id │ sampling_end_date   │ sampling_start_date   │ reconciliation_id   │   primacy_agency_code │   epa_region │\n",
      "├───────────┼─────────────────┼─────────────────────┼───────────────────────┼─────────────────────┼───────────────────────┼──────────────┤\n",
      "│ 010106001 │ 010106001171002 │ 2019-12-31 00:00:00 │ 2017-01-01 00:00:00   │                     │                    01 │           01 │\n",
      "└───────────┴─────────────────┴─────────────────────┴───────────────────────┴─────────────────────┴───────────────────────┴──────────────┘\n"
     ]
    },
    {
     "data": {
      "text/plain": [
       "<sdwis_drink_water.data_praser.ResultDataParser at 0x107901430>"
      ]
     },
     "execution_count": 5,
     "metadata": {},
     "output_type": "execute_result"
    }
   ],
   "source": [
    "print(f\"======{table_names[3]}======\")\n",
    "table_api.get_table_first_data_by_table_name(table_name=table_names[3], print_to_console=True)"
   ]
  },
  {
   "cell_type": "markdown",
   "id": "281207c6361d1f9a",
   "metadata": {
    "collapsed": false
   },
   "source": [
    "## fetch first n for specific table name"
   ]
  },
  {
   "cell_type": "code",
   "execution_count": 6,
   "id": "f7279b7ca2016b8",
   "metadata": {
    "ExecuteTime": {
     "end_time": "2023-12-14T16:56:38.552202Z",
     "start_time": "2023-12-14T16:56:35.714667Z"
    },
    "collapsed": false
   },
   "outputs": [
    {
     "name": "stdout",
     "output_type": "stream",
     "text": [
      "======LCR_SAMPLE======\n"
     ]
    },
    {
     "name": "stdout",
     "output_type": "stream",
     "text": [
      "┌───────────┬─────────────────┬─────────────────────┬───────────────────────┬─────────────────────┬───────────────────────┬──────────────┐\n",
      "│     pwsid │       sample_id │ sampling_end_date   │ sampling_start_date   │ reconciliation_id   │   primacy_agency_code │   epa_region │\n",
      "├───────────┼─────────────────┼─────────────────────┼───────────────────────┼─────────────────────┼───────────────────────┼──────────────┤\n",
      "│ 010106001 │ 010106001171002 │ 2019-12-31 00:00:00 │ 2017-01-01 00:00:00   │                     │                    01 │           01 │\n",
      "├───────────┼─────────────────┼─────────────────────┼───────────────────────┼─────────────────────┼───────────────────────┼──────────────┤\n",
      "│ 010106001 │  01010600117136 │ 2013-12-31 00:00:00 │ 2011-01-01 00:00:00   │                     │                    01 │           01 │\n",
      "├───────────┼─────────────────┼─────────────────────┼───────────────────────┼─────────────────────┼───────────────────────┼──────────────┤\n",
      "│ 010106001 │  01010600117137 │ 2013-12-31 00:00:00 │ 2011-01-01 00:00:00   │                     │                    01 │           01 │\n",
      "├───────────┼─────────────────┼─────────────────────┼───────────────────────┼─────────────────────┼───────────────────────┼──────────────┤\n",
      "│ 010106001 │ 010106001171409 │ 2022-12-31 00:00:00 │ 2020-01-01 00:00:00   │                     │                    01 │           01 │\n",
      "├───────────┼─────────────────┼─────────────────────┼───────────────────────┼─────────────────────┼───────────────────────┼──────────────┤\n",
      "│ 010106001 │  01010600117711 │ 2016-12-31 00:00:00 │ 2014-01-01 00:00:00   │                     │                    01 │           01 │\n",
      "└───────────┴─────────────────┴─────────────────────┴───────────────────────┴─────────────────────┴───────────────────────┴──────────────┘\n"
     ]
    },
    {
     "data": {
      "text/plain": [
       "<sdwis_drink_water.data_praser.ResultDataParser at 0x13aca03d0>"
      ]
     },
     "execution_count": 6,
     "metadata": {},
     "output_type": "execute_result"
    }
   ],
   "source": [
    "print(f\"======{table_names[3]}======\")\n",
    "table_api.get_table_first_n_data_by_table_name(table_name=table_names[3], n=5, print_to_console=True)"
   ]
  }
 ],
 "metadata": {
  "kernelspec": {
   "display_name": "Python 3 (ipykernel)",
   "language": "python",
   "name": "python3"
  },
  "language_info": {
   "codemirror_mode": {
    "name": "ipython",
    "version": 3
   },
   "file_extension": ".py",
   "mimetype": "text/x-python",
   "name": "python",
   "nbconvert_exporter": "python",
   "pygments_lexer": "ipython3",
   "version": "3.9.18"
  },
  "widgets": {
   "application/vnd.jupyter.widget-state+json": {
    "state": {
     "04fc97c863484651b496e9951f2a3844": {
      "model_module": "@jupyter-widgets/base",
      "model_module_version": "2.0.0",
      "model_name": "LayoutModel",
      "state": {
       "_model_module": "@jupyter-widgets/base",
       "_model_module_version": "2.0.0",
       "_model_name": "LayoutModel",
       "_view_count": null,
       "_view_module": "@jupyter-widgets/base",
       "_view_module_version": "2.0.0",
       "_view_name": "LayoutView",
       "align_content": null,
       "align_items": null,
       "align_self": null,
       "border_bottom": null,
       "border_left": null,
       "border_right": null,
       "border_top": null,
       "bottom": null,
       "display": null,
       "flex": null,
       "flex_flow": null,
       "grid_area": null,
       "grid_auto_columns": null,
       "grid_auto_flow": null,
       "grid_auto_rows": null,
       "grid_column": null,
       "grid_gap": null,
       "grid_row": null,
       "grid_template_areas": null,
       "grid_template_columns": null,
       "grid_template_rows": null,
       "height": null,
       "justify_content": null,
       "justify_items": null,
       "left": null,
       "margin": null,
       "max_height": null,
       "max_width": null,
       "min_height": null,
       "min_width": null,
       "object_fit": null,
       "object_position": null,
       "order": null,
       "overflow": null,
       "padding": null,
       "right": null,
       "top": null,
       "visibility": null,
       "width": null
      }
     },
     "0cf5867f7a2541c49816efa08a4daa87": {
      "model_module": "@jupyter-widgets/controls",
      "model_module_version": "2.0.0",
      "model_name": "HTMLStyleModel",
      "state": {
       "_model_module": "@jupyter-widgets/controls",
       "_model_module_version": "2.0.0",
       "_model_name": "HTMLStyleModel",
       "_view_count": null,
       "_view_module": "@jupyter-widgets/base",
       "_view_module_version": "2.0.0",
       "_view_name": "StyleView",
       "background": null,
       "description_width": "",
       "font_size": null,
       "text_color": null
      }
     },
     "0d3bfefb7f46495283c331e863413f42": {
      "model_module": "@jupyter-widgets/controls",
      "model_module_version": "2.0.0",
      "model_name": "HTMLModel",
      "state": {
       "_dom_classes": [],
       "_model_module": "@jupyter-widgets/controls",
       "_model_module_version": "2.0.0",
       "_model_name": "HTMLModel",
       "_view_count": null,
       "_view_module": "@jupyter-widgets/controls",
       "_view_module_version": "2.0.0",
       "_view_name": "HTMLView",
       "description": "",
       "description_allow_html": false,
       "layout": "IPY_MODEL_6f07fdd9de464521941df820339e93ec",
       "placeholder": "​",
       "style": "IPY_MODEL_2e1cb031274248e3b69ecded9eb51950",
       "tabbable": null,
       "tooltip": null,
       "value": "<pre>┌────────────┬────────────┬─────────────────────┬────────────┬───────────────────┬───────────────┬─────────────┬──────────────┬──────────────────┬─────────────────┬─────────────┬────────────────┬───────────────┐\n│   COLUMN_1 │   COLUMN_2 │            COLUMN_3 │   COLUMN_4 │          COLUMN_5 │      COLUMN_6 │    COLUMN_7 │     COLUMN_8 │         COLUMN_9 │       COLUMN_10 │   COLUMN_11 │      COLUMN_12 │     COLUMN_13 │\n├────────────┼────────────┼─────────────────────┼────────────┼───────────────────┼───────────────┼─────────────┼──────────────┼──────────────────┼─────────────────┼─────────────┼────────────────┼───────────────┤\n│      pwsid │     geo_id │ primacy_agency_code │ epa_region │ pws_activity_code │ pws_type_code │ tribal_code │ state_served │ ansi_entity_code │ zip_code_served │ city_served │ area_type_code │ county_served │\n└────────────┴────────────┴─────────────────────┴────────────┴───────────────────┴───────────────┴─────────────┴──────────────┴──────────────────┴─────────────────┴─────────────┴────────────────┴───────────────┘</pre>"
      }
     },
     "15b8a51c690f4289b0ebc0eb79416e4a": {
      "model_module": "@jupyter-widgets/controls",
      "model_module_version": "2.0.0",
      "model_name": "HTMLModel",
      "state": {
       "_dom_classes": [],
       "_model_module": "@jupyter-widgets/controls",
       "_model_module_version": "2.0.0",
       "_model_name": "HTMLModel",
       "_view_count": null,
       "_view_module": "@jupyter-widgets/controls",
       "_view_module_version": "2.0.0",
       "_view_name": "HTMLView",
       "description": "",
       "description_allow_html": false,
       "layout": "IPY_MODEL_f12ba0ec1ba44b7ab560ae39138036e0",
       "placeholder": "​",
       "style": "IPY_MODEL_24cbc3a670564591a4703118524f2d30",
       "tabbable": null,
       "tooltip": null,
       "value": "<pre>┌────────────┬──────────────┬─────────────┬─────────────────────────┬───────────────┬───────────────────┬───────────────────────┬─────────────────────┬────────────────┬─────────────────────┬─────────────┬───────────────┬────────────────┬─────────────────────────┬─────────────────────┬──────────────────┬────────────────────────┬──────────────┬─────────────────┬─────────────┬───────────────────┬──────────────────┬──────────────────────┬────────────────────┬───────────────────────┬────────────────────┬─────────────┬──────────────────────────┬─────────────────┬──────────────────┬──────────────────────┬─────────────┬─────────────────┬──────────────────┐\n│   COLUMN_1 │     COLUMN_2 │    COLUMN_3 │                COLUMN_4 │      COLUMN_5 │          COLUMN_6 │              COLUMN_7 │            COLUMN_8 │       COLUMN_9 │           COLUMN_10 │   COLUMN_11 │     COLUMN_12 │      COLUMN_13 │               COLUMN_14 │           COLUMN_15 │        COLUMN_16 │              COLUMN_17 │    COLUMN_18 │       COLUMN_19 │   COLUMN_20 │         COLUMN_21 │        COLUMN_22 │            COLUMN_23 │          COLUMN_24 │             COLUMN_25 │          COLUMN_26 │   COLUMN_27 │                COLUMN_28 │       COLUMN_29 │        COLUMN_30 │            COLUMN_31 │   COLUMN_32 │       COLUMN_33 │        COLUMN_34 │\n├────────────┼──────────────┼─────────────┼─────────────────────────┼───────────────┼───────────────────┼───────────────────────┼─────────────────────┼────────────────┼─────────────────────┼─────────────┼───────────────┼────────────────┼─────────────────────────┼─────────────────────┼──────────────────┼────────────────────────┼──────────────┼─────────────────┼─────────────┼───────────────────┼──────────────────┼──────────────────────┼────────────────────┼───────────────────────┼────────────────────┼─────────────┼──────────────────────────┼─────────────────┼──────────────────┼──────────────────────┼─────────────┼─────────────────┼──────────────────┤\n│      pwsid │ violation_id │ facility_id │ population_served_count │ npm_candidate │ pws_activity_code │ pws_deactivation_date │ primary_source_code │ pop_cat_5_code │ primacy_agency_code │  epa_region │ pws_type_code │ violation_code │ violation_category_code │ is_health_based_ind │ contaminant_code │ compliance_status_code │ viol_measure │ unit_of_measure │   state_mcl │ is_major_viol_ind │ severity_ind_cnt │ compl_per_begin_date │ compl_per_end_date │ latest_enforcement_id │ rtc_enforcement_id │    rtc_date │ public_notification_tier │ originator_code │ sample_result_id │ corrective_action_id │   rule_code │ rule_group_code │ rule_family_code │\n└────────────┴──────────────┴─────────────┴─────────────────────────┴───────────────┴───────────────────┴───────────────────────┴─────────────────────┴────────────────┴─────────────────────┴─────────────┴───────────────┴────────────────┴─────────────────────────┴─────────────────────┴──────────────────┴────────────────────────┴──────────────┴─────────────────┴─────────────┴───────────────────┴──────────────────┴──────────────────────┴────────────────────┴───────────────────────┴────────────────────┴─────────────┴──────────────────────────┴─────────────────┴──────────────────┴──────────────────────┴─────────────┴─────────────────┴──────────────────┘</pre>"
      }
     },
     "24cbc3a670564591a4703118524f2d30": {
      "model_module": "@jupyter-widgets/controls",
      "model_module_version": "2.0.0",
      "model_name": "HTMLStyleModel",
      "state": {
       "_model_module": "@jupyter-widgets/controls",
       "_model_module_version": "2.0.0",
       "_model_name": "HTMLStyleModel",
       "_view_count": null,
       "_view_module": "@jupyter-widgets/base",
       "_view_module_version": "2.0.0",
       "_view_name": "StyleView",
       "background": null,
       "description_width": "",
       "font_size": null,
       "text_color": null
      }
     },
     "2937f998a8004713b38ebf3b0b52e7f9": {
      "model_module": "@jupyter-widgets/base",
      "model_module_version": "2.0.0",
      "model_name": "LayoutModel",
      "state": {
       "_model_module": "@jupyter-widgets/base",
       "_model_module_version": "2.0.0",
       "_model_name": "LayoutModel",
       "_view_count": null,
       "_view_module": "@jupyter-widgets/base",
       "_view_module_version": "2.0.0",
       "_view_name": "LayoutView",
       "align_content": null,
       "align_items": null,
       "align_self": null,
       "border_bottom": null,
       "border_left": null,
       "border_right": null,
       "border_top": null,
       "bottom": null,
       "display": null,
       "flex": null,
       "flex_flow": null,
       "grid_area": null,
       "grid_auto_columns": null,
       "grid_auto_flow": null,
       "grid_auto_rows": null,
       "grid_column": null,
       "grid_gap": null,
       "grid_row": null,
       "grid_template_areas": null,
       "grid_template_columns": null,
       "grid_template_rows": null,
       "height": null,
       "justify_content": null,
       "justify_items": null,
       "left": null,
       "margin": null,
       "max_height": null,
       "max_width": null,
       "min_height": null,
       "min_width": null,
       "object_fit": null,
       "object_position": null,
       "order": null,
       "overflow": null,
       "padding": null,
       "right": null,
       "top": null,
       "visibility": null,
       "width": "100%"
      }
     },
     "2a3a4baa29bc42a19bd8452ecff5a9e8": {
      "model_module": "@jupyter-widgets/controls",
      "model_module_version": "2.0.0",
      "model_name": "HTMLModel",
      "state": {
       "_dom_classes": [],
       "_model_module": "@jupyter-widgets/controls",
       "_model_module_version": "2.0.0",
       "_model_name": "HTMLModel",
       "_view_count": null,
       "_view_module": "@jupyter-widgets/controls",
       "_view_module_version": "2.0.0",
       "_view_name": "HTMLView",
       "description": "",
       "description_allow_html": false,
       "layout": "IPY_MODEL_bbe493f9a6f64d1aa21cdfad59b6b515",
       "placeholder": "​",
       "style": "IPY_MODEL_6284c2a37a6b4840b76b6b27707106c4",
       "tabbable": null,
       "tooltip": null,
       "value": "<pre>┌────────────┬─────────────┬──────────────┬───────────────┬──────────────────────────┬────────────────────────┐\n│   COLUMN_1 │    COLUMN_2 │     COLUMN_3 │      COLUMN_4 │                 COLUMN_5 │               COLUMN_6 │\n├────────────┼─────────────┼──────────────┼───────────────┼──────────────────────────┼────────────────────────┤\n│      pwsid │ facility_id │ treatment_id │ comments_text │ treatment_objective_code │ treatment_process_code │\n└────────────┴─────────────┴──────────────┴───────────────┴──────────────────────────┴────────────────────────┘</pre>"
      }
     },
     "2e1cb031274248e3b69ecded9eb51950": {
      "model_module": "@jupyter-widgets/controls",
      "model_module_version": "2.0.0",
      "model_name": "HTMLStyleModel",
      "state": {
       "_model_module": "@jupyter-widgets/controls",
       "_model_module_version": "2.0.0",
       "_model_name": "HTMLStyleModel",
       "_view_count": null,
       "_view_module": "@jupyter-widgets/base",
       "_view_module_version": "2.0.0",
       "_view_name": "StyleView",
       "background": null,
       "description_width": "",
       "font_size": null,
       "text_color": null
      }
     },
     "2e2b6abf99c84157a760f6e2a8454d10": {
      "model_module": "@jupyter-widgets/output",
      "model_module_version": "1.0.0",
      "model_name": "OutputModel",
      "state": {
       "_dom_classes": [],
       "_model_module": "@jupyter-widgets/output",
       "_model_module_version": "1.0.0",
       "_model_name": "OutputModel",
       "_view_count": null,
       "_view_module": "@jupyter-widgets/output",
       "_view_module_version": "1.0.0",
       "_view_name": "OutputView",
       "layout": "IPY_MODEL_e962b4dc046c4337b7a02e52b1b5046c",
       "msg_id": "",
       "outputs": [
        {
         "data": {
          "application/vnd.jupyter.widget-view+json": {
           "model_id": "5e5d6d515418442193fe73f5b36862b0",
           "version_major": 2,
           "version_minor": 0
          },
          "text/plain": "HTML(value='<pre>┌────────────┬────────────────┬─────────────────┬──────────────────┬─────────────────────────…"
         },
         "metadata": {},
         "output_type": "display_data"
        }
       ],
       "tabbable": null,
       "tooltip": null
      }
     },
     "34fd8442331349938ec33022c1ed9810": {
      "model_module": "@jupyter-widgets/base",
      "model_module_version": "2.0.0",
      "model_name": "LayoutModel",
      "state": {
       "_model_module": "@jupyter-widgets/base",
       "_model_module_version": "2.0.0",
       "_model_name": "LayoutModel",
       "_view_count": null,
       "_view_module": "@jupyter-widgets/base",
       "_view_module_version": "2.0.0",
       "_view_name": "LayoutView",
       "align_content": null,
       "align_items": null,
       "align_self": null,
       "border_bottom": null,
       "border_left": null,
       "border_right": null,
       "border_top": null,
       "bottom": null,
       "display": null,
       "flex": null,
       "flex_flow": null,
       "grid_area": null,
       "grid_auto_columns": null,
       "grid_auto_flow": null,
       "grid_auto_rows": null,
       "grid_column": null,
       "grid_gap": null,
       "grid_row": null,
       "grid_template_areas": null,
       "grid_template_columns": null,
       "grid_template_rows": null,
       "height": null,
       "justify_content": null,
       "justify_items": null,
       "left": null,
       "margin": null,
       "max_height": null,
       "max_width": null,
       "min_height": null,
       "min_width": null,
       "object_fit": null,
       "object_position": null,
       "order": null,
       "overflow": null,
       "padding": null,
       "right": null,
       "top": null,
       "visibility": null,
       "width": "100%"
      }
     },
     "409a08415c1048cc88b1a9b404766789": {
      "model_module": "@jupyter-widgets/base",
      "model_module_version": "2.0.0",
      "model_name": "LayoutModel",
      "state": {
       "_model_module": "@jupyter-widgets/base",
       "_model_module_version": "2.0.0",
       "_model_name": "LayoutModel",
       "_view_count": null,
       "_view_module": "@jupyter-widgets/base",
       "_view_module_version": "2.0.0",
       "_view_name": "LayoutView",
       "align_content": null,
       "align_items": null,
       "align_self": null,
       "border_bottom": null,
       "border_left": null,
       "border_right": null,
       "border_top": null,
       "bottom": null,
       "display": null,
       "flex": null,
       "flex_flow": null,
       "grid_area": null,
       "grid_auto_columns": null,
       "grid_auto_flow": null,
       "grid_auto_rows": null,
       "grid_column": null,
       "grid_gap": null,
       "grid_row": null,
       "grid_template_areas": null,
       "grid_template_columns": null,
       "grid_template_rows": null,
       "height": null,
       "justify_content": null,
       "justify_items": null,
       "left": null,
       "margin": null,
       "max_height": null,
       "max_width": null,
       "min_height": null,
       "min_width": null,
       "object_fit": null,
       "object_position": null,
       "order": null,
       "overflow": null,
       "padding": null,
       "right": null,
       "top": null,
       "visibility": null,
       "width": "100%"
      }
     },
     "4217720ad4db4aed80c20a65c4bd469e": {
      "model_module": "@jupyter-widgets/base",
      "model_module_version": "2.0.0",
      "model_name": "LayoutModel",
      "state": {
       "_model_module": "@jupyter-widgets/base",
       "_model_module_version": "2.0.0",
       "_model_name": "LayoutModel",
       "_view_count": null,
       "_view_module": "@jupyter-widgets/base",
       "_view_module_version": "2.0.0",
       "_view_name": "LayoutView",
       "align_content": null,
       "align_items": null,
       "align_self": null,
       "border_bottom": null,
       "border_left": null,
       "border_right": null,
       "border_top": null,
       "bottom": null,
       "display": null,
       "flex": null,
       "flex_flow": null,
       "grid_area": null,
       "grid_auto_columns": null,
       "grid_auto_flow": null,
       "grid_auto_rows": null,
       "grid_column": null,
       "grid_gap": null,
       "grid_row": null,
       "grid_template_areas": null,
       "grid_template_columns": null,
       "grid_template_rows": null,
       "height": null,
       "justify_content": null,
       "justify_items": null,
       "left": null,
       "margin": null,
       "max_height": null,
       "max_width": null,
       "min_height": null,
       "min_width": null,
       "object_fit": null,
       "object_position": null,
       "order": null,
       "overflow": null,
       "padding": null,
       "right": null,
       "top": null,
       "visibility": null,
       "width": "100%"
      }
     },
     "42c4d9e917dd402b8c75ebdf861171b2": {
      "model_module": "@jupyter-widgets/base",
      "model_module_version": "2.0.0",
      "model_name": "LayoutModel",
      "state": {
       "_model_module": "@jupyter-widgets/base",
       "_model_module_version": "2.0.0",
       "_model_name": "LayoutModel",
       "_view_count": null,
       "_view_module": "@jupyter-widgets/base",
       "_view_module_version": "2.0.0",
       "_view_name": "LayoutView",
       "align_content": null,
       "align_items": null,
       "align_self": null,
       "border_bottom": null,
       "border_left": null,
       "border_right": null,
       "border_top": null,
       "bottom": null,
       "display": null,
       "flex": null,
       "flex_flow": null,
       "grid_area": null,
       "grid_auto_columns": null,
       "grid_auto_flow": null,
       "grid_auto_rows": null,
       "grid_column": null,
       "grid_gap": null,
       "grid_row": null,
       "grid_template_areas": null,
       "grid_template_columns": null,
       "grid_template_rows": null,
       "height": null,
       "justify_content": null,
       "justify_items": null,
       "left": null,
       "margin": null,
       "max_height": null,
       "max_width": null,
       "min_height": null,
       "min_width": null,
       "object_fit": null,
       "object_position": null,
       "order": null,
       "overflow": null,
       "padding": null,
       "right": null,
       "top": null,
       "visibility": null,
       "width": null
      }
     },
     "50497402b2904e6895b77979c8ae00fa": {
      "model_module": "@jupyter-widgets/controls",
      "model_module_version": "2.0.0",
      "model_name": "HTMLStyleModel",
      "state": {
       "_model_module": "@jupyter-widgets/controls",
       "_model_module_version": "2.0.0",
       "_model_name": "HTMLStyleModel",
       "_view_count": null,
       "_view_module": "@jupyter-widgets/base",
       "_view_module_version": "2.0.0",
       "_view_name": "StyleView",
       "background": null,
       "description_width": "",
       "font_size": null,
       "text_color": null
      }
     },
     "542d23cfc31e4a808605a81667f5df06": {
      "model_module": "@jupyter-widgets/controls",
      "model_module_version": "2.0.0",
      "model_name": "HTMLStyleModel",
      "state": {
       "_model_module": "@jupyter-widgets/controls",
       "_model_module_version": "2.0.0",
       "_model_name": "HTMLStyleModel",
       "_view_count": null,
       "_view_module": "@jupyter-widgets/base",
       "_view_module_version": "2.0.0",
       "_view_name": "StyleView",
       "background": null,
       "description_width": "",
       "font_size": null,
       "text_color": null
      }
     },
     "57541954867b479a9b512b2df5e01879": {
      "model_module": "@jupyter-widgets/output",
      "model_module_version": "1.0.0",
      "model_name": "OutputModel",
      "state": {
       "_dom_classes": [],
       "_model_module": "@jupyter-widgets/output",
       "_model_module_version": "1.0.0",
       "_model_name": "OutputModel",
       "_view_count": null,
       "_view_module": "@jupyter-widgets/output",
       "_view_module_version": "1.0.0",
       "_view_name": "OutputView",
       "layout": "IPY_MODEL_ad838b5f546c4a12b3b58442b01b39b2",
       "msg_id": "",
       "outputs": [
        {
         "data": {
          "application/vnd.jupyter.widget-view+json": {
           "model_id": "f5e6684833fc48789e9e9dad9cf918ca",
           "version_major": 2,
           "version_minor": 0
          },
          "text/plain": "HTML(value='<pre>┌────────────┬─────────────────────┬────────────┬─────────────┬───────────────┬──────────────…"
         },
         "metadata": {},
         "output_type": "display_data"
        }
       ],
       "tabbable": null,
       "tooltip": null
      }
     },
     "57cfb8837dd64c8cbc68d6f460dc50d8": {
      "model_module": "@jupyter-widgets/output",
      "model_module_version": "1.0.0",
      "model_name": "OutputModel",
      "state": {
       "_dom_classes": [],
       "_model_module": "@jupyter-widgets/output",
       "_model_module_version": "1.0.0",
       "_model_name": "OutputModel",
       "_view_count": null,
       "_view_module": "@jupyter-widgets/output",
       "_view_module_version": "1.0.0",
       "_view_name": "OutputView",
       "layout": "IPY_MODEL_409a08415c1048cc88b1a9b404766789",
       "msg_id": "",
       "outputs": [
        {
         "data": {
          "application/vnd.jupyter.widget-view+json": {
           "model_id": "7671839a0c484ff6a3eab63e3b012281",
           "version_major": 2,
           "version_minor": 0
          },
          "text/plain": "HTML(value='<pre>┌───────────────────────┬────────────────┬───────────────────┬────────────┬────────────────┬─…"
         },
         "metadata": {},
         "output_type": "display_data"
        }
       ],
       "tabbable": null,
       "tooltip": null
      }
     },
     "5a9f6a1017bd46a390fb0276dd59069c": {
      "model_module": "@jupyter-widgets/base",
      "model_module_version": "2.0.0",
      "model_name": "LayoutModel",
      "state": {
       "_model_module": "@jupyter-widgets/base",
       "_model_module_version": "2.0.0",
       "_model_name": "LayoutModel",
       "_view_count": null,
       "_view_module": "@jupyter-widgets/base",
       "_view_module_version": "2.0.0",
       "_view_name": "LayoutView",
       "align_content": null,
       "align_items": null,
       "align_self": null,
       "border_bottom": null,
       "border_left": null,
       "border_right": null,
       "border_top": null,
       "bottom": null,
       "display": null,
       "flex": null,
       "flex_flow": null,
       "grid_area": null,
       "grid_auto_columns": null,
       "grid_auto_flow": null,
       "grid_auto_rows": null,
       "grid_column": null,
       "grid_gap": null,
       "grid_row": null,
       "grid_template_areas": null,
       "grid_template_columns": null,
       "grid_template_rows": null,
       "height": null,
       "justify_content": null,
       "justify_items": null,
       "left": null,
       "margin": null,
       "max_height": null,
       "max_width": null,
       "min_height": null,
       "min_width": null,
       "object_fit": null,
       "object_position": null,
       "order": null,
       "overflow": null,
       "padding": null,
       "right": null,
       "top": null,
       "visibility": null,
       "width": "100%"
      }
     },
     "5e5d6d515418442193fe73f5b36862b0": {
      "model_module": "@jupyter-widgets/controls",
      "model_module_version": "2.0.0",
      "model_name": "HTMLModel",
      "state": {
       "_dom_classes": [],
       "_model_module": "@jupyter-widgets/controls",
       "_model_module_version": "2.0.0",
       "_model_name": "HTMLModel",
       "_view_count": null,
       "_view_module": "@jupyter-widgets/controls",
       "_view_module_version": "2.0.0",
       "_view_name": "HTMLView",
       "description": "",
       "description_allow_html": false,
       "layout": "IPY_MODEL_8ce9522d73da4362b7b4fee87d20fc0a",
       "placeholder": "​",
       "style": "IPY_MODEL_542d23cfc31e4a808605a81667f5df06",
       "tabbable": null,
       "tooltip": null,
       "value": "<pre>┌────────────┬────────────────┬─────────────────┬──────────────────┬──────────────────────────────┬──────────────────────────┐\n│   COLUMN_1 │       COLUMN_2 │        COLUMN_3 │         COLUMN_4 │                     COLUMN_5 │                 COLUMN_6 │\n├────────────┼────────────────┼─────────────────┼──────────────────┼──────────────────────────────┼──────────────────────────┤\n│      pwsid │ enforcement_id │ originator_code │ enforcement_date │ enforcement_action_type_code │ enforcement_comment_text │\n└────────────┴────────────────┴─────────────────┴──────────────────┴──────────────────────────────┴──────────────────────────┘</pre>"
      }
     },
     "6284c2a37a6b4840b76b6b27707106c4": {
      "model_module": "@jupyter-widgets/controls",
      "model_module_version": "2.0.0",
      "model_name": "HTMLStyleModel",
      "state": {
       "_model_module": "@jupyter-widgets/controls",
       "_model_module_version": "2.0.0",
       "_model_name": "HTMLStyleModel",
       "_view_count": null,
       "_view_module": "@jupyter-widgets/base",
       "_view_module_version": "2.0.0",
       "_view_name": "StyleView",
       "background": null,
       "description_width": "",
       "font_size": null,
       "text_color": null
      }
     },
     "64bc38d1f338490ea0b72dc7ebfa68eb": {
      "model_module": "@jupyter-widgets/controls",
      "model_module_version": "2.0.0",
      "model_name": "HTMLModel",
      "state": {
       "_dom_classes": [],
       "_model_module": "@jupyter-widgets/controls",
       "_model_module_version": "2.0.0",
       "_model_name": "HTMLModel",
       "_view_count": null,
       "_view_module": "@jupyter-widgets/controls",
       "_view_module_version": "2.0.0",
       "_view_name": "HTMLView",
       "description": "",
       "description_allow_html": false,
       "layout": "IPY_MODEL_42c4d9e917dd402b8c75ebdf861171b2",
       "placeholder": "​",
       "style": "IPY_MODEL_50497402b2904e6895b77979c8ae00fa",
       "tabbable": null,
       "tooltip": null,
       "value": "<pre>┌────────────┬─────────────────────┬────────────┬───────────────────┬───────────────┬────────────────────────┬──────────────────────────────┐\n│   COLUMN_1 │            COLUMN_2 │   COLUMN_3 │          COLUMN_4 │      COLUMN_5 │               COLUMN_6 │                     COLUMN_7 │\n├────────────┼─────────────────────┼────────────┼───────────────────┼───────────────┼────────────────────────┼──────────────────────────────┤\n│      pwsid │ primacy_agency_code │ epa_region │ pws_activity_code │ pws_type_code │ service_area_type_code │ is_primary_service_area_code │\n└────────────┴─────────────────────┴────────────┴───────────────────┴───────────────┴────────────────────────┴──────────────────────────────┘</pre>"
      }
     },
     "6584af72f65249e79498203ab376a9f8": {
      "model_module": "@jupyter-widgets/base",
      "model_module_version": "2.0.0",
      "model_name": "LayoutModel",
      "state": {
       "_model_module": "@jupyter-widgets/base",
       "_model_module_version": "2.0.0",
       "_model_name": "LayoutModel",
       "_view_count": null,
       "_view_module": "@jupyter-widgets/base",
       "_view_module_version": "2.0.0",
       "_view_name": "LayoutView",
       "align_content": null,
       "align_items": null,
       "align_self": null,
       "border_bottom": null,
       "border_left": null,
       "border_right": null,
       "border_top": null,
       "bottom": null,
       "display": null,
       "flex": null,
       "flex_flow": null,
       "grid_area": null,
       "grid_auto_columns": null,
       "grid_auto_flow": null,
       "grid_auto_rows": null,
       "grid_column": null,
       "grid_gap": null,
       "grid_row": null,
       "grid_template_areas": null,
       "grid_template_columns": null,
       "grid_template_rows": null,
       "height": null,
       "justify_content": null,
       "justify_items": null,
       "left": null,
       "margin": null,
       "max_height": null,
       "max_width": null,
       "min_height": null,
       "min_width": null,
       "object_fit": null,
       "object_position": null,
       "order": null,
       "overflow": null,
       "padding": null,
       "right": null,
       "top": null,
       "visibility": null,
       "width": null
      }
     },
     "66ff2da0d4f543cfa370b62f1066ba77": {
      "model_module": "@jupyter-widgets/controls",
      "model_module_version": "2.0.0",
      "model_name": "HTMLStyleModel",
      "state": {
       "_model_module": "@jupyter-widgets/controls",
       "_model_module_version": "2.0.0",
       "_model_name": "HTMLStyleModel",
       "_view_count": null,
       "_view_module": "@jupyter-widgets/base",
       "_view_module_version": "2.0.0",
       "_view_name": "StyleView",
       "background": null,
       "description_width": "",
       "font_size": null,
       "text_color": null
      }
     },
     "6ab4127896de429c9b17bb76c2d37fa9": {
      "model_module": "@jupyter-widgets/base",
      "model_module_version": "2.0.0",
      "model_name": "LayoutModel",
      "state": {
       "_model_module": "@jupyter-widgets/base",
       "_model_module_version": "2.0.0",
       "_model_name": "LayoutModel",
       "_view_count": null,
       "_view_module": "@jupyter-widgets/base",
       "_view_module_version": "2.0.0",
       "_view_name": "LayoutView",
       "align_content": null,
       "align_items": null,
       "align_self": null,
       "border_bottom": null,
       "border_left": null,
       "border_right": null,
       "border_top": null,
       "bottom": null,
       "display": null,
       "flex": null,
       "flex_flow": null,
       "grid_area": null,
       "grid_auto_columns": null,
       "grid_auto_flow": null,
       "grid_auto_rows": null,
       "grid_column": null,
       "grid_gap": null,
       "grid_row": null,
       "grid_template_areas": null,
       "grid_template_columns": null,
       "grid_template_rows": null,
       "height": null,
       "justify_content": null,
       "justify_items": null,
       "left": null,
       "margin": null,
       "max_height": null,
       "max_width": null,
       "min_height": null,
       "min_width": null,
       "object_fit": null,
       "object_position": null,
       "order": null,
       "overflow": null,
       "padding": null,
       "right": null,
       "top": null,
       "visibility": null,
       "width": "100%"
      }
     },
     "6abbfcab907947ff9ea8561c1e018bb2": {
      "model_module": "@jupyter-widgets/controls",
      "model_module_version": "2.0.0",
      "model_name": "HTMLStyleModel",
      "state": {
       "_model_module": "@jupyter-widgets/controls",
       "_model_module_version": "2.0.0",
       "_model_name": "HTMLStyleModel",
       "_view_count": null,
       "_view_module": "@jupyter-widgets/base",
       "_view_module_version": "2.0.0",
       "_view_name": "StyleView",
       "background": null,
       "description_width": "",
       "font_size": null,
       "text_color": null
      }
     },
     "6bd05128857144a9908120cbcc70392b": {
      "model_module": "@jupyter-widgets/base",
      "model_module_version": "2.0.0",
      "model_name": "LayoutModel",
      "state": {
       "_model_module": "@jupyter-widgets/base",
       "_model_module_version": "2.0.0",
       "_model_name": "LayoutModel",
       "_view_count": null,
       "_view_module": "@jupyter-widgets/base",
       "_view_module_version": "2.0.0",
       "_view_name": "LayoutView",
       "align_content": null,
       "align_items": null,
       "align_self": null,
       "border_bottom": null,
       "border_left": null,
       "border_right": null,
       "border_top": null,
       "bottom": null,
       "display": null,
       "flex": null,
       "flex_flow": null,
       "grid_area": null,
       "grid_auto_columns": null,
       "grid_auto_flow": null,
       "grid_auto_rows": null,
       "grid_column": null,
       "grid_gap": null,
       "grid_row": null,
       "grid_template_areas": null,
       "grid_template_columns": null,
       "grid_template_rows": null,
       "height": null,
       "justify_content": null,
       "justify_items": null,
       "left": null,
       "margin": null,
       "max_height": null,
       "max_width": null,
       "min_height": null,
       "min_width": null,
       "object_fit": null,
       "object_position": null,
       "order": null,
       "overflow": null,
       "padding": null,
       "right": null,
       "top": null,
       "visibility": null,
       "width": null
      }
     },
     "6cc0c53116c3410fba2a5ab0ac9e7f96": {
      "model_module": "@jupyter-widgets/controls",
      "model_module_version": "2.0.0",
      "model_name": "HTMLModel",
      "state": {
       "_dom_classes": [],
       "_model_module": "@jupyter-widgets/controls",
       "_model_module_version": "2.0.0",
       "_model_name": "HTMLModel",
       "_view_count": null,
       "_view_module": "@jupyter-widgets/controls",
       "_view_module_version": "2.0.0",
       "_view_name": "HTMLView",
       "description": "",
       "description_allow_html": false,
       "layout": "IPY_MODEL_04fc97c863484651b496e9951f2a3844",
       "placeholder": "​",
       "style": "IPY_MODEL_0cf5867f7a2541c49816efa08a4daa87",
       "tabbable": null,
       "tooltip": null,
       "value": "<pre>┌────────────┬────────────┬─────────────────────┬────────────┬────────────┬──────────────────┬──────────────────┬────────────────┬─────────────────┐\n│   COLUMN_1 │   COLUMN_2 │            COLUMN_3 │   COLUMN_4 │   COLUMN_5 │         COLUMN_6 │         COLUMN_7 │       COLUMN_8 │        COLUMN_9 │\n├────────────┼────────────┼─────────────────────┼────────────┼────────────┼──────────────────┼──────────────────┼────────────────┼─────────────────┤\n│      pwsid │  sample_id │ primacy_agency_code │ epa_region │     sar_id │ contaminant_code │ result_sign_code │ sample_measure │ unit_of_measure │\n└────────────┴────────────┴─────────────────────┴────────────┴────────────┴──────────────────┴──────────────────┴────────────────┴─────────────────┘</pre>"
      }
     },
     "6f07fdd9de464521941df820339e93ec": {
      "model_module": "@jupyter-widgets/base",
      "model_module_version": "2.0.0",
      "model_name": "LayoutModel",
      "state": {
       "_model_module": "@jupyter-widgets/base",
       "_model_module_version": "2.0.0",
       "_model_name": "LayoutModel",
       "_view_count": null,
       "_view_module": "@jupyter-widgets/base",
       "_view_module_version": "2.0.0",
       "_view_name": "LayoutView",
       "align_content": null,
       "align_items": null,
       "align_self": null,
       "border_bottom": null,
       "border_left": null,
       "border_right": null,
       "border_top": null,
       "bottom": null,
       "display": null,
       "flex": null,
       "flex_flow": null,
       "grid_area": null,
       "grid_auto_columns": null,
       "grid_auto_flow": null,
       "grid_auto_rows": null,
       "grid_column": null,
       "grid_gap": null,
       "grid_row": null,
       "grid_template_areas": null,
       "grid_template_columns": null,
       "grid_template_rows": null,
       "height": null,
       "justify_content": null,
       "justify_items": null,
       "left": null,
       "margin": null,
       "max_height": null,
       "max_width": null,
       "min_height": null,
       "min_width": null,
       "object_fit": null,
       "object_position": null,
       "order": null,
       "overflow": null,
       "padding": null,
       "right": null,
       "top": null,
       "visibility": null,
       "width": null
      }
     },
     "6f93ef6b84b244e79c6c876e01ba07fc": {
      "model_module": "@jupyter-widgets/base",
      "model_module_version": "2.0.0",
      "model_name": "LayoutModel",
      "state": {
       "_model_module": "@jupyter-widgets/base",
       "_model_module_version": "2.0.0",
       "_model_name": "LayoutModel",
       "_view_count": null,
       "_view_module": "@jupyter-widgets/base",
       "_view_module_version": "2.0.0",
       "_view_name": "LayoutView",
       "align_content": null,
       "align_items": null,
       "align_self": null,
       "border_bottom": null,
       "border_left": null,
       "border_right": null,
       "border_top": null,
       "bottom": null,
       "display": null,
       "flex": null,
       "flex_flow": null,
       "grid_area": null,
       "grid_auto_columns": null,
       "grid_auto_flow": null,
       "grid_auto_rows": null,
       "grid_column": null,
       "grid_gap": null,
       "grid_row": null,
       "grid_template_areas": null,
       "grid_template_columns": null,
       "grid_template_rows": null,
       "height": null,
       "justify_content": null,
       "justify_items": null,
       "left": null,
       "margin": null,
       "max_height": null,
       "max_width": null,
       "min_height": null,
       "min_width": null,
       "object_fit": null,
       "object_position": null,
       "order": null,
       "overflow": null,
       "padding": null,
       "right": null,
       "top": null,
       "visibility": null,
       "width": "100%"
      }
     },
     "73cc793f2805451ca973462e065fa0b1": {
      "model_module": "@jupyter-widgets/output",
      "model_module_version": "1.0.0",
      "model_name": "OutputModel",
      "state": {
       "_dom_classes": [],
       "_model_module": "@jupyter-widgets/output",
       "_model_module_version": "1.0.0",
       "_model_name": "OutputModel",
       "_view_count": null,
       "_view_module": "@jupyter-widgets/output",
       "_view_module_version": "1.0.0",
       "_view_name": "OutputView",
       "layout": "IPY_MODEL_c28f6861cc4448fabdad626b018e4a87",
       "msg_id": "",
       "outputs": [
        {
         "data": {
          "application/vnd.jupyter.widget-view+json": {
           "model_id": "6cc0c53116c3410fba2a5ab0ac9e7f96",
           "version_major": 2,
           "version_minor": 0
          },
          "text/plain": "HTML(value='<pre>┌────────────┬────────────┬─────────────────────┬────────────┬────────────┬──────────────────…"
         },
         "metadata": {},
         "output_type": "display_data"
        }
       ],
       "tabbable": null,
       "tooltip": null
      }
     },
     "7671839a0c484ff6a3eab63e3b012281": {
      "model_module": "@jupyter-widgets/controls",
      "model_module_version": "2.0.0",
      "model_name": "HTMLModel",
      "state": {
       "_dom_classes": [],
       "_model_module": "@jupyter-widgets/controls",
       "_model_module_version": "2.0.0",
       "_model_name": "HTMLModel",
       "_view_count": null,
       "_view_module": "@jupyter-widgets/controls",
       "_view_module_version": "2.0.0",
       "_view_name": "HTMLView",
       "description": "",
       "description_allow_html": false,
       "layout": "IPY_MODEL_9f7232371ad14d08a5fb64efb6857702",
       "placeholder": "​",
       "style": "IPY_MODEL_ce93d8803b61483785d0a094e0b13f45",
       "tabbable": null,
       "tooltip": null,
       "value": "<pre>┌───────────────────────┬────────────────┬───────────────────┬────────────┬────────────────┬──────────────┐\n│              COLUMN_1 │       COLUMN_2 │          COLUMN_3 │   COLUMN_4 │       COLUMN_5 │     COLUMN_6 │\n├───────────────────────┼────────────────┼───────────────────┼────────────┼────────────────┼──────────────┤\n│ submissionyearquarter │ submissionyear │ submissionquarter │      pwsid │ enforcement_id │ violation_id │\n└───────────────────────┴────────────────┴───────────────────┴────────────┴────────────────┴──────────────┘</pre>"
      }
     },
     "81dcebeefa2e4495b48083400ad6239d": {
      "model_module": "@jupyter-widgets/output",
      "model_module_version": "1.0.0",
      "model_name": "OutputModel",
      "state": {
       "_dom_classes": [],
       "_model_module": "@jupyter-widgets/output",
       "_model_module_version": "1.0.0",
       "_model_name": "OutputModel",
       "_view_count": null,
       "_view_module": "@jupyter-widgets/output",
       "_view_module_version": "1.0.0",
       "_view_name": "OutputView",
       "layout": "IPY_MODEL_2937f998a8004713b38ebf3b0b52e7f9",
       "msg_id": "",
       "outputs": [
        {
         "data": {
          "application/vnd.jupyter.widget-view+json": {
           "model_id": "c083cda5fd20463d9b27a30cb5565d1e",
           "version_major": 2,
           "version_minor": 0
          },
          "text/plain": "HTML(value='<pre>┌────────────┬────────────┬───────────────────┬─────────────────────┬───────────────────┬────…"
         },
         "metadata": {},
         "output_type": "display_data"
        }
       ],
       "tabbable": null,
       "tooltip": null
      }
     },
     "8ce9522d73da4362b7b4fee87d20fc0a": {
      "model_module": "@jupyter-widgets/base",
      "model_module_version": "2.0.0",
      "model_name": "LayoutModel",
      "state": {
       "_model_module": "@jupyter-widgets/base",
       "_model_module_version": "2.0.0",
       "_model_name": "LayoutModel",
       "_view_count": null,
       "_view_module": "@jupyter-widgets/base",
       "_view_module_version": "2.0.0",
       "_view_name": "LayoutView",
       "align_content": null,
       "align_items": null,
       "align_self": null,
       "border_bottom": null,
       "border_left": null,
       "border_right": null,
       "border_top": null,
       "bottom": null,
       "display": null,
       "flex": null,
       "flex_flow": null,
       "grid_area": null,
       "grid_auto_columns": null,
       "grid_auto_flow": null,
       "grid_auto_rows": null,
       "grid_column": null,
       "grid_gap": null,
       "grid_row": null,
       "grid_template_areas": null,
       "grid_template_columns": null,
       "grid_template_rows": null,
       "height": null,
       "justify_content": null,
       "justify_items": null,
       "left": null,
       "margin": null,
       "max_height": null,
       "max_width": null,
       "min_height": null,
       "min_width": null,
       "object_fit": null,
       "object_position": null,
       "order": null,
       "overflow": null,
       "padding": null,
       "right": null,
       "top": null,
       "visibility": null,
       "width": null
      }
     },
     "8f71946854ca4b5aae4ce738dc3bdbf5": {
      "model_module": "@jupyter-widgets/base",
      "model_module_version": "2.0.0",
      "model_name": "LayoutModel",
      "state": {
       "_model_module": "@jupyter-widgets/base",
       "_model_module_version": "2.0.0",
       "_model_name": "LayoutModel",
       "_view_count": null,
       "_view_module": "@jupyter-widgets/base",
       "_view_module_version": "2.0.0",
       "_view_name": "LayoutView",
       "align_content": null,
       "align_items": null,
       "align_self": null,
       "border_bottom": null,
       "border_left": null,
       "border_right": null,
       "border_top": null,
       "bottom": null,
       "display": null,
       "flex": null,
       "flex_flow": null,
       "grid_area": null,
       "grid_auto_columns": null,
       "grid_auto_flow": null,
       "grid_auto_rows": null,
       "grid_column": null,
       "grid_gap": null,
       "grid_row": null,
       "grid_template_areas": null,
       "grid_template_columns": null,
       "grid_template_rows": null,
       "height": null,
       "justify_content": null,
       "justify_items": null,
       "left": null,
       "margin": null,
       "max_height": null,
       "max_width": null,
       "min_height": null,
       "min_width": null,
       "object_fit": null,
       "object_position": null,
       "order": null,
       "overflow": null,
       "padding": null,
       "right": null,
       "top": null,
       "visibility": null,
       "width": null
      }
     },
     "9f7232371ad14d08a5fb64efb6857702": {
      "model_module": "@jupyter-widgets/base",
      "model_module_version": "2.0.0",
      "model_name": "LayoutModel",
      "state": {
       "_model_module": "@jupyter-widgets/base",
       "_model_module_version": "2.0.0",
       "_model_name": "LayoutModel",
       "_view_count": null,
       "_view_module": "@jupyter-widgets/base",
       "_view_module_version": "2.0.0",
       "_view_name": "LayoutView",
       "align_content": null,
       "align_items": null,
       "align_self": null,
       "border_bottom": null,
       "border_left": null,
       "border_right": null,
       "border_top": null,
       "bottom": null,
       "display": null,
       "flex": null,
       "flex_flow": null,
       "grid_area": null,
       "grid_auto_columns": null,
       "grid_auto_flow": null,
       "grid_auto_rows": null,
       "grid_column": null,
       "grid_gap": null,
       "grid_row": null,
       "grid_template_areas": null,
       "grid_template_columns": null,
       "grid_template_rows": null,
       "height": null,
       "justify_content": null,
       "justify_items": null,
       "left": null,
       "margin": null,
       "max_height": null,
       "max_width": null,
       "min_height": null,
       "min_width": null,
       "object_fit": null,
       "object_position": null,
       "order": null,
       "overflow": null,
       "padding": null,
       "right": null,
       "top": null,
       "visibility": null,
       "width": null
      }
     },
     "ad838b5f546c4a12b3b58442b01b39b2": {
      "model_module": "@jupyter-widgets/base",
      "model_module_version": "2.0.0",
      "model_name": "LayoutModel",
      "state": {
       "_model_module": "@jupyter-widgets/base",
       "_model_module_version": "2.0.0",
       "_model_name": "LayoutModel",
       "_view_count": null,
       "_view_module": "@jupyter-widgets/base",
       "_view_module_version": "2.0.0",
       "_view_name": "LayoutView",
       "align_content": null,
       "align_items": null,
       "align_self": null,
       "border_bottom": null,
       "border_left": null,
       "border_right": null,
       "border_top": null,
       "bottom": null,
       "display": null,
       "flex": null,
       "flex_flow": null,
       "grid_area": null,
       "grid_auto_columns": null,
       "grid_auto_flow": null,
       "grid_auto_rows": null,
       "grid_column": null,
       "grid_gap": null,
       "grid_row": null,
       "grid_template_areas": null,
       "grid_template_columns": null,
       "grid_template_rows": null,
       "height": null,
       "justify_content": null,
       "justify_items": null,
       "left": null,
       "margin": null,
       "max_height": null,
       "max_width": null,
       "min_height": null,
       "min_width": null,
       "object_fit": null,
       "object_position": null,
       "order": null,
       "overflow": null,
       "padding": null,
       "right": null,
       "top": null,
       "visibility": null,
       "width": "100%"
      }
     },
     "b33c3e0aa2e14e478623a8137ee6d5ff": {
      "model_module": "@jupyter-widgets/base",
      "model_module_version": "2.0.0",
      "model_name": "LayoutModel",
      "state": {
       "_model_module": "@jupyter-widgets/base",
       "_model_module_version": "2.0.0",
       "_model_name": "LayoutModel",
       "_view_count": null,
       "_view_module": "@jupyter-widgets/base",
       "_view_module_version": "2.0.0",
       "_view_name": "LayoutView",
       "align_content": null,
       "align_items": null,
       "align_self": null,
       "border_bottom": null,
       "border_left": null,
       "border_right": null,
       "border_top": null,
       "bottom": null,
       "display": null,
       "flex": null,
       "flex_flow": null,
       "grid_area": null,
       "grid_auto_columns": null,
       "grid_auto_flow": null,
       "grid_auto_rows": null,
       "grid_column": null,
       "grid_gap": null,
       "grid_row": null,
       "grid_template_areas": null,
       "grid_template_columns": null,
       "grid_template_rows": null,
       "height": null,
       "justify_content": null,
       "justify_items": null,
       "left": null,
       "margin": null,
       "max_height": null,
       "max_width": null,
       "min_height": null,
       "min_width": null,
       "object_fit": null,
       "object_position": null,
       "order": null,
       "overflow": null,
       "padding": null,
       "right": null,
       "top": null,
       "visibility": null,
       "width": null
      }
     },
     "b8fb8e94b8ba4ad08a9d996f885bbf94": {
      "model_module": "@jupyter-widgets/controls",
      "model_module_version": "2.0.0",
      "model_name": "HTMLStyleModel",
      "state": {
       "_model_module": "@jupyter-widgets/controls",
       "_model_module_version": "2.0.0",
       "_model_name": "HTMLStyleModel",
       "_view_count": null,
       "_view_module": "@jupyter-widgets/base",
       "_view_module_version": "2.0.0",
       "_view_name": "StyleView",
       "background": null,
       "description_width": "",
       "font_size": null,
       "text_color": null
      }
     },
     "bbe493f9a6f64d1aa21cdfad59b6b515": {
      "model_module": "@jupyter-widgets/base",
      "model_module_version": "2.0.0",
      "model_name": "LayoutModel",
      "state": {
       "_model_module": "@jupyter-widgets/base",
       "_model_module_version": "2.0.0",
       "_model_name": "LayoutModel",
       "_view_count": null,
       "_view_module": "@jupyter-widgets/base",
       "_view_module_version": "2.0.0",
       "_view_name": "LayoutView",
       "align_content": null,
       "align_items": null,
       "align_self": null,
       "border_bottom": null,
       "border_left": null,
       "border_right": null,
       "border_top": null,
       "bottom": null,
       "display": null,
       "flex": null,
       "flex_flow": null,
       "grid_area": null,
       "grid_auto_columns": null,
       "grid_auto_flow": null,
       "grid_auto_rows": null,
       "grid_column": null,
       "grid_gap": null,
       "grid_row": null,
       "grid_template_areas": null,
       "grid_template_columns": null,
       "grid_template_rows": null,
       "height": null,
       "justify_content": null,
       "justify_items": null,
       "left": null,
       "margin": null,
       "max_height": null,
       "max_width": null,
       "min_height": null,
       "min_width": null,
       "object_fit": null,
       "object_position": null,
       "order": null,
       "overflow": null,
       "padding": null,
       "right": null,
       "top": null,
       "visibility": null,
       "width": null
      }
     },
     "bc47b695c5f14804baa06c2fbbb2faad": {
      "model_module": "@jupyter-widgets/output",
      "model_module_version": "1.0.0",
      "model_name": "OutputModel",
      "state": {
       "_dom_classes": [],
       "_model_module": "@jupyter-widgets/output",
       "_model_module_version": "1.0.0",
       "_model_name": "OutputModel",
       "_view_count": null,
       "_view_module": "@jupyter-widgets/output",
       "_view_module_version": "1.0.0",
       "_view_name": "OutputView",
       "layout": "IPY_MODEL_34fd8442331349938ec33022c1ed9810",
       "msg_id": "",
       "outputs": [
        {
         "data": {
          "application/vnd.jupyter.widget-view+json": {
           "model_id": "15b8a51c690f4289b0ebc0eb79416e4a",
           "version_major": 2,
           "version_minor": 0
          },
          "text/plain": "HTML(value='<pre>┌────────────┬──────────────┬─────────────┬─────────────────────────┬───────────────┬────────…"
         },
         "metadata": {},
         "output_type": "display_data"
        }
       ],
       "tabbable": null,
       "tooltip": null
      }
     },
     "bd1e6b52eac44f249afba9266d2bd6b4": {
      "model_module": "@jupyter-widgets/controls",
      "model_module_version": "2.0.0",
      "model_name": "HTMLModel",
      "state": {
       "_dom_classes": [],
       "_model_module": "@jupyter-widgets/controls",
       "_model_module_version": "2.0.0",
       "_model_name": "HTMLModel",
       "_view_count": null,
       "_view_module": "@jupyter-widgets/controls",
       "_view_module_version": "2.0.0",
       "_view_name": "HTMLView",
       "description": "",
       "description_allow_html": false,
       "layout": "IPY_MODEL_b33c3e0aa2e14e478623a8137ee6d5ff",
       "placeholder": "​",
       "style": "IPY_MODEL_f97313152b5f4644abb095e9ad9e2340",
       "tabbable": null,
       "tooltip": null,
       "value": "<pre>┌───────────────────────┬──────────────────────────────────────────────────────────────────────────────────────────────────────────────────────────────────────────────────────────────────────────────────────────────────────────────────────────────────────────────────────────────────────────────────────────────────────────────────────────────────────────────────────────────────────────────────────────────────────────────────────────────────────────────────────────────────────────────────────────────────────────────────────────────────────────────────────────────────────────────────────────────────────────────────────────────────────────────────────────────────────────────────────────────────────────────────────────────────────────────────────────────────────────────────────────────────┐\n│ column_names          │ description                                                                                                                                                                                                                                                                                                                                                                                                                                                                                                                                                                                                                                                                                                                                                                                      │\n├───────────────────────┼──────────────────────────────────────────────────────────────────────────────────────────────────────────────────────────────────────────────────────────────────────────────────────────────────────────────────────────────────────────────────────────────────────────────────────────────────────────────────────────────────────────────────────────────────────────────────────────────────────────────────────────────────────────────────────────────────────────────────────────────────────────────────────────────────────────────────────────────────────────────────────────────────────────────────────────────────────────────────────────────────────────────────────────────────────────────────────────────────────────────────────────────────────────────────────────────────┤\n│ ENFORCEMENT_ACTION    │ Documents actions taken against a Public Water System (PWS), laboratory, or operator. Includes requirements that must be met in order to rectify a failure to perform under the Public Water Supply Supervision (PWSS) Program. Enforcement actions are informal and formal. They may be issued by the Primacy State (or its representative) or the EPA. Examples: administrative and civil/criminal legal actions, warning notices, citations, orders to follow water treatment procedures, orders to follow sampling requirements, orders to resolve violations, moratoriums on connections, temporary injunctions, restraining orders, penalties, and orders to comply with reporting requirements. Example descriptors: type of enforcement action, directed actions, and milestone date(s). │\n├───────────────────────┼──────────────────────────────────────────────────────────────────────────────────────────────────────────────────────────────────────────────────────────────────────────────────────────────────────────────────────────────────────────────────────────────────────────────────────────────────────────────────────────────────────────────────────────────────────────────────────────────────────────────────────────────────────────────────────────────────────────────────────────────────────────────────────────────────────────────────────────────────────────────────────────────────────────────────────────────────────────────────────────────────────────────────────────────────────────────────────────────────────────────────────────────────────────────────────────────────┤\n│ GEOGRAPHIC_AREA       │ Information on political units established by geographic boundaries, such as state, town, or county served by a Water System.                                                                                                                                                                                                                                                                                                                                                                                                                                                                                                                                                                                                                                                                    │\n├───────────────────────┼──────────────────────────────────────────────────────────────────────────────────────────────────────────────────────────────────────────────────────────────────────────────────────────────────────────────────────────────────────────────────────────────────────────────────────────────────────────────────────────────────────────────────────────────────────────────────────────────────────────────────────────────────────────────────────────────────────────────────────────────────────────────────────────────────────────────────────────────────────────────────────────────────────────────────────────────────────────────────────────────────────────────────────────────────────────────────────────────────────────────────────────────────────────────────────────────────┤\n│ LCR_SAMPLE_RESULT     │ 90th percentile sample summary results data for lead or copper.                                                                                                                                                                                                                                                                                                                                                                                                                                                                                                                                                                                                                                                                                                                                  │\n├───────────────────────┼──────────────────────────────────────────────────────────────────────────────────────────────────────────────────────────────────────────────────────────────────────────────────────────────────────────────────────────────────────────────────────────────────────────────────────────────────────────────────────────────────────────────────────────────────────────────────────────────────────────────────────────────────────────────────────────────────────────────────────────────────────────────────────────────────────────────────────────────────────────────────────────────────────────────────────────────────────────────────────────────────────────────────────────────────────────────────────────────────────────────────────────────────────────────────────────────────┤\n│ LCR_SAMPLE            │ 90th percentile sample summaries data for lead or copper.                                                                                                                                                                                                                                                                                                                                                                                                                                                                                                                                                                                                                                                                                                                                        │\n├───────────────────────┼──────────────────────────────────────────────────────────────────────────────────────────────────────────────────────────────────────────────────────────────────────────────────────────────────────────────────────────────────────────────────────────────────────────────────────────────────────────────────────────────────────────────────────────────────────────────────────────────────────────────────────────────────────────────────────────────────────────────────────────────────────────────────────────────────────────────────────────────────────────────────────────────────────────────────────────────────────────────────────────────────────────────────────────────────────────────────────────────────────────────────────────────────────────────────────────────────┤\n│ SERVICE_AREA          │ A service area defines the sensitive populations that receive water from the water system.                                                                                                                                                                                                                                                                                                                                                                                                                                                                                                                                                                                                                                                                                                       │\n├───────────────────────┼──────────────────────────────────────────────────────────────────────────────────────────────────────────────────────────────────────────────────────────────────────────────────────────────────────────────────────────────────────────────────────────────────────────────────────────────────────────────────────────────────────────────────────────────────────────────────────────────────────────────────────────────────────────────────────────────────────────────────────────────────────────────────────────────────────────────────────────────────────────────────────────────────────────────────────────────────────────────────────────────────────────────────────────────────────────────────────────────────────────────────────────────────────────────────────────────────┤\n│ TREATMENT             │ Treatment objectives and process for treating water from a water system facility.                                                                                                                                                                                                                                                                                                                                                                                                                                                                                                                                                                                                                                                                                                                │\n├───────────────────────┼──────────────────────────────────────────────────────────────────────────────────────────────────────────────────────────────────────────────────────────────────────────────────────────────────────────────────────────────────────────────────────────────────────────────────────────────────────────────────────────────────────────────────────────────────────────────────────────────────────────────────────────────────────────────────────────────────────────────────────────────────────────────────────────────────────────────────────────────────────────────────────────────────────────────────────────────────────────────────────────────────────────────────────────────────────────────────────────────────────────────────────────────────────────────────────────────────┤\n│ WATER_SYSTEM          │ Inventory information on public water systems.                                                                                                                                                                                                                                                                                                                                                                                                                                                                                                                                                                                                                                                                                                                                                   │\n├───────────────────────┼──────────────────────────────────────────────────────────────────────────────────────────────────────────────────────────────────────────────────────────────────────────────────────────────────────────────────────────────────────────────────────────────────────────────────────────────────────────────────────────────────────────────────────────────────────────────────────────────────────────────────────────────────────────────────────────────────────────────────────────────────────────────────────────────────────────────────────────────────────────────────────────────────────────────────────────────────────────────────────────────────────────────────────────────────────────────────────────────────────────────────────────────────────────────────────────────────┤\n│ WATER_SYSTEM_FACILITY │ Inventory information on public water system facilities.                                                                                                                                                                                                                                                                                                                                                                                                                                                                                                                                                                                                                                                                                                                                         │\n├───────────────────────┼──────────────────────────────────────────────────────────────────────────────────────────────────────────────────────────────────────────────────────────────────────────────────────────────────────────────────────────────────────────────────────────────────────────────────────────────────────────────────────────────────────────────────────────────────────────────────────────────────────────────────────────────────────────────────────────────────────────────────────────────────────────────────────────────────────────────────────────────────────────────────────────────────────────────────────────────────────────────────────────────────────────────────────────────────────────────────────────────────────────────────────────────────────────────────────────────────┤\n│ VIOLATION             │ Documents a breach of a requirement. Violations are detected by assessment of sample results or reviews (including on site visits). Violations may lead to legal actions or compliance orders. Violations are publicized, when required, by public notification. Violations may be remedied by compliance/enforcement remedies, such as improved filtration techniques or changes in procedures. Examples: Maximum Contaminant Level (MCL) violations, failure to replace lead service lines, monitoring and reporting violations, treatment technique violations, and procedural violations. Example descriptors: type, date, description, severity, and recommended corrective action(s) to include milestones.                                                                                │\n├───────────────────────┼──────────────────────────────────────────────────────────────────────────────────────────────────────────────────────────────────────────────────────────────────────────────────────────────────────────────────────────────────────────────────────────────────────────────────────────────────────────────────────────────────────────────────────────────────────────────────────────────────────────────────────────────────────────────────────────────────────────────────────────────────────────────────────────────────────────────────────────────────────────────────────────────────────────────────────────────────────────────────────────────────────────────────────────────────────────────────────────────────────────────────────────────────────────────────────────────────┤\n│ VIOLATION_ENF_ASSOC   │ Association between a violation and an enforcement action.                                                                                                                                                                                                                                                                                                                                                                                                                                                                                                                                                                                                                                                                                                                                       │\n└───────────────────────┴──────────────────────────────────────────────────────────────────────────────────────────────────────────────────────────────────────────────────────────────────────────────────────────────────────────────────────────────────────────────────────────────────────────────────────────────────────────────────────────────────────────────────────────────────────────────────────────────────────────────────────────────────────────────────────────────────────────────────────────────────────────────────────────────────────────────────────────────────────────────────────────────────────────────────────────────────────────────────────────────────────────────────────────────────────────────────────────────────────────────────────────────────────────────────────────────────┘</pre>"
      }
     },
     "c083cda5fd20463d9b27a30cb5565d1e": {
      "model_module": "@jupyter-widgets/controls",
      "model_module_version": "2.0.0",
      "model_name": "HTMLModel",
      "state": {
       "_dom_classes": [],
       "_model_module": "@jupyter-widgets/controls",
       "_model_module_version": "2.0.0",
       "_model_name": "HTMLModel",
       "_view_count": null,
       "_view_module": "@jupyter-widgets/controls",
       "_view_module_version": "2.0.0",
       "_view_name": "HTMLView",
       "description": "",
       "description_allow_html": false,
       "layout": "IPY_MODEL_6584af72f65249e79498203ab376a9f8",
       "placeholder": "​",
       "style": "IPY_MODEL_66ff2da0d4f543cfa370b62f1066ba77",
       "tabbable": null,
       "tooltip": null,
       "value": "<pre>┌────────────┬────────────┬───────────────────┬─────────────────────┬───────────────────┬─────────────────────┬────────────┐\n│   COLUMN_1 │   COLUMN_2 │          COLUMN_3 │            COLUMN_4 │          COLUMN_5 │            COLUMN_6 │   COLUMN_7 │\n├────────────┼────────────┼───────────────────┼─────────────────────┼───────────────────┼─────────────────────┼────────────┤\n│      pwsid │  sample_id │ sampling_end_date │ sampling_start_date │ reconciliation_id │ primacy_agency_code │ epa_region │\n└────────────┴────────────┴───────────────────┴─────────────────────┴───────────────────┴─────────────────────┴────────────┘</pre>"
      }
     },
     "c28f6861cc4448fabdad626b018e4a87": {
      "model_module": "@jupyter-widgets/base",
      "model_module_version": "2.0.0",
      "model_name": "LayoutModel",
      "state": {
       "_model_module": "@jupyter-widgets/base",
       "_model_module_version": "2.0.0",
       "_model_name": "LayoutModel",
       "_view_count": null,
       "_view_module": "@jupyter-widgets/base",
       "_view_module_version": "2.0.0",
       "_view_name": "LayoutView",
       "align_content": null,
       "align_items": null,
       "align_self": null,
       "border_bottom": null,
       "border_left": null,
       "border_right": null,
       "border_top": null,
       "bottom": null,
       "display": null,
       "flex": null,
       "flex_flow": null,
       "grid_area": null,
       "grid_auto_columns": null,
       "grid_auto_flow": null,
       "grid_auto_rows": null,
       "grid_column": null,
       "grid_gap": null,
       "grid_row": null,
       "grid_template_areas": null,
       "grid_template_columns": null,
       "grid_template_rows": null,
       "height": null,
       "justify_content": null,
       "justify_items": null,
       "left": null,
       "margin": null,
       "max_height": null,
       "max_width": null,
       "min_height": null,
       "min_width": null,
       "object_fit": null,
       "object_position": null,
       "order": null,
       "overflow": null,
       "padding": null,
       "right": null,
       "top": null,
       "visibility": null,
       "width": "100%"
      }
     },
     "ce93d8803b61483785d0a094e0b13f45": {
      "model_module": "@jupyter-widgets/controls",
      "model_module_version": "2.0.0",
      "model_name": "HTMLStyleModel",
      "state": {
       "_model_module": "@jupyter-widgets/controls",
       "_model_module_version": "2.0.0",
       "_model_name": "HTMLStyleModel",
       "_view_count": null,
       "_view_module": "@jupyter-widgets/base",
       "_view_module_version": "2.0.0",
       "_view_name": "StyleView",
       "background": null,
       "description_width": "",
       "font_size": null,
       "text_color": null
      }
     },
     "d265a97fdbbd42f4bac9eea94fc4afb7": {
      "model_module": "@jupyter-widgets/output",
      "model_module_version": "1.0.0",
      "model_name": "OutputModel",
      "state": {
       "_dom_classes": [],
       "_model_module": "@jupyter-widgets/output",
       "_model_module_version": "1.0.0",
       "_model_name": "OutputModel",
       "_view_count": null,
       "_view_module": "@jupyter-widgets/output",
       "_view_module_version": "1.0.0",
       "_view_name": "OutputView",
       "layout": "IPY_MODEL_6ab4127896de429c9b17bb76c2d37fa9",
       "msg_id": "",
       "outputs": [
        {
         "data": {
          "application/vnd.jupyter.widget-view+json": {
           "model_id": "2a3a4baa29bc42a19bd8452ecff5a9e8",
           "version_major": 2,
           "version_minor": 0
          },
          "text/plain": "HTML(value='<pre>┌────────────┬─────────────┬──────────────┬───────────────┬──────────────────────────┬───────…"
         },
         "metadata": {},
         "output_type": "display_data"
        }
       ],
       "tabbable": null,
       "tooltip": null
      }
     },
     "da9a6d524fdd4467aa60686d87a73dbc": {
      "model_module": "@jupyter-widgets/base",
      "model_module_version": "2.0.0",
      "model_name": "LayoutModel",
      "state": {
       "_model_module": "@jupyter-widgets/base",
       "_model_module_version": "2.0.0",
       "_model_name": "LayoutModel",
       "_view_count": null,
       "_view_module": "@jupyter-widgets/base",
       "_view_module_version": "2.0.0",
       "_view_name": "LayoutView",
       "align_content": null,
       "align_items": null,
       "align_self": null,
       "border_bottom": null,
       "border_left": null,
       "border_right": null,
       "border_top": null,
       "bottom": null,
       "display": null,
       "flex": null,
       "flex_flow": null,
       "grid_area": null,
       "grid_auto_columns": null,
       "grid_auto_flow": null,
       "grid_auto_rows": null,
       "grid_column": null,
       "grid_gap": null,
       "grid_row": null,
       "grid_template_areas": null,
       "grid_template_columns": null,
       "grid_template_rows": null,
       "height": null,
       "justify_content": null,
       "justify_items": null,
       "left": null,
       "margin": null,
       "max_height": null,
       "max_width": null,
       "min_height": null,
       "min_width": null,
       "object_fit": null,
       "object_position": null,
       "order": null,
       "overflow": null,
       "padding": null,
       "right": null,
       "top": null,
       "visibility": null,
       "width": "100%"
      }
     },
     "db35af8b9499483597338780d9e61514": {
      "model_module": "@jupyter-widgets/output",
      "model_module_version": "1.0.0",
      "model_name": "OutputModel",
      "state": {
       "_dom_classes": [],
       "_model_module": "@jupyter-widgets/output",
       "_model_module_version": "1.0.0",
       "_model_name": "OutputModel",
       "_view_count": null,
       "_view_module": "@jupyter-widgets/output",
       "_view_module_version": "1.0.0",
       "_view_name": "OutputView",
       "layout": "IPY_MODEL_da9a6d524fdd4467aa60686d87a73dbc",
       "msg_id": "",
       "outputs": [
        {
         "data": {
          "application/vnd.jupyter.widget-view+json": {
           "model_id": "0d3bfefb7f46495283c331e863413f42",
           "version_major": 2,
           "version_minor": 0
          },
          "text/plain": "HTML(value='<pre>┌────────────┬────────────┬─────────────────────┬────────────┬───────────────────┬───────────…"
         },
         "metadata": {},
         "output_type": "display_data"
        }
       ],
       "tabbable": null,
       "tooltip": null
      }
     },
     "e7598a44ab35490e9b3bcd0aa48456c2": {
      "model_module": "@jupyter-widgets/output",
      "model_module_version": "1.0.0",
      "model_name": "OutputModel",
      "state": {
       "_dom_classes": [],
       "_model_module": "@jupyter-widgets/output",
       "_model_module_version": "1.0.0",
       "_model_name": "OutputModel",
       "_view_count": null,
       "_view_module": "@jupyter-widgets/output",
       "_view_module_version": "1.0.0",
       "_view_name": "OutputView",
       "layout": "IPY_MODEL_4217720ad4db4aed80c20a65c4bd469e",
       "msg_id": "",
       "outputs": [
        {
         "data": {
          "application/vnd.jupyter.widget-view+json": {
           "model_id": "f865bb5682844d01b2ba848019f9702a",
           "version_major": 2,
           "version_minor": 0
          },
          "text/plain": "HTML(value='<pre>┌────────────┬────────────┬───────────────┬─────────────────────┬────────────┬───────────────…"
         },
         "metadata": {},
         "output_type": "display_data"
        }
       ],
       "tabbable": null,
       "tooltip": null
      }
     },
     "e962b4dc046c4337b7a02e52b1b5046c": {
      "model_module": "@jupyter-widgets/base",
      "model_module_version": "2.0.0",
      "model_name": "LayoutModel",
      "state": {
       "_model_module": "@jupyter-widgets/base",
       "_model_module_version": "2.0.0",
       "_model_name": "LayoutModel",
       "_view_count": null,
       "_view_module": "@jupyter-widgets/base",
       "_view_module_version": "2.0.0",
       "_view_name": "LayoutView",
       "align_content": null,
       "align_items": null,
       "align_self": null,
       "border_bottom": null,
       "border_left": null,
       "border_right": null,
       "border_top": null,
       "bottom": null,
       "display": null,
       "flex": null,
       "flex_flow": null,
       "grid_area": null,
       "grid_auto_columns": null,
       "grid_auto_flow": null,
       "grid_auto_rows": null,
       "grid_column": null,
       "grid_gap": null,
       "grid_row": null,
       "grid_template_areas": null,
       "grid_template_columns": null,
       "grid_template_rows": null,
       "height": null,
       "justify_content": null,
       "justify_items": null,
       "left": null,
       "margin": null,
       "max_height": null,
       "max_width": null,
       "min_height": null,
       "min_width": null,
       "object_fit": null,
       "object_position": null,
       "order": null,
       "overflow": null,
       "padding": null,
       "right": null,
       "top": null,
       "visibility": null,
       "width": "100%"
      }
     },
     "ef02b9e2af7e458888659da81f24d0f1": {
      "model_module": "@jupyter-widgets/output",
      "model_module_version": "1.0.0",
      "model_name": "OutputModel",
      "state": {
       "_dom_classes": [],
       "_model_module": "@jupyter-widgets/output",
       "_model_module_version": "1.0.0",
       "_model_name": "OutputModel",
       "_view_count": null,
       "_view_module": "@jupyter-widgets/output",
       "_view_module_version": "1.0.0",
       "_view_name": "OutputView",
       "layout": "IPY_MODEL_6f93ef6b84b244e79c6c876e01ba07fc",
       "msg_id": "",
       "outputs": [
        {
         "data": {
          "application/vnd.jupyter.widget-view+json": {
           "model_id": "64bc38d1f338490ea0b72dc7ebfa68eb",
           "version_major": 2,
           "version_minor": 0
          },
          "text/plain": "HTML(value='<pre>┌────────────┬─────────────────────┬────────────┬───────────────────┬───────────────┬────────…"
         },
         "metadata": {},
         "output_type": "display_data"
        }
       ],
       "tabbable": null,
       "tooltip": null
      }
     },
     "f12ba0ec1ba44b7ab560ae39138036e0": {
      "model_module": "@jupyter-widgets/base",
      "model_module_version": "2.0.0",
      "model_name": "LayoutModel",
      "state": {
       "_model_module": "@jupyter-widgets/base",
       "_model_module_version": "2.0.0",
       "_model_name": "LayoutModel",
       "_view_count": null,
       "_view_module": "@jupyter-widgets/base",
       "_view_module_version": "2.0.0",
       "_view_name": "LayoutView",
       "align_content": null,
       "align_items": null,
       "align_self": null,
       "border_bottom": null,
       "border_left": null,
       "border_right": null,
       "border_top": null,
       "bottom": null,
       "display": null,
       "flex": null,
       "flex_flow": null,
       "grid_area": null,
       "grid_auto_columns": null,
       "grid_auto_flow": null,
       "grid_auto_rows": null,
       "grid_column": null,
       "grid_gap": null,
       "grid_row": null,
       "grid_template_areas": null,
       "grid_template_columns": null,
       "grid_template_rows": null,
       "height": null,
       "justify_content": null,
       "justify_items": null,
       "left": null,
       "margin": null,
       "max_height": null,
       "max_width": null,
       "min_height": null,
       "min_width": null,
       "object_fit": null,
       "object_position": null,
       "order": null,
       "overflow": null,
       "padding": null,
       "right": null,
       "top": null,
       "visibility": null,
       "width": null
      }
     },
     "f47f4f47ff614e2386874a831bbca4d5": {
      "model_module": "@jupyter-widgets/output",
      "model_module_version": "1.0.0",
      "model_name": "OutputModel",
      "state": {
       "_dom_classes": [],
       "_model_module": "@jupyter-widgets/output",
       "_model_module_version": "1.0.0",
       "_model_name": "OutputModel",
       "_view_count": null,
       "_view_module": "@jupyter-widgets/output",
       "_view_module_version": "1.0.0",
       "_view_name": "OutputView",
       "layout": "IPY_MODEL_5a9f6a1017bd46a390fb0276dd59069c",
       "msg_id": "",
       "outputs": [
        {
         "data": {
          "application/vnd.jupyter.widget-view+json": {
           "model_id": "bd1e6b52eac44f249afba9266d2bd6b4",
           "version_major": 2,
           "version_minor": 0
          },
          "text/plain": "HTML(value='<pre>┌───────────────────────┬────────────────────────────────────────────────────────────────────…"
         },
         "metadata": {},
         "output_type": "display_data"
        }
       ],
       "tabbable": null,
       "tooltip": null
      }
     },
     "f5e6684833fc48789e9e9dad9cf918ca": {
      "model_module": "@jupyter-widgets/controls",
      "model_module_version": "2.0.0",
      "model_name": "HTMLModel",
      "state": {
       "_dom_classes": [],
       "_model_module": "@jupyter-widgets/controls",
       "_model_module_version": "2.0.0",
       "_model_name": "HTMLModel",
       "_view_count": null,
       "_view_module": "@jupyter-widgets/controls",
       "_view_module_version": "2.0.0",
       "_view_name": "HTMLView",
       "description": "",
       "description_allow_html": false,
       "layout": "IPY_MODEL_6bd05128857144a9908120cbcc70392b",
       "placeholder": "​",
       "style": "IPY_MODEL_b8fb8e94b8ba4ad08a9d996f885bbf94",
       "tabbable": null,
       "tooltip": null,
       "value": "<pre>┌────────────┬─────────────────────┬────────────┬─────────────┬───────────────┬───────────────────┬────────────────────────┬────────────────────────────┬────────────────────┬────────────────────────┬───────────────┬─────────────────┬───────────────────┬───────────────────────┬──────────────┬─────────────────┬────────────────────────┬───────────────────┬───────────────────────┬───────────────┬───────────────────────┐\n│   COLUMN_1 │            COLUMN_2 │   COLUMN_3 │    COLUMN_4 │      COLUMN_5 │          COLUMN_6 │               COLUMN_7 │                   COLUMN_8 │           COLUMN_9 │              COLUMN_10 │     COLUMN_11 │       COLUMN_12 │         COLUMN_13 │             COLUMN_14 │    COLUMN_15 │       COLUMN_16 │              COLUMN_17 │         COLUMN_18 │             COLUMN_19 │     COLUMN_20 │             COLUMN_21 │\n├────────────┼─────────────────────┼────────────┼─────────────┼───────────────┼───────────────────┼────────────────────────┼────────────────────────────┼────────────────────┼────────────────────────┼───────────────┼─────────────────┼───────────────────┼───────────────────────┼──────────────┼─────────────────┼────────────────────────┼───────────────────┼───────────────────────┼───────────────┼───────────────────────┤\n│      pwsid │ primacy_agency_code │ epa_region │ facility_id │ facility_name │ state_facility_id │ facility_activity_code │ facility_deactivation_date │ facility_type_code │ submission_status_code │ is_source_ind │ water_type_code │ availability_code │ seller_treatment_code │ seller_pwsid │ seller_pws_name │ filtration_status_code │ pws_activity_code │ pws_deactivation_date │ pws_type_code │ is_source_treated_ind │\n└────────────┴─────────────────────┴────────────┴─────────────┴───────────────┴───────────────────┴────────────────────────┴────────────────────────────┴────────────────────┴────────────────────────┴───────────────┴─────────────────┴───────────────────┴───────────────────────┴──────────────┴─────────────────┴────────────────────────┴───────────────────┴───────────────────────┴───────────────┴───────────────────────┘</pre>"
      }
     },
     "f865bb5682844d01b2ba848019f9702a": {
      "model_module": "@jupyter-widgets/controls",
      "model_module_version": "2.0.0",
      "model_name": "HTMLModel",
      "state": {
       "_dom_classes": [],
       "_model_module": "@jupyter-widgets/controls",
       "_model_module_version": "2.0.0",
       "_model_name": "HTMLModel",
       "_view_count": null,
       "_view_module": "@jupyter-widgets/controls",
       "_view_module_version": "2.0.0",
       "_view_name": "HTMLView",
       "description": "",
       "description_allow_html": false,
       "layout": "IPY_MODEL_8f71946854ca4b5aae4ce738dc3bdbf5",
       "placeholder": "​",
       "style": "IPY_MODEL_6abbfcab907947ff9ea8561c1e018bb2",
       "tabbable": null,
       "tooltip": null,
       "value": "<pre>┌────────────┬────────────┬───────────────┬─────────────────────┬────────────┬───────────────────┬─────────────────┬───────────────────┬───────────────────────┬───────────────┬────────────────────────┬─────────────┬─────────────┬───────────────────────┬─────────────────┬─────────────────────────┬────────────────┬────────────────┬────────────────┬────────────────┬─────────────────┬──────────────┬─────────────────────┬───────────────────────┬───────────────────┬──────────────────────────┬───────────────────────────┬────────────────────────┬─────────────┬─────────────┬─────────────┬──────────────┬──────────────────┬─────────────┬──────────────────┬───────────────┬───────────────┬─────────────┬─────────────┬──────────────┬─────────────┬──────────────────────────────┬──────────────────────────────┬───────────────────────┬────────────────────────────────┐\n│   COLUMN_1 │   COLUMN_2 │      COLUMN_3 │            COLUMN_4 │   COLUMN_5 │          COLUMN_6 │        COLUMN_7 │          COLUMN_8 │              COLUMN_9 │     COLUMN_10 │              COLUMN_11 │   COLUMN_12 │   COLUMN_13 │             COLUMN_14 │       COLUMN_15 │               COLUMN_16 │      COLUMN_17 │      COLUMN_18 │      COLUMN_19 │      COLUMN_20 │       COLUMN_21 │    COLUMN_22 │           COLUMN_23 │             COLUMN_24 │         COLUMN_25 │                COLUMN_26 │                 COLUMN_27 │              COLUMN_28 │   COLUMN_29 │   COLUMN_30 │   COLUMN_31 │    COLUMN_32 │        COLUMN_33 │   COLUMN_34 │        COLUMN_35 │     COLUMN_36 │     COLUMN_37 │   COLUMN_38 │   COLUMN_39 │    COLUMN_40 │   COLUMN_41 │                    COLUMN_42 │                    COLUMN_43 │             COLUMN_44 │                      COLUMN_45 │\n├────────────┼────────────┼───────────────┼─────────────────────┼────────────┼───────────────────┼─────────────────┼───────────────────┼───────────────────────┼───────────────┼────────────────────────┼─────────────┼─────────────┼───────────────────────┼─────────────────┼─────────────────────────┼────────────────┼────────────────┼────────────────┼────────────────┼─────────────────┼──────────────┼─────────────────────┼───────────────────────┼───────────────────┼──────────────────────────┼───────────────────────────┼────────────────────────┼─────────────┼─────────────┼─────────────┼──────────────┼──────────────────┼─────────────┼──────────────────┼───────────────┼───────────────┼─────────────┼─────────────┼──────────────┼─────────────┼──────────────────────────────┼──────────────────────────────┼───────────────────────┼────────────────────────────────┤\n│      pwsid │   pws_name │ npm_candidate │ primacy_agency_code │ epa_region │ season_begin_date │ season_end_date │ pws_activity_code │ pws_deactivation_date │ pws_type_code │ dbpr_schedule_cat_code │      cds_id │  gw_sw_code │ lt2_schedule_cat_code │ owner_type_code │ population_served_count │ pop_cat_2_code │ pop_cat_3_code │ pop_cat_4_code │ pop_cat_5_code │ pop_cat_11_code │ primacy_type │ primary_source_code │ is_grant_eligible_ind │ is_wholesaler_ind │ is_school_or_daycare_ind │ service_connections_count │ submission_status_code │    org_name │  admin_name │  email_addr │ phone_number │ phone_ext_number │  fax_number │ alt_phone_number │ address_line1 │ address_line2 │   city_name │    zip_code │ country_code │  state_code │ source_water_protection_code │ source_protection_begin_date │ outstanding_performer │ outstanding_perform_begin_date │\n└────────────┴────────────┴───────────────┴─────────────────────┴────────────┴───────────────────┴─────────────────┴───────────────────┴───────────────────────┴───────────────┴────────────────────────┴─────────────┴─────────────┴───────────────────────┴─────────────────┴─────────────────────────┴────────────────┴────────────────┴────────────────┴────────────────┴─────────────────┴──────────────┴─────────────────────┴───────────────────────┴───────────────────┴──────────────────────────┴───────────────────────────┴────────────────────────┴─────────────┴─────────────┴─────────────┴──────────────┴──────────────────┴─────────────┴──────────────────┴───────────────┴───────────────┴─────────────┴─────────────┴──────────────┴─────────────┴──────────────────────────────┴──────────────────────────────┴───────────────────────┴────────────────────────────────┘</pre>"
      }
     },
     "f97313152b5f4644abb095e9ad9e2340": {
      "model_module": "@jupyter-widgets/controls",
      "model_module_version": "2.0.0",
      "model_name": "HTMLStyleModel",
      "state": {
       "_model_module": "@jupyter-widgets/controls",
       "_model_module_version": "2.0.0",
       "_model_name": "HTMLStyleModel",
       "_view_count": null,
       "_view_module": "@jupyter-widgets/base",
       "_view_module_version": "2.0.0",
       "_view_name": "StyleView",
       "background": null,
       "description_width": "",
       "font_size": null,
       "text_color": null
      }
     }
    },
    "version_major": 2,
    "version_minor": 0
   }
  }
 },
 "nbformat": 4,
 "nbformat_minor": 5
}