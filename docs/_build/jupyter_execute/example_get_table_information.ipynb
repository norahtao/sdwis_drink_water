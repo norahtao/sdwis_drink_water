{
 "cells": [
  {
   "cell_type": "markdown",
   "id": "af870ea56794fded",
   "metadata": {
    "collapsed": false
   },
   "source": [
    "# Example1: Working with SdwisTable\n",
    "We first initiate api"
   ]
  },
  {
   "cell_type": "code",
   "execution_count": 1,
   "id": "eca6b7aa49813a7c",
   "metadata": {
    "ExecuteTime": {
     "end_time": "2023-12-15T18:16:18.593685Z",
     "start_time": "2023-12-15T18:16:18.066470Z"
    },
    "collapsed": false
   },
   "outputs": [],
   "source": [
    "import sdwis_drink_water\n",
    "# Due to the width limitation, I wrote some functions for outputting some results using an interactive scrollbar\n",
    "# \"print_url=True\" here will cause subsequent queries to display the requested URL\n",
    "table_api = sdwis_drink_water.SdwisTable(print_url=False)"
   ]
  },
  {
   "cell_type": "markdown",
   "id": "25872f277d22b467",
   "metadata": {
    "collapsed": false
   },
   "source": [
    "## fetch all table names\n",
    "***\"print_to_console=True\"*** here causes all subsequent queries to be printed"
   ]
  },
  {
   "cell_type": "code",
   "execution_count": 2,
   "id": "52c75bc3b6e4b089",
   "metadata": {
    "ExecuteTime": {
     "end_time": "2023-12-15T18:16:18.598254Z",
     "start_time": "2023-12-15T18:16:18.594785Z"
    },
    "collapsed": false
   },
   "outputs": [
    {
     "name": "stdout",
     "output_type": "stream",
     "text": [
      ">>>>>>>>>>>>>>>>>>>>>>>>>>>>>>>>>>>>>>>>>>>>>>>>>>>>>>>>>>>>>>>>>>>>>>>>>>>>>>>>>>>>>>>>>>>>>>>>>>>>\n",
      "table_name\n",
      "---------------------\n",
      "ENFORCEMENT_ACTION\n",
      "GEOGRAPHIC_AREA\n",
      "LCR_SAMPLE_RESULT\n",
      "LCR_SAMPLE\n",
      "SERVICE_AREA\n",
      "TREATMENT\n",
      "WATER_SYSTEM\n",
      "WATER_SYSTEM_FACILITY\n",
      "VIOLATION\n",
      "VIOLATION_ENF_ASSOC\n",
      ">>>>>>>>>>>>>>>>>>>>>>>>>>>>>>>>>>>>>>>>>>>>>>>>>>>>>>>>>>>>>>>>>>>>>>>>>>>>>>>>>>>>>>>>>>>>>>>>>>>>\n"
     ]
    }
   ],
   "source": [
    "table_names = table_api.get_all_table_names(print_to_console=True)"
   ]
  },
  {
   "cell_type": "markdown",
   "id": "807b6ccbd0e2ed1e",
   "metadata": {
    "collapsed": false
   },
   "source": [
    "## fetch all table names with description (Crawl the latest information from the website)"
   ]
  },
  {
   "cell_type": "code",
   "execution_count": 3,
   "id": "28d1ecde853ea7c7",
   "metadata": {
    "ExecuteTime": {
     "end_time": "2023-12-15T18:16:25.824322Z",
     "start_time": "2023-12-15T18:16:18.597457Z"
    },
    "collapsed": false
   },
   "outputs": [
    {
     "name": "stderr",
     "output_type": "stream",
     "text": [
      "\r",
      "Fetching table descriptions from SDWIS Official Website:   0%|                                                                             | 0/10 [00:00<?, ?it/s]"
     ]
    },
    {
     "name": "stderr",
     "output_type": "stream",
     "text": [
      "\r",
      "Fetching table descriptions from SDWIS Official Website:  10%|██████▉                                                              | 1/10 [00:02<00:25,  2.85s/it]"
     ]
    },
    {
     "name": "stderr",
     "output_type": "stream",
     "text": [
      "\r",
      "Fetching table descriptions from SDWIS Official Website:  20%|█████████████▊                                                       | 2/10 [00:03<00:13,  1.66s/it]"
     ]
    },
    {
     "name": "stderr",
     "output_type": "stream",
     "text": [
      "\r",
      "Fetching table descriptions from SDWIS Official Website:  30%|████████████████████▋                                                | 3/10 [00:04<00:08,  1.19s/it]"
     ]
    },
    {
     "name": "stderr",
     "output_type": "stream",
     "text": [
      "\r",
      "Fetching table descriptions from SDWIS Official Website:  40%|███████████████████████████▌                                         | 4/10 [00:04<00:05,  1.13it/s]"
     ]
    },
    {
     "name": "stderr",
     "output_type": "stream",
     "text": [
      "\r",
      "Fetching table descriptions from SDWIS Official Website:  50%|██████████████████████████████████▌                                  | 5/10 [00:05<00:03,  1.40it/s]"
     ]
    },
    {
     "name": "stderr",
     "output_type": "stream",
     "text": [
      "\r",
      "Fetching table descriptions from SDWIS Official Website:  60%|█████████████████████████████████████████▍                           | 6/10 [00:05<00:02,  1.55it/s]"
     ]
    },
    {
     "name": "stderr",
     "output_type": "stream",
     "text": [
      "\r",
      "Fetching table descriptions from SDWIS Official Website:  70%|████████████████████████████████████████████████▎                    | 7/10 [00:06<00:01,  1.75it/s]"
     ]
    },
    {
     "name": "stderr",
     "output_type": "stream",
     "text": [
      "\r",
      "Fetching table descriptions from SDWIS Official Website:  80%|███████████████████████████████████████████████████████▏             | 8/10 [00:06<00:01,  1.91it/s]"
     ]
    },
    {
     "name": "stderr",
     "output_type": "stream",
     "text": [
      "\r",
      "Fetching table descriptions from SDWIS Official Website:  90%|██████████████████████████████████████████████████████████████       | 9/10 [00:07<00:00,  1.80it/s]"
     ]
    },
    {
     "name": "stderr",
     "output_type": "stream",
     "text": [
      "\r",
      "Fetching table descriptions from SDWIS Official Website: 100%|████████████████████████████████████████████████████████████████████| 10/10 [00:07<00:00,  1.95it/s]"
     ]
    },
    {
     "name": "stderr",
     "output_type": "stream",
     "text": [
      "\r",
      "Fetching table descriptions from SDWIS Official Website: 100%|████████████████████████████████████████████████████████████████████| 10/10 [00:07<00:00,  1.33it/s]"
     ]
    },
    {
     "name": "stderr",
     "output_type": "stream",
     "text": [
      "\n"
     ]
    },
    {
     "data": {
      "application/vnd.jupyter.widget-view+json": {
       "model_id": "338db9ac01204f73b858e48a68c81eef",
       "version_major": 2,
       "version_minor": 0
      },
      "text/plain": [
       "Output(layout=Layout(width='100%'))"
      ]
     },
     "metadata": {},
     "output_type": "display_data"
    }
   ],
   "source": [
    "table_names_and_descriptions = table_api.get_all_table_names_and_descriptions(print_to_console=False);\n",
    "sdwis_drink_water.utils_for_jupyter_print.print_column_description(table_names_and_descriptions)"
   ]
  },
  {
   "cell_type": "markdown",
   "id": "d625adbe390bed59",
   "metadata": {
    "collapsed": false
   },
   "source": [
    "## fetch structure for specific table name"
   ]
  },
  {
   "cell_type": "code",
   "execution_count": 4,
   "id": "e26608077a2a0916",
   "metadata": {
    "ExecuteTime": {
     "end_time": "2023-12-15T18:16:26.324899Z",
     "start_time": "2023-12-15T18:16:25.826289Z"
    },
    "collapsed": false
   },
   "outputs": [
    {
     "name": "stdout",
     "output_type": "stream",
     "text": [
      "======ENFORCEMENT_ACTION======\n"
     ]
    },
    {
     "data": {
      "application/vnd.jupyter.widget-view+json": {
       "model_id": "d06fc28e5094410ba056d3ac0ca8b160",
       "version_major": 2,
       "version_minor": 0
      },
      "text/plain": [
       "Output(layout=Layout(width='100%'))"
      ]
     },
     "metadata": {},
     "output_type": "display_data"
    },
    {
     "name": "stdout",
     "output_type": "stream",
     "text": [
      "======GEOGRAPHIC_AREA======\n"
     ]
    },
    {
     "data": {
      "application/vnd.jupyter.widget-view+json": {
       "model_id": "4731d93d944b42b284bec09a80a39057",
       "version_major": 2,
       "version_minor": 0
      },
      "text/plain": [
       "Output(layout=Layout(width='100%'))"
      ]
     },
     "metadata": {},
     "output_type": "display_data"
    },
    {
     "name": "stdout",
     "output_type": "stream",
     "text": [
      "======LCR_SAMPLE_RESULT======\n"
     ]
    },
    {
     "data": {
      "application/vnd.jupyter.widget-view+json": {
       "model_id": "38cd4d78f49e483f905526ecf5c0edc2",
       "version_major": 2,
       "version_minor": 0
      },
      "text/plain": [
       "Output(layout=Layout(width='100%'))"
      ]
     },
     "metadata": {},
     "output_type": "display_data"
    },
    {
     "name": "stdout",
     "output_type": "stream",
     "text": [
      "======LCR_SAMPLE======\n"
     ]
    },
    {
     "data": {
      "application/vnd.jupyter.widget-view+json": {
       "model_id": "57a5e5d928cd408eb67faa8a15bbede2",
       "version_major": 2,
       "version_minor": 0
      },
      "text/plain": [
       "Output(layout=Layout(width='100%'))"
      ]
     },
     "metadata": {},
     "output_type": "display_data"
    },
    {
     "name": "stdout",
     "output_type": "stream",
     "text": [
      "======SERVICE_AREA======\n"
     ]
    },
    {
     "data": {
      "application/vnd.jupyter.widget-view+json": {
       "model_id": "30caf41427da469b99ae546735f8ea7f",
       "version_major": 2,
       "version_minor": 0
      },
      "text/plain": [
       "Output(layout=Layout(width='100%'))"
      ]
     },
     "metadata": {},
     "output_type": "display_data"
    },
    {
     "name": "stdout",
     "output_type": "stream",
     "text": [
      "======TREATMENT======\n"
     ]
    },
    {
     "data": {
      "application/vnd.jupyter.widget-view+json": {
       "model_id": "96facc9d772a4340b9e763f9a464be2f",
       "version_major": 2,
       "version_minor": 0
      },
      "text/plain": [
       "Output(layout=Layout(width='100%'))"
      ]
     },
     "metadata": {},
     "output_type": "display_data"
    },
    {
     "name": "stdout",
     "output_type": "stream",
     "text": [
      "======WATER_SYSTEM======\n"
     ]
    },
    {
     "data": {
      "application/vnd.jupyter.widget-view+json": {
       "model_id": "dcd22befb50c4c13a37aecf245e6cf88",
       "version_major": 2,
       "version_minor": 0
      },
      "text/plain": [
       "Output(layout=Layout(width='100%'))"
      ]
     },
     "metadata": {},
     "output_type": "display_data"
    },
    {
     "name": "stdout",
     "output_type": "stream",
     "text": [
      "======WATER_SYSTEM_FACILITY======\n"
     ]
    },
    {
     "data": {
      "application/vnd.jupyter.widget-view+json": {
       "model_id": "58abf8d782b7464dba486948ef6b4342",
       "version_major": 2,
       "version_minor": 0
      },
      "text/plain": [
       "Output(layout=Layout(width='100%'))"
      ]
     },
     "metadata": {},
     "output_type": "display_data"
    },
    {
     "name": "stdout",
     "output_type": "stream",
     "text": [
      "======VIOLATION======\n"
     ]
    },
    {
     "data": {
      "application/vnd.jupyter.widget-view+json": {
       "model_id": "a2cb48781f4c4ab893fa25ecc8a72c42",
       "version_major": 2,
       "version_minor": 0
      },
      "text/plain": [
       "Output(layout=Layout(width='100%'))"
      ]
     },
     "metadata": {},
     "output_type": "display_data"
    },
    {
     "name": "stdout",
     "output_type": "stream",
     "text": [
      "======VIOLATION_ENF_ASSOC======\n"
     ]
    },
    {
     "data": {
      "application/vnd.jupyter.widget-view+json": {
       "model_id": "e2c29dec10ac43d8b28adfb58f1ae42b",
       "version_major": 2,
       "version_minor": 0
      },
      "text/plain": [
       "Output(layout=Layout(width='100%'))"
      ]
     },
     "metadata": {},
     "output_type": "display_data"
    }
   ],
   "source": [
    "for table_name in table_names:\n",
    "    print(f\"======{table_name}======\")\n",
    "    columns = table_api.get_table_column_name_by_table_name(table_name=table_name, print_to_console=False)\n",
    "    sdwis_drink_water.utils_for_jupyter_print.print_columns(columns)"
   ]
  },
  {
   "cell_type": "markdown",
   "id": "ee3eee69edd74928",
   "metadata": {
    "collapsed": false
   },
   "source": [
    "## fetch first data for specific table name"
   ]
  },
  {
   "cell_type": "code",
   "execution_count": 5,
   "id": "7c3c278de5b850c9",
   "metadata": {
    "ExecuteTime": {
     "end_time": "2023-12-15T18:16:26.325292Z",
     "start_time": "2023-12-15T18:16:26.293335Z"
    },
    "collapsed": false
   },
   "outputs": [
    {
     "name": "stdout",
     "output_type": "stream",
     "text": [
      "======LCR_SAMPLE======\n",
      "┌───────────┬─────────────────┬─────────────────────┬───────────────────────┬─────────────────────┬───────────────────────┬──────────────┐\n",
      "│     pwsid │       sample_id │ sampling_end_date   │ sampling_start_date   │ reconciliation_id   │   primacy_agency_code │   epa_region │\n",
      "├───────────┼─────────────────┼─────────────────────┼───────────────────────┼─────────────────────┼───────────────────────┼──────────────┤\n",
      "│ 010106001 │ 010106001171002 │ 2019-12-31 00:00:00 │ 2017-01-01 00:00:00   │                     │                    01 │           01 │\n",
      "└───────────┴─────────────────┴─────────────────────┴───────────────────────┴─────────────────────┴───────────────────────┴──────────────┘\n"
     ]
    },
    {
     "data": {
      "text/plain": [
       "<sdwis_drink_water.data_praser.ResultDataParser at 0x1046a36d0>"
      ]
     },
     "execution_count": 5,
     "metadata": {},
     "output_type": "execute_result"
    }
   ],
   "source": [
    "print(f\"======{table_names[3]}======\")\n",
    "table_api.get_table_first_data_by_table_name(table_name=table_names[3], print_to_console=True)"
   ]
  },
  {
   "cell_type": "markdown",
   "id": "281207c6361d1f9a",
   "metadata": {
    "collapsed": false
   },
   "source": [
    "## fetch first n for specific table name"
   ]
  },
  {
   "cell_type": "code",
   "execution_count": 6,
   "id": "f7279b7ca2016b8",
   "metadata": {
    "ExecuteTime": {
     "end_time": "2023-12-15T18:16:26.325594Z",
     "start_time": "2023-12-15T18:16:26.299964Z"
    },
    "collapsed": false
   },
   "outputs": [
    {
     "name": "stdout",
     "output_type": "stream",
     "text": [
      "======LCR_SAMPLE======\n",
      "┌───────────┬─────────────────┬─────────────────────┬───────────────────────┬─────────────────────┬───────────────────────┬──────────────┐\n",
      "│     pwsid │       sample_id │ sampling_end_date   │ sampling_start_date   │ reconciliation_id   │   primacy_agency_code │   epa_region │\n",
      "├───────────┼─────────────────┼─────────────────────┼───────────────────────┼─────────────────────┼───────────────────────┼──────────────┤\n",
      "│ 010106001 │ 010106001171002 │ 2019-12-31 00:00:00 │ 2017-01-01 00:00:00   │                     │                    01 │           01 │\n",
      "├───────────┼─────────────────┼─────────────────────┼───────────────────────┼─────────────────────┼───────────────────────┼──────────────┤\n",
      "│ 010106001 │  01010600117136 │ 2013-12-31 00:00:00 │ 2011-01-01 00:00:00   │                     │                    01 │           01 │\n",
      "├───────────┼─────────────────┼─────────────────────┼───────────────────────┼─────────────────────┼───────────────────────┼──────────────┤\n",
      "│ 010106001 │  01010600117137 │ 2013-12-31 00:00:00 │ 2011-01-01 00:00:00   │                     │                    01 │           01 │\n",
      "├───────────┼─────────────────┼─────────────────────┼───────────────────────┼─────────────────────┼───────────────────────┼──────────────┤\n",
      "│ 010106001 │ 010106001171409 │ 2022-12-31 00:00:00 │ 2020-01-01 00:00:00   │                     │                    01 │           01 │\n",
      "├───────────┼─────────────────┼─────────────────────┼───────────────────────┼─────────────────────┼───────────────────────┼──────────────┤\n",
      "│ 010106001 │  01010600117711 │ 2016-12-31 00:00:00 │ 2014-01-01 00:00:00   │                     │                    01 │           01 │\n",
      "└───────────┴─────────────────┴─────────────────────┴───────────────────────┴─────────────────────┴───────────────────────┴──────────────┘\n"
     ]
    },
    {
     "data": {
      "text/plain": [
       "<sdwis_drink_water.data_praser.ResultDataParser at 0x104696670>"
      ]
     },
     "execution_count": 6,
     "metadata": {},
     "output_type": "execute_result"
    }
   ],
   "source": [
    "print(f\"======{table_names[3]}======\")\n",
    "table_api.get_table_first_n_data_by_table_name(table_name=table_names[3], n=5, print_to_console=True)"
   ]
  }
 ],
 "metadata": {
  "kernelspec": {
   "display_name": "Python 3 (ipykernel)",
   "language": "python",
   "name": "python3"
  },
  "language_info": {
   "codemirror_mode": {
    "name": "ipython",
    "version": 3
   },
   "file_extension": ".py",
   "mimetype": "text/x-python",
   "name": "python",
   "nbconvert_exporter": "python",
   "pygments_lexer": "ipython3",
   "version": "3.9.18"
  },
  "widgets": {
   "application/vnd.jupyter.widget-state+json": {
    "state": {
     "08bf7930a6ef4a33ad1896c577417b2b": {
      "model_module": "@jupyter-widgets/controls",
      "model_module_version": "2.0.0",
      "model_name": "HTMLStyleModel",
      "state": {
       "_model_module": "@jupyter-widgets/controls",
       "_model_module_version": "2.0.0",
       "_model_name": "HTMLStyleModel",
       "_view_count": null,
       "_view_module": "@jupyter-widgets/base",
       "_view_module_version": "2.0.0",
       "_view_name": "StyleView",
       "background": null,
       "description_width": "",
       "font_size": null,
       "text_color": null
      }
     },
     "1501a8e98bda4d00943d24f55575ff74": {
      "model_module": "@jupyter-widgets/controls",
      "model_module_version": "2.0.0",
      "model_name": "HTMLModel",
      "state": {
       "_dom_classes": [],
       "_model_module": "@jupyter-widgets/controls",
       "_model_module_version": "2.0.0",
       "_model_name": "HTMLModel",
       "_view_count": null,
       "_view_module": "@jupyter-widgets/controls",
       "_view_module_version": "2.0.0",
       "_view_name": "HTMLView",
       "description": "",
       "description_allow_html": false,
       "layout": "IPY_MODEL_9d2db35763984f8c8a6f2a6865582099",
       "placeholder": "​",
       "style": "IPY_MODEL_6d007dacdad94d15a2b45e11659929ac",
       "tabbable": null,
       "tooltip": null,
       "value": "<pre>┌────────────┬────────────┬───────────────────┬─────────────────────┬───────────────────┬─────────────────────┬────────────┐\n│   COLUMN_1 │   COLUMN_2 │          COLUMN_3 │            COLUMN_4 │          COLUMN_5 │            COLUMN_6 │   COLUMN_7 │\n├────────────┼────────────┼───────────────────┼─────────────────────┼───────────────────┼─────────────────────┼────────────┤\n│      pwsid │  sample_id │ sampling_end_date │ sampling_start_date │ reconciliation_id │ primacy_agency_code │ epa_region │\n└────────────┴────────────┴───────────────────┴─────────────────────┴───────────────────┴─────────────────────┴────────────┘</pre>"
      }
     },
     "17b55c411bb54449acb4dbddcd94d45b": {
      "model_module": "@jupyter-widgets/base",
      "model_module_version": "2.0.0",
      "model_name": "LayoutModel",
      "state": {
       "_model_module": "@jupyter-widgets/base",
       "_model_module_version": "2.0.0",
       "_model_name": "LayoutModel",
       "_view_count": null,
       "_view_module": "@jupyter-widgets/base",
       "_view_module_version": "2.0.0",
       "_view_name": "LayoutView",
       "align_content": null,
       "align_items": null,
       "align_self": null,
       "border_bottom": null,
       "border_left": null,
       "border_right": null,
       "border_top": null,
       "bottom": null,
       "display": null,
       "flex": null,
       "flex_flow": null,
       "grid_area": null,
       "grid_auto_columns": null,
       "grid_auto_flow": null,
       "grid_auto_rows": null,
       "grid_column": null,
       "grid_gap": null,
       "grid_row": null,
       "grid_template_areas": null,
       "grid_template_columns": null,
       "grid_template_rows": null,
       "height": null,
       "justify_content": null,
       "justify_items": null,
       "left": null,
       "margin": null,
       "max_height": null,
       "max_width": null,
       "min_height": null,
       "min_width": null,
       "object_fit": null,
       "object_position": null,
       "order": null,
       "overflow": null,
       "padding": null,
       "right": null,
       "top": null,
       "visibility": null,
       "width": "100%"
      }
     },
     "1ee375b687a340d78dfd6881b64dd041": {
      "model_module": "@jupyter-widgets/base",
      "model_module_version": "2.0.0",
      "model_name": "LayoutModel",
      "state": {
       "_model_module": "@jupyter-widgets/base",
       "_model_module_version": "2.0.0",
       "_model_name": "LayoutModel",
       "_view_count": null,
       "_view_module": "@jupyter-widgets/base",
       "_view_module_version": "2.0.0",
       "_view_name": "LayoutView",
       "align_content": null,
       "align_items": null,
       "align_self": null,
       "border_bottom": null,
       "border_left": null,
       "border_right": null,
       "border_top": null,
       "bottom": null,
       "display": null,
       "flex": null,
       "flex_flow": null,
       "grid_area": null,
       "grid_auto_columns": null,
       "grid_auto_flow": null,
       "grid_auto_rows": null,
       "grid_column": null,
       "grid_gap": null,
       "grid_row": null,
       "grid_template_areas": null,
       "grid_template_columns": null,
       "grid_template_rows": null,
       "height": null,
       "justify_content": null,
       "justify_items": null,
       "left": null,
       "margin": null,
       "max_height": null,
       "max_width": null,
       "min_height": null,
       "min_width": null,
       "object_fit": null,
       "object_position": null,
       "order": null,
       "overflow": null,
       "padding": null,
       "right": null,
       "top": null,
       "visibility": null,
       "width": "100%"
      }
     },
     "20476adbb5ec4ceebd7d9fc540b418a0": {
      "model_module": "@jupyter-widgets/base",
      "model_module_version": "2.0.0",
      "model_name": "LayoutModel",
      "state": {
       "_model_module": "@jupyter-widgets/base",
       "_model_module_version": "2.0.0",
       "_model_name": "LayoutModel",
       "_view_count": null,
       "_view_module": "@jupyter-widgets/base",
       "_view_module_version": "2.0.0",
       "_view_name": "LayoutView",
       "align_content": null,
       "align_items": null,
       "align_self": null,
       "border_bottom": null,
       "border_left": null,
       "border_right": null,
       "border_top": null,
       "bottom": null,
       "display": null,
       "flex": null,
       "flex_flow": null,
       "grid_area": null,
       "grid_auto_columns": null,
       "grid_auto_flow": null,
       "grid_auto_rows": null,
       "grid_column": null,
       "grid_gap": null,
       "grid_row": null,
       "grid_template_areas": null,
       "grid_template_columns": null,
       "grid_template_rows": null,
       "height": null,
       "justify_content": null,
       "justify_items": null,
       "left": null,
       "margin": null,
       "max_height": null,
       "max_width": null,
       "min_height": null,
       "min_width": null,
       "object_fit": null,
       "object_position": null,
       "order": null,
       "overflow": null,
       "padding": null,
       "right": null,
       "top": null,
       "visibility": null,
       "width": "100%"
      }
     },
     "21079694ac1c4db99e89be036083be4d": {
      "model_module": "@jupyter-widgets/base",
      "model_module_version": "2.0.0",
      "model_name": "LayoutModel",
      "state": {
       "_model_module": "@jupyter-widgets/base",
       "_model_module_version": "2.0.0",
       "_model_name": "LayoutModel",
       "_view_count": null,
       "_view_module": "@jupyter-widgets/base",
       "_view_module_version": "2.0.0",
       "_view_name": "LayoutView",
       "align_content": null,
       "align_items": null,
       "align_self": null,
       "border_bottom": null,
       "border_left": null,
       "border_right": null,
       "border_top": null,
       "bottom": null,
       "display": null,
       "flex": null,
       "flex_flow": null,
       "grid_area": null,
       "grid_auto_columns": null,
       "grid_auto_flow": null,
       "grid_auto_rows": null,
       "grid_column": null,
       "grid_gap": null,
       "grid_row": null,
       "grid_template_areas": null,
       "grid_template_columns": null,
       "grid_template_rows": null,
       "height": null,
       "justify_content": null,
       "justify_items": null,
       "left": null,
       "margin": null,
       "max_height": null,
       "max_width": null,
       "min_height": null,
       "min_width": null,
       "object_fit": null,
       "object_position": null,
       "order": null,
       "overflow": null,
       "padding": null,
       "right": null,
       "top": null,
       "visibility": null,
       "width": "100%"
      }
     },
     "29c940a80b314d4e8be1709e75f6a29d": {
      "model_module": "@jupyter-widgets/controls",
      "model_module_version": "2.0.0",
      "model_name": "HTMLStyleModel",
      "state": {
       "_model_module": "@jupyter-widgets/controls",
       "_model_module_version": "2.0.0",
       "_model_name": "HTMLStyleModel",
       "_view_count": null,
       "_view_module": "@jupyter-widgets/base",
       "_view_module_version": "2.0.0",
       "_view_name": "StyleView",
       "background": null,
       "description_width": "",
       "font_size": null,
       "text_color": null
      }
     },
     "2ee32a05bc63496cbe665620284347af": {
      "model_module": "@jupyter-widgets/base",
      "model_module_version": "2.0.0",
      "model_name": "LayoutModel",
      "state": {
       "_model_module": "@jupyter-widgets/base",
       "_model_module_version": "2.0.0",
       "_model_name": "LayoutModel",
       "_view_count": null,
       "_view_module": "@jupyter-widgets/base",
       "_view_module_version": "2.0.0",
       "_view_name": "LayoutView",
       "align_content": null,
       "align_items": null,
       "align_self": null,
       "border_bottom": null,
       "border_left": null,
       "border_right": null,
       "border_top": null,
       "bottom": null,
       "display": null,
       "flex": null,
       "flex_flow": null,
       "grid_area": null,
       "grid_auto_columns": null,
       "grid_auto_flow": null,
       "grid_auto_rows": null,
       "grid_column": null,
       "grid_gap": null,
       "grid_row": null,
       "grid_template_areas": null,
       "grid_template_columns": null,
       "grid_template_rows": null,
       "height": null,
       "justify_content": null,
       "justify_items": null,
       "left": null,
       "margin": null,
       "max_height": null,
       "max_width": null,
       "min_height": null,
       "min_width": null,
       "object_fit": null,
       "object_position": null,
       "order": null,
       "overflow": null,
       "padding": null,
       "right": null,
       "top": null,
       "visibility": null,
       "width": "100%"
      }
     },
     "30caf41427da469b99ae546735f8ea7f": {
      "model_module": "@jupyter-widgets/output",
      "model_module_version": "1.0.0",
      "model_name": "OutputModel",
      "state": {
       "_dom_classes": [],
       "_model_module": "@jupyter-widgets/output",
       "_model_module_version": "1.0.0",
       "_model_name": "OutputModel",
       "_view_count": null,
       "_view_module": "@jupyter-widgets/output",
       "_view_module_version": "1.0.0",
       "_view_name": "OutputView",
       "layout": "IPY_MODEL_2ee32a05bc63496cbe665620284347af",
       "msg_id": "",
       "outputs": [
        {
         "data": {
          "application/vnd.jupyter.widget-view+json": {
           "model_id": "85adda69db2c4b2d8bc5f34d439e5369",
           "version_major": 2,
           "version_minor": 0
          },
          "text/plain": "HTML(value='<pre>┌────────────┬─────────────────────┬────────────┬───────────────────┬───────────────┬────────…"
         },
         "metadata": {},
         "output_type": "display_data"
        }
       ],
       "tabbable": null,
       "tooltip": null
      }
     },
     "332f3e081f0a4f52aa28959cfd705bf2": {
      "model_module": "@jupyter-widgets/base",
      "model_module_version": "2.0.0",
      "model_name": "LayoutModel",
      "state": {
       "_model_module": "@jupyter-widgets/base",
       "_model_module_version": "2.0.0",
       "_model_name": "LayoutModel",
       "_view_count": null,
       "_view_module": "@jupyter-widgets/base",
       "_view_module_version": "2.0.0",
       "_view_name": "LayoutView",
       "align_content": null,
       "align_items": null,
       "align_self": null,
       "border_bottom": null,
       "border_left": null,
       "border_right": null,
       "border_top": null,
       "bottom": null,
       "display": null,
       "flex": null,
       "flex_flow": null,
       "grid_area": null,
       "grid_auto_columns": null,
       "grid_auto_flow": null,
       "grid_auto_rows": null,
       "grid_column": null,
       "grid_gap": null,
       "grid_row": null,
       "grid_template_areas": null,
       "grid_template_columns": null,
       "grid_template_rows": null,
       "height": null,
       "justify_content": null,
       "justify_items": null,
       "left": null,
       "margin": null,
       "max_height": null,
       "max_width": null,
       "min_height": null,
       "min_width": null,
       "object_fit": null,
       "object_position": null,
       "order": null,
       "overflow": null,
       "padding": null,
       "right": null,
       "top": null,
       "visibility": null,
       "width": "100%"
      }
     },
     "338db9ac01204f73b858e48a68c81eef": {
      "model_module": "@jupyter-widgets/output",
      "model_module_version": "1.0.0",
      "model_name": "OutputModel",
      "state": {
       "_dom_classes": [],
       "_model_module": "@jupyter-widgets/output",
       "_model_module_version": "1.0.0",
       "_model_name": "OutputModel",
       "_view_count": null,
       "_view_module": "@jupyter-widgets/output",
       "_view_module_version": "1.0.0",
       "_view_name": "OutputView",
       "layout": "IPY_MODEL_3412321e8df7406c8312e758f2fccbbb",
       "msg_id": "",
       "outputs": [
        {
         "data": {
          "application/vnd.jupyter.widget-view+json": {
           "model_id": "b00a6f1bb9bf4fff83030fb7b34a1ede",
           "version_major": 2,
           "version_minor": 0
          },
          "text/plain": "HTML(value='<pre>┌───────────────────────┬────────────────────────────────────────────────────────────────────…"
         },
         "metadata": {},
         "output_type": "display_data"
        }
       ],
       "tabbable": null,
       "tooltip": null
      }
     },
     "3412321e8df7406c8312e758f2fccbbb": {
      "model_module": "@jupyter-widgets/base",
      "model_module_version": "2.0.0",
      "model_name": "LayoutModel",
      "state": {
       "_model_module": "@jupyter-widgets/base",
       "_model_module_version": "2.0.0",
       "_model_name": "LayoutModel",
       "_view_count": null,
       "_view_module": "@jupyter-widgets/base",
       "_view_module_version": "2.0.0",
       "_view_name": "LayoutView",
       "align_content": null,
       "align_items": null,
       "align_self": null,
       "border_bottom": null,
       "border_left": null,
       "border_right": null,
       "border_top": null,
       "bottom": null,
       "display": null,
       "flex": null,
       "flex_flow": null,
       "grid_area": null,
       "grid_auto_columns": null,
       "grid_auto_flow": null,
       "grid_auto_rows": null,
       "grid_column": null,
       "grid_gap": null,
       "grid_row": null,
       "grid_template_areas": null,
       "grid_template_columns": null,
       "grid_template_rows": null,
       "height": null,
       "justify_content": null,
       "justify_items": null,
       "left": null,
       "margin": null,
       "max_height": null,
       "max_width": null,
       "min_height": null,
       "min_width": null,
       "object_fit": null,
       "object_position": null,
       "order": null,
       "overflow": null,
       "padding": null,
       "right": null,
       "top": null,
       "visibility": null,
       "width": "100%"
      }
     },
     "38cd4d78f49e483f905526ecf5c0edc2": {
      "model_module": "@jupyter-widgets/output",
      "model_module_version": "1.0.0",
      "model_name": "OutputModel",
      "state": {
       "_dom_classes": [],
       "_model_module": "@jupyter-widgets/output",
       "_model_module_version": "1.0.0",
       "_model_name": "OutputModel",
       "_view_count": null,
       "_view_module": "@jupyter-widgets/output",
       "_view_module_version": "1.0.0",
       "_view_name": "OutputView",
       "layout": "IPY_MODEL_60e394a39d254849becee1e47d6b2230",
       "msg_id": "",
       "outputs": [
        {
         "data": {
          "application/vnd.jupyter.widget-view+json": {
           "model_id": "ed6b61bcc4b44caf9cf32550b44e78f9",
           "version_major": 2,
           "version_minor": 0
          },
          "text/plain": "HTML(value='<pre>┌────────────┬────────────┬─────────────────────┬────────────┬────────────┬──────────────────…"
         },
         "metadata": {},
         "output_type": "display_data"
        }
       ],
       "tabbable": null,
       "tooltip": null
      }
     },
     "3a30f0644e7f4497a29a89675acd0d02": {
      "model_module": "@jupyter-widgets/controls",
      "model_module_version": "2.0.0",
      "model_name": "HTMLStyleModel",
      "state": {
       "_model_module": "@jupyter-widgets/controls",
       "_model_module_version": "2.0.0",
       "_model_name": "HTMLStyleModel",
       "_view_count": null,
       "_view_module": "@jupyter-widgets/base",
       "_view_module_version": "2.0.0",
       "_view_name": "StyleView",
       "background": null,
       "description_width": "",
       "font_size": null,
       "text_color": null
      }
     },
     "3a6b9a4a9467450b8073890e7224909b": {
      "model_module": "@jupyter-widgets/base",
      "model_module_version": "2.0.0",
      "model_name": "LayoutModel",
      "state": {
       "_model_module": "@jupyter-widgets/base",
       "_model_module_version": "2.0.0",
       "_model_name": "LayoutModel",
       "_view_count": null,
       "_view_module": "@jupyter-widgets/base",
       "_view_module_version": "2.0.0",
       "_view_name": "LayoutView",
       "align_content": null,
       "align_items": null,
       "align_self": null,
       "border_bottom": null,
       "border_left": null,
       "border_right": null,
       "border_top": null,
       "bottom": null,
       "display": null,
       "flex": null,
       "flex_flow": null,
       "grid_area": null,
       "grid_auto_columns": null,
       "grid_auto_flow": null,
       "grid_auto_rows": null,
       "grid_column": null,
       "grid_gap": null,
       "grid_row": null,
       "grid_template_areas": null,
       "grid_template_columns": null,
       "grid_template_rows": null,
       "height": null,
       "justify_content": null,
       "justify_items": null,
       "left": null,
       "margin": null,
       "max_height": null,
       "max_width": null,
       "min_height": null,
       "min_width": null,
       "object_fit": null,
       "object_position": null,
       "order": null,
       "overflow": null,
       "padding": null,
       "right": null,
       "top": null,
       "visibility": null,
       "width": null
      }
     },
     "3bba6b42bf23466e9b7aa273ccb4931d": {
      "model_module": "@jupyter-widgets/base",
      "model_module_version": "2.0.0",
      "model_name": "LayoutModel",
      "state": {
       "_model_module": "@jupyter-widgets/base",
       "_model_module_version": "2.0.0",
       "_model_name": "LayoutModel",
       "_view_count": null,
       "_view_module": "@jupyter-widgets/base",
       "_view_module_version": "2.0.0",
       "_view_name": "LayoutView",
       "align_content": null,
       "align_items": null,
       "align_self": null,
       "border_bottom": null,
       "border_left": null,
       "border_right": null,
       "border_top": null,
       "bottom": null,
       "display": null,
       "flex": null,
       "flex_flow": null,
       "grid_area": null,
       "grid_auto_columns": null,
       "grid_auto_flow": null,
       "grid_auto_rows": null,
       "grid_column": null,
       "grid_gap": null,
       "grid_row": null,
       "grid_template_areas": null,
       "grid_template_columns": null,
       "grid_template_rows": null,
       "height": null,
       "justify_content": null,
       "justify_items": null,
       "left": null,
       "margin": null,
       "max_height": null,
       "max_width": null,
       "min_height": null,
       "min_width": null,
       "object_fit": null,
       "object_position": null,
       "order": null,
       "overflow": null,
       "padding": null,
       "right": null,
       "top": null,
       "visibility": null,
       "width": null
      }
     },
     "41f6d3073d3e466eb19c7bc6296e4721": {
      "model_module": "@jupyter-widgets/base",
      "model_module_version": "2.0.0",
      "model_name": "LayoutModel",
      "state": {
       "_model_module": "@jupyter-widgets/base",
       "_model_module_version": "2.0.0",
       "_model_name": "LayoutModel",
       "_view_count": null,
       "_view_module": "@jupyter-widgets/base",
       "_view_module_version": "2.0.0",
       "_view_name": "LayoutView",
       "align_content": null,
       "align_items": null,
       "align_self": null,
       "border_bottom": null,
       "border_left": null,
       "border_right": null,
       "border_top": null,
       "bottom": null,
       "display": null,
       "flex": null,
       "flex_flow": null,
       "grid_area": null,
       "grid_auto_columns": null,
       "grid_auto_flow": null,
       "grid_auto_rows": null,
       "grid_column": null,
       "grid_gap": null,
       "grid_row": null,
       "grid_template_areas": null,
       "grid_template_columns": null,
       "grid_template_rows": null,
       "height": null,
       "justify_content": null,
       "justify_items": null,
       "left": null,
       "margin": null,
       "max_height": null,
       "max_width": null,
       "min_height": null,
       "min_width": null,
       "object_fit": null,
       "object_position": null,
       "order": null,
       "overflow": null,
       "padding": null,
       "right": null,
       "top": null,
       "visibility": null,
       "width": "100%"
      }
     },
     "4731d93d944b42b284bec09a80a39057": {
      "model_module": "@jupyter-widgets/output",
      "model_module_version": "1.0.0",
      "model_name": "OutputModel",
      "state": {
       "_dom_classes": [],
       "_model_module": "@jupyter-widgets/output",
       "_model_module_version": "1.0.0",
       "_model_name": "OutputModel",
       "_view_count": null,
       "_view_module": "@jupyter-widgets/output",
       "_view_module_version": "1.0.0",
       "_view_name": "OutputView",
       "layout": "IPY_MODEL_332f3e081f0a4f52aa28959cfd705bf2",
       "msg_id": "",
       "outputs": [
        {
         "data": {
          "application/vnd.jupyter.widget-view+json": {
           "model_id": "bff7d010f16b4204b50e3284d1706008",
           "version_major": 2,
           "version_minor": 0
          },
          "text/plain": "HTML(value='<pre>┌────────────┬────────────┬─────────────────────┬────────────┬───────────────────┬───────────…"
         },
         "metadata": {},
         "output_type": "display_data"
        }
       ],
       "tabbable": null,
       "tooltip": null
      }
     },
     "4f40c8695a204f5297b9f9bcd5858c58": {
      "model_module": "@jupyter-widgets/base",
      "model_module_version": "2.0.0",
      "model_name": "LayoutModel",
      "state": {
       "_model_module": "@jupyter-widgets/base",
       "_model_module_version": "2.0.0",
       "_model_name": "LayoutModel",
       "_view_count": null,
       "_view_module": "@jupyter-widgets/base",
       "_view_module_version": "2.0.0",
       "_view_name": "LayoutView",
       "align_content": null,
       "align_items": null,
       "align_self": null,
       "border_bottom": null,
       "border_left": null,
       "border_right": null,
       "border_top": null,
       "bottom": null,
       "display": null,
       "flex": null,
       "flex_flow": null,
       "grid_area": null,
       "grid_auto_columns": null,
       "grid_auto_flow": null,
       "grid_auto_rows": null,
       "grid_column": null,
       "grid_gap": null,
       "grid_row": null,
       "grid_template_areas": null,
       "grid_template_columns": null,
       "grid_template_rows": null,
       "height": null,
       "justify_content": null,
       "justify_items": null,
       "left": null,
       "margin": null,
       "max_height": null,
       "max_width": null,
       "min_height": null,
       "min_width": null,
       "object_fit": null,
       "object_position": null,
       "order": null,
       "overflow": null,
       "padding": null,
       "right": null,
       "top": null,
       "visibility": null,
       "width": null
      }
     },
     "57a5e5d928cd408eb67faa8a15bbede2": {
      "model_module": "@jupyter-widgets/output",
      "model_module_version": "1.0.0",
      "model_name": "OutputModel",
      "state": {
       "_dom_classes": [],
       "_model_module": "@jupyter-widgets/output",
       "_model_module_version": "1.0.0",
       "_model_name": "OutputModel",
       "_view_count": null,
       "_view_module": "@jupyter-widgets/output",
       "_view_module_version": "1.0.0",
       "_view_name": "OutputView",
       "layout": "IPY_MODEL_59ab05579dff4bfb8a8c978bba4a1171",
       "msg_id": "",
       "outputs": [
        {
         "data": {
          "application/vnd.jupyter.widget-view+json": {
           "model_id": "1501a8e98bda4d00943d24f55575ff74",
           "version_major": 2,
           "version_minor": 0
          },
          "text/plain": "HTML(value='<pre>┌────────────┬────────────┬───────────────────┬─────────────────────┬───────────────────┬────…"
         },
         "metadata": {},
         "output_type": "display_data"
        }
       ],
       "tabbable": null,
       "tooltip": null
      }
     },
     "58abf8d782b7464dba486948ef6b4342": {
      "model_module": "@jupyter-widgets/output",
      "model_module_version": "1.0.0",
      "model_name": "OutputModel",
      "state": {
       "_dom_classes": [],
       "_model_module": "@jupyter-widgets/output",
       "_model_module_version": "1.0.0",
       "_model_name": "OutputModel",
       "_view_count": null,
       "_view_module": "@jupyter-widgets/output",
       "_view_module_version": "1.0.0",
       "_view_name": "OutputView",
       "layout": "IPY_MODEL_41f6d3073d3e466eb19c7bc6296e4721",
       "msg_id": "",
       "outputs": [
        {
         "data": {
          "application/vnd.jupyter.widget-view+json": {
           "model_id": "f8180ac1e0fd438382f08f4cdd323a77",
           "version_major": 2,
           "version_minor": 0
          },
          "text/plain": "HTML(value='<pre>┌────────────┬─────────────────────┬────────────┬─────────────┬───────────────┬──────────────…"
         },
         "metadata": {},
         "output_type": "display_data"
        }
       ],
       "tabbable": null,
       "tooltip": null
      }
     },
     "59ab05579dff4bfb8a8c978bba4a1171": {
      "model_module": "@jupyter-widgets/base",
      "model_module_version": "2.0.0",
      "model_name": "LayoutModel",
      "state": {
       "_model_module": "@jupyter-widgets/base",
       "_model_module_version": "2.0.0",
       "_model_name": "LayoutModel",
       "_view_count": null,
       "_view_module": "@jupyter-widgets/base",
       "_view_module_version": "2.0.0",
       "_view_name": "LayoutView",
       "align_content": null,
       "align_items": null,
       "align_self": null,
       "border_bottom": null,
       "border_left": null,
       "border_right": null,
       "border_top": null,
       "bottom": null,
       "display": null,
       "flex": null,
       "flex_flow": null,
       "grid_area": null,
       "grid_auto_columns": null,
       "grid_auto_flow": null,
       "grid_auto_rows": null,
       "grid_column": null,
       "grid_gap": null,
       "grid_row": null,
       "grid_template_areas": null,
       "grid_template_columns": null,
       "grid_template_rows": null,
       "height": null,
       "justify_content": null,
       "justify_items": null,
       "left": null,
       "margin": null,
       "max_height": null,
       "max_width": null,
       "min_height": null,
       "min_width": null,
       "object_fit": null,
       "object_position": null,
       "order": null,
       "overflow": null,
       "padding": null,
       "right": null,
       "top": null,
       "visibility": null,
       "width": "100%"
      }
     },
     "5b042c2058964bc49a235afea7af6552": {
      "model_module": "@jupyter-widgets/controls",
      "model_module_version": "2.0.0",
      "model_name": "HTMLModel",
      "state": {
       "_dom_classes": [],
       "_model_module": "@jupyter-widgets/controls",
       "_model_module_version": "2.0.0",
       "_model_name": "HTMLModel",
       "_view_count": null,
       "_view_module": "@jupyter-widgets/controls",
       "_view_module_version": "2.0.0",
       "_view_name": "HTMLView",
       "description": "",
       "description_allow_html": false,
       "layout": "IPY_MODEL_a49fb45169b84635ae8f77253c80716c",
       "placeholder": "​",
       "style": "IPY_MODEL_7f1be549e98549fb910a96290d069199",
       "tabbable": null,
       "tooltip": null,
       "value": "<pre>┌────────────┬────────────┬───────────────┬─────────────────────┬────────────┬───────────────────┬─────────────────┬───────────────────┬───────────────────────┬───────────────┬────────────────────────┬─────────────┬─────────────┬───────────────────────┬─────────────────┬─────────────────────────┬────────────────┬────────────────┬────────────────┬────────────────┬─────────────────┬──────────────┬─────────────────────┬───────────────────────┬───────────────────┬──────────────────────────┬───────────────────────────┬────────────────────────┬─────────────┬─────────────┬─────────────┬──────────────┬──────────────────┬─────────────┬──────────────────┬───────────────┬───────────────┬─────────────┬─────────────┬──────────────┬─────────────┬──────────────────────────────┬──────────────────────────────┬───────────────────────┬────────────────────────────────┐\n│   COLUMN_1 │   COLUMN_2 │      COLUMN_3 │            COLUMN_4 │   COLUMN_5 │          COLUMN_6 │        COLUMN_7 │          COLUMN_8 │              COLUMN_9 │     COLUMN_10 │              COLUMN_11 │   COLUMN_12 │   COLUMN_13 │             COLUMN_14 │       COLUMN_15 │               COLUMN_16 │      COLUMN_17 │      COLUMN_18 │      COLUMN_19 │      COLUMN_20 │       COLUMN_21 │    COLUMN_22 │           COLUMN_23 │             COLUMN_24 │         COLUMN_25 │                COLUMN_26 │                 COLUMN_27 │              COLUMN_28 │   COLUMN_29 │   COLUMN_30 │   COLUMN_31 │    COLUMN_32 │        COLUMN_33 │   COLUMN_34 │        COLUMN_35 │     COLUMN_36 │     COLUMN_37 │   COLUMN_38 │   COLUMN_39 │    COLUMN_40 │   COLUMN_41 │                    COLUMN_42 │                    COLUMN_43 │             COLUMN_44 │                      COLUMN_45 │\n├────────────┼────────────┼───────────────┼─────────────────────┼────────────┼───────────────────┼─────────────────┼───────────────────┼───────────────────────┼───────────────┼────────────────────────┼─────────────┼─────────────┼───────────────────────┼─────────────────┼─────────────────────────┼────────────────┼────────────────┼────────────────┼────────────────┼─────────────────┼──────────────┼─────────────────────┼───────────────────────┼───────────────────┼──────────────────────────┼───────────────────────────┼────────────────────────┼─────────────┼─────────────┼─────────────┼──────────────┼──────────────────┼─────────────┼──────────────────┼───────────────┼───────────────┼─────────────┼─────────────┼──────────────┼─────────────┼──────────────────────────────┼──────────────────────────────┼───────────────────────┼────────────────────────────────┤\n│      pwsid │   pws_name │ npm_candidate │ primacy_agency_code │ epa_region │ season_begin_date │ season_end_date │ pws_activity_code │ pws_deactivation_date │ pws_type_code │ dbpr_schedule_cat_code │      cds_id │  gw_sw_code │ lt2_schedule_cat_code │ owner_type_code │ population_served_count │ pop_cat_2_code │ pop_cat_3_code │ pop_cat_4_code │ pop_cat_5_code │ pop_cat_11_code │ primacy_type │ primary_source_code │ is_grant_eligible_ind │ is_wholesaler_ind │ is_school_or_daycare_ind │ service_connections_count │ submission_status_code │    org_name │  admin_name │  email_addr │ phone_number │ phone_ext_number │  fax_number │ alt_phone_number │ address_line1 │ address_line2 │   city_name │    zip_code │ country_code │  state_code │ source_water_protection_code │ source_protection_begin_date │ outstanding_performer │ outstanding_perform_begin_date │\n└────────────┴────────────┴───────────────┴─────────────────────┴────────────┴───────────────────┴─────────────────┴───────────────────┴───────────────────────┴───────────────┴────────────────────────┴─────────────┴─────────────┴───────────────────────┴─────────────────┴─────────────────────────┴────────────────┴────────────────┴────────────────┴────────────────┴─────────────────┴──────────────┴─────────────────────┴───────────────────────┴───────────────────┴──────────────────────────┴───────────────────────────┴────────────────────────┴─────────────┴─────────────┴─────────────┴──────────────┴──────────────────┴─────────────┴──────────────────┴───────────────┴───────────────┴─────────────┴─────────────┴──────────────┴─────────────┴──────────────────────────────┴──────────────────────────────┴───────────────────────┴────────────────────────────────┘</pre>"
      }
     },
     "60037a7a8a6e4efea72e8c71ce546f81": {
      "model_module": "@jupyter-widgets/controls",
      "model_module_version": "2.0.0",
      "model_name": "HTMLModel",
      "state": {
       "_dom_classes": [],
       "_model_module": "@jupyter-widgets/controls",
       "_model_module_version": "2.0.0",
       "_model_name": "HTMLModel",
       "_view_count": null,
       "_view_module": "@jupyter-widgets/controls",
       "_view_module_version": "2.0.0",
       "_view_name": "HTMLView",
       "description": "",
       "description_allow_html": false,
       "layout": "IPY_MODEL_3a6b9a4a9467450b8073890e7224909b",
       "placeholder": "​",
       "style": "IPY_MODEL_87bde1ce6b624707864bb6c88ebbc07d",
       "tabbable": null,
       "tooltip": null,
       "value": "<pre>┌────────────┬────────────────┬─────────────────┬──────────────────┬──────────────────────────────┬──────────────────────────┐\n│   COLUMN_1 │       COLUMN_2 │        COLUMN_3 │         COLUMN_4 │                     COLUMN_5 │                 COLUMN_6 │\n├────────────┼────────────────┼─────────────────┼──────────────────┼──────────────────────────────┼──────────────────────────┤\n│      pwsid │ enforcement_id │ originator_code │ enforcement_date │ enforcement_action_type_code │ enforcement_comment_text │\n└────────────┴────────────────┴─────────────────┴──────────────────┴──────────────────────────────┴──────────────────────────┘</pre>"
      }
     },
     "60e394a39d254849becee1e47d6b2230": {
      "model_module": "@jupyter-widgets/base",
      "model_module_version": "2.0.0",
      "model_name": "LayoutModel",
      "state": {
       "_model_module": "@jupyter-widgets/base",
       "_model_module_version": "2.0.0",
       "_model_name": "LayoutModel",
       "_view_count": null,
       "_view_module": "@jupyter-widgets/base",
       "_view_module_version": "2.0.0",
       "_view_name": "LayoutView",
       "align_content": null,
       "align_items": null,
       "align_self": null,
       "border_bottom": null,
       "border_left": null,
       "border_right": null,
       "border_top": null,
       "bottom": null,
       "display": null,
       "flex": null,
       "flex_flow": null,
       "grid_area": null,
       "grid_auto_columns": null,
       "grid_auto_flow": null,
       "grid_auto_rows": null,
       "grid_column": null,
       "grid_gap": null,
       "grid_row": null,
       "grid_template_areas": null,
       "grid_template_columns": null,
       "grid_template_rows": null,
       "height": null,
       "justify_content": null,
       "justify_items": null,
       "left": null,
       "margin": null,
       "max_height": null,
       "max_width": null,
       "min_height": null,
       "min_width": null,
       "object_fit": null,
       "object_position": null,
       "order": null,
       "overflow": null,
       "padding": null,
       "right": null,
       "top": null,
       "visibility": null,
       "width": "100%"
      }
     },
     "6520c174ea7b49ca8b7196e570ea40f8": {
      "model_module": "@jupyter-widgets/controls",
      "model_module_version": "2.0.0",
      "model_name": "HTMLStyleModel",
      "state": {
       "_model_module": "@jupyter-widgets/controls",
       "_model_module_version": "2.0.0",
       "_model_name": "HTMLStyleModel",
       "_view_count": null,
       "_view_module": "@jupyter-widgets/base",
       "_view_module_version": "2.0.0",
       "_view_name": "StyleView",
       "background": null,
       "description_width": "",
       "font_size": null,
       "text_color": null
      }
     },
     "6d007dacdad94d15a2b45e11659929ac": {
      "model_module": "@jupyter-widgets/controls",
      "model_module_version": "2.0.0",
      "model_name": "HTMLStyleModel",
      "state": {
       "_model_module": "@jupyter-widgets/controls",
       "_model_module_version": "2.0.0",
       "_model_name": "HTMLStyleModel",
       "_view_count": null,
       "_view_module": "@jupyter-widgets/base",
       "_view_module_version": "2.0.0",
       "_view_name": "StyleView",
       "background": null,
       "description_width": "",
       "font_size": null,
       "text_color": null
      }
     },
     "79f1eb6e312e465c9f4d5108a8226697": {
      "model_module": "@jupyter-widgets/controls",
      "model_module_version": "2.0.0",
      "model_name": "HTMLStyleModel",
      "state": {
       "_model_module": "@jupyter-widgets/controls",
       "_model_module_version": "2.0.0",
       "_model_name": "HTMLStyleModel",
       "_view_count": null,
       "_view_module": "@jupyter-widgets/base",
       "_view_module_version": "2.0.0",
       "_view_name": "StyleView",
       "background": null,
       "description_width": "",
       "font_size": null,
       "text_color": null
      }
     },
     "7f1be549e98549fb910a96290d069199": {
      "model_module": "@jupyter-widgets/controls",
      "model_module_version": "2.0.0",
      "model_name": "HTMLStyleModel",
      "state": {
       "_model_module": "@jupyter-widgets/controls",
       "_model_module_version": "2.0.0",
       "_model_name": "HTMLStyleModel",
       "_view_count": null,
       "_view_module": "@jupyter-widgets/base",
       "_view_module_version": "2.0.0",
       "_view_name": "StyleView",
       "background": null,
       "description_width": "",
       "font_size": null,
       "text_color": null
      }
     },
     "81e3b514f4fb4a16b2d4b9b866dec8d0": {
      "model_module": "@jupyter-widgets/controls",
      "model_module_version": "2.0.0",
      "model_name": "HTMLModel",
      "state": {
       "_dom_classes": [],
       "_model_module": "@jupyter-widgets/controls",
       "_model_module_version": "2.0.0",
       "_model_name": "HTMLModel",
       "_view_count": null,
       "_view_module": "@jupyter-widgets/controls",
       "_view_module_version": "2.0.0",
       "_view_name": "HTMLView",
       "description": "",
       "description_allow_html": false,
       "layout": "IPY_MODEL_4f40c8695a204f5297b9f9bcd5858c58",
       "placeholder": "​",
       "style": "IPY_MODEL_3a30f0644e7f4497a29a89675acd0d02",
       "tabbable": null,
       "tooltip": null,
       "value": "<pre>┌────────────┬──────────────┬─────────────┬─────────────────────────┬───────────────┬───────────────────┬───────────────────────┬─────────────────────┬────────────────┬─────────────────────┬─────────────┬───────────────┬────────────────┬─────────────────────────┬─────────────────────┬──────────────────┬────────────────────────┬──────────────┬─────────────────┬─────────────┬───────────────────┬──────────────────┬──────────────────────┬────────────────────┬───────────────────────┬────────────────────┬─────────────┬──────────────────────────┬─────────────────┬──────────────────┬──────────────────────┬─────────────┬─────────────────┬──────────────────┐\n│   COLUMN_1 │     COLUMN_2 │    COLUMN_3 │                COLUMN_4 │      COLUMN_5 │          COLUMN_6 │              COLUMN_7 │            COLUMN_8 │       COLUMN_9 │           COLUMN_10 │   COLUMN_11 │     COLUMN_12 │      COLUMN_13 │               COLUMN_14 │           COLUMN_15 │        COLUMN_16 │              COLUMN_17 │    COLUMN_18 │       COLUMN_19 │   COLUMN_20 │         COLUMN_21 │        COLUMN_22 │            COLUMN_23 │          COLUMN_24 │             COLUMN_25 │          COLUMN_26 │   COLUMN_27 │                COLUMN_28 │       COLUMN_29 │        COLUMN_30 │            COLUMN_31 │   COLUMN_32 │       COLUMN_33 │        COLUMN_34 │\n├────────────┼──────────────┼─────────────┼─────────────────────────┼───────────────┼───────────────────┼───────────────────────┼─────────────────────┼────────────────┼─────────────────────┼─────────────┼───────────────┼────────────────┼─────────────────────────┼─────────────────────┼──────────────────┼────────────────────────┼──────────────┼─────────────────┼─────────────┼───────────────────┼──────────────────┼──────────────────────┼────────────────────┼───────────────────────┼────────────────────┼─────────────┼──────────────────────────┼─────────────────┼──────────────────┼──────────────────────┼─────────────┼─────────────────┼──────────────────┤\n│      pwsid │ violation_id │ facility_id │ population_served_count │ npm_candidate │ pws_activity_code │ pws_deactivation_date │ primary_source_code │ pop_cat_5_code │ primacy_agency_code │  epa_region │ pws_type_code │ violation_code │ violation_category_code │ is_health_based_ind │ contaminant_code │ compliance_status_code │ viol_measure │ unit_of_measure │   state_mcl │ is_major_viol_ind │ severity_ind_cnt │ compl_per_begin_date │ compl_per_end_date │ latest_enforcement_id │ rtc_enforcement_id │    rtc_date │ public_notification_tier │ originator_code │ sample_result_id │ corrective_action_id │   rule_code │ rule_group_code │ rule_family_code │\n└────────────┴──────────────┴─────────────┴─────────────────────────┴───────────────┴───────────────────┴───────────────────────┴─────────────────────┴────────────────┴─────────────────────┴─────────────┴───────────────┴────────────────┴─────────────────────────┴─────────────────────┴──────────────────┴────────────────────────┴──────────────┴─────────────────┴─────────────┴───────────────────┴──────────────────┴──────────────────────┴────────────────────┴───────────────────────┴────────────────────┴─────────────┴──────────────────────────┴─────────────────┴──────────────────┴──────────────────────┴─────────────┴─────────────────┴──────────────────┘</pre>"
      }
     },
     "85adda69db2c4b2d8bc5f34d439e5369": {
      "model_module": "@jupyter-widgets/controls",
      "model_module_version": "2.0.0",
      "model_name": "HTMLModel",
      "state": {
       "_dom_classes": [],
       "_model_module": "@jupyter-widgets/controls",
       "_model_module_version": "2.0.0",
       "_model_name": "HTMLModel",
       "_view_count": null,
       "_view_module": "@jupyter-widgets/controls",
       "_view_module_version": "2.0.0",
       "_view_name": "HTMLView",
       "description": "",
       "description_allow_html": false,
       "layout": "IPY_MODEL_960be718dfc04cebb6740e7326b76a25",
       "placeholder": "​",
       "style": "IPY_MODEL_8da0d1df0e8a4fbd989cdd2974a16818",
       "tabbable": null,
       "tooltip": null,
       "value": "<pre>┌────────────┬─────────────────────┬────────────┬───────────────────┬───────────────┬────────────────────────┬──────────────────────────────┐\n│   COLUMN_1 │            COLUMN_2 │   COLUMN_3 │          COLUMN_4 │      COLUMN_5 │               COLUMN_6 │                     COLUMN_7 │\n├────────────┼─────────────────────┼────────────┼───────────────────┼───────────────┼────────────────────────┼──────────────────────────────┤\n│      pwsid │ primacy_agency_code │ epa_region │ pws_activity_code │ pws_type_code │ service_area_type_code │ is_primary_service_area_code │\n└────────────┴─────────────────────┴────────────┴───────────────────┴───────────────┴────────────────────────┴──────────────────────────────┘</pre>"
      }
     },
     "87bde1ce6b624707864bb6c88ebbc07d": {
      "model_module": "@jupyter-widgets/controls",
      "model_module_version": "2.0.0",
      "model_name": "HTMLStyleModel",
      "state": {
       "_model_module": "@jupyter-widgets/controls",
       "_model_module_version": "2.0.0",
       "_model_name": "HTMLStyleModel",
       "_view_count": null,
       "_view_module": "@jupyter-widgets/base",
       "_view_module_version": "2.0.0",
       "_view_name": "StyleView",
       "background": null,
       "description_width": "",
       "font_size": null,
       "text_color": null
      }
     },
     "8c3ce14b7b1345b0ba1556535f9605ee": {
      "model_module": "@jupyter-widgets/base",
      "model_module_version": "2.0.0",
      "model_name": "LayoutModel",
      "state": {
       "_model_module": "@jupyter-widgets/base",
       "_model_module_version": "2.0.0",
       "_model_name": "LayoutModel",
       "_view_count": null,
       "_view_module": "@jupyter-widgets/base",
       "_view_module_version": "2.0.0",
       "_view_name": "LayoutView",
       "align_content": null,
       "align_items": null,
       "align_self": null,
       "border_bottom": null,
       "border_left": null,
       "border_right": null,
       "border_top": null,
       "bottom": null,
       "display": null,
       "flex": null,
       "flex_flow": null,
       "grid_area": null,
       "grid_auto_columns": null,
       "grid_auto_flow": null,
       "grid_auto_rows": null,
       "grid_column": null,
       "grid_gap": null,
       "grid_row": null,
       "grid_template_areas": null,
       "grid_template_columns": null,
       "grid_template_rows": null,
       "height": null,
       "justify_content": null,
       "justify_items": null,
       "left": null,
       "margin": null,
       "max_height": null,
       "max_width": null,
       "min_height": null,
       "min_width": null,
       "object_fit": null,
       "object_position": null,
       "order": null,
       "overflow": null,
       "padding": null,
       "right": null,
       "top": null,
       "visibility": null,
       "width": null
      }
     },
     "8da0d1df0e8a4fbd989cdd2974a16818": {
      "model_module": "@jupyter-widgets/controls",
      "model_module_version": "2.0.0",
      "model_name": "HTMLStyleModel",
      "state": {
       "_model_module": "@jupyter-widgets/controls",
       "_model_module_version": "2.0.0",
       "_model_name": "HTMLStyleModel",
       "_view_count": null,
       "_view_module": "@jupyter-widgets/base",
       "_view_module_version": "2.0.0",
       "_view_name": "StyleView",
       "background": null,
       "description_width": "",
       "font_size": null,
       "text_color": null
      }
     },
     "960be718dfc04cebb6740e7326b76a25": {
      "model_module": "@jupyter-widgets/base",
      "model_module_version": "2.0.0",
      "model_name": "LayoutModel",
      "state": {
       "_model_module": "@jupyter-widgets/base",
       "_model_module_version": "2.0.0",
       "_model_name": "LayoutModel",
       "_view_count": null,
       "_view_module": "@jupyter-widgets/base",
       "_view_module_version": "2.0.0",
       "_view_name": "LayoutView",
       "align_content": null,
       "align_items": null,
       "align_self": null,
       "border_bottom": null,
       "border_left": null,
       "border_right": null,
       "border_top": null,
       "bottom": null,
       "display": null,
       "flex": null,
       "flex_flow": null,
       "grid_area": null,
       "grid_auto_columns": null,
       "grid_auto_flow": null,
       "grid_auto_rows": null,
       "grid_column": null,
       "grid_gap": null,
       "grid_row": null,
       "grid_template_areas": null,
       "grid_template_columns": null,
       "grid_template_rows": null,
       "height": null,
       "justify_content": null,
       "justify_items": null,
       "left": null,
       "margin": null,
       "max_height": null,
       "max_width": null,
       "min_height": null,
       "min_width": null,
       "object_fit": null,
       "object_position": null,
       "order": null,
       "overflow": null,
       "padding": null,
       "right": null,
       "top": null,
       "visibility": null,
       "width": null
      }
     },
     "96facc9d772a4340b9e763f9a464be2f": {
      "model_module": "@jupyter-widgets/output",
      "model_module_version": "1.0.0",
      "model_name": "OutputModel",
      "state": {
       "_dom_classes": [],
       "_model_module": "@jupyter-widgets/output",
       "_model_module_version": "1.0.0",
       "_model_name": "OutputModel",
       "_view_count": null,
       "_view_module": "@jupyter-widgets/output",
       "_view_module_version": "1.0.0",
       "_view_name": "OutputView",
       "layout": "IPY_MODEL_21079694ac1c4db99e89be036083be4d",
       "msg_id": "",
       "outputs": [
        {
         "data": {
          "application/vnd.jupyter.widget-view+json": {
           "model_id": "a0f90839ca0443fd8e5f6b5c8797a943",
           "version_major": 2,
           "version_minor": 0
          },
          "text/plain": "HTML(value='<pre>┌────────────┬─────────────┬──────────────┬───────────────┬──────────────────────────┬───────…"
         },
         "metadata": {},
         "output_type": "display_data"
        }
       ],
       "tabbable": null,
       "tooltip": null
      }
     },
     "9d2db35763984f8c8a6f2a6865582099": {
      "model_module": "@jupyter-widgets/base",
      "model_module_version": "2.0.0",
      "model_name": "LayoutModel",
      "state": {
       "_model_module": "@jupyter-widgets/base",
       "_model_module_version": "2.0.0",
       "_model_name": "LayoutModel",
       "_view_count": null,
       "_view_module": "@jupyter-widgets/base",
       "_view_module_version": "2.0.0",
       "_view_name": "LayoutView",
       "align_content": null,
       "align_items": null,
       "align_self": null,
       "border_bottom": null,
       "border_left": null,
       "border_right": null,
       "border_top": null,
       "bottom": null,
       "display": null,
       "flex": null,
       "flex_flow": null,
       "grid_area": null,
       "grid_auto_columns": null,
       "grid_auto_flow": null,
       "grid_auto_rows": null,
       "grid_column": null,
       "grid_gap": null,
       "grid_row": null,
       "grid_template_areas": null,
       "grid_template_columns": null,
       "grid_template_rows": null,
       "height": null,
       "justify_content": null,
       "justify_items": null,
       "left": null,
       "margin": null,
       "max_height": null,
       "max_width": null,
       "min_height": null,
       "min_width": null,
       "object_fit": null,
       "object_position": null,
       "order": null,
       "overflow": null,
       "padding": null,
       "right": null,
       "top": null,
       "visibility": null,
       "width": null
      }
     },
     "a0f90839ca0443fd8e5f6b5c8797a943": {
      "model_module": "@jupyter-widgets/controls",
      "model_module_version": "2.0.0",
      "model_name": "HTMLModel",
      "state": {
       "_dom_classes": [],
       "_model_module": "@jupyter-widgets/controls",
       "_model_module_version": "2.0.0",
       "_model_name": "HTMLModel",
       "_view_count": null,
       "_view_module": "@jupyter-widgets/controls",
       "_view_module_version": "2.0.0",
       "_view_name": "HTMLView",
       "description": "",
       "description_allow_html": false,
       "layout": "IPY_MODEL_e87efb2258aa4ab787afbbcc7b43994e",
       "placeholder": "​",
       "style": "IPY_MODEL_08bf7930a6ef4a33ad1896c577417b2b",
       "tabbable": null,
       "tooltip": null,
       "value": "<pre>┌────────────┬─────────────┬──────────────┬───────────────┬──────────────────────────┬────────────────────────┐\n│   COLUMN_1 │    COLUMN_2 │     COLUMN_3 │      COLUMN_4 │                 COLUMN_5 │               COLUMN_6 │\n├────────────┼─────────────┼──────────────┼───────────────┼──────────────────────────┼────────────────────────┤\n│      pwsid │ facility_id │ treatment_id │ comments_text │ treatment_objective_code │ treatment_process_code │\n└────────────┴─────────────┴──────────────┴───────────────┴──────────────────────────┴────────────────────────┘</pre>"
      }
     },
     "a2cb48781f4c4ab893fa25ecc8a72c42": {
      "model_module": "@jupyter-widgets/output",
      "model_module_version": "1.0.0",
      "model_name": "OutputModel",
      "state": {
       "_dom_classes": [],
       "_model_module": "@jupyter-widgets/output",
       "_model_module_version": "1.0.0",
       "_model_name": "OutputModel",
       "_view_count": null,
       "_view_module": "@jupyter-widgets/output",
       "_view_module_version": "1.0.0",
       "_view_name": "OutputView",
       "layout": "IPY_MODEL_1ee375b687a340d78dfd6881b64dd041",
       "msg_id": "",
       "outputs": [
        {
         "data": {
          "application/vnd.jupyter.widget-view+json": {
           "model_id": "81e3b514f4fb4a16b2d4b9b866dec8d0",
           "version_major": 2,
           "version_minor": 0
          },
          "text/plain": "HTML(value='<pre>┌────────────┬──────────────┬─────────────┬─────────────────────────┬───────────────┬────────…"
         },
         "metadata": {},
         "output_type": "display_data"
        }
       ],
       "tabbable": null,
       "tooltip": null
      }
     },
     "a49fb45169b84635ae8f77253c80716c": {
      "model_module": "@jupyter-widgets/base",
      "model_module_version": "2.0.0",
      "model_name": "LayoutModel",
      "state": {
       "_model_module": "@jupyter-widgets/base",
       "_model_module_version": "2.0.0",
       "_model_name": "LayoutModel",
       "_view_count": null,
       "_view_module": "@jupyter-widgets/base",
       "_view_module_version": "2.0.0",
       "_view_name": "LayoutView",
       "align_content": null,
       "align_items": null,
       "align_self": null,
       "border_bottom": null,
       "border_left": null,
       "border_right": null,
       "border_top": null,
       "bottom": null,
       "display": null,
       "flex": null,
       "flex_flow": null,
       "grid_area": null,
       "grid_auto_columns": null,
       "grid_auto_flow": null,
       "grid_auto_rows": null,
       "grid_column": null,
       "grid_gap": null,
       "grid_row": null,
       "grid_template_areas": null,
       "grid_template_columns": null,
       "grid_template_rows": null,
       "height": null,
       "justify_content": null,
       "justify_items": null,
       "left": null,
       "margin": null,
       "max_height": null,
       "max_width": null,
       "min_height": null,
       "min_width": null,
       "object_fit": null,
       "object_position": null,
       "order": null,
       "overflow": null,
       "padding": null,
       "right": null,
       "top": null,
       "visibility": null,
       "width": null
      }
     },
     "b00a6f1bb9bf4fff83030fb7b34a1ede": {
      "model_module": "@jupyter-widgets/controls",
      "model_module_version": "2.0.0",
      "model_name": "HTMLModel",
      "state": {
       "_dom_classes": [],
       "_model_module": "@jupyter-widgets/controls",
       "_model_module_version": "2.0.0",
       "_model_name": "HTMLModel",
       "_view_count": null,
       "_view_module": "@jupyter-widgets/controls",
       "_view_module_version": "2.0.0",
       "_view_name": "HTMLView",
       "description": "",
       "description_allow_html": false,
       "layout": "IPY_MODEL_3bba6b42bf23466e9b7aa273ccb4931d",
       "placeholder": "​",
       "style": "IPY_MODEL_6520c174ea7b49ca8b7196e570ea40f8",
       "tabbable": null,
       "tooltip": null,
       "value": "<pre>┌───────────────────────┬──────────────────────────────────────────────────────────────────────────────────────────────────────────────────────────────────────────────────────────────────────────────────────────────────────────────────────────────────────────────────────────────────────────────────────────────────────────────────────────────────────────────────────────────────────────────────────────────────────────────────────────────────────────────────────────────────────────────────────────────────────────────────────────────────────────────────────────────────────────────────────────────────────────────────────────────────────────────────────────────────────────────────────────────────────────────────────────────────────────────────────────────────────────────────────────────────┐\n│ column_names          │ description                                                                                                                                                                                                                                                                                                                                                                                                                                                                                                                                                                                                                                                                                                                                                                                      │\n├───────────────────────┼──────────────────────────────────────────────────────────────────────────────────────────────────────────────────────────────────────────────────────────────────────────────────────────────────────────────────────────────────────────────────────────────────────────────────────────────────────────────────────────────────────────────────────────────────────────────────────────────────────────────────────────────────────────────────────────────────────────────────────────────────────────────────────────────────────────────────────────────────────────────────────────────────────────────────────────────────────────────────────────────────────────────────────────────────────────────────────────────────────────────────────────────────────────────────────────────────┤\n│ ENFORCEMENT_ACTION    │ Documents actions taken against a Public Water System (PWS), laboratory, or operator. Includes requirements that must be met in order to rectify a failure to perform under the Public Water Supply Supervision (PWSS) Program. Enforcement actions are informal and formal. They may be issued by the Primacy State (or its representative) or the EPA. Examples: administrative and civil/criminal legal actions, warning notices, citations, orders to follow water treatment procedures, orders to follow sampling requirements, orders to resolve violations, moratoriums on connections, temporary injunctions, restraining orders, penalties, and orders to comply with reporting requirements. Example descriptors: type of enforcement action, directed actions, and milestone date(s). │\n├───────────────────────┼──────────────────────────────────────────────────────────────────────────────────────────────────────────────────────────────────────────────────────────────────────────────────────────────────────────────────────────────────────────────────────────────────────────────────────────────────────────────────────────────────────────────────────────────────────────────────────────────────────────────────────────────────────────────────────────────────────────────────────────────────────────────────────────────────────────────────────────────────────────────────────────────────────────────────────────────────────────────────────────────────────────────────────────────────────────────────────────────────────────────────────────────────────────────────────────────────┤\n│ GEOGRAPHIC_AREA       │ Information on political units established by geographic boundaries, such as state, town, or county served by a Water System.                                                                                                                                                                                                                                                                                                                                                                                                                                                                                                                                                                                                                                                                    │\n├───────────────────────┼──────────────────────────────────────────────────────────────────────────────────────────────────────────────────────────────────────────────────────────────────────────────────────────────────────────────────────────────────────────────────────────────────────────────────────────────────────────────────────────────────────────────────────────────────────────────────────────────────────────────────────────────────────────────────────────────────────────────────────────────────────────────────────────────────────────────────────────────────────────────────────────────────────────────────────────────────────────────────────────────────────────────────────────────────────────────────────────────────────────────────────────────────────────────────────────────────┤\n│ LCR_SAMPLE_RESULT     │ 90th percentile sample summary results data for lead or copper.                                                                                                                                                                                                                                                                                                                                                                                                                                                                                                                                                                                                                                                                                                                                  │\n├───────────────────────┼──────────────────────────────────────────────────────────────────────────────────────────────────────────────────────────────────────────────────────────────────────────────────────────────────────────────────────────────────────────────────────────────────────────────────────────────────────────────────────────────────────────────────────────────────────────────────────────────────────────────────────────────────────────────────────────────────────────────────────────────────────────────────────────────────────────────────────────────────────────────────────────────────────────────────────────────────────────────────────────────────────────────────────────────────────────────────────────────────────────────────────────────────────────────────────────────────┤\n│ LCR_SAMPLE            │ 90th percentile sample summaries data for lead or copper.                                                                                                                                                                                                                                                                                                                                                                                                                                                                                                                                                                                                                                                                                                                                        │\n├───────────────────────┼──────────────────────────────────────────────────────────────────────────────────────────────────────────────────────────────────────────────────────────────────────────────────────────────────────────────────────────────────────────────────────────────────────────────────────────────────────────────────────────────────────────────────────────────────────────────────────────────────────────────────────────────────────────────────────────────────────────────────────────────────────────────────────────────────────────────────────────────────────────────────────────────────────────────────────────────────────────────────────────────────────────────────────────────────────────────────────────────────────────────────────────────────────────────────────────────────┤\n│ SERVICE_AREA          │ A service area defines the sensitive populations that receive water from the water system.                                                                                                                                                                                                                                                                                                                                                                                                                                                                                                                                                                                                                                                                                                       │\n├───────────────────────┼──────────────────────────────────────────────────────────────────────────────────────────────────────────────────────────────────────────────────────────────────────────────────────────────────────────────────────────────────────────────────────────────────────────────────────────────────────────────────────────────────────────────────────────────────────────────────────────────────────────────────────────────────────────────────────────────────────────────────────────────────────────────────────────────────────────────────────────────────────────────────────────────────────────────────────────────────────────────────────────────────────────────────────────────────────────────────────────────────────────────────────────────────────────────────────────────────┤\n│ TREATMENT             │ Treatment objectives and process for treating water from a water system facility.                                                                                                                                                                                                                                                                                                                                                                                                                                                                                                                                                                                                                                                                                                                │\n├───────────────────────┼──────────────────────────────────────────────────────────────────────────────────────────────────────────────────────────────────────────────────────────────────────────────────────────────────────────────────────────────────────────────────────────────────────────────────────────────────────────────────────────────────────────────────────────────────────────────────────────────────────────────────────────────────────────────────────────────────────────────────────────────────────────────────────────────────────────────────────────────────────────────────────────────────────────────────────────────────────────────────────────────────────────────────────────────────────────────────────────────────────────────────────────────────────────────────────────────────┤\n│ WATER_SYSTEM          │ Inventory information on public water systems.                                                                                                                                                                                                                                                                                                                                                                                                                                                                                                                                                                                                                                                                                                                                                   │\n├───────────────────────┼──────────────────────────────────────────────────────────────────────────────────────────────────────────────────────────────────────────────────────────────────────────────────────────────────────────────────────────────────────────────────────────────────────────────────────────────────────────────────────────────────────────────────────────────────────────────────────────────────────────────────────────────────────────────────────────────────────────────────────────────────────────────────────────────────────────────────────────────────────────────────────────────────────────────────────────────────────────────────────────────────────────────────────────────────────────────────────────────────────────────────────────────────────────────────────────────────┤\n│ WATER_SYSTEM_FACILITY │ Inventory information on public water system facilities.                                                                                                                                                                                                                                                                                                                                                                                                                                                                                                                                                                                                                                                                                                                                         │\n├───────────────────────┼──────────────────────────────────────────────────────────────────────────────────────────────────────────────────────────────────────────────────────────────────────────────────────────────────────────────────────────────────────────────────────────────────────────────────────────────────────────────────────────────────────────────────────────────────────────────────────────────────────────────────────────────────────────────────────────────────────────────────────────────────────────────────────────────────────────────────────────────────────────────────────────────────────────────────────────────────────────────────────────────────────────────────────────────────────────────────────────────────────────────────────────────────────────────────────────────────┤\n│ VIOLATION             │ Documents a breach of a requirement. Violations are detected by assessment of sample results or reviews (including on site visits). Violations may lead to legal actions or compliance orders. Violations are publicized, when required, by public notification. Violations may be remedied by compliance/enforcement remedies, such as improved filtration techniques or changes in procedures. Examples: Maximum Contaminant Level (MCL) violations, failure to replace lead service lines, monitoring and reporting violations, treatment technique violations, and procedural violations. Example descriptors: type, date, description, severity, and recommended corrective action(s) to include milestones.                                                                                │\n├───────────────────────┼──────────────────────────────────────────────────────────────────────────────────────────────────────────────────────────────────────────────────────────────────────────────────────────────────────────────────────────────────────────────────────────────────────────────────────────────────────────────────────────────────────────────────────────────────────────────────────────────────────────────────────────────────────────────────────────────────────────────────────────────────────────────────────────────────────────────────────────────────────────────────────────────────────────────────────────────────────────────────────────────────────────────────────────────────────────────────────────────────────────────────────────────────────────────────────────────────┤\n│ VIOLATION_ENF_ASSOC   │ Association between a violation and an enforcement action.                                                                                                                                                                                                                                                                                                                                                                                                                                                                                                                                                                                                                                                                                                                                       │\n└───────────────────────┴──────────────────────────────────────────────────────────────────────────────────────────────────────────────────────────────────────────────────────────────────────────────────────────────────────────────────────────────────────────────────────────────────────────────────────────────────────────────────────────────────────────────────────────────────────────────────────────────────────────────────────────────────────────────────────────────────────────────────────────────────────────────────────────────────────────────────────────────────────────────────────────────────────────────────────────────────────────────────────────────────────────────────────────────────────────────────────────────────────────────────────────────────────────────────────────────────┘</pre>"
      }
     },
     "ba29b2d869c74ea7a83ca247e823bc26": {
      "model_module": "@jupyter-widgets/base",
      "model_module_version": "2.0.0",
      "model_name": "LayoutModel",
      "state": {
       "_model_module": "@jupyter-widgets/base",
       "_model_module_version": "2.0.0",
       "_model_name": "LayoutModel",
       "_view_count": null,
       "_view_module": "@jupyter-widgets/base",
       "_view_module_version": "2.0.0",
       "_view_name": "LayoutView",
       "align_content": null,
       "align_items": null,
       "align_self": null,
       "border_bottom": null,
       "border_left": null,
       "border_right": null,
       "border_top": null,
       "bottom": null,
       "display": null,
       "flex": null,
       "flex_flow": null,
       "grid_area": null,
       "grid_auto_columns": null,
       "grid_auto_flow": null,
       "grid_auto_rows": null,
       "grid_column": null,
       "grid_gap": null,
       "grid_row": null,
       "grid_template_areas": null,
       "grid_template_columns": null,
       "grid_template_rows": null,
       "height": null,
       "justify_content": null,
       "justify_items": null,
       "left": null,
       "margin": null,
       "max_height": null,
       "max_width": null,
       "min_height": null,
       "min_width": null,
       "object_fit": null,
       "object_position": null,
       "order": null,
       "overflow": null,
       "padding": null,
       "right": null,
       "top": null,
       "visibility": null,
       "width": null
      }
     },
     "bf79362f55ee40559513f70dc9be4f94": {
      "model_module": "@jupyter-widgets/controls",
      "model_module_version": "2.0.0",
      "model_name": "HTMLModel",
      "state": {
       "_dom_classes": [],
       "_model_module": "@jupyter-widgets/controls",
       "_model_module_version": "2.0.0",
       "_model_name": "HTMLModel",
       "_view_count": null,
       "_view_module": "@jupyter-widgets/controls",
       "_view_module_version": "2.0.0",
       "_view_name": "HTMLView",
       "description": "",
       "description_allow_html": false,
       "layout": "IPY_MODEL_ba29b2d869c74ea7a83ca247e823bc26",
       "placeholder": "​",
       "style": "IPY_MODEL_dbc3f37ecd6640f38c43b9f4c827acb2",
       "tabbable": null,
       "tooltip": null,
       "value": "<pre>┌───────────────────────┬────────────────┬───────────────────┬────────────┬────────────────┬──────────────┐\n│              COLUMN_1 │       COLUMN_2 │          COLUMN_3 │   COLUMN_4 │       COLUMN_5 │     COLUMN_6 │\n├───────────────────────┼────────────────┼───────────────────┼────────────┼────────────────┼──────────────┤\n│ submissionyearquarter │ submissionyear │ submissionquarter │      pwsid │ enforcement_id │ violation_id │\n└───────────────────────┴────────────────┴───────────────────┴────────────┴────────────────┴──────────────┘</pre>"
      }
     },
     "bff7d010f16b4204b50e3284d1706008": {
      "model_module": "@jupyter-widgets/controls",
      "model_module_version": "2.0.0",
      "model_name": "HTMLModel",
      "state": {
       "_dom_classes": [],
       "_model_module": "@jupyter-widgets/controls",
       "_model_module_version": "2.0.0",
       "_model_name": "HTMLModel",
       "_view_count": null,
       "_view_module": "@jupyter-widgets/controls",
       "_view_module_version": "2.0.0",
       "_view_name": "HTMLView",
       "description": "",
       "description_allow_html": false,
       "layout": "IPY_MODEL_8c3ce14b7b1345b0ba1556535f9605ee",
       "placeholder": "​",
       "style": "IPY_MODEL_f55a859b20c24ac1b706012da92786e3",
       "tabbable": null,
       "tooltip": null,
       "value": "<pre>┌────────────┬────────────┬─────────────────────┬────────────┬───────────────────┬───────────────┬─────────────┬──────────────┬──────────────────┬─────────────────┬─────────────┬────────────────┬───────────────┐\n│   COLUMN_1 │   COLUMN_2 │            COLUMN_3 │   COLUMN_4 │          COLUMN_5 │      COLUMN_6 │    COLUMN_7 │     COLUMN_8 │         COLUMN_9 │       COLUMN_10 │   COLUMN_11 │      COLUMN_12 │     COLUMN_13 │\n├────────────┼────────────┼─────────────────────┼────────────┼───────────────────┼───────────────┼─────────────┼──────────────┼──────────────────┼─────────────────┼─────────────┼────────────────┼───────────────┤\n│      pwsid │     geo_id │ primacy_agency_code │ epa_region │ pws_activity_code │ pws_type_code │ tribal_code │ state_served │ ansi_entity_code │ zip_code_served │ city_served │ area_type_code │ county_served │\n└────────────┴────────────┴─────────────────────┴────────────┴───────────────────┴───────────────┴─────────────┴──────────────┴──────────────────┴─────────────────┴─────────────┴────────────────┴───────────────┘</pre>"
      }
     },
     "d06fc28e5094410ba056d3ac0ca8b160": {
      "model_module": "@jupyter-widgets/output",
      "model_module_version": "1.0.0",
      "model_name": "OutputModel",
      "state": {
       "_dom_classes": [],
       "_model_module": "@jupyter-widgets/output",
       "_model_module_version": "1.0.0",
       "_model_name": "OutputModel",
       "_view_count": null,
       "_view_module": "@jupyter-widgets/output",
       "_view_module_version": "1.0.0",
       "_view_name": "OutputView",
       "layout": "IPY_MODEL_17b55c411bb54449acb4dbddcd94d45b",
       "msg_id": "",
       "outputs": [
        {
         "data": {
          "application/vnd.jupyter.widget-view+json": {
           "model_id": "60037a7a8a6e4efea72e8c71ce546f81",
           "version_major": 2,
           "version_minor": 0
          },
          "text/plain": "HTML(value='<pre>┌────────────┬────────────────┬─────────────────┬──────────────────┬─────────────────────────…"
         },
         "metadata": {},
         "output_type": "display_data"
        }
       ],
       "tabbable": null,
       "tooltip": null
      }
     },
     "d1ca578b1d9042d2aae5a90d5f6538d5": {
      "model_module": "@jupyter-widgets/base",
      "model_module_version": "2.0.0",
      "model_name": "LayoutModel",
      "state": {
       "_model_module": "@jupyter-widgets/base",
       "_model_module_version": "2.0.0",
       "_model_name": "LayoutModel",
       "_view_count": null,
       "_view_module": "@jupyter-widgets/base",
       "_view_module_version": "2.0.0",
       "_view_name": "LayoutView",
       "align_content": null,
       "align_items": null,
       "align_self": null,
       "border_bottom": null,
       "border_left": null,
       "border_right": null,
       "border_top": null,
       "bottom": null,
       "display": null,
       "flex": null,
       "flex_flow": null,
       "grid_area": null,
       "grid_auto_columns": null,
       "grid_auto_flow": null,
       "grid_auto_rows": null,
       "grid_column": null,
       "grid_gap": null,
       "grid_row": null,
       "grid_template_areas": null,
       "grid_template_columns": null,
       "grid_template_rows": null,
       "height": null,
       "justify_content": null,
       "justify_items": null,
       "left": null,
       "margin": null,
       "max_height": null,
       "max_width": null,
       "min_height": null,
       "min_width": null,
       "object_fit": null,
       "object_position": null,
       "order": null,
       "overflow": null,
       "padding": null,
       "right": null,
       "top": null,
       "visibility": null,
       "width": null
      }
     },
     "d50176cf6e1f4e5b89db3cb9e6de7e0b": {
      "model_module": "@jupyter-widgets/base",
      "model_module_version": "2.0.0",
      "model_name": "LayoutModel",
      "state": {
       "_model_module": "@jupyter-widgets/base",
       "_model_module_version": "2.0.0",
       "_model_name": "LayoutModel",
       "_view_count": null,
       "_view_module": "@jupyter-widgets/base",
       "_view_module_version": "2.0.0",
       "_view_name": "LayoutView",
       "align_content": null,
       "align_items": null,
       "align_self": null,
       "border_bottom": null,
       "border_left": null,
       "border_right": null,
       "border_top": null,
       "bottom": null,
       "display": null,
       "flex": null,
       "flex_flow": null,
       "grid_area": null,
       "grid_auto_columns": null,
       "grid_auto_flow": null,
       "grid_auto_rows": null,
       "grid_column": null,
       "grid_gap": null,
       "grid_row": null,
       "grid_template_areas": null,
       "grid_template_columns": null,
       "grid_template_rows": null,
       "height": null,
       "justify_content": null,
       "justify_items": null,
       "left": null,
       "margin": null,
       "max_height": null,
       "max_width": null,
       "min_height": null,
       "min_width": null,
       "object_fit": null,
       "object_position": null,
       "order": null,
       "overflow": null,
       "padding": null,
       "right": null,
       "top": null,
       "visibility": null,
       "width": "100%"
      }
     },
     "dbc3f37ecd6640f38c43b9f4c827acb2": {
      "model_module": "@jupyter-widgets/controls",
      "model_module_version": "2.0.0",
      "model_name": "HTMLStyleModel",
      "state": {
       "_model_module": "@jupyter-widgets/controls",
       "_model_module_version": "2.0.0",
       "_model_name": "HTMLStyleModel",
       "_view_count": null,
       "_view_module": "@jupyter-widgets/base",
       "_view_module_version": "2.0.0",
       "_view_name": "StyleView",
       "background": null,
       "description_width": "",
       "font_size": null,
       "text_color": null
      }
     },
     "dcd22befb50c4c13a37aecf245e6cf88": {
      "model_module": "@jupyter-widgets/output",
      "model_module_version": "1.0.0",
      "model_name": "OutputModel",
      "state": {
       "_dom_classes": [],
       "_model_module": "@jupyter-widgets/output",
       "_model_module_version": "1.0.0",
       "_model_name": "OutputModel",
       "_view_count": null,
       "_view_module": "@jupyter-widgets/output",
       "_view_module_version": "1.0.0",
       "_view_name": "OutputView",
       "layout": "IPY_MODEL_20476adbb5ec4ceebd7d9fc540b418a0",
       "msg_id": "",
       "outputs": [
        {
         "data": {
          "application/vnd.jupyter.widget-view+json": {
           "model_id": "5b042c2058964bc49a235afea7af6552",
           "version_major": 2,
           "version_minor": 0
          },
          "text/plain": "HTML(value='<pre>┌────────────┬────────────┬───────────────┬─────────────────────┬────────────┬───────────────…"
         },
         "metadata": {},
         "output_type": "display_data"
        }
       ],
       "tabbable": null,
       "tooltip": null
      }
     },
     "e2c29dec10ac43d8b28adfb58f1ae42b": {
      "model_module": "@jupyter-widgets/output",
      "model_module_version": "1.0.0",
      "model_name": "OutputModel",
      "state": {
       "_dom_classes": [],
       "_model_module": "@jupyter-widgets/output",
       "_model_module_version": "1.0.0",
       "_model_name": "OutputModel",
       "_view_count": null,
       "_view_module": "@jupyter-widgets/output",
       "_view_module_version": "1.0.0",
       "_view_name": "OutputView",
       "layout": "IPY_MODEL_d50176cf6e1f4e5b89db3cb9e6de7e0b",
       "msg_id": "",
       "outputs": [
        {
         "data": {
          "application/vnd.jupyter.widget-view+json": {
           "model_id": "bf79362f55ee40559513f70dc9be4f94",
           "version_major": 2,
           "version_minor": 0
          },
          "text/plain": "HTML(value='<pre>┌───────────────────────┬────────────────┬───────────────────┬────────────┬────────────────┬─…"
         },
         "metadata": {},
         "output_type": "display_data"
        }
       ],
       "tabbable": null,
       "tooltip": null
      }
     },
     "e87efb2258aa4ab787afbbcc7b43994e": {
      "model_module": "@jupyter-widgets/base",
      "model_module_version": "2.0.0",
      "model_name": "LayoutModel",
      "state": {
       "_model_module": "@jupyter-widgets/base",
       "_model_module_version": "2.0.0",
       "_model_name": "LayoutModel",
       "_view_count": null,
       "_view_module": "@jupyter-widgets/base",
       "_view_module_version": "2.0.0",
       "_view_name": "LayoutView",
       "align_content": null,
       "align_items": null,
       "align_self": null,
       "border_bottom": null,
       "border_left": null,
       "border_right": null,
       "border_top": null,
       "bottom": null,
       "display": null,
       "flex": null,
       "flex_flow": null,
       "grid_area": null,
       "grid_auto_columns": null,
       "grid_auto_flow": null,
       "grid_auto_rows": null,
       "grid_column": null,
       "grid_gap": null,
       "grid_row": null,
       "grid_template_areas": null,
       "grid_template_columns": null,
       "grid_template_rows": null,
       "height": null,
       "justify_content": null,
       "justify_items": null,
       "left": null,
       "margin": null,
       "max_height": null,
       "max_width": null,
       "min_height": null,
       "min_width": null,
       "object_fit": null,
       "object_position": null,
       "order": null,
       "overflow": null,
       "padding": null,
       "right": null,
       "top": null,
       "visibility": null,
       "width": null
      }
     },
     "ed6b61bcc4b44caf9cf32550b44e78f9": {
      "model_module": "@jupyter-widgets/controls",
      "model_module_version": "2.0.0",
      "model_name": "HTMLModel",
      "state": {
       "_dom_classes": [],
       "_model_module": "@jupyter-widgets/controls",
       "_model_module_version": "2.0.0",
       "_model_name": "HTMLModel",
       "_view_count": null,
       "_view_module": "@jupyter-widgets/controls",
       "_view_module_version": "2.0.0",
       "_view_name": "HTMLView",
       "description": "",
       "description_allow_html": false,
       "layout": "IPY_MODEL_d1ca578b1d9042d2aae5a90d5f6538d5",
       "placeholder": "​",
       "style": "IPY_MODEL_79f1eb6e312e465c9f4d5108a8226697",
       "tabbable": null,
       "tooltip": null,
       "value": "<pre>┌────────────┬────────────┬─────────────────────┬────────────┬────────────┬──────────────────┬──────────────────┬────────────────┬─────────────────┐\n│   COLUMN_1 │   COLUMN_2 │            COLUMN_3 │   COLUMN_4 │   COLUMN_5 │         COLUMN_6 │         COLUMN_7 │       COLUMN_8 │        COLUMN_9 │\n├────────────┼────────────┼─────────────────────┼────────────┼────────────┼──────────────────┼──────────────────┼────────────────┼─────────────────┤\n│      pwsid │  sample_id │ primacy_agency_code │ epa_region │     sar_id │ contaminant_code │ result_sign_code │ sample_measure │ unit_of_measure │\n└────────────┴────────────┴─────────────────────┴────────────┴────────────┴──────────────────┴──────────────────┴────────────────┴─────────────────┘</pre>"
      }
     },
     "f1899495d24a43bd934e8169c15cd63b": {
      "model_module": "@jupyter-widgets/base",
      "model_module_version": "2.0.0",
      "model_name": "LayoutModel",
      "state": {
       "_model_module": "@jupyter-widgets/base",
       "_model_module_version": "2.0.0",
       "_model_name": "LayoutModel",
       "_view_count": null,
       "_view_module": "@jupyter-widgets/base",
       "_view_module_version": "2.0.0",
       "_view_name": "LayoutView",
       "align_content": null,
       "align_items": null,
       "align_self": null,
       "border_bottom": null,
       "border_left": null,
       "border_right": null,
       "border_top": null,
       "bottom": null,
       "display": null,
       "flex": null,
       "flex_flow": null,
       "grid_area": null,
       "grid_auto_columns": null,
       "grid_auto_flow": null,
       "grid_auto_rows": null,
       "grid_column": null,
       "grid_gap": null,
       "grid_row": null,
       "grid_template_areas": null,
       "grid_template_columns": null,
       "grid_template_rows": null,
       "height": null,
       "justify_content": null,
       "justify_items": null,
       "left": null,
       "margin": null,
       "max_height": null,
       "max_width": null,
       "min_height": null,
       "min_width": null,
       "object_fit": null,
       "object_position": null,
       "order": null,
       "overflow": null,
       "padding": null,
       "right": null,
       "top": null,
       "visibility": null,
       "width": null
      }
     },
     "f55a859b20c24ac1b706012da92786e3": {
      "model_module": "@jupyter-widgets/controls",
      "model_module_version": "2.0.0",
      "model_name": "HTMLStyleModel",
      "state": {
       "_model_module": "@jupyter-widgets/controls",
       "_model_module_version": "2.0.0",
       "_model_name": "HTMLStyleModel",
       "_view_count": null,
       "_view_module": "@jupyter-widgets/base",
       "_view_module_version": "2.0.0",
       "_view_name": "StyleView",
       "background": null,
       "description_width": "",
       "font_size": null,
       "text_color": null
      }
     },
     "f8180ac1e0fd438382f08f4cdd323a77": {
      "model_module": "@jupyter-widgets/controls",
      "model_module_version": "2.0.0",
      "model_name": "HTMLModel",
      "state": {
       "_dom_classes": [],
       "_model_module": "@jupyter-widgets/controls",
       "_model_module_version": "2.0.0",
       "_model_name": "HTMLModel",
       "_view_count": null,
       "_view_module": "@jupyter-widgets/controls",
       "_view_module_version": "2.0.0",
       "_view_name": "HTMLView",
       "description": "",
       "description_allow_html": false,
       "layout": "IPY_MODEL_f1899495d24a43bd934e8169c15cd63b",
       "placeholder": "​",
       "style": "IPY_MODEL_29c940a80b314d4e8be1709e75f6a29d",
       "tabbable": null,
       "tooltip": null,
       "value": "<pre>┌────────────┬─────────────────────┬────────────┬─────────────┬───────────────┬───────────────────┬────────────────────────┬────────────────────────────┬────────────────────┬────────────────────────┬───────────────┬─────────────────┬───────────────────┬───────────────────────┬──────────────┬─────────────────┬────────────────────────┬───────────────────┬───────────────────────┬───────────────┬───────────────────────┐\n│   COLUMN_1 │            COLUMN_2 │   COLUMN_3 │    COLUMN_4 │      COLUMN_5 │          COLUMN_6 │               COLUMN_7 │                   COLUMN_8 │           COLUMN_9 │              COLUMN_10 │     COLUMN_11 │       COLUMN_12 │         COLUMN_13 │             COLUMN_14 │    COLUMN_15 │       COLUMN_16 │              COLUMN_17 │         COLUMN_18 │             COLUMN_19 │     COLUMN_20 │             COLUMN_21 │\n├────────────┼─────────────────────┼────────────┼─────────────┼───────────────┼───────────────────┼────────────────────────┼────────────────────────────┼────────────────────┼────────────────────────┼───────────────┼─────────────────┼───────────────────┼───────────────────────┼──────────────┼─────────────────┼────────────────────────┼───────────────────┼───────────────────────┼───────────────┼───────────────────────┤\n│      pwsid │ primacy_agency_code │ epa_region │ facility_id │ facility_name │ state_facility_id │ facility_activity_code │ facility_deactivation_date │ facility_type_code │ submission_status_code │ is_source_ind │ water_type_code │ availability_code │ seller_treatment_code │ seller_pwsid │ seller_pws_name │ filtration_status_code │ pws_activity_code │ pws_deactivation_date │ pws_type_code │ is_source_treated_ind │\n└────────────┴─────────────────────┴────────────┴─────────────┴───────────────┴───────────────────┴────────────────────────┴────────────────────────────┴────────────────────┴────────────────────────┴───────────────┴─────────────────┴───────────────────┴───────────────────────┴──────────────┴─────────────────┴────────────────────────┴───────────────────┴───────────────────────┴───────────────┴───────────────────────┘</pre>"
      }
     }
    },
    "version_major": 2,
    "version_minor": 0
   }
  }
 },
 "nbformat": 4,
 "nbformat_minor": 5
}