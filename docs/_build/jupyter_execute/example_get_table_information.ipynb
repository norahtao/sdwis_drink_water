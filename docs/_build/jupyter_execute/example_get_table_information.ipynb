{
 "cells": [
  {
   "cell_type": "markdown",
   "id": "af870ea56794fded",
   "metadata": {
    "collapsed": false
   },
   "source": [
    "# Example1: Working with SdwisTable\n",
    "We first initiate api"
   ]
  },
  {
   "cell_type": "code",
   "execution_count": 1,
   "id": "eca6b7aa49813a7c",
   "metadata": {
    "ExecuteTime": {
     "end_time": "2023-12-15T17:27:10.813841Z",
     "start_time": "2023-12-15T17:27:10.241148Z"
    },
    "collapsed": false
   },
   "outputs": [],
   "source": [
    "from sdwis_drink_water.api_for_table import SdwisTable\n",
    "# Due to the width limitation, I wrote some functions for outputting some results using an interactive scrollbar\n",
    "from sdwis_drink_water.utils_for_jupyter_print import print_columns, print_column_description, print_result_data\n",
    "\n",
    "# \"print_url=True\" here will cause subsequent queries to display the requested URL\n",
    "table_api = SdwisTable(print_url=False)"
   ]
  },
  {
   "cell_type": "markdown",
   "id": "25872f277d22b467",
   "metadata": {
    "collapsed": false
   },
   "source": [
    "## fetch all table names\n",
    "***\"print_to_console=True\"*** here causes all subsequent queries to be printed"
   ]
  },
  {
   "cell_type": "code",
   "execution_count": 2,
   "id": "52c75bc3b6e4b089",
   "metadata": {
    "ExecuteTime": {
     "end_time": "2023-12-14T16:56:09.454902Z",
     "start_time": "2023-12-14T16:56:09.453595Z"
    },
    "collapsed": false
   },
   "outputs": [
    {
     "name": "stdout",
     "output_type": "stream",
     "text": [
      ">>>>>>>>>>>>>>>>>>>>>>>>>>>>>>>>>>>>>>>>>>>>>>>>>>>>>>>>>>>>>>>>>>>>>>>>>>>>>>>>>>>>>>>>>>>>>>>>>>>>\n",
      "table_name\n",
      "---------------------\n",
      "ENFORCEMENT_ACTION\n",
      "GEOGRAPHIC_AREA\n",
      "LCR_SAMPLE_RESULT\n",
      "LCR_SAMPLE\n",
      "SERVICE_AREA\n",
      "TREATMENT\n",
      "WATER_SYSTEM\n",
      "WATER_SYSTEM_FACILITY\n",
      "VIOLATION\n",
      "VIOLATION_ENF_ASSOC\n",
      ">>>>>>>>>>>>>>>>>>>>>>>>>>>>>>>>>>>>>>>>>>>>>>>>>>>>>>>>>>>>>>>>>>>>>>>>>>>>>>>>>>>>>>>>>>>>>>>>>>>>\n"
     ]
    }
   ],
   "source": [
    "table_names = table_api.get_all_table_names(print_to_console=True)"
   ]
  },
  {
   "cell_type": "markdown",
   "id": "807b6ccbd0e2ed1e",
   "metadata": {
    "collapsed": false
   },
   "source": [
    "## fetch all table names with description (Crawl the latest information from the website)"
   ]
  },
  {
   "cell_type": "code",
   "execution_count": 3,
   "id": "28d1ecde853ea7c7",
   "metadata": {
    "ExecuteTime": {
     "end_time": "2023-12-14T16:56:16.318612Z",
     "start_time": "2023-12-14T16:56:09.456047Z"
    },
    "collapsed": false
   },
   "outputs": [
    {
     "name": "stderr",
     "output_type": "stream",
     "text": [
      "\r",
      "Fetching table descriptions from SDWIS Official Website:   0%|                                                                             | 0/10 [00:00<?, ?it/s]"
     ]
    },
    {
     "name": "stderr",
     "output_type": "stream",
     "text": [
      "\r",
      "Fetching table descriptions from SDWIS Official Website:  10%|██████▉                                                              | 1/10 [00:03<00:34,  3.86s/it]"
     ]
    },
    {
     "name": "stderr",
     "output_type": "stream",
     "text": [
      "\r",
      "Fetching table descriptions from SDWIS Official Website:  20%|█████████████▊                                                       | 2/10 [00:04<00:16,  2.01s/it]"
     ]
    },
    {
     "name": "stderr",
     "output_type": "stream",
     "text": [
      "\r",
      "Fetching table descriptions from SDWIS Official Website:  30%|████████████████████▋                                                | 3/10 [00:04<00:08,  1.28s/it]"
     ]
    },
    {
     "name": "stderr",
     "output_type": "stream",
     "text": [
      "\r",
      "Fetching table descriptions from SDWIS Official Website:  40%|███████████████████████████▌                                         | 4/10 [00:05<00:05,  1.06it/s]"
     ]
    },
    {
     "name": "stderr",
     "output_type": "stream",
     "text": [
      "\r",
      "Fetching table descriptions from SDWIS Official Website:  50%|██████████████████████████████████▌                                  | 5/10 [00:05<00:03,  1.26it/s]"
     ]
    },
    {
     "name": "stderr",
     "output_type": "stream",
     "text": [
      "\r",
      "Fetching table descriptions from SDWIS Official Website:  60%|█████████████████████████████████████████▍                           | 6/10 [00:06<00:02,  1.52it/s]"
     ]
    },
    {
     "name": "stderr",
     "output_type": "stream",
     "text": [
      "\r",
      "Fetching table descriptions from SDWIS Official Website:  70%|████████████████████████████████████████████████▎                    | 7/10 [00:06<00:01,  1.72it/s]"
     ]
    },
    {
     "name": "stderr",
     "output_type": "stream",
     "text": [
      "\r",
      "Fetching table descriptions from SDWIS Official Website:  80%|███████████████████████████████████████████████████████▏             | 8/10 [00:07<00:01,  1.88it/s]"
     ]
    },
    {
     "name": "stderr",
     "output_type": "stream",
     "text": [
      "\r",
      "Fetching table descriptions from SDWIS Official Website:  90%|██████████████████████████████████████████████████████████████       | 9/10 [00:07<00:00,  2.02it/s]"
     ]
    },
    {
     "name": "stderr",
     "output_type": "stream",
     "text": [
      "\r",
      "Fetching table descriptions from SDWIS Official Website: 100%|████████████████████████████████████████████████████████████████████| 10/10 [00:08<00:00,  2.11it/s]"
     ]
    },
    {
     "name": "stderr",
     "output_type": "stream",
     "text": [
      "\r",
      "Fetching table descriptions from SDWIS Official Website: 100%|████████████████████████████████████████████████████████████████████| 10/10 [00:08<00:00,  1.25it/s]"
     ]
    },
    {
     "name": "stderr",
     "output_type": "stream",
     "text": [
      "\n"
     ]
    },
    {
     "data": {
      "application/vnd.jupyter.widget-view+json": {
       "model_id": "970ba2c09e444ba79ee17b8fca95b3e6",
       "version_major": 2,
       "version_minor": 0
      },
      "text/plain": [
       "Output(layout=Layout(width='100%'))"
      ]
     },
     "metadata": {},
     "output_type": "display_data"
    }
   ],
   "source": [
    "table_names_and_descriptions = table_api.get_all_table_names_and_descriptions(print_to_console=False);\n",
    "print_column_description(table_names_and_descriptions)"
   ]
  },
  {
   "cell_type": "markdown",
   "id": "d625adbe390bed59",
   "metadata": {
    "collapsed": false
   },
   "source": [
    "## fetch structure for specific table name"
   ]
  },
  {
   "cell_type": "code",
   "execution_count": 4,
   "id": "e26608077a2a0916",
   "metadata": {
    "ExecuteTime": {
     "end_time": "2023-12-14T16:56:35.701926Z",
     "start_time": "2023-12-14T16:56:16.320129Z"
    },
    "collapsed": false
   },
   "outputs": [
    {
     "name": "stdout",
     "output_type": "stream",
     "text": [
      "======ENFORCEMENT_ACTION======\n"
     ]
    },
    {
     "data": {
      "application/vnd.jupyter.widget-view+json": {
       "model_id": "703246d3961c486eb99353cb090f8c57",
       "version_major": 2,
       "version_minor": 0
      },
      "text/plain": [
       "Output(layout=Layout(width='100%'))"
      ]
     },
     "metadata": {},
     "output_type": "display_data"
    },
    {
     "name": "stdout",
     "output_type": "stream",
     "text": [
      "======GEOGRAPHIC_AREA======\n"
     ]
    },
    {
     "data": {
      "application/vnd.jupyter.widget-view+json": {
       "model_id": "e9487752116f4ec39da3c1d1cc75b673",
       "version_major": 2,
       "version_minor": 0
      },
      "text/plain": [
       "Output(layout=Layout(width='100%'))"
      ]
     },
     "metadata": {},
     "output_type": "display_data"
    },
    {
     "name": "stdout",
     "output_type": "stream",
     "text": [
      "======LCR_SAMPLE_RESULT======\n"
     ]
    },
    {
     "data": {
      "application/vnd.jupyter.widget-view+json": {
       "model_id": "02e15576563d4b37b80a0a1beec724c4",
       "version_major": 2,
       "version_minor": 0
      },
      "text/plain": [
       "Output(layout=Layout(width='100%'))"
      ]
     },
     "metadata": {},
     "output_type": "display_data"
    },
    {
     "name": "stdout",
     "output_type": "stream",
     "text": [
      "======LCR_SAMPLE======\n"
     ]
    },
    {
     "data": {
      "application/vnd.jupyter.widget-view+json": {
       "model_id": "7c5f373179f0457ebfabff4cbe5a3e96",
       "version_major": 2,
       "version_minor": 0
      },
      "text/plain": [
       "Output(layout=Layout(width='100%'))"
      ]
     },
     "metadata": {},
     "output_type": "display_data"
    },
    {
     "name": "stdout",
     "output_type": "stream",
     "text": [
      "======SERVICE_AREA======\n"
     ]
    },
    {
     "data": {
      "application/vnd.jupyter.widget-view+json": {
       "model_id": "83383cfd8621422fb4205814b5038923",
       "version_major": 2,
       "version_minor": 0
      },
      "text/plain": [
       "Output(layout=Layout(width='100%'))"
      ]
     },
     "metadata": {},
     "output_type": "display_data"
    },
    {
     "name": "stdout",
     "output_type": "stream",
     "text": [
      "======TREATMENT======\n"
     ]
    },
    {
     "data": {
      "application/vnd.jupyter.widget-view+json": {
       "model_id": "d998fefd47f84cf7aa842c2517622c5f",
       "version_major": 2,
       "version_minor": 0
      },
      "text/plain": [
       "Output(layout=Layout(width='100%'))"
      ]
     },
     "metadata": {},
     "output_type": "display_data"
    },
    {
     "name": "stdout",
     "output_type": "stream",
     "text": [
      "======WATER_SYSTEM======\n"
     ]
    },
    {
     "data": {
      "application/vnd.jupyter.widget-view+json": {
       "model_id": "9ff72941983544fba44350e596a9497c",
       "version_major": 2,
       "version_minor": 0
      },
      "text/plain": [
       "Output(layout=Layout(width='100%'))"
      ]
     },
     "metadata": {},
     "output_type": "display_data"
    },
    {
     "name": "stdout",
     "output_type": "stream",
     "text": [
      "======WATER_SYSTEM_FACILITY======\n"
     ]
    },
    {
     "data": {
      "application/vnd.jupyter.widget-view+json": {
       "model_id": "407a77de18d04792b23c41e5bcad650b",
       "version_major": 2,
       "version_minor": 0
      },
      "text/plain": [
       "Output(layout=Layout(width='100%'))"
      ]
     },
     "metadata": {},
     "output_type": "display_data"
    },
    {
     "name": "stdout",
     "output_type": "stream",
     "text": [
      "======VIOLATION======\n"
     ]
    },
    {
     "data": {
      "application/vnd.jupyter.widget-view+json": {
       "model_id": "67656be0a6fc4055a62439c177cb114b",
       "version_major": 2,
       "version_minor": 0
      },
      "text/plain": [
       "Output(layout=Layout(width='100%'))"
      ]
     },
     "metadata": {},
     "output_type": "display_data"
    },
    {
     "name": "stdout",
     "output_type": "stream",
     "text": [
      "======VIOLATION_ENF_ASSOC======\n"
     ]
    },
    {
     "data": {
      "application/vnd.jupyter.widget-view+json": {
       "model_id": "399996d47bb143a5ad0bf17828b7f814",
       "version_major": 2,
       "version_minor": 0
      },
      "text/plain": [
       "Output(layout=Layout(width='100%'))"
      ]
     },
     "metadata": {},
     "output_type": "display_data"
    }
   ],
   "source": [
    "for table_name in table_names:\n",
    "    print(f\"======{table_name}======\")\n",
    "    columns = table_api.get_table_column_name_by_table_name(table_name=table_name, print_to_console=False)\n",
    "    print_columns(columns)"
   ]
  },
  {
   "cell_type": "markdown",
   "id": "ee3eee69edd74928",
   "metadata": {
    "collapsed": false
   },
   "source": [
    "## fetch first data for specific table name"
   ]
  },
  {
   "cell_type": "code",
   "execution_count": 5,
   "id": "7c3c278de5b850c9",
   "metadata": {
    "ExecuteTime": {
     "end_time": "2023-12-14T16:56:35.715456Z",
     "start_time": "2023-12-14T16:56:35.706568Z"
    },
    "collapsed": false
   },
   "outputs": [
    {
     "name": "stdout",
     "output_type": "stream",
     "text": [
      "======LCR_SAMPLE======\n",
      "┌───────────┬─────────────────┬─────────────────────┬───────────────────────┬─────────────────────┬───────────────────────┬──────────────┐\n",
      "│     pwsid │       sample_id │ sampling_end_date   │ sampling_start_date   │ reconciliation_id   │   primacy_agency_code │   epa_region │\n",
      "├───────────┼─────────────────┼─────────────────────┼───────────────────────┼─────────────────────┼───────────────────────┼──────────────┤\n",
      "│ 010106001 │ 010106001171002 │ 2019-12-31 00:00:00 │ 2017-01-01 00:00:00   │                     │                    01 │           01 │\n",
      "└───────────┴─────────────────┴─────────────────────┴───────────────────────┴─────────────────────┴───────────────────────┴──────────────┘\n"
     ]
    },
    {
     "data": {
      "text/plain": [
       "<sdwis_drink_water.data_praser.ResultDataParser at 0x12f10ed60>"
      ]
     },
     "execution_count": 5,
     "metadata": {},
     "output_type": "execute_result"
    }
   ],
   "source": [
    "print(f\"======{table_names[3]}======\")\n",
    "table_api.get_table_first_data_by_table_name(table_name=table_names[3], print_to_console=True)"
   ]
  },
  {
   "cell_type": "markdown",
   "id": "281207c6361d1f9a",
   "metadata": {
    "collapsed": false
   },
   "source": [
    "## fetch first n for specific table name"
   ]
  },
  {
   "cell_type": "code",
   "execution_count": 6,
   "id": "f7279b7ca2016b8",
   "metadata": {
    "ExecuteTime": {
     "end_time": "2023-12-14T16:56:38.552202Z",
     "start_time": "2023-12-14T16:56:35.714667Z"
    },
    "collapsed": false
   },
   "outputs": [
    {
     "name": "stdout",
     "output_type": "stream",
     "text": [
      "======LCR_SAMPLE======\n",
      "┌───────────┬─────────────────┬─────────────────────┬───────────────────────┬─────────────────────┬───────────────────────┬──────────────┐\n",
      "│     pwsid │       sample_id │ sampling_end_date   │ sampling_start_date   │ reconciliation_id   │   primacy_agency_code │   epa_region │\n",
      "├───────────┼─────────────────┼─────────────────────┼───────────────────────┼─────────────────────┼───────────────────────┼──────────────┤\n",
      "│ 010106001 │ 010106001171002 │ 2019-12-31 00:00:00 │ 2017-01-01 00:00:00   │                     │                    01 │           01 │\n",
      "├───────────┼─────────────────┼─────────────────────┼───────────────────────┼─────────────────────┼───────────────────────┼──────────────┤\n",
      "│ 010106001 │  01010600117136 │ 2013-12-31 00:00:00 │ 2011-01-01 00:00:00   │                     │                    01 │           01 │\n",
      "├───────────┼─────────────────┼─────────────────────┼───────────────────────┼─────────────────────┼───────────────────────┼──────────────┤\n",
      "│ 010106001 │  01010600117137 │ 2013-12-31 00:00:00 │ 2011-01-01 00:00:00   │                     │                    01 │           01 │\n",
      "├───────────┼─────────────────┼─────────────────────┼───────────────────────┼─────────────────────┼───────────────────────┼──────────────┤\n",
      "│ 010106001 │ 010106001171409 │ 2022-12-31 00:00:00 │ 2020-01-01 00:00:00   │                     │                    01 │           01 │\n",
      "├───────────┼─────────────────┼─────────────────────┼───────────────────────┼─────────────────────┼───────────────────────┼──────────────┤\n",
      "│ 010106001 │  01010600117711 │ 2016-12-31 00:00:00 │ 2014-01-01 00:00:00   │                     │                    01 │           01 │\n",
      "└───────────┴─────────────────┴─────────────────────┴───────────────────────┴─────────────────────┴───────────────────────┴──────────────┘\n"
     ]
    },
    {
     "data": {
      "text/plain": [
       "<sdwis_drink_water.data_praser.ResultDataParser at 0x12f10ed30>"
      ]
     },
     "execution_count": 6,
     "metadata": {},
     "output_type": "execute_result"
    }
   ],
   "source": [
    "print(f\"======{table_names[3]}======\")\n",
    "table_api.get_table_first_n_data_by_table_name(table_name=table_names[3], n=5, print_to_console=True)"
   ]
  }
 ],
 "metadata": {
  "kernelspec": {
   "display_name": "Python 3 (ipykernel)",
   "language": "python",
   "name": "python3"
  },
  "language_info": {
   "codemirror_mode": {
    "name": "ipython",
    "version": 3
   },
   "file_extension": ".py",
   "mimetype": "text/x-python",
   "name": "python",
   "nbconvert_exporter": "python",
   "pygments_lexer": "ipython3",
   "version": "3.9.18"
  },
  "widgets": {
   "application/vnd.jupyter.widget-state+json": {
    "state": {
     "003ce442dfe2454a9ebf4e7354c31998": {
      "model_module": "@jupyter-widgets/base",
      "model_module_version": "2.0.0",
      "model_name": "LayoutModel",
      "state": {
       "_model_module": "@jupyter-widgets/base",
       "_model_module_version": "2.0.0",
       "_model_name": "LayoutModel",
       "_view_count": null,
       "_view_module": "@jupyter-widgets/base",
       "_view_module_version": "2.0.0",
       "_view_name": "LayoutView",
       "align_content": null,
       "align_items": null,
       "align_self": null,
       "border_bottom": null,
       "border_left": null,
       "border_right": null,
       "border_top": null,
       "bottom": null,
       "display": null,
       "flex": null,
       "flex_flow": null,
       "grid_area": null,
       "grid_auto_columns": null,
       "grid_auto_flow": null,
       "grid_auto_rows": null,
       "grid_column": null,
       "grid_gap": null,
       "grid_row": null,
       "grid_template_areas": null,
       "grid_template_columns": null,
       "grid_template_rows": null,
       "height": null,
       "justify_content": null,
       "justify_items": null,
       "left": null,
       "margin": null,
       "max_height": null,
       "max_width": null,
       "min_height": null,
       "min_width": null,
       "object_fit": null,
       "object_position": null,
       "order": null,
       "overflow": null,
       "padding": null,
       "right": null,
       "top": null,
       "visibility": null,
       "width": null
      }
     },
     "0259efbfb00c4530a7e62abfdab8283a": {
      "model_module": "@jupyter-widgets/base",
      "model_module_version": "2.0.0",
      "model_name": "LayoutModel",
      "state": {
       "_model_module": "@jupyter-widgets/base",
       "_model_module_version": "2.0.0",
       "_model_name": "LayoutModel",
       "_view_count": null,
       "_view_module": "@jupyter-widgets/base",
       "_view_module_version": "2.0.0",
       "_view_name": "LayoutView",
       "align_content": null,
       "align_items": null,
       "align_self": null,
       "border_bottom": null,
       "border_left": null,
       "border_right": null,
       "border_top": null,
       "bottom": null,
       "display": null,
       "flex": null,
       "flex_flow": null,
       "grid_area": null,
       "grid_auto_columns": null,
       "grid_auto_flow": null,
       "grid_auto_rows": null,
       "grid_column": null,
       "grid_gap": null,
       "grid_row": null,
       "grid_template_areas": null,
       "grid_template_columns": null,
       "grid_template_rows": null,
       "height": null,
       "justify_content": null,
       "justify_items": null,
       "left": null,
       "margin": null,
       "max_height": null,
       "max_width": null,
       "min_height": null,
       "min_width": null,
       "object_fit": null,
       "object_position": null,
       "order": null,
       "overflow": null,
       "padding": null,
       "right": null,
       "top": null,
       "visibility": null,
       "width": "100%"
      }
     },
     "02956d931b3f40ab926ba120ebfdab0f": {
      "model_module": "@jupyter-widgets/base",
      "model_module_version": "2.0.0",
      "model_name": "LayoutModel",
      "state": {
       "_model_module": "@jupyter-widgets/base",
       "_model_module_version": "2.0.0",
       "_model_name": "LayoutModel",
       "_view_count": null,
       "_view_module": "@jupyter-widgets/base",
       "_view_module_version": "2.0.0",
       "_view_name": "LayoutView",
       "align_content": null,
       "align_items": null,
       "align_self": null,
       "border_bottom": null,
       "border_left": null,
       "border_right": null,
       "border_top": null,
       "bottom": null,
       "display": null,
       "flex": null,
       "flex_flow": null,
       "grid_area": null,
       "grid_auto_columns": null,
       "grid_auto_flow": null,
       "grid_auto_rows": null,
       "grid_column": null,
       "grid_gap": null,
       "grid_row": null,
       "grid_template_areas": null,
       "grid_template_columns": null,
       "grid_template_rows": null,
       "height": null,
       "justify_content": null,
       "justify_items": null,
       "left": null,
       "margin": null,
       "max_height": null,
       "max_width": null,
       "min_height": null,
       "min_width": null,
       "object_fit": null,
       "object_position": null,
       "order": null,
       "overflow": null,
       "padding": null,
       "right": null,
       "top": null,
       "visibility": null,
       "width": "100%"
      }
     },
     "02e15576563d4b37b80a0a1beec724c4": {
      "model_module": "@jupyter-widgets/output",
      "model_module_version": "1.0.0",
      "model_name": "OutputModel",
      "state": {
       "_dom_classes": [],
       "_model_module": "@jupyter-widgets/output",
       "_model_module_version": "1.0.0",
       "_model_name": "OutputModel",
       "_view_count": null,
       "_view_module": "@jupyter-widgets/output",
       "_view_module_version": "1.0.0",
       "_view_name": "OutputView",
       "layout": "IPY_MODEL_02956d931b3f40ab926ba120ebfdab0f",
       "msg_id": "",
       "outputs": [
        {
         "data": {
          "application/vnd.jupyter.widget-view+json": {
           "model_id": "ae22b8564f274a7784964848e9a79b58",
           "version_major": 2,
           "version_minor": 0
          },
          "text/plain": "HTML(value='<pre>┌────────────┬────────────┬─────────────────────┬────────────┬────────────┬──────────────────…"
         },
         "metadata": {},
         "output_type": "display_data"
        }
       ],
       "tabbable": null,
       "tooltip": null
      }
     },
     "033dcd8b42a746ce8c3a796e8bfb1f3c": {
      "model_module": "@jupyter-widgets/controls",
      "model_module_version": "2.0.0",
      "model_name": "HTMLModel",
      "state": {
       "_dom_classes": [],
       "_model_module": "@jupyter-widgets/controls",
       "_model_module_version": "2.0.0",
       "_model_name": "HTMLModel",
       "_view_count": null,
       "_view_module": "@jupyter-widgets/controls",
       "_view_module_version": "2.0.0",
       "_view_name": "HTMLView",
       "description": "",
       "description_allow_html": false,
       "layout": "IPY_MODEL_344b25f7e6eb48f2b789798bd4283032",
       "placeholder": "​",
       "style": "IPY_MODEL_eac65935b802455fa77e7f5cd6196f43",
       "tabbable": null,
       "tooltip": null,
       "value": "<pre>┌────────────┬────────────┬───────────────────┬─────────────────────┬───────────────────┬─────────────────────┬────────────┐\n│   COLUMN_1 │   COLUMN_2 │          COLUMN_3 │            COLUMN_4 │          COLUMN_5 │            COLUMN_6 │   COLUMN_7 │\n├────────────┼────────────┼───────────────────┼─────────────────────┼───────────────────┼─────────────────────┼────────────┤\n│      pwsid │  sample_id │ sampling_end_date │ sampling_start_date │ reconciliation_id │ primacy_agency_code │ epa_region │\n└────────────┴────────────┴───────────────────┴─────────────────────┴───────────────────┴─────────────────────┴────────────┘</pre>"
      }
     },
     "163dc7d1513e4170a49ef66a06dcef6d": {
      "model_module": "@jupyter-widgets/base",
      "model_module_version": "2.0.0",
      "model_name": "LayoutModel",
      "state": {
       "_model_module": "@jupyter-widgets/base",
       "_model_module_version": "2.0.0",
       "_model_name": "LayoutModel",
       "_view_count": null,
       "_view_module": "@jupyter-widgets/base",
       "_view_module_version": "2.0.0",
       "_view_name": "LayoutView",
       "align_content": null,
       "align_items": null,
       "align_self": null,
       "border_bottom": null,
       "border_left": null,
       "border_right": null,
       "border_top": null,
       "bottom": null,
       "display": null,
       "flex": null,
       "flex_flow": null,
       "grid_area": null,
       "grid_auto_columns": null,
       "grid_auto_flow": null,
       "grid_auto_rows": null,
       "grid_column": null,
       "grid_gap": null,
       "grid_row": null,
       "grid_template_areas": null,
       "grid_template_columns": null,
       "grid_template_rows": null,
       "height": null,
       "justify_content": null,
       "justify_items": null,
       "left": null,
       "margin": null,
       "max_height": null,
       "max_width": null,
       "min_height": null,
       "min_width": null,
       "object_fit": null,
       "object_position": null,
       "order": null,
       "overflow": null,
       "padding": null,
       "right": null,
       "top": null,
       "visibility": null,
       "width": null
      }
     },
     "1731c0b2cb4c437e944c5d0f72eea1f5": {
      "model_module": "@jupyter-widgets/base",
      "model_module_version": "2.0.0",
      "model_name": "LayoutModel",
      "state": {
       "_model_module": "@jupyter-widgets/base",
       "_model_module_version": "2.0.0",
       "_model_name": "LayoutModel",
       "_view_count": null,
       "_view_module": "@jupyter-widgets/base",
       "_view_module_version": "2.0.0",
       "_view_name": "LayoutView",
       "align_content": null,
       "align_items": null,
       "align_self": null,
       "border_bottom": null,
       "border_left": null,
       "border_right": null,
       "border_top": null,
       "bottom": null,
       "display": null,
       "flex": null,
       "flex_flow": null,
       "grid_area": null,
       "grid_auto_columns": null,
       "grid_auto_flow": null,
       "grid_auto_rows": null,
       "grid_column": null,
       "grid_gap": null,
       "grid_row": null,
       "grid_template_areas": null,
       "grid_template_columns": null,
       "grid_template_rows": null,
       "height": null,
       "justify_content": null,
       "justify_items": null,
       "left": null,
       "margin": null,
       "max_height": null,
       "max_width": null,
       "min_height": null,
       "min_width": null,
       "object_fit": null,
       "object_position": null,
       "order": null,
       "overflow": null,
       "padding": null,
       "right": null,
       "top": null,
       "visibility": null,
       "width": null
      }
     },
     "19ad54dae2964f3ba5b82e5a04dfca98": {
      "model_module": "@jupyter-widgets/base",
      "model_module_version": "2.0.0",
      "model_name": "LayoutModel",
      "state": {
       "_model_module": "@jupyter-widgets/base",
       "_model_module_version": "2.0.0",
       "_model_name": "LayoutModel",
       "_view_count": null,
       "_view_module": "@jupyter-widgets/base",
       "_view_module_version": "2.0.0",
       "_view_name": "LayoutView",
       "align_content": null,
       "align_items": null,
       "align_self": null,
       "border_bottom": null,
       "border_left": null,
       "border_right": null,
       "border_top": null,
       "bottom": null,
       "display": null,
       "flex": null,
       "flex_flow": null,
       "grid_area": null,
       "grid_auto_columns": null,
       "grid_auto_flow": null,
       "grid_auto_rows": null,
       "grid_column": null,
       "grid_gap": null,
       "grid_row": null,
       "grid_template_areas": null,
       "grid_template_columns": null,
       "grid_template_rows": null,
       "height": null,
       "justify_content": null,
       "justify_items": null,
       "left": null,
       "margin": null,
       "max_height": null,
       "max_width": null,
       "min_height": null,
       "min_width": null,
       "object_fit": null,
       "object_position": null,
       "order": null,
       "overflow": null,
       "padding": null,
       "right": null,
       "top": null,
       "visibility": null,
       "width": "100%"
      }
     },
     "1d89bcd3a9a0473ba9784724a0a0c297": {
      "model_module": "@jupyter-widgets/controls",
      "model_module_version": "2.0.0",
      "model_name": "HTMLModel",
      "state": {
       "_dom_classes": [],
       "_model_module": "@jupyter-widgets/controls",
       "_model_module_version": "2.0.0",
       "_model_name": "HTMLModel",
       "_view_count": null,
       "_view_module": "@jupyter-widgets/controls",
       "_view_module_version": "2.0.0",
       "_view_name": "HTMLView",
       "description": "",
       "description_allow_html": false,
       "layout": "IPY_MODEL_7910728fcdaa446abc04e19aea9f9846",
       "placeholder": "​",
       "style": "IPY_MODEL_2d5d12dbe26c4a6f9f4fd1901322aa8f",
       "tabbable": null,
       "tooltip": null,
       "value": "<pre>┌───────────────────────┬──────────────────────────────────────────────────────────────────────────────────────────────────────────────────────────────────────────────────────────────────────────────────────────────────────────────────────────────────────────────────────────────────────────────────────────────────────────────────────────────────────────────────────────────────────────────────────────────────────────────────────────────────────────────────────────────────────────────────────────────────────────────────────────────────────────────────────────────────────────────────────────────────────────────────────────────────────────────────────────────────────────────────────────────────────────────────────────────────────────────────────────────────────────────────────────────────┐\n│ column_names          │ description                                                                                                                                                                                                                                                                                                                                                                                                                                                                                                                                                                                                                                                                                                                                                                                      │\n├───────────────────────┼──────────────────────────────────────────────────────────────────────────────────────────────────────────────────────────────────────────────────────────────────────────────────────────────────────────────────────────────────────────────────────────────────────────────────────────────────────────────────────────────────────────────────────────────────────────────────────────────────────────────────────────────────────────────────────────────────────────────────────────────────────────────────────────────────────────────────────────────────────────────────────────────────────────────────────────────────────────────────────────────────────────────────────────────────────────────────────────────────────────────────────────────────────────────────────────────────┤\n│ ENFORCEMENT_ACTION    │ Documents actions taken against a Public Water System (PWS), laboratory, or operator. Includes requirements that must be met in order to rectify a failure to perform under the Public Water Supply Supervision (PWSS) Program. Enforcement actions are informal and formal. They may be issued by the Primacy State (or its representative) or the EPA. Examples: administrative and civil/criminal legal actions, warning notices, citations, orders to follow water treatment procedures, orders to follow sampling requirements, orders to resolve violations, moratoriums on connections, temporary injunctions, restraining orders, penalties, and orders to comply with reporting requirements. Example descriptors: type of enforcement action, directed actions, and milestone date(s). │\n├───────────────────────┼──────────────────────────────────────────────────────────────────────────────────────────────────────────────────────────────────────────────────────────────────────────────────────────────────────────────────────────────────────────────────────────────────────────────────────────────────────────────────────────────────────────────────────────────────────────────────────────────────────────────────────────────────────────────────────────────────────────────────────────────────────────────────────────────────────────────────────────────────────────────────────────────────────────────────────────────────────────────────────────────────────────────────────────────────────────────────────────────────────────────────────────────────────────────────────────────────┤\n│ GEOGRAPHIC_AREA       │ Information on political units established by geographic boundaries, such as state, town, or county served by a Water System.                                                                                                                                                                                                                                                                                                                                                                                                                                                                                                                                                                                                                                                                    │\n├───────────────────────┼──────────────────────────────────────────────────────────────────────────────────────────────────────────────────────────────────────────────────────────────────────────────────────────────────────────────────────────────────────────────────────────────────────────────────────────────────────────────────────────────────────────────────────────────────────────────────────────────────────────────────────────────────────────────────────────────────────────────────────────────────────────────────────────────────────────────────────────────────────────────────────────────────────────────────────────────────────────────────────────────────────────────────────────────────────────────────────────────────────────────────────────────────────────────────────────────────┤\n│ LCR_SAMPLE_RESULT     │ 90th percentile sample summary results data for lead or copper.                                                                                                                                                                                                                                                                                                                                                                                                                                                                                                                                                                                                                                                                                                                                  │\n├───────────────────────┼──────────────────────────────────────────────────────────────────────────────────────────────────────────────────────────────────────────────────────────────────────────────────────────────────────────────────────────────────────────────────────────────────────────────────────────────────────────────────────────────────────────────────────────────────────────────────────────────────────────────────────────────────────────────────────────────────────────────────────────────────────────────────────────────────────────────────────────────────────────────────────────────────────────────────────────────────────────────────────────────────────────────────────────────────────────────────────────────────────────────────────────────────────────────────────────────────┤\n│ LCR_SAMPLE            │ 90th percentile sample summaries data for lead or copper.                                                                                                                                                                                                                                                                                                                                                                                                                                                                                                                                                                                                                                                                                                                                        │\n├───────────────────────┼──────────────────────────────────────────────────────────────────────────────────────────────────────────────────────────────────────────────────────────────────────────────────────────────────────────────────────────────────────────────────────────────────────────────────────────────────────────────────────────────────────────────────────────────────────────────────────────────────────────────────────────────────────────────────────────────────────────────────────────────────────────────────────────────────────────────────────────────────────────────────────────────────────────────────────────────────────────────────────────────────────────────────────────────────────────────────────────────────────────────────────────────────────────────────────────────────┤\n│ SERVICE_AREA          │ A service area defines the sensitive populations that receive water from the water system.                                                                                                                                                                                                                                                                                                                                                                                                                                                                                                                                                                                                                                                                                                       │\n├───────────────────────┼──────────────────────────────────────────────────────────────────────────────────────────────────────────────────────────────────────────────────────────────────────────────────────────────────────────────────────────────────────────────────────────────────────────────────────────────────────────────────────────────────────────────────────────────────────────────────────────────────────────────────────────────────────────────────────────────────────────────────────────────────────────────────────────────────────────────────────────────────────────────────────────────────────────────────────────────────────────────────────────────────────────────────────────────────────────────────────────────────────────────────────────────────────────────────────────────────┤\n│ TREATMENT             │ Treatment objectives and process for treating water from a water system facility.                                                                                                                                                                                                                                                                                                                                                                                                                                                                                                                                                                                                                                                                                                                │\n├───────────────────────┼──────────────────────────────────────────────────────────────────────────────────────────────────────────────────────────────────────────────────────────────────────────────────────────────────────────────────────────────────────────────────────────────────────────────────────────────────────────────────────────────────────────────────────────────────────────────────────────────────────────────────────────────────────────────────────────────────────────────────────────────────────────────────────────────────────────────────────────────────────────────────────────────────────────────────────────────────────────────────────────────────────────────────────────────────────────────────────────────────────────────────────────────────────────────────────────────────┤\n│ WATER_SYSTEM          │ Inventory information on public water systems.                                                                                                                                                                                                                                                                                                                                                                                                                                                                                                                                                                                                                                                                                                                                                   │\n├───────────────────────┼──────────────────────────────────────────────────────────────────────────────────────────────────────────────────────────────────────────────────────────────────────────────────────────────────────────────────────────────────────────────────────────────────────────────────────────────────────────────────────────────────────────────────────────────────────────────────────────────────────────────────────────────────────────────────────────────────────────────────────────────────────────────────────────────────────────────────────────────────────────────────────────────────────────────────────────────────────────────────────────────────────────────────────────────────────────────────────────────────────────────────────────────────────────────────────────────────┤\n│ WATER_SYSTEM_FACILITY │ Inventory information on public water system facilities.                                                                                                                                                                                                                                                                                                                                                                                                                                                                                                                                                                                                                                                                                                                                         │\n├───────────────────────┼──────────────────────────────────────────────────────────────────────────────────────────────────────────────────────────────────────────────────────────────────────────────────────────────────────────────────────────────────────────────────────────────────────────────────────────────────────────────────────────────────────────────────────────────────────────────────────────────────────────────────────────────────────────────────────────────────────────────────────────────────────────────────────────────────────────────────────────────────────────────────────────────────────────────────────────────────────────────────────────────────────────────────────────────────────────────────────────────────────────────────────────────────────────────────────────────────┤\n│ VIOLATION             │ Documents a breach of a requirement. Violations are detected by assessment of sample results or reviews (including on site visits). Violations may lead to legal actions or compliance orders. Violations are publicized, when required, by public notification. Violations may be remedied by compliance/enforcement remedies, such as improved filtration techniques or changes in procedures. Examples: Maximum Contaminant Level (MCL) violations, failure to replace lead service lines, monitoring and reporting violations, treatment technique violations, and procedural violations. Example descriptors: type, date, description, severity, and recommended corrective action(s) to include milestones.                                                                                │\n├───────────────────────┼──────────────────────────────────────────────────────────────────────────────────────────────────────────────────────────────────────────────────────────────────────────────────────────────────────────────────────────────────────────────────────────────────────────────────────────────────────────────────────────────────────────────────────────────────────────────────────────────────────────────────────────────────────────────────────────────────────────────────────────────────────────────────────────────────────────────────────────────────────────────────────────────────────────────────────────────────────────────────────────────────────────────────────────────────────────────────────────────────────────────────────────────────────────────────────────────────┤\n│ VIOLATION_ENF_ASSOC   │ Association between a violation and an enforcement action.                                                                                                                                                                                                                                                                                                                                                                                                                                                                                                                                                                                                                                                                                                                                       │\n└───────────────────────┴──────────────────────────────────────────────────────────────────────────────────────────────────────────────────────────────────────────────────────────────────────────────────────────────────────────────────────────────────────────────────────────────────────────────────────────────────────────────────────────────────────────────────────────────────────────────────────────────────────────────────────────────────────────────────────────────────────────────────────────────────────────────────────────────────────────────────────────────────────────────────────────────────────────────────────────────────────────────────────────────────────────────────────────────────────────────────────────────────────────────────────────────────────────────────────────────────┘</pre>"
      }
     },
     "247341628b1840e09003d2b021eb98ea": {
      "model_module": "@jupyter-widgets/controls",
      "model_module_version": "2.0.0",
      "model_name": "HTMLStyleModel",
      "state": {
       "_model_module": "@jupyter-widgets/controls",
       "_model_module_version": "2.0.0",
       "_model_name": "HTMLStyleModel",
       "_view_count": null,
       "_view_module": "@jupyter-widgets/base",
       "_view_module_version": "2.0.0",
       "_view_name": "StyleView",
       "background": null,
       "description_width": "",
       "font_size": null,
       "text_color": null
      }
     },
     "25913681ca2e45b68b37a7524ae57959": {
      "model_module": "@jupyter-widgets/base",
      "model_module_version": "2.0.0",
      "model_name": "LayoutModel",
      "state": {
       "_model_module": "@jupyter-widgets/base",
       "_model_module_version": "2.0.0",
       "_model_name": "LayoutModel",
       "_view_count": null,
       "_view_module": "@jupyter-widgets/base",
       "_view_module_version": "2.0.0",
       "_view_name": "LayoutView",
       "align_content": null,
       "align_items": null,
       "align_self": null,
       "border_bottom": null,
       "border_left": null,
       "border_right": null,
       "border_top": null,
       "bottom": null,
       "display": null,
       "flex": null,
       "flex_flow": null,
       "grid_area": null,
       "grid_auto_columns": null,
       "grid_auto_flow": null,
       "grid_auto_rows": null,
       "grid_column": null,
       "grid_gap": null,
       "grid_row": null,
       "grid_template_areas": null,
       "grid_template_columns": null,
       "grid_template_rows": null,
       "height": null,
       "justify_content": null,
       "justify_items": null,
       "left": null,
       "margin": null,
       "max_height": null,
       "max_width": null,
       "min_height": null,
       "min_width": null,
       "object_fit": null,
       "object_position": null,
       "order": null,
       "overflow": null,
       "padding": null,
       "right": null,
       "top": null,
       "visibility": null,
       "width": null
      }
     },
     "2d5d12dbe26c4a6f9f4fd1901322aa8f": {
      "model_module": "@jupyter-widgets/controls",
      "model_module_version": "2.0.0",
      "model_name": "HTMLStyleModel",
      "state": {
       "_model_module": "@jupyter-widgets/controls",
       "_model_module_version": "2.0.0",
       "_model_name": "HTMLStyleModel",
       "_view_count": null,
       "_view_module": "@jupyter-widgets/base",
       "_view_module_version": "2.0.0",
       "_view_name": "StyleView",
       "background": null,
       "description_width": "",
       "font_size": null,
       "text_color": null
      }
     },
     "331abc9c66754343a299ecd10cc159af": {
      "model_module": "@jupyter-widgets/base",
      "model_module_version": "2.0.0",
      "model_name": "LayoutModel",
      "state": {
       "_model_module": "@jupyter-widgets/base",
       "_model_module_version": "2.0.0",
       "_model_name": "LayoutModel",
       "_view_count": null,
       "_view_module": "@jupyter-widgets/base",
       "_view_module_version": "2.0.0",
       "_view_name": "LayoutView",
       "align_content": null,
       "align_items": null,
       "align_self": null,
       "border_bottom": null,
       "border_left": null,
       "border_right": null,
       "border_top": null,
       "bottom": null,
       "display": null,
       "flex": null,
       "flex_flow": null,
       "grid_area": null,
       "grid_auto_columns": null,
       "grid_auto_flow": null,
       "grid_auto_rows": null,
       "grid_column": null,
       "grid_gap": null,
       "grid_row": null,
       "grid_template_areas": null,
       "grid_template_columns": null,
       "grid_template_rows": null,
       "height": null,
       "justify_content": null,
       "justify_items": null,
       "left": null,
       "margin": null,
       "max_height": null,
       "max_width": null,
       "min_height": null,
       "min_width": null,
       "object_fit": null,
       "object_position": null,
       "order": null,
       "overflow": null,
       "padding": null,
       "right": null,
       "top": null,
       "visibility": null,
       "width": "100%"
      }
     },
     "344b25f7e6eb48f2b789798bd4283032": {
      "model_module": "@jupyter-widgets/base",
      "model_module_version": "2.0.0",
      "model_name": "LayoutModel",
      "state": {
       "_model_module": "@jupyter-widgets/base",
       "_model_module_version": "2.0.0",
       "_model_name": "LayoutModel",
       "_view_count": null,
       "_view_module": "@jupyter-widgets/base",
       "_view_module_version": "2.0.0",
       "_view_name": "LayoutView",
       "align_content": null,
       "align_items": null,
       "align_self": null,
       "border_bottom": null,
       "border_left": null,
       "border_right": null,
       "border_top": null,
       "bottom": null,
       "display": null,
       "flex": null,
       "flex_flow": null,
       "grid_area": null,
       "grid_auto_columns": null,
       "grid_auto_flow": null,
       "grid_auto_rows": null,
       "grid_column": null,
       "grid_gap": null,
       "grid_row": null,
       "grid_template_areas": null,
       "grid_template_columns": null,
       "grid_template_rows": null,
       "height": null,
       "justify_content": null,
       "justify_items": null,
       "left": null,
       "margin": null,
       "max_height": null,
       "max_width": null,
       "min_height": null,
       "min_width": null,
       "object_fit": null,
       "object_position": null,
       "order": null,
       "overflow": null,
       "padding": null,
       "right": null,
       "top": null,
       "visibility": null,
       "width": null
      }
     },
     "399996d47bb143a5ad0bf17828b7f814": {
      "model_module": "@jupyter-widgets/output",
      "model_module_version": "1.0.0",
      "model_name": "OutputModel",
      "state": {
       "_dom_classes": [],
       "_model_module": "@jupyter-widgets/output",
       "_model_module_version": "1.0.0",
       "_model_name": "OutputModel",
       "_view_count": null,
       "_view_module": "@jupyter-widgets/output",
       "_view_module_version": "1.0.0",
       "_view_name": "OutputView",
       "layout": "IPY_MODEL_9aae009dc8be4148a55890b5bd4b9407",
       "msg_id": "",
       "outputs": [
        {
         "data": {
          "application/vnd.jupyter.widget-view+json": {
           "model_id": "5485896308034039975704fd95c94c3a",
           "version_major": 2,
           "version_minor": 0
          },
          "text/plain": "HTML(value='<pre>┌───────────────────────┬────────────────┬───────────────────┬────────────┬────────────────┬─…"
         },
         "metadata": {},
         "output_type": "display_data"
        }
       ],
       "tabbable": null,
       "tooltip": null
      }
     },
     "3bc22105e645409eb0c70350d808438c": {
      "model_module": "@jupyter-widgets/controls",
      "model_module_version": "2.0.0",
      "model_name": "HTMLModel",
      "state": {
       "_dom_classes": [],
       "_model_module": "@jupyter-widgets/controls",
       "_model_module_version": "2.0.0",
       "_model_name": "HTMLModel",
       "_view_count": null,
       "_view_module": "@jupyter-widgets/controls",
       "_view_module_version": "2.0.0",
       "_view_name": "HTMLView",
       "description": "",
       "description_allow_html": false,
       "layout": "IPY_MODEL_7b8c9996e1ad4e57a94345bed1b127a0",
       "placeholder": "​",
       "style": "IPY_MODEL_51ab9aafabd94c13877114f2ab47d734",
       "tabbable": null,
       "tooltip": null,
       "value": "<pre>┌────────────┬──────────────┬─────────────┬─────────────────────────┬───────────────┬───────────────────┬───────────────────────┬─────────────────────┬────────────────┬─────────────────────┬─────────────┬───────────────┬────────────────┬─────────────────────────┬─────────────────────┬──────────────────┬────────────────────────┬──────────────┬─────────────────┬─────────────┬───────────────────┬──────────────────┬──────────────────────┬────────────────────┬───────────────────────┬────────────────────┬─────────────┬──────────────────────────┬─────────────────┬──────────────────┬──────────────────────┬─────────────┬─────────────────┬──────────────────┐\n│   COLUMN_1 │     COLUMN_2 │    COLUMN_3 │                COLUMN_4 │      COLUMN_5 │          COLUMN_6 │              COLUMN_7 │            COLUMN_8 │       COLUMN_9 │           COLUMN_10 │   COLUMN_11 │     COLUMN_12 │      COLUMN_13 │               COLUMN_14 │           COLUMN_15 │        COLUMN_16 │              COLUMN_17 │    COLUMN_18 │       COLUMN_19 │   COLUMN_20 │         COLUMN_21 │        COLUMN_22 │            COLUMN_23 │          COLUMN_24 │             COLUMN_25 │          COLUMN_26 │   COLUMN_27 │                COLUMN_28 │       COLUMN_29 │        COLUMN_30 │            COLUMN_31 │   COLUMN_32 │       COLUMN_33 │        COLUMN_34 │\n├────────────┼──────────────┼─────────────┼─────────────────────────┼───────────────┼───────────────────┼───────────────────────┼─────────────────────┼────────────────┼─────────────────────┼─────────────┼───────────────┼────────────────┼─────────────────────────┼─────────────────────┼──────────────────┼────────────────────────┼──────────────┼─────────────────┼─────────────┼───────────────────┼──────────────────┼──────────────────────┼────────────────────┼───────────────────────┼────────────────────┼─────────────┼──────────────────────────┼─────────────────┼──────────────────┼──────────────────────┼─────────────┼─────────────────┼──────────────────┤\n│      pwsid │ violation_id │ facility_id │ population_served_count │ npm_candidate │ pws_activity_code │ pws_deactivation_date │ primary_source_code │ pop_cat_5_code │ primacy_agency_code │  epa_region │ pws_type_code │ violation_code │ violation_category_code │ is_health_based_ind │ contaminant_code │ compliance_status_code │ viol_measure │ unit_of_measure │   state_mcl │ is_major_viol_ind │ severity_ind_cnt │ compl_per_begin_date │ compl_per_end_date │ latest_enforcement_id │ rtc_enforcement_id │    rtc_date │ public_notification_tier │ originator_code │ sample_result_id │ corrective_action_id │   rule_code │ rule_group_code │ rule_family_code │\n└────────────┴──────────────┴─────────────┴─────────────────────────┴───────────────┴───────────────────┴───────────────────────┴─────────────────────┴────────────────┴─────────────────────┴─────────────┴───────────────┴────────────────┴─────────────────────────┴─────────────────────┴──────────────────┴────────────────────────┴──────────────┴─────────────────┴─────────────┴───────────────────┴──────────────────┴──────────────────────┴────────────────────┴───────────────────────┴────────────────────┴─────────────┴──────────────────────────┴─────────────────┴──────────────────┴──────────────────────┴─────────────┴─────────────────┴──────────────────┘</pre>"
      }
     },
     "407a77de18d04792b23c41e5bcad650b": {
      "model_module": "@jupyter-widgets/output",
      "model_module_version": "1.0.0",
      "model_name": "OutputModel",
      "state": {
       "_dom_classes": [],
       "_model_module": "@jupyter-widgets/output",
       "_model_module_version": "1.0.0",
       "_model_name": "OutputModel",
       "_view_count": null,
       "_view_module": "@jupyter-widgets/output",
       "_view_module_version": "1.0.0",
       "_view_name": "OutputView",
       "layout": "IPY_MODEL_a2533bb4607d4b5d8ab73178aa0c52fd",
       "msg_id": "",
       "outputs": [
        {
         "data": {
          "application/vnd.jupyter.widget-view+json": {
           "model_id": "4808535483f545aebe8944df29fdaf96",
           "version_major": 2,
           "version_minor": 0
          },
          "text/plain": "HTML(value='<pre>┌────────────┬─────────────────────┬────────────┬─────────────┬───────────────┬──────────────…"
         },
         "metadata": {},
         "output_type": "display_data"
        }
       ],
       "tabbable": null,
       "tooltip": null
      }
     },
     "4808535483f545aebe8944df29fdaf96": {
      "model_module": "@jupyter-widgets/controls",
      "model_module_version": "2.0.0",
      "model_name": "HTMLModel",
      "state": {
       "_dom_classes": [],
       "_model_module": "@jupyter-widgets/controls",
       "_model_module_version": "2.0.0",
       "_model_name": "HTMLModel",
       "_view_count": null,
       "_view_module": "@jupyter-widgets/controls",
       "_view_module_version": "2.0.0",
       "_view_name": "HTMLView",
       "description": "",
       "description_allow_html": false,
       "layout": "IPY_MODEL_883ad6270b674646b0f023d19e778977",
       "placeholder": "​",
       "style": "IPY_MODEL_c5a6fb15db0740428396619b6461178e",
       "tabbable": null,
       "tooltip": null,
       "value": "<pre>┌────────────┬─────────────────────┬────────────┬─────────────┬───────────────┬───────────────────┬────────────────────────┬────────────────────────────┬────────────────────┬────────────────────────┬───────────────┬─────────────────┬───────────────────┬───────────────────────┬──────────────┬─────────────────┬────────────────────────┬───────────────────┬───────────────────────┬───────────────┬───────────────────────┐\n│   COLUMN_1 │            COLUMN_2 │   COLUMN_3 │    COLUMN_4 │      COLUMN_5 │          COLUMN_6 │               COLUMN_7 │                   COLUMN_8 │           COLUMN_9 │              COLUMN_10 │     COLUMN_11 │       COLUMN_12 │         COLUMN_13 │             COLUMN_14 │    COLUMN_15 │       COLUMN_16 │              COLUMN_17 │         COLUMN_18 │             COLUMN_19 │     COLUMN_20 │             COLUMN_21 │\n├────────────┼─────────────────────┼────────────┼─────────────┼───────────────┼───────────────────┼────────────────────────┼────────────────────────────┼────────────────────┼────────────────────────┼───────────────┼─────────────────┼───────────────────┼───────────────────────┼──────────────┼─────────────────┼────────────────────────┼───────────────────┼───────────────────────┼───────────────┼───────────────────────┤\n│      pwsid │ primacy_agency_code │ epa_region │ facility_id │ facility_name │ state_facility_id │ facility_activity_code │ facility_deactivation_date │ facility_type_code │ submission_status_code │ is_source_ind │ water_type_code │ availability_code │ seller_treatment_code │ seller_pwsid │ seller_pws_name │ filtration_status_code │ pws_activity_code │ pws_deactivation_date │ pws_type_code │ is_source_treated_ind │\n└────────────┴─────────────────────┴────────────┴─────────────┴───────────────┴───────────────────┴────────────────────────┴────────────────────────────┴────────────────────┴────────────────────────┴───────────────┴─────────────────┴───────────────────┴───────────────────────┴──────────────┴─────────────────┴────────────────────────┴───────────────────┴───────────────────────┴───────────────┴───────────────────────┘</pre>"
      }
     },
     "4b32fc99ceb14fc58bc6d5b162b4ba12": {
      "model_module": "@jupyter-widgets/controls",
      "model_module_version": "2.0.0",
      "model_name": "HTMLStyleModel",
      "state": {
       "_model_module": "@jupyter-widgets/controls",
       "_model_module_version": "2.0.0",
       "_model_name": "HTMLStyleModel",
       "_view_count": null,
       "_view_module": "@jupyter-widgets/base",
       "_view_module_version": "2.0.0",
       "_view_name": "StyleView",
       "background": null,
       "description_width": "",
       "font_size": null,
       "text_color": null
      }
     },
     "4f6ea63cc52f47569e52173859e76b48": {
      "model_module": "@jupyter-widgets/base",
      "model_module_version": "2.0.0",
      "model_name": "LayoutModel",
      "state": {
       "_model_module": "@jupyter-widgets/base",
       "_model_module_version": "2.0.0",
       "_model_name": "LayoutModel",
       "_view_count": null,
       "_view_module": "@jupyter-widgets/base",
       "_view_module_version": "2.0.0",
       "_view_name": "LayoutView",
       "align_content": null,
       "align_items": null,
       "align_self": null,
       "border_bottom": null,
       "border_left": null,
       "border_right": null,
       "border_top": null,
       "bottom": null,
       "display": null,
       "flex": null,
       "flex_flow": null,
       "grid_area": null,
       "grid_auto_columns": null,
       "grid_auto_flow": null,
       "grid_auto_rows": null,
       "grid_column": null,
       "grid_gap": null,
       "grid_row": null,
       "grid_template_areas": null,
       "grid_template_columns": null,
       "grid_template_rows": null,
       "height": null,
       "justify_content": null,
       "justify_items": null,
       "left": null,
       "margin": null,
       "max_height": null,
       "max_width": null,
       "min_height": null,
       "min_width": null,
       "object_fit": null,
       "object_position": null,
       "order": null,
       "overflow": null,
       "padding": null,
       "right": null,
       "top": null,
       "visibility": null,
       "width": "100%"
      }
     },
     "51ab9aafabd94c13877114f2ab47d734": {
      "model_module": "@jupyter-widgets/controls",
      "model_module_version": "2.0.0",
      "model_name": "HTMLStyleModel",
      "state": {
       "_model_module": "@jupyter-widgets/controls",
       "_model_module_version": "2.0.0",
       "_model_name": "HTMLStyleModel",
       "_view_count": null,
       "_view_module": "@jupyter-widgets/base",
       "_view_module_version": "2.0.0",
       "_view_name": "StyleView",
       "background": null,
       "description_width": "",
       "font_size": null,
       "text_color": null
      }
     },
     "5485896308034039975704fd95c94c3a": {
      "model_module": "@jupyter-widgets/controls",
      "model_module_version": "2.0.0",
      "model_name": "HTMLModel",
      "state": {
       "_dom_classes": [],
       "_model_module": "@jupyter-widgets/controls",
       "_model_module_version": "2.0.0",
       "_model_name": "HTMLModel",
       "_view_count": null,
       "_view_module": "@jupyter-widgets/controls",
       "_view_module_version": "2.0.0",
       "_view_name": "HTMLView",
       "description": "",
       "description_allow_html": false,
       "layout": "IPY_MODEL_aab35ee17b904d09abee685b52ebdd7d",
       "placeholder": "​",
       "style": "IPY_MODEL_80811e53466a4c21801180d415f19289",
       "tabbable": null,
       "tooltip": null,
       "value": "<pre>┌───────────────────────┬────────────────┬───────────────────┬────────────┬────────────────┬──────────────┐\n│              COLUMN_1 │       COLUMN_2 │          COLUMN_3 │   COLUMN_4 │       COLUMN_5 │     COLUMN_6 │\n├───────────────────────┼────────────────┼───────────────────┼────────────┼────────────────┼──────────────┤\n│ submissionyearquarter │ submissionyear │ submissionquarter │      pwsid │ enforcement_id │ violation_id │\n└───────────────────────┴────────────────┴───────────────────┴────────────┴────────────────┴──────────────┘</pre>"
      }
     },
     "5b3a47b12ce742d2ad4b701e8e13b6c1": {
      "model_module": "@jupyter-widgets/controls",
      "model_module_version": "2.0.0",
      "model_name": "HTMLStyleModel",
      "state": {
       "_model_module": "@jupyter-widgets/controls",
       "_model_module_version": "2.0.0",
       "_model_name": "HTMLStyleModel",
       "_view_count": null,
       "_view_module": "@jupyter-widgets/base",
       "_view_module_version": "2.0.0",
       "_view_name": "StyleView",
       "background": null,
       "description_width": "",
       "font_size": null,
       "text_color": null
      }
     },
     "5e8e9f6db48b44dbb85fd1f970abefad": {
      "model_module": "@jupyter-widgets/base",
      "model_module_version": "2.0.0",
      "model_name": "LayoutModel",
      "state": {
       "_model_module": "@jupyter-widgets/base",
       "_model_module_version": "2.0.0",
       "_model_name": "LayoutModel",
       "_view_count": null,
       "_view_module": "@jupyter-widgets/base",
       "_view_module_version": "2.0.0",
       "_view_name": "LayoutView",
       "align_content": null,
       "align_items": null,
       "align_self": null,
       "border_bottom": null,
       "border_left": null,
       "border_right": null,
       "border_top": null,
       "bottom": null,
       "display": null,
       "flex": null,
       "flex_flow": null,
       "grid_area": null,
       "grid_auto_columns": null,
       "grid_auto_flow": null,
       "grid_auto_rows": null,
       "grid_column": null,
       "grid_gap": null,
       "grid_row": null,
       "grid_template_areas": null,
       "grid_template_columns": null,
       "grid_template_rows": null,
       "height": null,
       "justify_content": null,
       "justify_items": null,
       "left": null,
       "margin": null,
       "max_height": null,
       "max_width": null,
       "min_height": null,
       "min_width": null,
       "object_fit": null,
       "object_position": null,
       "order": null,
       "overflow": null,
       "padding": null,
       "right": null,
       "top": null,
       "visibility": null,
       "width": null
      }
     },
     "6293a08e967141d29316d7a2a055ebdf": {
      "model_module": "@jupyter-widgets/controls",
      "model_module_version": "2.0.0",
      "model_name": "HTMLStyleModel",
      "state": {
       "_model_module": "@jupyter-widgets/controls",
       "_model_module_version": "2.0.0",
       "_model_name": "HTMLStyleModel",
       "_view_count": null,
       "_view_module": "@jupyter-widgets/base",
       "_view_module_version": "2.0.0",
       "_view_name": "StyleView",
       "background": null,
       "description_width": "",
       "font_size": null,
       "text_color": null
      }
     },
     "657f8d70de0a4e94991cb9afde8ab62b": {
      "model_module": "@jupyter-widgets/base",
      "model_module_version": "2.0.0",
      "model_name": "LayoutModel",
      "state": {
       "_model_module": "@jupyter-widgets/base",
       "_model_module_version": "2.0.0",
       "_model_name": "LayoutModel",
       "_view_count": null,
       "_view_module": "@jupyter-widgets/base",
       "_view_module_version": "2.0.0",
       "_view_name": "LayoutView",
       "align_content": null,
       "align_items": null,
       "align_self": null,
       "border_bottom": null,
       "border_left": null,
       "border_right": null,
       "border_top": null,
       "bottom": null,
       "display": null,
       "flex": null,
       "flex_flow": null,
       "grid_area": null,
       "grid_auto_columns": null,
       "grid_auto_flow": null,
       "grid_auto_rows": null,
       "grid_column": null,
       "grid_gap": null,
       "grid_row": null,
       "grid_template_areas": null,
       "grid_template_columns": null,
       "grid_template_rows": null,
       "height": null,
       "justify_content": null,
       "justify_items": null,
       "left": null,
       "margin": null,
       "max_height": null,
       "max_width": null,
       "min_height": null,
       "min_width": null,
       "object_fit": null,
       "object_position": null,
       "order": null,
       "overflow": null,
       "padding": null,
       "right": null,
       "top": null,
       "visibility": null,
       "width": "100%"
      }
     },
     "67656be0a6fc4055a62439c177cb114b": {
      "model_module": "@jupyter-widgets/output",
      "model_module_version": "1.0.0",
      "model_name": "OutputModel",
      "state": {
       "_dom_classes": [],
       "_model_module": "@jupyter-widgets/output",
       "_model_module_version": "1.0.0",
       "_model_name": "OutputModel",
       "_view_count": null,
       "_view_module": "@jupyter-widgets/output",
       "_view_module_version": "1.0.0",
       "_view_name": "OutputView",
       "layout": "IPY_MODEL_4f6ea63cc52f47569e52173859e76b48",
       "msg_id": "",
       "outputs": [
        {
         "data": {
          "application/vnd.jupyter.widget-view+json": {
           "model_id": "3bc22105e645409eb0c70350d808438c",
           "version_major": 2,
           "version_minor": 0
          },
          "text/plain": "HTML(value='<pre>┌────────────┬──────────────┬─────────────┬─────────────────────────┬───────────────┬────────…"
         },
         "metadata": {},
         "output_type": "display_data"
        }
       ],
       "tabbable": null,
       "tooltip": null
      }
     },
     "703246d3961c486eb99353cb090f8c57": {
      "model_module": "@jupyter-widgets/output",
      "model_module_version": "1.0.0",
      "model_name": "OutputModel",
      "state": {
       "_dom_classes": [],
       "_model_module": "@jupyter-widgets/output",
       "_model_module_version": "1.0.0",
       "_model_name": "OutputModel",
       "_view_count": null,
       "_view_module": "@jupyter-widgets/output",
       "_view_module_version": "1.0.0",
       "_view_name": "OutputView",
       "layout": "IPY_MODEL_b1b6f7d1838e4a47ac6136e0370950c9",
       "msg_id": "",
       "outputs": [
        {
         "data": {
          "application/vnd.jupyter.widget-view+json": {
           "model_id": "d1f7dd428b144b4489f92ba13bdce278",
           "version_major": 2,
           "version_minor": 0
          },
          "text/plain": "HTML(value='<pre>┌────────────┬────────────────┬─────────────────┬──────────────────┬─────────────────────────…"
         },
         "metadata": {},
         "output_type": "display_data"
        }
       ],
       "tabbable": null,
       "tooltip": null
      }
     },
     "7910728fcdaa446abc04e19aea9f9846": {
      "model_module": "@jupyter-widgets/base",
      "model_module_version": "2.0.0",
      "model_name": "LayoutModel",
      "state": {
       "_model_module": "@jupyter-widgets/base",
       "_model_module_version": "2.0.0",
       "_model_name": "LayoutModel",
       "_view_count": null,
       "_view_module": "@jupyter-widgets/base",
       "_view_module_version": "2.0.0",
       "_view_name": "LayoutView",
       "align_content": null,
       "align_items": null,
       "align_self": null,
       "border_bottom": null,
       "border_left": null,
       "border_right": null,
       "border_top": null,
       "bottom": null,
       "display": null,
       "flex": null,
       "flex_flow": null,
       "grid_area": null,
       "grid_auto_columns": null,
       "grid_auto_flow": null,
       "grid_auto_rows": null,
       "grid_column": null,
       "grid_gap": null,
       "grid_row": null,
       "grid_template_areas": null,
       "grid_template_columns": null,
       "grid_template_rows": null,
       "height": null,
       "justify_content": null,
       "justify_items": null,
       "left": null,
       "margin": null,
       "max_height": null,
       "max_width": null,
       "min_height": null,
       "min_width": null,
       "object_fit": null,
       "object_position": null,
       "order": null,
       "overflow": null,
       "padding": null,
       "right": null,
       "top": null,
       "visibility": null,
       "width": null
      }
     },
     "7b8c9996e1ad4e57a94345bed1b127a0": {
      "model_module": "@jupyter-widgets/base",
      "model_module_version": "2.0.0",
      "model_name": "LayoutModel",
      "state": {
       "_model_module": "@jupyter-widgets/base",
       "_model_module_version": "2.0.0",
       "_model_name": "LayoutModel",
       "_view_count": null,
       "_view_module": "@jupyter-widgets/base",
       "_view_module_version": "2.0.0",
       "_view_name": "LayoutView",
       "align_content": null,
       "align_items": null,
       "align_self": null,
       "border_bottom": null,
       "border_left": null,
       "border_right": null,
       "border_top": null,
       "bottom": null,
       "display": null,
       "flex": null,
       "flex_flow": null,
       "grid_area": null,
       "grid_auto_columns": null,
       "grid_auto_flow": null,
       "grid_auto_rows": null,
       "grid_column": null,
       "grid_gap": null,
       "grid_row": null,
       "grid_template_areas": null,
       "grid_template_columns": null,
       "grid_template_rows": null,
       "height": null,
       "justify_content": null,
       "justify_items": null,
       "left": null,
       "margin": null,
       "max_height": null,
       "max_width": null,
       "min_height": null,
       "min_width": null,
       "object_fit": null,
       "object_position": null,
       "order": null,
       "overflow": null,
       "padding": null,
       "right": null,
       "top": null,
       "visibility": null,
       "width": null
      }
     },
     "7c5f373179f0457ebfabff4cbe5a3e96": {
      "model_module": "@jupyter-widgets/output",
      "model_module_version": "1.0.0",
      "model_name": "OutputModel",
      "state": {
       "_dom_classes": [],
       "_model_module": "@jupyter-widgets/output",
       "_model_module_version": "1.0.0",
       "_model_name": "OutputModel",
       "_view_count": null,
       "_view_module": "@jupyter-widgets/output",
       "_view_module_version": "1.0.0",
       "_view_name": "OutputView",
       "layout": "IPY_MODEL_19ad54dae2964f3ba5b82e5a04dfca98",
       "msg_id": "",
       "outputs": [
        {
         "data": {
          "application/vnd.jupyter.widget-view+json": {
           "model_id": "033dcd8b42a746ce8c3a796e8bfb1f3c",
           "version_major": 2,
           "version_minor": 0
          },
          "text/plain": "HTML(value='<pre>┌────────────┬────────────┬───────────────────┬─────────────────────┬───────────────────┬────…"
         },
         "metadata": {},
         "output_type": "display_data"
        }
       ],
       "tabbable": null,
       "tooltip": null
      }
     },
     "80811e53466a4c21801180d415f19289": {
      "model_module": "@jupyter-widgets/controls",
      "model_module_version": "2.0.0",
      "model_name": "HTMLStyleModel",
      "state": {
       "_model_module": "@jupyter-widgets/controls",
       "_model_module_version": "2.0.0",
       "_model_name": "HTMLStyleModel",
       "_view_count": null,
       "_view_module": "@jupyter-widgets/base",
       "_view_module_version": "2.0.0",
       "_view_name": "StyleView",
       "background": null,
       "description_width": "",
       "font_size": null,
       "text_color": null
      }
     },
     "83383cfd8621422fb4205814b5038923": {
      "model_module": "@jupyter-widgets/output",
      "model_module_version": "1.0.0",
      "model_name": "OutputModel",
      "state": {
       "_dom_classes": [],
       "_model_module": "@jupyter-widgets/output",
       "_model_module_version": "1.0.0",
       "_model_name": "OutputModel",
       "_view_count": null,
       "_view_module": "@jupyter-widgets/output",
       "_view_module_version": "1.0.0",
       "_view_name": "OutputView",
       "layout": "IPY_MODEL_f55e77bb196749cebe92f380e38470d8",
       "msg_id": "",
       "outputs": [
        {
         "data": {
          "application/vnd.jupyter.widget-view+json": {
           "model_id": "aa9859be85e04d9e932e87617ad92e25",
           "version_major": 2,
           "version_minor": 0
          },
          "text/plain": "HTML(value='<pre>┌────────────┬─────────────────────┬────────────┬───────────────────┬───────────────┬────────…"
         },
         "metadata": {},
         "output_type": "display_data"
        }
       ],
       "tabbable": null,
       "tooltip": null
      }
     },
     "88075abff564423eb97eae1c339b13a5": {
      "model_module": "@jupyter-widgets/controls",
      "model_module_version": "2.0.0",
      "model_name": "HTMLStyleModel",
      "state": {
       "_model_module": "@jupyter-widgets/controls",
       "_model_module_version": "2.0.0",
       "_model_name": "HTMLStyleModel",
       "_view_count": null,
       "_view_module": "@jupyter-widgets/base",
       "_view_module_version": "2.0.0",
       "_view_name": "StyleView",
       "background": null,
       "description_width": "",
       "font_size": null,
       "text_color": null
      }
     },
     "883ad6270b674646b0f023d19e778977": {
      "model_module": "@jupyter-widgets/base",
      "model_module_version": "2.0.0",
      "model_name": "LayoutModel",
      "state": {
       "_model_module": "@jupyter-widgets/base",
       "_model_module_version": "2.0.0",
       "_model_name": "LayoutModel",
       "_view_count": null,
       "_view_module": "@jupyter-widgets/base",
       "_view_module_version": "2.0.0",
       "_view_name": "LayoutView",
       "align_content": null,
       "align_items": null,
       "align_self": null,
       "border_bottom": null,
       "border_left": null,
       "border_right": null,
       "border_top": null,
       "bottom": null,
       "display": null,
       "flex": null,
       "flex_flow": null,
       "grid_area": null,
       "grid_auto_columns": null,
       "grid_auto_flow": null,
       "grid_auto_rows": null,
       "grid_column": null,
       "grid_gap": null,
       "grid_row": null,
       "grid_template_areas": null,
       "grid_template_columns": null,
       "grid_template_rows": null,
       "height": null,
       "justify_content": null,
       "justify_items": null,
       "left": null,
       "margin": null,
       "max_height": null,
       "max_width": null,
       "min_height": null,
       "min_width": null,
       "object_fit": null,
       "object_position": null,
       "order": null,
       "overflow": null,
       "padding": null,
       "right": null,
       "top": null,
       "visibility": null,
       "width": null
      }
     },
     "91004ed3153d44f4b3ecbf4142d509da": {
      "model_module": "@jupyter-widgets/controls",
      "model_module_version": "2.0.0",
      "model_name": "HTMLModel",
      "state": {
       "_dom_classes": [],
       "_model_module": "@jupyter-widgets/controls",
       "_model_module_version": "2.0.0",
       "_model_name": "HTMLModel",
       "_view_count": null,
       "_view_module": "@jupyter-widgets/controls",
       "_view_module_version": "2.0.0",
       "_view_name": "HTMLView",
       "description": "",
       "description_allow_html": false,
       "layout": "IPY_MODEL_c87a8a53f2a846259ec8aee593bb25a1",
       "placeholder": "​",
       "style": "IPY_MODEL_a87cd6e526774a72a68f5af20a4ce6b4",
       "tabbable": null,
       "tooltip": null,
       "value": "<pre>┌────────────┬────────────┬─────────────────────┬────────────┬───────────────────┬───────────────┬─────────────┬──────────────┬──────────────────┬─────────────────┬─────────────┬────────────────┬───────────────┐\n│   COLUMN_1 │   COLUMN_2 │            COLUMN_3 │   COLUMN_4 │          COLUMN_5 │      COLUMN_6 │    COLUMN_7 │     COLUMN_8 │         COLUMN_9 │       COLUMN_10 │   COLUMN_11 │      COLUMN_12 │     COLUMN_13 │\n├────────────┼────────────┼─────────────────────┼────────────┼───────────────────┼───────────────┼─────────────┼──────────────┼──────────────────┼─────────────────┼─────────────┼────────────────┼───────────────┤\n│      pwsid │     geo_id │ primacy_agency_code │ epa_region │ pws_activity_code │ pws_type_code │ tribal_code │ state_served │ ansi_entity_code │ zip_code_served │ city_served │ area_type_code │ county_served │\n└────────────┴────────────┴─────────────────────┴────────────┴───────────────────┴───────────────┴─────────────┴──────────────┴──────────────────┴─────────────────┴─────────────┴────────────────┴───────────────┘</pre>"
      }
     },
     "970ba2c09e444ba79ee17b8fca95b3e6": {
      "model_module": "@jupyter-widgets/output",
      "model_module_version": "1.0.0",
      "model_name": "OutputModel",
      "state": {
       "_dom_classes": [],
       "_model_module": "@jupyter-widgets/output",
       "_model_module_version": "1.0.0",
       "_model_name": "OutputModel",
       "_view_count": null,
       "_view_module": "@jupyter-widgets/output",
       "_view_module_version": "1.0.0",
       "_view_name": "OutputView",
       "layout": "IPY_MODEL_0259efbfb00c4530a7e62abfdab8283a",
       "msg_id": "",
       "outputs": [
        {
         "data": {
          "application/vnd.jupyter.widget-view+json": {
           "model_id": "1d89bcd3a9a0473ba9784724a0a0c297",
           "version_major": 2,
           "version_minor": 0
          },
          "text/plain": "HTML(value='<pre>┌───────────────────────┬────────────────────────────────────────────────────────────────────…"
         },
         "metadata": {},
         "output_type": "display_data"
        }
       ],
       "tabbable": null,
       "tooltip": null
      }
     },
     "9aae009dc8be4148a55890b5bd4b9407": {
      "model_module": "@jupyter-widgets/base",
      "model_module_version": "2.0.0",
      "model_name": "LayoutModel",
      "state": {
       "_model_module": "@jupyter-widgets/base",
       "_model_module_version": "2.0.0",
       "_model_name": "LayoutModel",
       "_view_count": null,
       "_view_module": "@jupyter-widgets/base",
       "_view_module_version": "2.0.0",
       "_view_name": "LayoutView",
       "align_content": null,
       "align_items": null,
       "align_self": null,
       "border_bottom": null,
       "border_left": null,
       "border_right": null,
       "border_top": null,
       "bottom": null,
       "display": null,
       "flex": null,
       "flex_flow": null,
       "grid_area": null,
       "grid_auto_columns": null,
       "grid_auto_flow": null,
       "grid_auto_rows": null,
       "grid_column": null,
       "grid_gap": null,
       "grid_row": null,
       "grid_template_areas": null,
       "grid_template_columns": null,
       "grid_template_rows": null,
       "height": null,
       "justify_content": null,
       "justify_items": null,
       "left": null,
       "margin": null,
       "max_height": null,
       "max_width": null,
       "min_height": null,
       "min_width": null,
       "object_fit": null,
       "object_position": null,
       "order": null,
       "overflow": null,
       "padding": null,
       "right": null,
       "top": null,
       "visibility": null,
       "width": "100%"
      }
     },
     "9ff72941983544fba44350e596a9497c": {
      "model_module": "@jupyter-widgets/output",
      "model_module_version": "1.0.0",
      "model_name": "OutputModel",
      "state": {
       "_dom_classes": [],
       "_model_module": "@jupyter-widgets/output",
       "_model_module_version": "1.0.0",
       "_model_name": "OutputModel",
       "_view_count": null,
       "_view_module": "@jupyter-widgets/output",
       "_view_module_version": "1.0.0",
       "_view_name": "OutputView",
       "layout": "IPY_MODEL_e2adea6395214fa7aa4461163dff428d",
       "msg_id": "",
       "outputs": [
        {
         "data": {
          "application/vnd.jupyter.widget-view+json": {
           "model_id": "e6a5bff892724f8d81e6d6a7db82aab9",
           "version_major": 2,
           "version_minor": 0
          },
          "text/plain": "HTML(value='<pre>┌────────────┬────────────┬───────────────┬─────────────────────┬────────────┬───────────────…"
         },
         "metadata": {},
         "output_type": "display_data"
        }
       ],
       "tabbable": null,
       "tooltip": null
      }
     },
     "a2533bb4607d4b5d8ab73178aa0c52fd": {
      "model_module": "@jupyter-widgets/base",
      "model_module_version": "2.0.0",
      "model_name": "LayoutModel",
      "state": {
       "_model_module": "@jupyter-widgets/base",
       "_model_module_version": "2.0.0",
       "_model_name": "LayoutModel",
       "_view_count": null,
       "_view_module": "@jupyter-widgets/base",
       "_view_module_version": "2.0.0",
       "_view_name": "LayoutView",
       "align_content": null,
       "align_items": null,
       "align_self": null,
       "border_bottom": null,
       "border_left": null,
       "border_right": null,
       "border_top": null,
       "bottom": null,
       "display": null,
       "flex": null,
       "flex_flow": null,
       "grid_area": null,
       "grid_auto_columns": null,
       "grid_auto_flow": null,
       "grid_auto_rows": null,
       "grid_column": null,
       "grid_gap": null,
       "grid_row": null,
       "grid_template_areas": null,
       "grid_template_columns": null,
       "grid_template_rows": null,
       "height": null,
       "justify_content": null,
       "justify_items": null,
       "left": null,
       "margin": null,
       "max_height": null,
       "max_width": null,
       "min_height": null,
       "min_width": null,
       "object_fit": null,
       "object_position": null,
       "order": null,
       "overflow": null,
       "padding": null,
       "right": null,
       "top": null,
       "visibility": null,
       "width": "100%"
      }
     },
     "a87cd6e526774a72a68f5af20a4ce6b4": {
      "model_module": "@jupyter-widgets/controls",
      "model_module_version": "2.0.0",
      "model_name": "HTMLStyleModel",
      "state": {
       "_model_module": "@jupyter-widgets/controls",
       "_model_module_version": "2.0.0",
       "_model_name": "HTMLStyleModel",
       "_view_count": null,
       "_view_module": "@jupyter-widgets/base",
       "_view_module_version": "2.0.0",
       "_view_name": "StyleView",
       "background": null,
       "description_width": "",
       "font_size": null,
       "text_color": null
      }
     },
     "aa9859be85e04d9e932e87617ad92e25": {
      "model_module": "@jupyter-widgets/controls",
      "model_module_version": "2.0.0",
      "model_name": "HTMLModel",
      "state": {
       "_dom_classes": [],
       "_model_module": "@jupyter-widgets/controls",
       "_model_module_version": "2.0.0",
       "_model_name": "HTMLModel",
       "_view_count": null,
       "_view_module": "@jupyter-widgets/controls",
       "_view_module_version": "2.0.0",
       "_view_name": "HTMLView",
       "description": "",
       "description_allow_html": false,
       "layout": "IPY_MODEL_163dc7d1513e4170a49ef66a06dcef6d",
       "placeholder": "​",
       "style": "IPY_MODEL_6293a08e967141d29316d7a2a055ebdf",
       "tabbable": null,
       "tooltip": null,
       "value": "<pre>┌────────────┬─────────────────────┬────────────┬───────────────────┬───────────────┬────────────────────────┬──────────────────────────────┐\n│   COLUMN_1 │            COLUMN_2 │   COLUMN_3 │          COLUMN_4 │      COLUMN_5 │               COLUMN_6 │                     COLUMN_7 │\n├────────────┼─────────────────────┼────────────┼───────────────────┼───────────────┼────────────────────────┼──────────────────────────────┤\n│      pwsid │ primacy_agency_code │ epa_region │ pws_activity_code │ pws_type_code │ service_area_type_code │ is_primary_service_area_code │\n└────────────┴─────────────────────┴────────────┴───────────────────┴───────────────┴────────────────────────┴──────────────────────────────┘</pre>"
      }
     },
     "aab35ee17b904d09abee685b52ebdd7d": {
      "model_module": "@jupyter-widgets/base",
      "model_module_version": "2.0.0",
      "model_name": "LayoutModel",
      "state": {
       "_model_module": "@jupyter-widgets/base",
       "_model_module_version": "2.0.0",
       "_model_name": "LayoutModel",
       "_view_count": null,
       "_view_module": "@jupyter-widgets/base",
       "_view_module_version": "2.0.0",
       "_view_name": "LayoutView",
       "align_content": null,
       "align_items": null,
       "align_self": null,
       "border_bottom": null,
       "border_left": null,
       "border_right": null,
       "border_top": null,
       "bottom": null,
       "display": null,
       "flex": null,
       "flex_flow": null,
       "grid_area": null,
       "grid_auto_columns": null,
       "grid_auto_flow": null,
       "grid_auto_rows": null,
       "grid_column": null,
       "grid_gap": null,
       "grid_row": null,
       "grid_template_areas": null,
       "grid_template_columns": null,
       "grid_template_rows": null,
       "height": null,
       "justify_content": null,
       "justify_items": null,
       "left": null,
       "margin": null,
       "max_height": null,
       "max_width": null,
       "min_height": null,
       "min_width": null,
       "object_fit": null,
       "object_position": null,
       "order": null,
       "overflow": null,
       "padding": null,
       "right": null,
       "top": null,
       "visibility": null,
       "width": null
      }
     },
     "ae22b8564f274a7784964848e9a79b58": {
      "model_module": "@jupyter-widgets/controls",
      "model_module_version": "2.0.0",
      "model_name": "HTMLModel",
      "state": {
       "_dom_classes": [],
       "_model_module": "@jupyter-widgets/controls",
       "_model_module_version": "2.0.0",
       "_model_name": "HTMLModel",
       "_view_count": null,
       "_view_module": "@jupyter-widgets/controls",
       "_view_module_version": "2.0.0",
       "_view_name": "HTMLView",
       "description": "",
       "description_allow_html": false,
       "layout": "IPY_MODEL_25913681ca2e45b68b37a7524ae57959",
       "placeholder": "​",
       "style": "IPY_MODEL_4b32fc99ceb14fc58bc6d5b162b4ba12",
       "tabbable": null,
       "tooltip": null,
       "value": "<pre>┌────────────┬────────────┬─────────────────────┬────────────┬────────────┬──────────────────┬──────────────────┬────────────────┬─────────────────┐\n│   COLUMN_1 │   COLUMN_2 │            COLUMN_3 │   COLUMN_4 │   COLUMN_5 │         COLUMN_6 │         COLUMN_7 │       COLUMN_8 │        COLUMN_9 │\n├────────────┼────────────┼─────────────────────┼────────────┼────────────┼──────────────────┼──────────────────┼────────────────┼─────────────────┤\n│      pwsid │  sample_id │ primacy_agency_code │ epa_region │     sar_id │ contaminant_code │ result_sign_code │ sample_measure │ unit_of_measure │\n└────────────┴────────────┴─────────────────────┴────────────┴────────────┴──────────────────┴──────────────────┴────────────────┴─────────────────┘</pre>"
      }
     },
     "b1b6f7d1838e4a47ac6136e0370950c9": {
      "model_module": "@jupyter-widgets/base",
      "model_module_version": "2.0.0",
      "model_name": "LayoutModel",
      "state": {
       "_model_module": "@jupyter-widgets/base",
       "_model_module_version": "2.0.0",
       "_model_name": "LayoutModel",
       "_view_count": null,
       "_view_module": "@jupyter-widgets/base",
       "_view_module_version": "2.0.0",
       "_view_name": "LayoutView",
       "align_content": null,
       "align_items": null,
       "align_self": null,
       "border_bottom": null,
       "border_left": null,
       "border_right": null,
       "border_top": null,
       "bottom": null,
       "display": null,
       "flex": null,
       "flex_flow": null,
       "grid_area": null,
       "grid_auto_columns": null,
       "grid_auto_flow": null,
       "grid_auto_rows": null,
       "grid_column": null,
       "grid_gap": null,
       "grid_row": null,
       "grid_template_areas": null,
       "grid_template_columns": null,
       "grid_template_rows": null,
       "height": null,
       "justify_content": null,
       "justify_items": null,
       "left": null,
       "margin": null,
       "max_height": null,
       "max_width": null,
       "min_height": null,
       "min_width": null,
       "object_fit": null,
       "object_position": null,
       "order": null,
       "overflow": null,
       "padding": null,
       "right": null,
       "top": null,
       "visibility": null,
       "width": "100%"
      }
     },
     "c5a6fb15db0740428396619b6461178e": {
      "model_module": "@jupyter-widgets/controls",
      "model_module_version": "2.0.0",
      "model_name": "HTMLStyleModel",
      "state": {
       "_model_module": "@jupyter-widgets/controls",
       "_model_module_version": "2.0.0",
       "_model_name": "HTMLStyleModel",
       "_view_count": null,
       "_view_module": "@jupyter-widgets/base",
       "_view_module_version": "2.0.0",
       "_view_name": "StyleView",
       "background": null,
       "description_width": "",
       "font_size": null,
       "text_color": null
      }
     },
     "c87a8a53f2a846259ec8aee593bb25a1": {
      "model_module": "@jupyter-widgets/base",
      "model_module_version": "2.0.0",
      "model_name": "LayoutModel",
      "state": {
       "_model_module": "@jupyter-widgets/base",
       "_model_module_version": "2.0.0",
       "_model_name": "LayoutModel",
       "_view_count": null,
       "_view_module": "@jupyter-widgets/base",
       "_view_module_version": "2.0.0",
       "_view_name": "LayoutView",
       "align_content": null,
       "align_items": null,
       "align_self": null,
       "border_bottom": null,
       "border_left": null,
       "border_right": null,
       "border_top": null,
       "bottom": null,
       "display": null,
       "flex": null,
       "flex_flow": null,
       "grid_area": null,
       "grid_auto_columns": null,
       "grid_auto_flow": null,
       "grid_auto_rows": null,
       "grid_column": null,
       "grid_gap": null,
       "grid_row": null,
       "grid_template_areas": null,
       "grid_template_columns": null,
       "grid_template_rows": null,
       "height": null,
       "justify_content": null,
       "justify_items": null,
       "left": null,
       "margin": null,
       "max_height": null,
       "max_width": null,
       "min_height": null,
       "min_width": null,
       "object_fit": null,
       "object_position": null,
       "order": null,
       "overflow": null,
       "padding": null,
       "right": null,
       "top": null,
       "visibility": null,
       "width": null
      }
     },
     "d1f7dd428b144b4489f92ba13bdce278": {
      "model_module": "@jupyter-widgets/controls",
      "model_module_version": "2.0.0",
      "model_name": "HTMLModel",
      "state": {
       "_dom_classes": [],
       "_model_module": "@jupyter-widgets/controls",
       "_model_module_version": "2.0.0",
       "_model_name": "HTMLModel",
       "_view_count": null,
       "_view_module": "@jupyter-widgets/controls",
       "_view_module_version": "2.0.0",
       "_view_name": "HTMLView",
       "description": "",
       "description_allow_html": false,
       "layout": "IPY_MODEL_1731c0b2cb4c437e944c5d0f72eea1f5",
       "placeholder": "​",
       "style": "IPY_MODEL_88075abff564423eb97eae1c339b13a5",
       "tabbable": null,
       "tooltip": null,
       "value": "<pre>┌────────────┬────────────────┬─────────────────┬──────────────────┬──────────────────────────────┬──────────────────────────┐\n│   COLUMN_1 │       COLUMN_2 │        COLUMN_3 │         COLUMN_4 │                     COLUMN_5 │                 COLUMN_6 │\n├────────────┼────────────────┼─────────────────┼──────────────────┼──────────────────────────────┼──────────────────────────┤\n│      pwsid │ enforcement_id │ originator_code │ enforcement_date │ enforcement_action_type_code │ enforcement_comment_text │\n└────────────┴────────────────┴─────────────────┴──────────────────┴──────────────────────────────┴──────────────────────────┘</pre>"
      }
     },
     "d998fefd47f84cf7aa842c2517622c5f": {
      "model_module": "@jupyter-widgets/output",
      "model_module_version": "1.0.0",
      "model_name": "OutputModel",
      "state": {
       "_dom_classes": [],
       "_model_module": "@jupyter-widgets/output",
       "_model_module_version": "1.0.0",
       "_model_name": "OutputModel",
       "_view_count": null,
       "_view_module": "@jupyter-widgets/output",
       "_view_module_version": "1.0.0",
       "_view_name": "OutputView",
       "layout": "IPY_MODEL_331abc9c66754343a299ecd10cc159af",
       "msg_id": "",
       "outputs": [
        {
         "data": {
          "application/vnd.jupyter.widget-view+json": {
           "model_id": "f6b225dfc98e448ba16a36d5d01c46dc",
           "version_major": 2,
           "version_minor": 0
          },
          "text/plain": "HTML(value='<pre>┌────────────┬─────────────┬──────────────┬───────────────┬──────────────────────────┬───────…"
         },
         "metadata": {},
         "output_type": "display_data"
        }
       ],
       "tabbable": null,
       "tooltip": null
      }
     },
     "e2adea6395214fa7aa4461163dff428d": {
      "model_module": "@jupyter-widgets/base",
      "model_module_version": "2.0.0",
      "model_name": "LayoutModel",
      "state": {
       "_model_module": "@jupyter-widgets/base",
       "_model_module_version": "2.0.0",
       "_model_name": "LayoutModel",
       "_view_count": null,
       "_view_module": "@jupyter-widgets/base",
       "_view_module_version": "2.0.0",
       "_view_name": "LayoutView",
       "align_content": null,
       "align_items": null,
       "align_self": null,
       "border_bottom": null,
       "border_left": null,
       "border_right": null,
       "border_top": null,
       "bottom": null,
       "display": null,
       "flex": null,
       "flex_flow": null,
       "grid_area": null,
       "grid_auto_columns": null,
       "grid_auto_flow": null,
       "grid_auto_rows": null,
       "grid_column": null,
       "grid_gap": null,
       "grid_row": null,
       "grid_template_areas": null,
       "grid_template_columns": null,
       "grid_template_rows": null,
       "height": null,
       "justify_content": null,
       "justify_items": null,
       "left": null,
       "margin": null,
       "max_height": null,
       "max_width": null,
       "min_height": null,
       "min_width": null,
       "object_fit": null,
       "object_position": null,
       "order": null,
       "overflow": null,
       "padding": null,
       "right": null,
       "top": null,
       "visibility": null,
       "width": "100%"
      }
     },
     "e6a5bff892724f8d81e6d6a7db82aab9": {
      "model_module": "@jupyter-widgets/controls",
      "model_module_version": "2.0.0",
      "model_name": "HTMLModel",
      "state": {
       "_dom_classes": [],
       "_model_module": "@jupyter-widgets/controls",
       "_model_module_version": "2.0.0",
       "_model_name": "HTMLModel",
       "_view_count": null,
       "_view_module": "@jupyter-widgets/controls",
       "_view_module_version": "2.0.0",
       "_view_name": "HTMLView",
       "description": "",
       "description_allow_html": false,
       "layout": "IPY_MODEL_003ce442dfe2454a9ebf4e7354c31998",
       "placeholder": "​",
       "style": "IPY_MODEL_247341628b1840e09003d2b021eb98ea",
       "tabbable": null,
       "tooltip": null,
       "value": "<pre>┌────────────┬────────────┬───────────────┬─────────────────────┬────────────┬───────────────────┬─────────────────┬───────────────────┬───────────────────────┬───────────────┬────────────────────────┬─────────────┬─────────────┬───────────────────────┬─────────────────┬─────────────────────────┬────────────────┬────────────────┬────────────────┬────────────────┬─────────────────┬──────────────┬─────────────────────┬───────────────────────┬───────────────────┬──────────────────────────┬───────────────────────────┬────────────────────────┬─────────────┬─────────────┬─────────────┬──────────────┬──────────────────┬─────────────┬──────────────────┬───────────────┬───────────────┬─────────────┬─────────────┬──────────────┬─────────────┬──────────────────────────────┬──────────────────────────────┬───────────────────────┬────────────────────────────────┐\n│   COLUMN_1 │   COLUMN_2 │      COLUMN_3 │            COLUMN_4 │   COLUMN_5 │          COLUMN_6 │        COLUMN_7 │          COLUMN_8 │              COLUMN_9 │     COLUMN_10 │              COLUMN_11 │   COLUMN_12 │   COLUMN_13 │             COLUMN_14 │       COLUMN_15 │               COLUMN_16 │      COLUMN_17 │      COLUMN_18 │      COLUMN_19 │      COLUMN_20 │       COLUMN_21 │    COLUMN_22 │           COLUMN_23 │             COLUMN_24 │         COLUMN_25 │                COLUMN_26 │                 COLUMN_27 │              COLUMN_28 │   COLUMN_29 │   COLUMN_30 │   COLUMN_31 │    COLUMN_32 │        COLUMN_33 │   COLUMN_34 │        COLUMN_35 │     COLUMN_36 │     COLUMN_37 │   COLUMN_38 │   COLUMN_39 │    COLUMN_40 │   COLUMN_41 │                    COLUMN_42 │                    COLUMN_43 │             COLUMN_44 │                      COLUMN_45 │\n├────────────┼────────────┼───────────────┼─────────────────────┼────────────┼───────────────────┼─────────────────┼───────────────────┼───────────────────────┼───────────────┼────────────────────────┼─────────────┼─────────────┼───────────────────────┼─────────────────┼─────────────────────────┼────────────────┼────────────────┼────────────────┼────────────────┼─────────────────┼──────────────┼─────────────────────┼───────────────────────┼───────────────────┼──────────────────────────┼───────────────────────────┼────────────────────────┼─────────────┼─────────────┼─────────────┼──────────────┼──────────────────┼─────────────┼──────────────────┼───────────────┼───────────────┼─────────────┼─────────────┼──────────────┼─────────────┼──────────────────────────────┼──────────────────────────────┼───────────────────────┼────────────────────────────────┤\n│      pwsid │   pws_name │ npm_candidate │ primacy_agency_code │ epa_region │ season_begin_date │ season_end_date │ pws_activity_code │ pws_deactivation_date │ pws_type_code │ dbpr_schedule_cat_code │      cds_id │  gw_sw_code │ lt2_schedule_cat_code │ owner_type_code │ population_served_count │ pop_cat_2_code │ pop_cat_3_code │ pop_cat_4_code │ pop_cat_5_code │ pop_cat_11_code │ primacy_type │ primary_source_code │ is_grant_eligible_ind │ is_wholesaler_ind │ is_school_or_daycare_ind │ service_connections_count │ submission_status_code │    org_name │  admin_name │  email_addr │ phone_number │ phone_ext_number │  fax_number │ alt_phone_number │ address_line1 │ address_line2 │   city_name │    zip_code │ country_code │  state_code │ source_water_protection_code │ source_protection_begin_date │ outstanding_performer │ outstanding_perform_begin_date │\n└────────────┴────────────┴───────────────┴─────────────────────┴────────────┴───────────────────┴─────────────────┴───────────────────┴───────────────────────┴───────────────┴────────────────────────┴─────────────┴─────────────┴───────────────────────┴─────────────────┴─────────────────────────┴────────────────┴────────────────┴────────────────┴────────────────┴─────────────────┴──────────────┴─────────────────────┴───────────────────────┴───────────────────┴──────────────────────────┴───────────────────────────┴────────────────────────┴─────────────┴─────────────┴─────────────┴──────────────┴──────────────────┴─────────────┴──────────────────┴───────────────┴───────────────┴─────────────┴─────────────┴──────────────┴─────────────┴──────────────────────────────┴──────────────────────────────┴───────────────────────┴────────────────────────────────┘</pre>"
      }
     },
     "e9487752116f4ec39da3c1d1cc75b673": {
      "model_module": "@jupyter-widgets/output",
      "model_module_version": "1.0.0",
      "model_name": "OutputModel",
      "state": {
       "_dom_classes": [],
       "_model_module": "@jupyter-widgets/output",
       "_model_module_version": "1.0.0",
       "_model_name": "OutputModel",
       "_view_count": null,
       "_view_module": "@jupyter-widgets/output",
       "_view_module_version": "1.0.0",
       "_view_name": "OutputView",
       "layout": "IPY_MODEL_657f8d70de0a4e94991cb9afde8ab62b",
       "msg_id": "",
       "outputs": [
        {
         "data": {
          "application/vnd.jupyter.widget-view+json": {
           "model_id": "91004ed3153d44f4b3ecbf4142d509da",
           "version_major": 2,
           "version_minor": 0
          },
          "text/plain": "HTML(value='<pre>┌────────────┬────────────┬─────────────────────┬────────────┬───────────────────┬───────────…"
         },
         "metadata": {},
         "output_type": "display_data"
        }
       ],
       "tabbable": null,
       "tooltip": null
      }
     },
     "eac65935b802455fa77e7f5cd6196f43": {
      "model_module": "@jupyter-widgets/controls",
      "model_module_version": "2.0.0",
      "model_name": "HTMLStyleModel",
      "state": {
       "_model_module": "@jupyter-widgets/controls",
       "_model_module_version": "2.0.0",
       "_model_name": "HTMLStyleModel",
       "_view_count": null,
       "_view_module": "@jupyter-widgets/base",
       "_view_module_version": "2.0.0",
       "_view_name": "StyleView",
       "background": null,
       "description_width": "",
       "font_size": null,
       "text_color": null
      }
     },
     "f55e77bb196749cebe92f380e38470d8": {
      "model_module": "@jupyter-widgets/base",
      "model_module_version": "2.0.0",
      "model_name": "LayoutModel",
      "state": {
       "_model_module": "@jupyter-widgets/base",
       "_model_module_version": "2.0.0",
       "_model_name": "LayoutModel",
       "_view_count": null,
       "_view_module": "@jupyter-widgets/base",
       "_view_module_version": "2.0.0",
       "_view_name": "LayoutView",
       "align_content": null,
       "align_items": null,
       "align_self": null,
       "border_bottom": null,
       "border_left": null,
       "border_right": null,
       "border_top": null,
       "bottom": null,
       "display": null,
       "flex": null,
       "flex_flow": null,
       "grid_area": null,
       "grid_auto_columns": null,
       "grid_auto_flow": null,
       "grid_auto_rows": null,
       "grid_column": null,
       "grid_gap": null,
       "grid_row": null,
       "grid_template_areas": null,
       "grid_template_columns": null,
       "grid_template_rows": null,
       "height": null,
       "justify_content": null,
       "justify_items": null,
       "left": null,
       "margin": null,
       "max_height": null,
       "max_width": null,
       "min_height": null,
       "min_width": null,
       "object_fit": null,
       "object_position": null,
       "order": null,
       "overflow": null,
       "padding": null,
       "right": null,
       "top": null,
       "visibility": null,
       "width": "100%"
      }
     },
     "f6b225dfc98e448ba16a36d5d01c46dc": {
      "model_module": "@jupyter-widgets/controls",
      "model_module_version": "2.0.0",
      "model_name": "HTMLModel",
      "state": {
       "_dom_classes": [],
       "_model_module": "@jupyter-widgets/controls",
       "_model_module_version": "2.0.0",
       "_model_name": "HTMLModel",
       "_view_count": null,
       "_view_module": "@jupyter-widgets/controls",
       "_view_module_version": "2.0.0",
       "_view_name": "HTMLView",
       "description": "",
       "description_allow_html": false,
       "layout": "IPY_MODEL_5e8e9f6db48b44dbb85fd1f970abefad",
       "placeholder": "​",
       "style": "IPY_MODEL_5b3a47b12ce742d2ad4b701e8e13b6c1",
       "tabbable": null,
       "tooltip": null,
       "value": "<pre>┌────────────┬─────────────┬──────────────┬───────────────┬──────────────────────────┬────────────────────────┐\n│   COLUMN_1 │    COLUMN_2 │     COLUMN_3 │      COLUMN_4 │                 COLUMN_5 │               COLUMN_6 │\n├────────────┼─────────────┼──────────────┼───────────────┼──────────────────────────┼────────────────────────┤\n│      pwsid │ facility_id │ treatment_id │ comments_text │ treatment_objective_code │ treatment_process_code │\n└────────────┴─────────────┴──────────────┴───────────────┴──────────────────────────┴────────────────────────┘</pre>"
      }
     }
    },
    "version_major": 2,
    "version_minor": 0
   }
  }
 },
 "nbformat": 4,
 "nbformat_minor": 5
}